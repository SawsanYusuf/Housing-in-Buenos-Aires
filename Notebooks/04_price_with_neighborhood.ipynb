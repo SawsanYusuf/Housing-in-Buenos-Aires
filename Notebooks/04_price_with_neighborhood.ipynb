{
  "nbformat": 4,
  "nbformat_minor": 0,
  "metadata": {
    "colab": {
      "provenance": []
    },
    "kernelspec": {
      "name": "python3",
      "display_name": "Python 3"
    },
    "language_info": {
      "name": "python"
    }
  },
  "cells": [
    {
      "cell_type": "markdown",
      "source": [
        "<font size=\"+3\"><strong>Predicting Price with Neighborhood</strong></font>"
      ],
      "metadata": {
        "id": "xwFb5XNO6yCT"
      }
    },
    {
      "cell_type": "code",
      "source": [
        "!pip install category_encoders"
      ],
      "metadata": {
        "id": "ROf08PI1RjBc"
      },
      "execution_count": null,
      "outputs": []
    },
    {
      "cell_type": "code",
      "source": [
        "import warnings\n",
        "from glob import glob\n",
        "\n",
        "import matplotlib.pyplot as plt\n",
        "import numpy as np\n",
        "import pandas as pd\n",
        "from category_encoders import OneHotEncoder\n",
        "from sklearn.linear_model import LinearRegression, Ridge # noqa F401\n",
        "from sklearn.metrics import mean_absolute_error\n",
        "from sklearn import metrics\n",
        "from sklearn.model_selection import train_test_split\n",
        "from sklearn.pipeline import make_pipeline\n",
        "\n",
        "warnings.simplefilter(action=\"ignore\", category=FutureWarning)"
      ],
      "metadata": {
        "id": "E-I9lE3mjf2z"
      },
      "execution_count": null,
      "outputs": []
    },
    {
      "cell_type": "markdown",
      "source": [
        "# **Prepare Data**"
      ],
      "metadata": {
        "id": "-LB4sC4T8b73"
      }
    },
    {
      "cell_type": "markdown",
      "source": [
        "## **Import**"
      ],
      "metadata": {
        "id": "tTYWU71L8d71"
      }
    },
    {
      "cell_type": "code",
      "execution_count": null,
      "metadata": {
        "id": "cAte_nvdjD6L"
      },
      "outputs": [],
      "source": [
        "def wrangle(filepath):\n",
        "      # Import_csv\n",
        "      df = pd.read_csv(filepath)\n",
        "\n",
        "      # Subset data: Apartments in \"Capital Federal\", less than 400,000\n",
        "      mask_ba = df[\"place_with_parent_names\"].str.contains(\"Capital Federal\")\n",
        "      mask_apt = df[\"property_type\"] == \"apartment\"\n",
        "      mask_price = df[\"price_aprox_usd\"] < 400_000\n",
        "      df = df[mask_ba & mask_apt & mask_price]\n",
        "\n",
        "      # Split \"lat-lon\" column\n",
        "      df[[\"lat\", \"lon\"]] = df[\"lat-lon\"].str.split(\",\", expand=True).astype(float)\n",
        "      df.drop(columns=\"lat-lon\", inplace=True)\n",
        "\n",
        "\n",
        "      # Drop features with high null counts\n",
        "      df.drop(columns = [\"floor\",\"expenses\"], inplace= True)\n",
        "\n",
        "      # Drop low and high cardinality categorical variables\n",
        "      df.drop(columns= [\"operation\", \"property_type\", \"currency\",\"properati_url\"], inplace=True)\n",
        "\n",
        "      # Drop Leakey columns\n",
        "      df.drop(columns= [\n",
        "          \"price\",\n",
        "          \"price_aprox_local_currency\",\n",
        "          \"price_per_m2\",\n",
        "          \"price_usd_per_m2\"\n",
        "           ],\n",
        "      inplace= True)\n",
        "\n",
        "      # Drop columns with multicollinearity\n",
        "      df.drop(columns=[\"surface_total_in_m2\", \"rooms\"], inplace=True)\n",
        "\n",
        "      # Subset data: Remove outliers for \"surface_covered_in_m2\"\n",
        "      low, high = df[\"surface_covered_in_m2\"].quantile([0.1, 0.9])\n",
        "      mask_area = df[\"surface_covered_in_m2\"].between(low, high)\n",
        "      df = df[mask_area]\n",
        "\n",
        "      # Get place name\n",
        "      df[\"neighborhood\"] = df[\"place_with_parent_names\"].str.split(\"|\",expand=True)[3]\n",
        "      df.drop(columns=\"place_with_parent_names\", inplace=True)\n",
        "\n",
        "      return df"
      ]
    },
    {
      "cell_type": "code",
      "source": [
        "# Create a list that contains the filenames for all real estate CSV files\n",
        "files = glob(\"buenos-aires-real-estate-*.csv\")\n",
        "\n",
        "# Use the wrangle function in a for loop to create a list named frames\n",
        "frames = []\n",
        "for file in files:\n",
        "   df= wrangle(file)\n",
        "   frames.append(df)\n",
        "\n",
        "# Use `pd.concat` to concatenate the items in frames into a single DataFrame `df`\n",
        "df = pd.concat(frames, ignore_index= True)\n",
        "\n",
        "print(df.info())\n",
        "df.head()"
      ],
      "metadata": {
        "id": "gWOZfKHf3Z5x",
        "colab": {
          "base_uri": "https://localhost:8080/",
          "height": 452
        },
        "outputId": "9cbf2628-6032-4ad5-9d49-5c28f2a4ed14"
      },
      "execution_count": null,
      "outputs": [
        {
          "output_type": "stream",
          "name": "stdout",
          "text": [
            "<class 'pandas.core.frame.DataFrame'>\n",
            "RangeIndex: 6582 entries, 0 to 6581\n",
            "Data columns (total 5 columns):\n",
            " #   Column                 Non-Null Count  Dtype  \n",
            "---  ------                 --------------  -----  \n",
            " 0   price_aprox_usd        6582 non-null   float64\n",
            " 1   surface_covered_in_m2  6582 non-null   float64\n",
            " 2   lat                    6316 non-null   float64\n",
            " 3   lon                    6316 non-null   float64\n",
            " 4   neighborhood           6582 non-null   object \n",
            "dtypes: float64(4), object(1)\n",
            "memory usage: 257.2+ KB\n",
            "None\n"
          ]
        },
        {
          "output_type": "execute_result",
          "data": {
            "text/plain": [
              "   price_aprox_usd  surface_covered_in_m2        lat        lon neighborhood\n",
              "0         112000.0                   60.0 -34.564676 -58.455720     Belgrano\n",
              "1          76500.0                   36.0 -34.618830 -58.437779    Caballito\n",
              "2          90000.0                  100.0 -34.577168 -58.538654     Belgrano\n",
              "3         159900.0                   77.0 -34.571526 -58.455637   Colegiales\n",
              "4         123875.0                   50.0 -34.578688 -58.457358   Colegiales"
            ],
            "text/html": [
              "\n",
              "  <div id=\"df-a093003d-e9f3-4117-8682-7e2e4c48611b\" class=\"colab-df-container\">\n",
              "    <div>\n",
              "<style scoped>\n",
              "    .dataframe tbody tr th:only-of-type {\n",
              "        vertical-align: middle;\n",
              "    }\n",
              "\n",
              "    .dataframe tbody tr th {\n",
              "        vertical-align: top;\n",
              "    }\n",
              "\n",
              "    .dataframe thead th {\n",
              "        text-align: right;\n",
              "    }\n",
              "</style>\n",
              "<table border=\"1\" class=\"dataframe\">\n",
              "  <thead>\n",
              "    <tr style=\"text-align: right;\">\n",
              "      <th></th>\n",
              "      <th>price_aprox_usd</th>\n",
              "      <th>surface_covered_in_m2</th>\n",
              "      <th>lat</th>\n",
              "      <th>lon</th>\n",
              "      <th>neighborhood</th>\n",
              "    </tr>\n",
              "  </thead>\n",
              "  <tbody>\n",
              "    <tr>\n",
              "      <th>0</th>\n",
              "      <td>112000.0</td>\n",
              "      <td>60.0</td>\n",
              "      <td>-34.564676</td>\n",
              "      <td>-58.455720</td>\n",
              "      <td>Belgrano</td>\n",
              "    </tr>\n",
              "    <tr>\n",
              "      <th>1</th>\n",
              "      <td>76500.0</td>\n",
              "      <td>36.0</td>\n",
              "      <td>-34.618830</td>\n",
              "      <td>-58.437779</td>\n",
              "      <td>Caballito</td>\n",
              "    </tr>\n",
              "    <tr>\n",
              "      <th>2</th>\n",
              "      <td>90000.0</td>\n",
              "      <td>100.0</td>\n",
              "      <td>-34.577168</td>\n",
              "      <td>-58.538654</td>\n",
              "      <td>Belgrano</td>\n",
              "    </tr>\n",
              "    <tr>\n",
              "      <th>3</th>\n",
              "      <td>159900.0</td>\n",
              "      <td>77.0</td>\n",
              "      <td>-34.571526</td>\n",
              "      <td>-58.455637</td>\n",
              "      <td>Colegiales</td>\n",
              "    </tr>\n",
              "    <tr>\n",
              "      <th>4</th>\n",
              "      <td>123875.0</td>\n",
              "      <td>50.0</td>\n",
              "      <td>-34.578688</td>\n",
              "      <td>-58.457358</td>\n",
              "      <td>Colegiales</td>\n",
              "    </tr>\n",
              "  </tbody>\n",
              "</table>\n",
              "</div>\n",
              "    <div class=\"colab-df-buttons\">\n",
              "\n",
              "  <div class=\"colab-df-container\">\n",
              "    <button class=\"colab-df-convert\" onclick=\"convertToInteractive('df-a093003d-e9f3-4117-8682-7e2e4c48611b')\"\n",
              "            title=\"Convert this dataframe to an interactive table.\"\n",
              "            style=\"display:none;\">\n",
              "\n",
              "  <svg xmlns=\"http://www.w3.org/2000/svg\" height=\"24px\" viewBox=\"0 -960 960 960\">\n",
              "    <path d=\"M120-120v-720h720v720H120Zm60-500h600v-160H180v160Zm220 220h160v-160H400v160Zm0 220h160v-160H400v160ZM180-400h160v-160H180v160Zm440 0h160v-160H620v160ZM180-180h160v-160H180v160Zm440 0h160v-160H620v160Z\"/>\n",
              "  </svg>\n",
              "    </button>\n",
              "\n",
              "  <style>\n",
              "    .colab-df-container {\n",
              "      display:flex;\n",
              "      gap: 12px;\n",
              "    }\n",
              "\n",
              "    .colab-df-convert {\n",
              "      background-color: #E8F0FE;\n",
              "      border: none;\n",
              "      border-radius: 50%;\n",
              "      cursor: pointer;\n",
              "      display: none;\n",
              "      fill: #1967D2;\n",
              "      height: 32px;\n",
              "      padding: 0 0 0 0;\n",
              "      width: 32px;\n",
              "    }\n",
              "\n",
              "    .colab-df-convert:hover {\n",
              "      background-color: #E2EBFA;\n",
              "      box-shadow: 0px 1px 2px rgba(60, 64, 67, 0.3), 0px 1px 3px 1px rgba(60, 64, 67, 0.15);\n",
              "      fill: #174EA6;\n",
              "    }\n",
              "\n",
              "    .colab-df-buttons div {\n",
              "      margin-bottom: 4px;\n",
              "    }\n",
              "\n",
              "    [theme=dark] .colab-df-convert {\n",
              "      background-color: #3B4455;\n",
              "      fill: #D2E3FC;\n",
              "    }\n",
              "\n",
              "    [theme=dark] .colab-df-convert:hover {\n",
              "      background-color: #434B5C;\n",
              "      box-shadow: 0px 1px 3px 1px rgba(0, 0, 0, 0.15);\n",
              "      filter: drop-shadow(0px 1px 2px rgba(0, 0, 0, 0.3));\n",
              "      fill: #FFFFFF;\n",
              "    }\n",
              "  </style>\n",
              "\n",
              "    <script>\n",
              "      const buttonEl =\n",
              "        document.querySelector('#df-a093003d-e9f3-4117-8682-7e2e4c48611b button.colab-df-convert');\n",
              "      buttonEl.style.display =\n",
              "        google.colab.kernel.accessAllowed ? 'block' : 'none';\n",
              "\n",
              "      async function convertToInteractive(key) {\n",
              "        const element = document.querySelector('#df-a093003d-e9f3-4117-8682-7e2e4c48611b');\n",
              "        const dataTable =\n",
              "          await google.colab.kernel.invokeFunction('convertToInteractive',\n",
              "                                                    [key], {});\n",
              "        if (!dataTable) return;\n",
              "\n",
              "        const docLinkHtml = 'Like what you see? Visit the ' +\n",
              "          '<a target=\"_blank\" href=https://colab.research.google.com/notebooks/data_table.ipynb>data table notebook</a>'\n",
              "          + ' to learn more about interactive tables.';\n",
              "        element.innerHTML = '';\n",
              "        dataTable['output_type'] = 'display_data';\n",
              "        await google.colab.output.renderOutput(dataTable, element);\n",
              "        const docLink = document.createElement('div');\n",
              "        docLink.innerHTML = docLinkHtml;\n",
              "        element.appendChild(docLink);\n",
              "      }\n",
              "    </script>\n",
              "  </div>\n",
              "\n",
              "\n",
              "<div id=\"df-f0feef7a-cce9-44ac-aa13-55c8ce676883\">\n",
              "  <button class=\"colab-df-quickchart\" onclick=\"quickchart('df-f0feef7a-cce9-44ac-aa13-55c8ce676883')\"\n",
              "            title=\"Suggest charts.\"\n",
              "            style=\"display:none;\">\n",
              "\n",
              "<svg xmlns=\"http://www.w3.org/2000/svg\" height=\"24px\"viewBox=\"0 0 24 24\"\n",
              "     width=\"24px\">\n",
              "    <g>\n",
              "        <path d=\"M19 3H5c-1.1 0-2 .9-2 2v14c0 1.1.9 2 2 2h14c1.1 0 2-.9 2-2V5c0-1.1-.9-2-2-2zM9 17H7v-7h2v7zm4 0h-2V7h2v10zm4 0h-2v-4h2v4z\"/>\n",
              "    </g>\n",
              "</svg>\n",
              "  </button>\n",
              "\n",
              "<style>\n",
              "  .colab-df-quickchart {\n",
              "    background-color: #E8F0FE;\n",
              "    border: none;\n",
              "    border-radius: 50%;\n",
              "    cursor: pointer;\n",
              "    display: none;\n",
              "    fill: #1967D2;\n",
              "    height: 32px;\n",
              "    padding: 0 0 0 0;\n",
              "    width: 32px;\n",
              "  }\n",
              "\n",
              "  .colab-df-quickchart:hover {\n",
              "    background-color: #E2EBFA;\n",
              "    box-shadow: 0px 1px 2px rgba(60, 64, 67, 0.3), 0px 1px 3px 1px rgba(60, 64, 67, 0.15);\n",
              "    fill: #174EA6;\n",
              "  }\n",
              "\n",
              "  [theme=dark] .colab-df-quickchart {\n",
              "    background-color: #3B4455;\n",
              "    fill: #D2E3FC;\n",
              "  }\n",
              "\n",
              "  [theme=dark] .colab-df-quickchart:hover {\n",
              "    background-color: #434B5C;\n",
              "    box-shadow: 0px 1px 3px 1px rgba(0, 0, 0, 0.15);\n",
              "    filter: drop-shadow(0px 1px 2px rgba(0, 0, 0, 0.3));\n",
              "    fill: #FFFFFF;\n",
              "  }\n",
              "</style>\n",
              "\n",
              "  <script>\n",
              "    async function quickchart(key) {\n",
              "      const charts = await google.colab.kernel.invokeFunction(\n",
              "          'suggestCharts', [key], {});\n",
              "    }\n",
              "    (() => {\n",
              "      let quickchartButtonEl =\n",
              "        document.querySelector('#df-f0feef7a-cce9-44ac-aa13-55c8ce676883 button');\n",
              "      quickchartButtonEl.style.display =\n",
              "        google.colab.kernel.accessAllowed ? 'block' : 'none';\n",
              "    })();\n",
              "  </script>\n",
              "</div>\n",
              "    </div>\n",
              "  </div>\n"
            ]
          },
          "metadata": {},
          "execution_count": 4
        }
      ]
    },
    {
      "cell_type": "markdown",
      "source": [
        "## **Explore**"
      ],
      "metadata": {
        "id": "Xyfgee3b5ycT"
      }
    },
    {
      "cell_type": "code",
      "source": [
        "# Group the data by destination state and reporting airline. Compute total number of flights in each combination\n",
        "bar_data = df.groupby(['neighborhood'])['price_aprox_usd'].mean().reset_index()\n",
        "# Display the data\n",
        "bar_data.sort_values(by='price_aprox_usd').tail()"
      ],
      "metadata": {
        "colab": {
          "base_uri": "https://localhost:8080/",
          "height": 226
        },
        "id": "Ds831uxCl_3y",
        "outputId": "ac3647c7-483a-405e-93e1-c99982814dbb"
      },
      "execution_count": null,
      "outputs": [
        {
          "output_type": "execute_result",
          "data": {
            "text/plain": [
              "     neighborhood  price_aprox_usd\n",
              "7        Belgrano    165563.917301\n",
              "6    Barrio Norte    174402.127474\n",
              "36       Recoleta    191763.652603\n",
              "20    Las Cañitas    193203.866667\n",
              "35  Puerto Madero    249409.478261"
            ],
            "text/html": [
              "\n",
              "  <div id=\"df-7dbf89b9-84c4-41c1-8659-339c48acc802\" class=\"colab-df-container\">\n",
              "    <div>\n",
              "<style scoped>\n",
              "    .dataframe tbody tr th:only-of-type {\n",
              "        vertical-align: middle;\n",
              "    }\n",
              "\n",
              "    .dataframe tbody tr th {\n",
              "        vertical-align: top;\n",
              "    }\n",
              "\n",
              "    .dataframe thead th {\n",
              "        text-align: right;\n",
              "    }\n",
              "</style>\n",
              "<table border=\"1\" class=\"dataframe\">\n",
              "  <thead>\n",
              "    <tr style=\"text-align: right;\">\n",
              "      <th></th>\n",
              "      <th>neighborhood</th>\n",
              "      <th>price_aprox_usd</th>\n",
              "    </tr>\n",
              "  </thead>\n",
              "  <tbody>\n",
              "    <tr>\n",
              "      <th>7</th>\n",
              "      <td>Belgrano</td>\n",
              "      <td>165563.917301</td>\n",
              "    </tr>\n",
              "    <tr>\n",
              "      <th>6</th>\n",
              "      <td>Barrio Norte</td>\n",
              "      <td>174402.127474</td>\n",
              "    </tr>\n",
              "    <tr>\n",
              "      <th>36</th>\n",
              "      <td>Recoleta</td>\n",
              "      <td>191763.652603</td>\n",
              "    </tr>\n",
              "    <tr>\n",
              "      <th>20</th>\n",
              "      <td>Las Cañitas</td>\n",
              "      <td>193203.866667</td>\n",
              "    </tr>\n",
              "    <tr>\n",
              "      <th>35</th>\n",
              "      <td>Puerto Madero</td>\n",
              "      <td>249409.478261</td>\n",
              "    </tr>\n",
              "  </tbody>\n",
              "</table>\n",
              "</div>\n",
              "    <div class=\"colab-df-buttons\">\n",
              "\n",
              "  <div class=\"colab-df-container\">\n",
              "    <button class=\"colab-df-convert\" onclick=\"convertToInteractive('df-7dbf89b9-84c4-41c1-8659-339c48acc802')\"\n",
              "            title=\"Convert this dataframe to an interactive table.\"\n",
              "            style=\"display:none;\">\n",
              "\n",
              "  <svg xmlns=\"http://www.w3.org/2000/svg\" height=\"24px\" viewBox=\"0 -960 960 960\">\n",
              "    <path d=\"M120-120v-720h720v720H120Zm60-500h600v-160H180v160Zm220 220h160v-160H400v160Zm0 220h160v-160H400v160ZM180-400h160v-160H180v160Zm440 0h160v-160H620v160ZM180-180h160v-160H180v160Zm440 0h160v-160H620v160Z\"/>\n",
              "  </svg>\n",
              "    </button>\n",
              "\n",
              "  <style>\n",
              "    .colab-df-container {\n",
              "      display:flex;\n",
              "      gap: 12px;\n",
              "    }\n",
              "\n",
              "    .colab-df-convert {\n",
              "      background-color: #E8F0FE;\n",
              "      border: none;\n",
              "      border-radius: 50%;\n",
              "      cursor: pointer;\n",
              "      display: none;\n",
              "      fill: #1967D2;\n",
              "      height: 32px;\n",
              "      padding: 0 0 0 0;\n",
              "      width: 32px;\n",
              "    }\n",
              "\n",
              "    .colab-df-convert:hover {\n",
              "      background-color: #E2EBFA;\n",
              "      box-shadow: 0px 1px 2px rgba(60, 64, 67, 0.3), 0px 1px 3px 1px rgba(60, 64, 67, 0.15);\n",
              "      fill: #174EA6;\n",
              "    }\n",
              "\n",
              "    .colab-df-buttons div {\n",
              "      margin-bottom: 4px;\n",
              "    }\n",
              "\n",
              "    [theme=dark] .colab-df-convert {\n",
              "      background-color: #3B4455;\n",
              "      fill: #D2E3FC;\n",
              "    }\n",
              "\n",
              "    [theme=dark] .colab-df-convert:hover {\n",
              "      background-color: #434B5C;\n",
              "      box-shadow: 0px 1px 3px 1px rgba(0, 0, 0, 0.15);\n",
              "      filter: drop-shadow(0px 1px 2px rgba(0, 0, 0, 0.3));\n",
              "      fill: #FFFFFF;\n",
              "    }\n",
              "  </style>\n",
              "\n",
              "    <script>\n",
              "      const buttonEl =\n",
              "        document.querySelector('#df-7dbf89b9-84c4-41c1-8659-339c48acc802 button.colab-df-convert');\n",
              "      buttonEl.style.display =\n",
              "        google.colab.kernel.accessAllowed ? 'block' : 'none';\n",
              "\n",
              "      async function convertToInteractive(key) {\n",
              "        const element = document.querySelector('#df-7dbf89b9-84c4-41c1-8659-339c48acc802');\n",
              "        const dataTable =\n",
              "          await google.colab.kernel.invokeFunction('convertToInteractive',\n",
              "                                                    [key], {});\n",
              "        if (!dataTable) return;\n",
              "\n",
              "        const docLinkHtml = 'Like what you see? Visit the ' +\n",
              "          '<a target=\"_blank\" href=https://colab.research.google.com/notebooks/data_table.ipynb>data table notebook</a>'\n",
              "          + ' to learn more about interactive tables.';\n",
              "        element.innerHTML = '';\n",
              "        dataTable['output_type'] = 'display_data';\n",
              "        await google.colab.output.renderOutput(dataTable, element);\n",
              "        const docLink = document.createElement('div');\n",
              "        docLink.innerHTML = docLinkHtml;\n",
              "        element.appendChild(docLink);\n",
              "      }\n",
              "    </script>\n",
              "  </div>\n",
              "\n",
              "\n",
              "<div id=\"df-1886b0a3-993c-4670-a758-8e17c0c81a31\">\n",
              "  <button class=\"colab-df-quickchart\" onclick=\"quickchart('df-1886b0a3-993c-4670-a758-8e17c0c81a31')\"\n",
              "            title=\"Suggest charts.\"\n",
              "            style=\"display:none;\">\n",
              "\n",
              "<svg xmlns=\"http://www.w3.org/2000/svg\" height=\"24px\"viewBox=\"0 0 24 24\"\n",
              "     width=\"24px\">\n",
              "    <g>\n",
              "        <path d=\"M19 3H5c-1.1 0-2 .9-2 2v14c0 1.1.9 2 2 2h14c1.1 0 2-.9 2-2V5c0-1.1-.9-2-2-2zM9 17H7v-7h2v7zm4 0h-2V7h2v10zm4 0h-2v-4h2v4z\"/>\n",
              "    </g>\n",
              "</svg>\n",
              "  </button>\n",
              "\n",
              "<style>\n",
              "  .colab-df-quickchart {\n",
              "    background-color: #E8F0FE;\n",
              "    border: none;\n",
              "    border-radius: 50%;\n",
              "    cursor: pointer;\n",
              "    display: none;\n",
              "    fill: #1967D2;\n",
              "    height: 32px;\n",
              "    padding: 0 0 0 0;\n",
              "    width: 32px;\n",
              "  }\n",
              "\n",
              "  .colab-df-quickchart:hover {\n",
              "    background-color: #E2EBFA;\n",
              "    box-shadow: 0px 1px 2px rgba(60, 64, 67, 0.3), 0px 1px 3px 1px rgba(60, 64, 67, 0.15);\n",
              "    fill: #174EA6;\n",
              "  }\n",
              "\n",
              "  [theme=dark] .colab-df-quickchart {\n",
              "    background-color: #3B4455;\n",
              "    fill: #D2E3FC;\n",
              "  }\n",
              "\n",
              "  [theme=dark] .colab-df-quickchart:hover {\n",
              "    background-color: #434B5C;\n",
              "    box-shadow: 0px 1px 3px 1px rgba(0, 0, 0, 0.15);\n",
              "    filter: drop-shadow(0px 1px 2px rgba(0, 0, 0, 0.3));\n",
              "    fill: #FFFFFF;\n",
              "  }\n",
              "</style>\n",
              "\n",
              "  <script>\n",
              "    async function quickchart(key) {\n",
              "      const charts = await google.colab.kernel.invokeFunction(\n",
              "          'suggestCharts', [key], {});\n",
              "    }\n",
              "    (() => {\n",
              "      let quickchartButtonEl =\n",
              "        document.querySelector('#df-1886b0a3-993c-4670-a758-8e17c0c81a31 button');\n",
              "      quickchartButtonEl.style.display =\n",
              "        google.colab.kernel.accessAllowed ? 'block' : 'none';\n",
              "    })();\n",
              "  </script>\n",
              "</div>\n",
              "    </div>\n",
              "  </div>\n"
            ]
          },
          "metadata": {},
          "execution_count": 13
        }
      ]
    },
    {
      "cell_type": "code",
      "source": [
        "# Create bar chart\n",
        "bar_data.sort_values(by='price_aprox_usd').tail(15).plot(kind= \"bar\",x=\"neighborhood\", y=\"price_aprox_usd\")\n",
        "plt.xlabel(\"Neighborhood\")\n",
        "plt.ylabel(\"Price [USD]\")\n",
        "plt.title(\"Top 15 Neighborhoods for Apartment Price\");"
      ],
      "metadata": {
        "id": "k66iL1NF6TXd",
        "colab": {
          "base_uri": "https://localhost:8080/",
          "height": 307
        },
        "outputId": "d9f0f4f4-0719-4c92-cd1b-e6d631572a08"
      },
      "execution_count": null,
      "outputs": [
        {
          "output_type": "display_data",
          "data": {
            "text/plain": [
              "<Figure size 640x480 with 1 Axes>"
            ],
            "image/png": "[encoded data removed]"
          },
          "metadata": {}
        }
      ]
    },
    {
      "cell_type": "markdown",
      "source": [
        "## **Split**"
      ],
      "metadata": {
        "id": "AzmNUWst93AB"
      }
    },
    {
      "cell_type": "code",
      "source": [
        "# Create feature matrix and target vector\n",
        "features = [\"neighborhood\"]\n",
        "target = \"price_aprox_usd\"\n",
        "y = df[target]\n",
        "X = df[features]\n",
        "print(X.shape)\n",
        "print(y.shape)"
      ],
      "metadata": {
        "colab": {
          "base_uri": "https://localhost:8080/"
        },
        "id": "arYUiATYisVG",
        "outputId": "2e6a8673-af08-4a84-f076-8436661f4033"
      },
      "execution_count": null,
      "outputs": [
        {
          "output_type": "stream",
          "name": "stdout",
          "text": [
            "(6582, 1)\n",
            "(6582,)\n"
          ]
        }
      ]
    },
    {
      "cell_type": "code",
      "source": [
        "# Create train and test sets\n",
        "X_train, X_test, y_train, y_test = train_test_split(X, y, test_size = 0.2, random_state = 42)\n",
        "\n",
        "print(\"X_train shape:\", X_train.shape)\n",
        "print(\"y_train shape:\", y_train.shape)\n",
        "print(\"X_test shape:\", X_test.shape)\n",
        "print(\"y_test shape:\", y_test.shape)"
      ],
      "metadata": {
        "id": "qxAdY4tRiYIF",
        "colab": {
          "base_uri": "https://localhost:8080/"
        },
        "outputId": "5475c9d6-e97b-4361-dc1f-660df84eb8c7"
      },
      "execution_count": null,
      "outputs": [
        {
          "output_type": "stream",
          "name": "stdout",
          "text": [
            "X_train shape: (5265, 1)\n",
            "y_train shape: (5265,)\n",
            "X_test shape: (1317, 1)\n",
            "y_test shape: (1317,)\n"
          ]
        }
      ]
    },
    {
      "cell_type": "markdown",
      "source": [
        "# Build Model"
      ],
      "metadata": {
        "id": "Qw_3WAlZ-Epu"
      }
    },
    {
      "cell_type": "markdown",
      "source": [
        "## Baseline"
      ],
      "metadata": {
        "id": "hCFbEHmU-Gn-"
      }
    },
    {
      "cell_type": "code",
      "source": [
        "# Calculate the baseline mean absolute error\n",
        "y_mean= y_train.mean()\n",
        "y_pred_baseline =[y_mean] * len(y_train)\n",
        "print(\"Mean apartment price:\", round(y_mean, 2))\n",
        "print(\"Baseline MAE:\", mean_absolute_error(y_train, y_pred_baseline))"
      ],
      "metadata": {
        "id": "_83IPJQilSgA",
        "colab": {
          "base_uri": "https://localhost:8080/"
        },
        "outputId": "6eff9f2c-5278-444b-f95e-03ddacd41d8a"
      },
      "execution_count": null,
      "outputs": [
        {
          "output_type": "stream",
          "name": "stdout",
          "text": [
            "Mean apartment price: 132015.15\n",
            "Baseline MAE: 44393.95213998732\n"
          ]
        }
      ]
    },
    {
      "cell_type": "markdown",
      "source": [
        "## Iterate"
      ],
      "metadata": {
        "id": "6tZAEdLH-ZYU"
      }
    },
    {
      "cell_type": "code",
      "source": [
        "# Create a pipeline named `model` that contains a `OneHotEncoder` transformer and a `LinearRegression` predictor\n",
        "model = make_pipeline(\n",
        "        OneHotEncoder(use_cat_names= True),\n",
        "        LinearRegression()\n",
        ")\n",
        "model.fit(X_train, y_train)"
      ],
      "metadata": {
        "id": "Wh448K_5lcNQ",
        "colab": {
          "base_uri": "https://localhost:8080/",
          "height": 125
        },
        "outputId": "445bc5b3-eaaa-49a3-d41a-a3f620345109"
      },
      "execution_count": null,
      "outputs": [
        {
          "output_type": "execute_result",
          "data": {
            "text/plain": [
              "Pipeline(steps=[('onehotencoder',\n",
              "                 OneHotEncoder(cols=['neighborhood'], use_cat_names=True)),\n",
              "                ('linearregression', LinearRegression())])"
            ],
            "text/html": [
              "<style>#sk-container-id-1 {color: black;background-color: white;}#sk-container-id-1 pre{padding: 0;}#sk-container-id-1 div.sk-toggleable {background-color: white;}#sk-container-id-1 label.sk-toggleable__label {cursor: pointer;display: block;width: 100%;margin-bottom: 0;padding: 0.3em;box-sizing: border-box;text-align: center;}#sk-container-id-1 label.sk-toggleable__label-arrow:before {content: \"▸\";float: left;margin-right: 0.25em;color: #696969;}#sk-container-id-1 label.sk-toggleable__label-arrow:hover:before {color: black;}#sk-container-id-1 div.sk-estimator:hover label.sk-toggleable__label-arrow:before {color: black;}#sk-container-id-1 div.sk-toggleable__content {max-height: 0;max-width: 0;overflow: hidden;text-align: left;background-color: #f0f8ff;}#sk-container-id-1 div.sk-toggleable__content pre {margin: 0.2em;color: black;border-radius: 0.25em;background-color: #f0f8ff;}#sk-container-id-1 input.sk-toggleable__control:checked~div.sk-toggleable__content {max-height: 200px;max-width: 100%;overflow: auto;}#sk-container-id-1 input.sk-toggleable__control:checked~label.sk-toggleable__label-arrow:before {content: \"▾\";}#sk-container-id-1 div.sk-estimator input.sk-toggleable__control:checked~label.sk-toggleable__label {background-color: #d4ebff;}#sk-container-id-1 div.sk-label input.sk-toggleable__control:checked~label.sk-toggleable__label {background-color: #d4ebff;}#sk-container-id-1 input.sk-hidden--visually {border: 0;clip: rect(1px 1px 1px 1px);clip: rect(1px, 1px, 1px, 1px);height: 1px;margin: -1px;overflow: hidden;padding: 0;position: absolute;width: 1px;}#sk-container-id-1 div.sk-estimator {font-family: monospace;background-color: #f0f8ff;border: 1px dotted black;border-radius: 0.25em;box-sizing: border-box;margin-bottom: 0.5em;}#sk-container-id-1 div.sk-estimator:hover {background-color: #d4ebff;}#sk-container-id-1 div.sk-parallel-item::after {content: \"\";width: 100%;border-bottom: 1px solid gray;flex-grow: 1;}#sk-container-id-1 div.sk-label:hover label.sk-toggleable__label {background-color: #d4ebff;}#sk-container-id-1 div.sk-serial::before {content: \"\";position: absolute;border-left: 1px solid gray;box-sizing: border-box;top: 0;bottom: 0;left: 50%;z-index: 0;}#sk-container-id-1 div.sk-serial {display: flex;flex-direction: column;align-items: center;background-color: white;padding-right: 0.2em;padding-left: 0.2em;position: relative;}#sk-container-id-1 div.sk-item {position: relative;z-index: 1;}#sk-container-id-1 div.sk-parallel {display: flex;align-items: stretch;justify-content: center;background-color: white;position: relative;}#sk-container-id-1 div.sk-item::before, #sk-container-id-1 div.sk-parallel-item::before {content: \"\";position: absolute;border-left: 1px solid gray;box-sizing: border-box;top: 0;bottom: 0;left: 50%;z-index: -1;}#sk-container-id-1 div.sk-parallel-item {display: flex;flex-direction: column;z-index: 1;position: relative;background-color: white;}#sk-container-id-1 div.sk-parallel-item:first-child::after {align-self: flex-end;width: 50%;}#sk-container-id-1 div.sk-parallel-item:last-child::after {align-self: flex-start;width: 50%;}#sk-container-id-1 div.sk-parallel-item:only-child::after {width: 0;}#sk-container-id-1 div.sk-dashed-wrapped {border: 1px dashed gray;margin: 0 0.4em 0.5em 0.4em;box-sizing: border-box;padding-bottom: 0.4em;background-color: white;}#sk-container-id-1 div.sk-label label {font-family: monospace;font-weight: bold;display: inline-block;line-height: 1.2em;}#sk-container-id-1 div.sk-label-container {text-align: center;}#sk-container-id-1 div.sk-container {/* jupyter's `normalize.less` sets `[hidden] { display: none; }` but bootstrap.min.css set `[hidden] { display: none !important; }` so we also need the `!important` here to be able to override the default hidden behavior on the sphinx rendered scikit-learn.org. See: https://github.com/scikit-learn/scikit-learn/issues/21755 */display: inline-block !important;position: relative;}#sk-container-id-1 div.sk-text-repr-fallback {display: none;}</style><div id=\"sk-container-id-1\" class=\"sk-top-container\"><div class=\"sk-text-repr-fallback\"><pre>Pipeline(steps=[(&#x27;onehotencoder&#x27;,\n",
              "                 OneHotEncoder(cols=[&#x27;neighborhood&#x27;], use_cat_names=True)),\n",
              "                (&#x27;linearregression&#x27;, LinearRegression())])</pre><b>In a Jupyter environment, please rerun this cell to show the HTML representation or trust the notebook. <br />On GitHub, the HTML representation is unable to render, please try loading this page with nbviewer.org.</b></div><div class=\"sk-container\" hidden><div class=\"sk-item sk-dashed-wrapped\"><div class=\"sk-label-container\"><div class=\"sk-label sk-toggleable\"><input class=\"sk-toggleable__control sk-hidden--visually\" id=\"sk-estimator-id-1\" type=\"checkbox\" ><label for=\"sk-estimator-id-1\" class=\"sk-toggleable__label sk-toggleable__label-arrow\">Pipeline</label><div class=\"sk-toggleable__content\"><pre>Pipeline(steps=[(&#x27;onehotencoder&#x27;,\n",
              "                 OneHotEncoder(cols=[&#x27;neighborhood&#x27;], use_cat_names=True)),\n",
              "                (&#x27;linearregression&#x27;, LinearRegression())])</pre></div></div></div><div class=\"sk-serial\"><div class=\"sk-item\"><div class=\"sk-estimator sk-toggleable\"><input class=\"sk-toggleable__control sk-hidden--visually\" id=\"sk-estimator-id-2\" type=\"checkbox\" ><label for=\"sk-estimator-id-2\" class=\"sk-toggleable__label sk-toggleable__label-arrow\">OneHotEncoder</label><div class=\"sk-toggleable__content\"><pre>OneHotEncoder(cols=[&#x27;neighborhood&#x27;], use_cat_names=True)</pre></div></div></div><div class=\"sk-item\"><div class=\"sk-estimator sk-toggleable\"><input class=\"sk-toggleable__control sk-hidden--visually\" id=\"sk-estimator-id-3\" type=\"checkbox\" ><label for=\"sk-estimator-id-3\" class=\"sk-toggleable__label sk-toggleable__label-arrow\">LinearRegression</label><div class=\"sk-toggleable__content\"><pre>LinearRegression()</pre></div></div></div></div></div></div></div>"
            ]
          },
          "metadata": {},
          "execution_count": 21
        }
      ]
    },
    {
      "cell_type": "markdown",
      "source": [
        "## Evaluate"
      ],
      "metadata": {
        "id": "msbfnja8_Jti"
      }
    },
    {
      "cell_type": "code",
      "source": [
        "# Calculate the training mean absolute error\n",
        "y_pred_training = model.predict(X_train)\n",
        "print(\"Training MAE:\", mean_absolute_error(y_train, y_pred_training))"
      ],
      "metadata": {
        "id": "PIN2_bS3lbhE",
        "colab": {
          "base_uri": "https://localhost:8080/"
        },
        "outputId": "b6111eb9-e2f5-45d2-9a05-1a81ef86b422"
      },
      "execution_count": null,
      "outputs": [
        {
          "output_type": "stream",
          "name": "stdout",
          "text": [
            "Training MAE: 39198.66121557455\n"
          ]
        }
      ]
    },
    {
      "cell_type": "code",
      "source": [
        "r2_square_train = metrics.r2_score(y_train, y_pred_training)\n",
        "r2_square_train"
      ],
      "metadata": {
        "id": "VzOekP-wiaD7",
        "colab": {
          "base_uri": "https://localhost:8080/"
        },
        "outputId": "18bd069a-c351-41a1-e641-b25e53a37563"
      },
      "execution_count": null,
      "outputs": [
        {
          "output_type": "execute_result",
          "data": {
            "text/plain": [
              "0.22133943506318976"
            ]
          },
          "metadata": {},
          "execution_count": 23
        }
      ]
    },
    {
      "cell_type": "code",
      "source": [
        "# Calculate the testing mean absolute error\n",
        "y_pred_test = pd.Series(model.predict(X_test))\n",
        "print(y_pred_test.head())\n",
        "mae_testing = mean_absolute_error(y_test, y_pred_test)\n",
        "print(\"Testing MAE:\", round(mae_testing, 2))"
      ],
      "metadata": {
        "id": "CgeUQTOPibQG",
        "colab": {
          "base_uri": "https://localhost:8080/"
        },
        "outputId": "3069cf34-2156-4153-f928-8bd161a4ba46"
      },
      "execution_count": null,
      "outputs": [
        {
          "output_type": "stream",
          "name": "stdout",
          "text": [
            "0    128000.0\n",
            "1     98176.0\n",
            "2    111360.0\n",
            "3    129792.0\n",
            "4    164736.0\n",
            "dtype: float64\n",
            "Testing MAE: 812368101112651.6\n"
          ]
        }
      ]
    },
    {
      "cell_type": "code",
      "source": [
        "r2_square_test = metrics.r2_score(y_test, y_pred_test)\n",
        "r2_square_test"
      ],
      "metadata": {
        "id": "kSke_MyEieET",
        "colab": {
          "base_uri": "https://localhost:8080/"
        },
        "outputId": "f7637a6c-8381-489b-e40a-f40b55611d1b"
      },
      "execution_count": null,
      "outputs": [
        {
          "output_type": "execute_result",
          "data": {
            "text/plain": [
              "-2.3411187121709754e+23"
            ]
          },
          "metadata": {},
          "execution_count": 25
        }
      ]
    },
    {
      "cell_type": "markdown",
      "source": [
        "# Results"
      ],
      "metadata": {
        "id": "5Q_Wptqb_bfV"
      }
    },
    {
      "cell_type": "code",
      "source": [
        "# Extract the intercept and coefficients for our model\n",
        "intercept = model.named_steps[\"linearregression\"].intercept_\n",
        "coefficients = model.named_steps[\"linearregression\"].coef_\n",
        "print(\"coefficients len:\", len(coefficients))\n",
        "print(coefficients[:5])"
      ],
      "metadata": {
        "id": "DSxcTkn0l0s8",
        "colab": {
          "base_uri": "https://localhost:8080/"
        },
        "outputId": "75951478-fec4-466a-ec11-0d7980bef46f"
      },
      "execution_count": null,
      "outputs": [
        {
          "output_type": "stream",
          "name": "stdout",
          "text": [
            "coefficients len: 56\n",
            "[-1.06988879e+18 -1.06988879e+18 -1.06988879e+18 -1.06988879e+18\n",
            " -1.06988879e+18]\n"
          ]
        }
      ]
    },
    {
      "cell_type": "code",
      "source": [
        "# Extract the feature names\n",
        "feature_names = model.named_steps[\"onehotencoder\"].get_feature_names()\n",
        "print(\"features len:\", len(feature_names))\n",
        "print(feature_names[:5])"
      ],
      "metadata": {
        "id": "fijApxg5l0DT",
        "colab": {
          "base_uri": "https://localhost:8080/"
        },
        "outputId": "d58f6d54-9ddc-43cb-db1b-7b692a4d995e"
      },
      "execution_count": null,
      "outputs": [
        {
          "output_type": "stream",
          "name": "stdout",
          "text": [
            "features len: 56\n",
            "['neighborhood_Palermo' 'neighborhood_San Cristobal'\n",
            " 'neighborhood_Caballito' 'neighborhood_Villa Devoto'\n",
            " 'neighborhood_San Telmo']\n"
          ]
        }
      ]
    },
    {
      "cell_type": "code",
      "source": [
        "# Create a pandas Series named `feat_imp`\n",
        "feat_imp = pd.Series(coefficients, feature_names)\n",
        "feat_imp.head()"
      ],
      "metadata": {
        "id": "Mn5nOk_ll7sq",
        "colab": {
          "base_uri": "https://localhost:8080/"
        },
        "outputId": "b18c55be-540d-44a3-955d-3c2a4040c679"
      },
      "execution_count": null,
      "outputs": [
        {
          "output_type": "execute_result",
          "data": {
            "text/plain": [
              "neighborhood_Palermo         -1.069889e+18\n",
              "neighborhood_San Cristobal   -1.069889e+18\n",
              "neighborhood_Caballito       -1.069889e+18\n",
              "neighborhood_Villa Devoto    -1.069889e+18\n",
              "neighborhood_San Telmo       -1.069889e+18\n",
              "dtype: float64"
            ]
          },
          "metadata": {},
          "execution_count": 28
        }
      ]
    },
    {
      "cell_type": "code",
      "source": [
        "# Print the equation that model has determined for predicting\n",
        "print(f\"price = {intercept.round(2)}\")\n",
        "for f, c in feat_imp.items():\n",
        "    print(f\"+ ({round(c, 2)} * {f})\")"
      ],
      "metadata": {
        "id": "MVtu6ng8l7Cy",
        "colab": {
          "base_uri": "https://localhost:8080/"
        },
        "outputId": "e4485626-ddb3-41f1-9e0c-5671ddfb6b6a"
      },
      "execution_count": null,
      "outputs": [
        {
          "output_type": "stream",
          "name": "stdout",
          "text": [
            "price = 1.0698887891127702e+18\n",
            "+ (-1.0698887891126071e+18 * neighborhood_Palermo)\n",
            "+ (-1.069888789112661e+18 * neighborhood_San Cristobal)\n",
            "+ (-1.0698887891126405e+18 * neighborhood_Caballito)\n",
            "+ (-1.0698887891126472e+18 * neighborhood_Villa Devoto)\n",
            "+ (-1.0698887891126444e+18 * neighborhood_San Telmo)\n",
            "+ (-1.0698887891125768e+18 * neighborhood_Recoleta)\n",
            "+ (-1.0698887891126595e+18 * neighborhood_Barracas)\n",
            "+ (-1.0698887891126523e+18 * neighborhood_Almagro)\n",
            "+ (-1.0698887891126409e+18 * neighborhood_Villa Crespo)\n",
            "+ (-1.0698887891126573e+18 * neighborhood_Chacarita)\n",
            "+ (-1.0698887891126083e+18 * neighborhood_Nuñez)\n",
            "+ (-1.0698887891126643e+18 * neighborhood_Agronomía)\n",
            "+ (-1.0698887891126616e+18 * neighborhood_Congreso)\n",
            "+ (-1.0698887891125998e+18 * neighborhood_Barrio Norte)\n",
            "+ (-1.0698887891126586e+18 * neighborhood_Paternal)\n",
            "+ (-1.069888789112659e+18 * neighborhood_Flores)\n",
            "+ (-1.0698887891126546e+18 * neighborhood_Once)\n",
            "+ (-1.0698887891126627e+18 * neighborhood_Balvanera)\n",
            "+ (-1.069888789112666e+18 * neighborhood_Villa del Parque)\n",
            "+ (-1.0698887891126536e+18 * neighborhood_Abasto)\n",
            "+ (-1.0698887891126394e+18 * neighborhood_Saavedra)\n",
            "+ (-1.06988878911264e+18 * neighborhood_Villa Urquiza)\n",
            "+ (-1.0698887891126188e+18 * neighborhood_Colegiales)\n",
            "+ (-1.0698887891126056e+18 * neighborhood_Belgrano)\n",
            "+ (-1.069888789112665e+18 * neighborhood_Liniers)\n",
            "+ (-1.0698887891126728e+18 * neighborhood_Monserrat)\n",
            "+ (-1.0698887891126566e+18 * neighborhood_Boedo)\n",
            "+ (-1.0698887891126734e+18 * neighborhood_Villa Santa Rita)\n",
            "+ (-1.0698887891126664e+18 * neighborhood_Monte Castro)\n",
            "+ (-1.0698887891126527e+18 * neighborhood_Villa Luro)\n",
            "+ (-1.069888789112664e+18 * neighborhood_San Nicolás)\n",
            "+ (-1.069888789112684e+18 * neighborhood_Parque Chas)\n",
            "+ (-1.0698887891126472e+18 * neighborhood_Villa General Mitre)\n",
            "+ (-1.069888789112658e+18 * neighborhood_Versalles)\n",
            "+ (-1.0698887891126423e+18 * neighborhood_Coghlan)\n",
            "+ (-1.0698887891126616e+18 * neighborhood_Centro / Microcentro)\n",
            "+ (-1.0698887891126496e+18 * neighborhood_Tribunales)\n",
            "+ (-1.0698887891126614e+18 * neighborhood_Parque Centenario)\n",
            "+ (-1.0698887891125257e+18 * neighborhood_Puerto Madero)\n",
            "+ (-1.0698887891126797e+18 * neighborhood_Boca)\n",
            "+ (-1.069888789112657e+18 * neighborhood_Villa Pueyrredón)\n",
            "+ (-1.0698887891126675e+18 * neighborhood_Floresta)\n",
            "+ (-1.0698887891126682e+18 * neighborhood_)\n",
            "+ (-1.0698887891126661e+18 * neighborhood_Parque Patricios)\n",
            "+ (-1.0698887891126632e+18 * neighborhood_Villa Ortuzar)\n",
            "+ (-1.0698887891126964e+18 * neighborhood_Constitución)\n",
            "+ (-1.0698887891126222e+18 * neighborhood_Retiro)\n",
            "+ (-1.069888789112702e+18 * neighborhood_Villa Lugano)\n",
            "+ (-1.0698887891126853e+18 * neighborhood_Velez Sarsfield)\n",
            "+ (-1.0698887891126611e+18 * neighborhood_Parque Chacabuco)\n",
            "+ (-1.0698887891126721e+18 * neighborhood_Mataderos)\n",
            "+ (-1.0698887891125793e+18 * neighborhood_Las Cañitas)\n",
            "+ (-1.0698887891126788e+18 * neighborhood_Parque Avellaneda)\n",
            "+ (-1.069888789112669e+18 * neighborhood_Villa Real)\n",
            "+ (-1.069888789112706e+18 * neighborhood_Pompeya)\n",
            "+ (-1.069888789112732e+18 * neighborhood_Villa Soldati)\n"
          ]
        }
      ]
    },
    {
      "cell_type": "code",
      "source": [
        "# To avoid the overfitting, change the predictor in our model to `Ridge`\n",
        "model = make_pipeline(\n",
        "       OneHotEncoder(use_cat_names= True),\n",
        "       Ridge()\n",
        ")\n",
        "model.fit(X_train, y_train)"
      ],
      "metadata": {
        "id": "1GagRl25loeU",
        "colab": {
          "base_uri": "https://localhost:8080/",
          "height": 125
        },
        "outputId": "3894e2c9-57fa-4835-924b-302bac8b4d6e"
      },
      "execution_count": null,
      "outputs": [
        {
          "output_type": "execute_result",
          "data": {
            "text/plain": [
              "Pipeline(steps=[('onehotencoder',\n",
              "                 OneHotEncoder(cols=['neighborhood'], use_cat_names=True)),\n",
              "                ('ridge', Ridge())])"
            ],
            "text/html": [
              "<style>#sk-container-id-2 {color: black;background-color: white;}#sk-container-id-2 pre{padding: 0;}#sk-container-id-2 div.sk-toggleable {background-color: white;}#sk-container-id-2 label.sk-toggleable__label {cursor: pointer;display: block;width: 100%;margin-bottom: 0;padding: 0.3em;box-sizing: border-box;text-align: center;}#sk-container-id-2 label.sk-toggleable__label-arrow:before {content: \"▸\";float: left;margin-right: 0.25em;color: #696969;}#sk-container-id-2 label.sk-toggleable__label-arrow:hover:before {color: black;}#sk-container-id-2 div.sk-estimator:hover label.sk-toggleable__label-arrow:before {color: black;}#sk-container-id-2 div.sk-toggleable__content {max-height: 0;max-width: 0;overflow: hidden;text-align: left;background-color: #f0f8ff;}#sk-container-id-2 div.sk-toggleable__content pre {margin: 0.2em;color: black;border-radius: 0.25em;background-color: #f0f8ff;}#sk-container-id-2 input.sk-toggleable__control:checked~div.sk-toggleable__content {max-height: 200px;max-width: 100%;overflow: auto;}#sk-container-id-2 input.sk-toggleable__control:checked~label.sk-toggleable__label-arrow:before {content: \"▾\";}#sk-container-id-2 div.sk-estimator input.sk-toggleable__control:checked~label.sk-toggleable__label {background-color: #d4ebff;}#sk-container-id-2 div.sk-label input.sk-toggleable__control:checked~label.sk-toggleable__label {background-color: #d4ebff;}#sk-container-id-2 input.sk-hidden--visually {border: 0;clip: rect(1px 1px 1px 1px);clip: rect(1px, 1px, 1px, 1px);height: 1px;margin: -1px;overflow: hidden;padding: 0;position: absolute;width: 1px;}#sk-container-id-2 div.sk-estimator {font-family: monospace;background-color: #f0f8ff;border: 1px dotted black;border-radius: 0.25em;box-sizing: border-box;margin-bottom: 0.5em;}#sk-container-id-2 div.sk-estimator:hover {background-color: #d4ebff;}#sk-container-id-2 div.sk-parallel-item::after {content: \"\";width: 100%;border-bottom: 1px solid gray;flex-grow: 1;}#sk-container-id-2 div.sk-label:hover label.sk-toggleable__label {background-color: #d4ebff;}#sk-container-id-2 div.sk-serial::before {content: \"\";position: absolute;border-left: 1px solid gray;box-sizing: border-box;top: 0;bottom: 0;left: 50%;z-index: 0;}#sk-container-id-2 div.sk-serial {display: flex;flex-direction: column;align-items: center;background-color: white;padding-right: 0.2em;padding-left: 0.2em;position: relative;}#sk-container-id-2 div.sk-item {position: relative;z-index: 1;}#sk-container-id-2 div.sk-parallel {display: flex;align-items: stretch;justify-content: center;background-color: white;position: relative;}#sk-container-id-2 div.sk-item::before, #sk-container-id-2 div.sk-parallel-item::before {content: \"\";position: absolute;border-left: 1px solid gray;box-sizing: border-box;top: 0;bottom: 0;left: 50%;z-index: -1;}#sk-container-id-2 div.sk-parallel-item {display: flex;flex-direction: column;z-index: 1;position: relative;background-color: white;}#sk-container-id-2 div.sk-parallel-item:first-child::after {align-self: flex-end;width: 50%;}#sk-container-id-2 div.sk-parallel-item:last-child::after {align-self: flex-start;width: 50%;}#sk-container-id-2 div.sk-parallel-item:only-child::after {width: 0;}#sk-container-id-2 div.sk-dashed-wrapped {border: 1px dashed gray;margin: 0 0.4em 0.5em 0.4em;box-sizing: border-box;padding-bottom: 0.4em;background-color: white;}#sk-container-id-2 div.sk-label label {font-family: monospace;font-weight: bold;display: inline-block;line-height: 1.2em;}#sk-container-id-2 div.sk-label-container {text-align: center;}#sk-container-id-2 div.sk-container {/* jupyter's `normalize.less` sets `[hidden] { display: none; }` but bootstrap.min.css set `[hidden] { display: none !important; }` so we also need the `!important` here to be able to override the default hidden behavior on the sphinx rendered scikit-learn.org. See: https://github.com/scikit-learn/scikit-learn/issues/21755 */display: inline-block !important;position: relative;}#sk-container-id-2 div.sk-text-repr-fallback {display: none;}</style><div id=\"sk-container-id-2\" class=\"sk-top-container\"><div class=\"sk-text-repr-fallback\"><pre>Pipeline(steps=[(&#x27;onehotencoder&#x27;,\n",
              "                 OneHotEncoder(cols=[&#x27;neighborhood&#x27;], use_cat_names=True)),\n",
              "                (&#x27;ridge&#x27;, Ridge())])</pre><b>In a Jupyter environment, please rerun this cell to show the HTML representation or trust the notebook. <br />On GitHub, the HTML representation is unable to render, please try loading this page with nbviewer.org.</b></div><div class=\"sk-container\" hidden><div class=\"sk-item sk-dashed-wrapped\"><div class=\"sk-label-container\"><div class=\"sk-label sk-toggleable\"><input class=\"sk-toggleable__control sk-hidden--visually\" id=\"sk-estimator-id-4\" type=\"checkbox\" ><label for=\"sk-estimator-id-4\" class=\"sk-toggleable__label sk-toggleable__label-arrow\">Pipeline</label><div class=\"sk-toggleable__content\"><pre>Pipeline(steps=[(&#x27;onehotencoder&#x27;,\n",
              "                 OneHotEncoder(cols=[&#x27;neighborhood&#x27;], use_cat_names=True)),\n",
              "                (&#x27;ridge&#x27;, Ridge())])</pre></div></div></div><div class=\"sk-serial\"><div class=\"sk-item\"><div class=\"sk-estimator sk-toggleable\"><input class=\"sk-toggleable__control sk-hidden--visually\" id=\"sk-estimator-id-5\" type=\"checkbox\" ><label for=\"sk-estimator-id-5\" class=\"sk-toggleable__label sk-toggleable__label-arrow\">OneHotEncoder</label><div class=\"sk-toggleable__content\"><pre>OneHotEncoder(cols=[&#x27;neighborhood&#x27;], use_cat_names=True)</pre></div></div></div><div class=\"sk-item\"><div class=\"sk-estimator sk-toggleable\"><input class=\"sk-toggleable__control sk-hidden--visually\" id=\"sk-estimator-id-6\" type=\"checkbox\" ><label for=\"sk-estimator-id-6\" class=\"sk-toggleable__label sk-toggleable__label-arrow\">Ridge</label><div class=\"sk-toggleable__content\"><pre>Ridge()</pre></div></div></div></div></div></div></div>"
            ]
          },
          "metadata": {},
          "execution_count": 30
        }
      ]
    },
    {
      "cell_type": "code",
      "source": [
        "y_pred_training = model.predict(X_train)\n",
        "mae_training = mean_absolute_error(y_train, y_pred_training)\n",
        "print(\"Training MAE:\", round(mae_training, 2))"
      ],
      "metadata": {
        "id": "VkRTO3aLGPzE",
        "colab": {
          "base_uri": "https://localhost:8080/"
        },
        "outputId": "7aac6ece-8a96-4ee8-b50b-fc2fdbcfadc6"
      },
      "execution_count": null,
      "outputs": [
        {
          "output_type": "stream",
          "name": "stdout",
          "text": [
            "Training MAE: 39231.61\n"
          ]
        }
      ]
    },
    {
      "cell_type": "code",
      "source": [
        "r2_square_train = metrics.r2_score(y_train, y_pred_training)\n",
        "r2_square_train"
      ],
      "metadata": {
        "colab": {
          "base_uri": "https://localhost:8080/"
        },
        "id": "_MKh2snToys_",
        "outputId": "18de17d9-879f-4fb2-b204-5505c59357f4"
      },
      "execution_count": null,
      "outputs": [
        {
          "output_type": "execute_result",
          "data": {
            "text/plain": [
              "0.22148748581829636"
            ]
          },
          "metadata": {},
          "execution_count": 34
        }
      ]
    },
    {
      "cell_type": "code",
      "source": [
        "# Calculate the testing mean absolute error\n",
        "y_pred_test = pd.Series(model.predict(X_test))\n",
        "print(y_pred_test.head())\n",
        "mae_testing = mean_absolute_error(y_test, y_pred_test)\n",
        "print(\"Testing MAE:\", round(mae_testing, 2))"
      ],
      "metadata": {
        "colab": {
          "base_uri": "https://localhost:8080/"
        },
        "id": "gWmaRwYUoz3-",
        "outputId": "70a9476a-7777-46a2-812e-8348d9312d43"
      },
      "execution_count": null,
      "outputs": [
        {
          "output_type": "stream",
          "name": "stdout",
          "text": [
            "0    128542.879642\n",
            "1     99242.886945\n",
            "2    111660.377699\n",
            "3    128645.078042\n",
            "4    163504.948285\n",
            "dtype: float64\n",
            "Testing MAE: 40031.31\n"
          ]
        }
      ]
    },
    {
      "cell_type": "code",
      "source": [
        "r2_square_test = metrics.r2_score(y_test, y_pred_test)\n",
        "r2_square_test"
      ],
      "metadata": {
        "colab": {
          "base_uri": "https://localhost:8080/"
        },
        "id": "v9151_lmo0ym",
        "outputId": "01ec5399-c695-4feb-a48d-30780ce4cb4a"
      },
      "execution_count": null,
      "outputs": [
        {
          "output_type": "execute_result",
          "data": {
            "text/plain": [
              "0.2335748431179403"
            ]
          },
          "metadata": {},
          "execution_count": 36
        }
      ]
    },
    {
      "cell_type": "code",
      "source": [
        "intercept = model.named_steps[\"ridge\"].intercept_\n",
        "coefficients = model.named_steps[\"ridge\"].coef_\n",
        "feature_names = model.named_steps[\"onehotencoder\"].get_feature_names()\n",
        "\n",
        "feat_imp = pd.Series(coefficients, feature_names)\n",
        "\n",
        "print(f\"price = {intercept.round(2)}\")\n",
        "for f, c in feat_imp.items():\n",
        "    print(f\"+ ({round(c, 2)} * {f})\")"
      ],
      "metadata": {
        "id": "7rI-o0IlOg5N",
        "colab": {
          "base_uri": "https://localhost:8080/"
        },
        "outputId": "d291f684-f649-4d59-94db-92e2a9be038f"
      },
      "execution_count": null,
      "outputs": [
        {
          "output_type": "stream",
          "name": "stdout",
          "text": [
            "price = 118677.7\n",
            "+ (45339.9 * neighborhood_Palermo)\n",
            "+ (-10264.82 * neighborhood_San Cristobal)\n",
            "+ (9967.37 * neighborhood_Caballito)\n",
            "+ (5455.97 * neighborhood_Villa Devoto)\n",
            "+ (6559.29 * neighborhood_San Telmo)\n",
            "+ (73362.46 * neighborhood_Recoleta)\n",
            "+ (-4605.37 * neighborhood_Barracas)\n",
            "+ (-1277.93 * neighborhood_Almagro)\n",
            "+ (9844.86 * neighborhood_Villa Crespo)\n",
            "+ (-4758.37 * neighborhood_Chacarita)\n",
            "+ (42652.58 * neighborhood_Nuñez)\n",
            "+ (-10109.3 * neighborhood_Agronomía)\n",
            "+ (-10076.05 * neighborhood_Congreso)\n",
            "+ (53537.52 * neighborhood_Barrio Norte)\n",
            "+ (-5944.79 * neighborhood_Paternal)\n",
            "+ (-7017.33 * neighborhood_Flores)\n",
            "+ (-1924.93 * neighborhood_Once)\n",
            "+ (-10706.57 * neighborhood_Balvanera)\n",
            "+ (-12999.99 * neighborhood_Villa del Parque)\n",
            "+ (-393.82 * neighborhood_Abasto)\n",
            "+ (14496.56 * neighborhood_Saavedra)\n",
            "+ (11375.41 * neighborhood_Villa Urquiza)\n",
            "+ (33082.75 * neighborhood_Colegiales)\n",
            "+ (44827.24 * neighborhood_Belgrano)\n",
            "+ (-12298.59 * neighborhood_Liniers)\n",
            "+ (-20031.74 * neighborhood_Monserrat)\n",
            "+ (-5405.43 * neighborhood_Boedo)\n",
            "+ (-21728.24 * neighborhood_Villa Santa Rita)\n",
            "+ (-14542.04 * neighborhood_Monte Castro)\n",
            "+ (-998.46 * neighborhood_Villa Luro)\n",
            "+ (-11458.74 * neighborhood_San Nicolás)\n",
            "+ (-29675.46 * neighborhood_Parque Chas)\n",
            "+ (5450.4 * neighborhood_Villa General Mitre)\n",
            "+ (-6342.16 * neighborhood_Versalles)\n",
            "+ (9865.18 * neighborhood_Coghlan)\n",
            "+ (-9178.62 * neighborhood_Centro / Microcentro)\n",
            "+ (1792.13 * neighborhood_Tribunales)\n",
            "+ (-8747.59 * neighborhood_Parque Centenario)\n",
            "+ (123616.51 * neighborhood_Puerto Madero)\n",
            "+ (-27323.71 * neighborhood_Boca)\n",
            "+ (-4338.21 * neighborhood_Villa Pueyrredón)\n",
            "+ (-14796.34 * neighborhood_Floresta)\n",
            "+ (-16089.24 * neighborhood_)\n",
            "+ (-13538.6 * neighborhood_Parque Patricios)\n",
            "+ (-10710.51 * neighborhood_Villa Ortuzar)\n",
            "+ (-43187.56 * neighborhood_Constitución)\n",
            "+ (29627.23 * neighborhood_Retiro)\n",
            "+ (-48009.51 * neighborhood_Villa Lugano)\n",
            "+ (-27342.16 * neighborhood_Velez Sarsfield)\n",
            "+ (-8995.67 * neighborhood_Parque Chacabuco)\n",
            "+ (-19434.82 * neighborhood_Mataderos)\n",
            "+ (70209.44 * neighborhood_Las Cañitas)\n",
            "+ (-24059.93 * neighborhood_Parque Avellaneda)\n",
            "+ (-12118.47 * neighborhood_Villa Real)\n",
            "+ (-40466.86 * neighborhood_Pompeya)\n",
            "+ (-60164.92 * neighborhood_Villa Soldati)\n"
          ]
        }
      ]
    },
    {
      "cell_type": "code",
      "source": [
        "# Bar chart that shows the top 15 coefficients for our model, based on their absolute value\n",
        "feat_imp.sort_values(key=abs).tail(15).plot(kind=\"barh\")\n",
        "plt.xlabel(\"Importance [USD]\")\n",
        "plt.ylabel(\"Features\")\n",
        "plt.title(\"Features Importance for Apartment Price\");"
      ],
      "metadata": {
        "id": "NOJAPsKtmCaQ",
        "colab": {
          "base_uri": "https://localhost:8080/",
          "height": 200
        },
        "outputId": "409cfd25-a13e-4173-d388-cbcdb7f22b6a"
      },
      "execution_count": null,
      "outputs": [
        {
          "output_type": "display_data",
          "data": {
            "text/plain": [
              "<Figure size 640x480 with 1 Axes>"
            ],
            "image/png": "[encoded data removed]"
          },
          "metadata": {}
        }
      ]
    }
  ]
}