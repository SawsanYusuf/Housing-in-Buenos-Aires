{
  "nbformat": 4,
  "nbformat_minor": 0,
  "metadata": {
    "colab": {
      "provenance": []
    },
    "kernelspec": {
      "name": "python3",
      "display_name": "Python 3"
    },
    "language_info": {
      "name": "python"
    },
    "widgets": {
      "application/vnd.jupyter.widget-state+json": {
        "05f953b81dd94461810a60d2552acf98": {
          "model_module": "@jupyter-widgets/controls",
          "model_name": "VBoxModel",
          "model_module_version": "1.5.0",
          "state": {
            "_dom_classes": [
              "widget-interact"
            ],
            "_model_module": "@jupyter-widgets/controls",
            "_model_module_version": "1.5.0",
            "_model_name": "VBoxModel",
            "_view_count": null,
            "_view_module": "@jupyter-widgets/controls",
            "_view_module_version": "1.5.0",
            "_view_name": "VBoxView",
            "box_style": "",
            "children": [
              "IPY_MODEL_4335b587a0d34a1eb21b6aa627292dbb",
              "IPY_MODEL_0448a69964cf4967a6493e2ab8040045",
              "IPY_MODEL_e7ddd4ccff2a477b8565be9da4a8f76c",
              "IPY_MODEL_d5a8e99e24d54caa8f611e05feb76236",
              "IPY_MODEL_cdfd1b59d01846ee9263190df76402f1"
            ],
            "layout": "IPY_MODEL_1d39ed17dea7455fb61baa90014ef0ad"
          }
        },
        "4335b587a0d34a1eb21b6aa627292dbb": {
          "model_module": "@jupyter-widgets/controls",
          "model_name": "IntSliderModel",
          "model_module_version": "1.5.0",
          "state": {
            "_dom_classes": [],
            "_model_module": "@jupyter-widgets/controls",
            "_model_module_version": "1.5.0",
            "_model_name": "IntSliderModel",
            "_view_count": null,
            "_view_module": "@jupyter-widgets/controls",
            "_view_module_version": "1.5.0",
            "_view_name": "IntSliderView",
            "continuous_update": true,
            "description": "area",
            "description_tooltip": null,
            "disabled": false,
            "layout": "IPY_MODEL_5ac71c5f79b04d1698c05aee721b9716",
            "max": 495,
            "min": 45,
            "orientation": "horizontal",
            "readout": true,
            "readout_format": "d",
            "step": 1,
            "style": "IPY_MODEL_25a7842cf35a4c95a100f7a39da25030",
            "value": 135
          }
        },
        "0448a69964cf4967a6493e2ab8040045": {
          "model_module": "@jupyter-widgets/controls",
          "model_name": "FloatSliderModel",
          "model_module_version": "1.5.0",
          "state": {
            "_dom_classes": [],
            "_model_module": "@jupyter-widgets/controls",
            "_model_module_version": "1.5.0",
            "_model_name": "FloatSliderModel",
            "_view_count": null,
            "_view_module": "@jupyter-widgets/controls",
            "_view_module_version": "1.5.0",
            "_view_name": "FloatSliderView",
            "continuous_update": true,
            "description": "lat",
            "description_tooltip": null,
            "disabled": false,
            "layout": "IPY_MODEL_12777709b14144da9661df99ca088829",
            "max": 4.825,
            "min": 4.473,
            "orientation": "horizontal",
            "readout": true,
            "readout_format": ".2f",
            "step": 0.01,
            "style": "IPY_MODEL_64aafab697574d05829096ce71cec9b4",
            "value": 4.68785796565681
          }
        },
        "e7ddd4ccff2a477b8565be9da4a8f76c": {
          "model_module": "@jupyter-widgets/controls",
          "model_name": "FloatSliderModel",
          "model_module_version": "1.5.0",
          "state": {
            "_dom_classes": [],
            "_model_module": "@jupyter-widgets/controls",
            "_model_module_version": "1.5.0",
            "_model_name": "FloatSliderModel",
            "_view_count": null,
            "_view_module": "@jupyter-widgets/controls",
            "_view_module_version": "1.5.0",
            "_view_name": "FloatSliderView",
            "continuous_update": true,
            "description": "lon",
            "description_tooltip": null,
            "disabled": false,
            "layout": "IPY_MODEL_96300e53bcf44740b49708107c146dcb",
            "max": -74.017,
            "min": -74.214,
            "orientation": "horizontal",
            "readout": true,
            "readout_format": ".2f",
            "step": 0.01,
            "style": "IPY_MODEL_99795b7bef834be5ba07818bebb6ec6c",
            "value": -74.06025364716433
          }
        },
        "d5a8e99e24d54caa8f611e05feb76236": {
          "model_module": "@jupyter-widgets/controls",
          "model_name": "DropdownModel",
          "model_module_version": "1.5.0",
          "state": {
            "_dom_classes": [],
            "_model_module": "@jupyter-widgets/controls",
            "_model_module_version": "1.5.0",
            "_model_name": "DropdownModel",
            "_options_labels": [
              "",
              "Antonio Nariño",
              "Barrios Unidos",
              "Bosa",
              "Chapinero",
              "Ciudad Bolívar",
              "Engativa",
              "Fontibón",
              "Kennedy",
              "La Candelaria",
              "Los Mártires",
              "Puente Aranda",
              "Rafael Uribe Uribe",
              "San Cristobal",
              "Santa Fe",
              "Suba",
              "Teusaquillo",
              "Tunjuelito",
              "Usaquén",
              "Usme"
            ],
            "_view_count": null,
            "_view_module": "@jupyter-widgets/controls",
            "_view_module_version": "1.5.0",
            "_view_name": "DropdownView",
            "description": "neighborhood",
            "description_tooltip": null,
            "disabled": false,
            "index": 0,
            "layout": "IPY_MODEL_6985e47f3053464a8c353d1a5c95596c",
            "style": "IPY_MODEL_a86a72b777cc4a14af3cdca8bc6917bd"
          }
        },
        "cdfd1b59d01846ee9263190df76402f1": {
          "model_module": "@jupyter-widgets/output",
          "model_name": "OutputModel",
          "model_module_version": "1.0.0",
          "state": {
            "_dom_classes": [],
            "_model_module": "@jupyter-widgets/output",
            "_model_module_version": "1.0.0",
            "_model_name": "OutputModel",
            "_view_count": null,
            "_view_module": "@jupyter-widgets/output",
            "_view_module_version": "1.0.0",
            "_view_name": "OutputView",
            "layout": "IPY_MODEL_3b890e3d521e4daca20c93c66c19400d",
            "msg_id": "",
            "outputs": [
              {
                "output_type": "display_data",
                "data": {
                  "text/plain": "'Predicted house price: $153824.99'",
                  "application/vnd.google.colaboratory.intrinsic+json": {
                    "type": "string"
                  }
                },
                "metadata": {}
              }
            ]
          }
        },
        "1d39ed17dea7455fb61baa90014ef0ad": {
          "model_module": "@jupyter-widgets/base",
          "model_name": "LayoutModel",
          "model_module_version": "1.2.0",
          "state": {
            "_model_module": "@jupyter-widgets/base",
            "_model_module_version": "1.2.0",
            "_model_name": "LayoutModel",
            "_view_count": null,
            "_view_module": "@jupyter-widgets/base",
            "_view_module_version": "1.2.0",
            "_view_name": "LayoutView",
            "align_content": null,
            "align_items": null,
            "align_self": null,
            "border": null,
            "bottom": null,
            "display": null,
            "flex": null,
            "flex_flow": null,
            "grid_area": null,
            "grid_auto_columns": null,
            "grid_auto_flow": null,
            "grid_auto_rows": null,
            "grid_column": null,
            "grid_gap": null,
            "grid_row": null,
            "grid_template_areas": null,
            "grid_template_columns": null,
            "grid_template_rows": null,
            "height": null,
            "justify_content": null,
            "justify_items": null,
            "left": null,
            "margin": null,
            "max_height": null,
            "max_width": null,
            "min_height": null,
            "min_width": null,
            "object_fit": null,
            "object_position": null,
            "order": null,
            "overflow": null,
            "overflow_x": null,
            "overflow_y": null,
            "padding": null,
            "right": null,
            "top": null,
            "visibility": null,
            "width": null
          }
        },
        "5ac71c5f79b04d1698c05aee721b9716": {
          "model_module": "@jupyter-widgets/base",
          "model_name": "LayoutModel",
          "model_module_version": "1.2.0",
          "state": {
            "_model_module": "@jupyter-widgets/base",
            "_model_module_version": "1.2.0",
            "_model_name": "LayoutModel",
            "_view_count": null,
            "_view_module": "@jupyter-widgets/base",
            "_view_module_version": "1.2.0",
            "_view_name": "LayoutView",
            "align_content": null,
            "align_items": null,
            "align_self": null,
            "border": null,
            "bottom": null,
            "display": null,
            "flex": null,
            "flex_flow": null,
            "grid_area": null,
            "grid_auto_columns": null,
            "grid_auto_flow": null,
            "grid_auto_rows": null,
            "grid_column": null,
            "grid_gap": null,
            "grid_row": null,
            "grid_template_areas": null,
            "grid_template_columns": null,
            "grid_template_rows": null,
            "height": null,
            "justify_content": null,
            "justify_items": null,
            "left": null,
            "margin": null,
            "max_height": null,
            "max_width": null,
            "min_height": null,
            "min_width": null,
            "object_fit": null,
            "object_position": null,
            "order": null,
            "overflow": null,
            "overflow_x": null,
            "overflow_y": null,
            "padding": null,
            "right": null,
            "top": null,
            "visibility": null,
            "width": null
          }
        },
        "25a7842cf35a4c95a100f7a39da25030": {
          "model_module": "@jupyter-widgets/controls",
          "model_name": "SliderStyleModel",
          "model_module_version": "1.5.0",
          "state": {
            "_model_module": "@jupyter-widgets/controls",
            "_model_module_version": "1.5.0",
            "_model_name": "SliderStyleModel",
            "_view_count": null,
            "_view_module": "@jupyter-widgets/base",
            "_view_module_version": "1.2.0",
            "_view_name": "StyleView",
            "description_width": "",
            "handle_color": null
          }
        },
        "12777709b14144da9661df99ca088829": {
          "model_module": "@jupyter-widgets/base",
          "model_name": "LayoutModel",
          "model_module_version": "1.2.0",
          "state": {
            "_model_module": "@jupyter-widgets/base",
            "_model_module_version": "1.2.0",
            "_model_name": "LayoutModel",
            "_view_count": null,
            "_view_module": "@jupyter-widgets/base",
            "_view_module_version": "1.2.0",
            "_view_name": "LayoutView",
            "align_content": null,
            "align_items": null,
            "align_self": null,
            "border": null,
            "bottom": null,
            "display": null,
            "flex": null,
            "flex_flow": null,
            "grid_area": null,
            "grid_auto_columns": null,
            "grid_auto_flow": null,
            "grid_auto_rows": null,
            "grid_column": null,
            "grid_gap": null,
            "grid_row": null,
            "grid_template_areas": null,
            "grid_template_columns": null,
            "grid_template_rows": null,
            "height": null,
            "justify_content": null,
            "justify_items": null,
            "left": null,
            "margin": null,
            "max_height": null,
            "max_width": null,
            "min_height": null,
            "min_width": null,
            "object_fit": null,
            "object_position": null,
            "order": null,
            "overflow": null,
            "overflow_x": null,
            "overflow_y": null,
            "padding": null,
            "right": null,
            "top": null,
            "visibility": null,
            "width": null
          }
        },
        "64aafab697574d05829096ce71cec9b4": {
          "model_module": "@jupyter-widgets/controls",
          "model_name": "SliderStyleModel",
          "model_module_version": "1.5.0",
          "state": {
            "_model_module": "@jupyter-widgets/controls",
            "_model_module_version": "1.5.0",
            "_model_name": "SliderStyleModel",
            "_view_count": null,
            "_view_module": "@jupyter-widgets/base",
            "_view_module_version": "1.2.0",
            "_view_name": "StyleView",
            "description_width": "",
            "handle_color": null
          }
        },
        "96300e53bcf44740b49708107c146dcb": {
          "model_module": "@jupyter-widgets/base",
          "model_name": "LayoutModel",
          "model_module_version": "1.2.0",
          "state": {
            "_model_module": "@jupyter-widgets/base",
            "_model_module_version": "1.2.0",
            "_model_name": "LayoutModel",
            "_view_count": null,
            "_view_module": "@jupyter-widgets/base",
            "_view_module_version": "1.2.0",
            "_view_name": "LayoutView",
            "align_content": null,
            "align_items": null,
            "align_self": null,
            "border": null,
            "bottom": null,
            "display": null,
            "flex": null,
            "flex_flow": null,
            "grid_area": null,
            "grid_auto_columns": null,
            "grid_auto_flow": null,
            "grid_auto_rows": null,
            "grid_column": null,
            "grid_gap": null,
            "grid_row": null,
            "grid_template_areas": null,
            "grid_template_columns": null,
            "grid_template_rows": null,
            "height": null,
            "justify_content": null,
            "justify_items": null,
            "left": null,
            "margin": null,
            "max_height": null,
            "max_width": null,
            "min_height": null,
            "min_width": null,
            "object_fit": null,
            "object_position": null,
            "order": null,
            "overflow": null,
            "overflow_x": null,
            "overflow_y": null,
            "padding": null,
            "right": null,
            "top": null,
            "visibility": null,
            "width": null
          }
        },
        "99795b7bef834be5ba07818bebb6ec6c": {
          "model_module": "@jupyter-widgets/controls",
          "model_name": "SliderStyleModel",
          "model_module_version": "1.5.0",
          "state": {
            "_model_module": "@jupyter-widgets/controls",
            "_model_module_version": "1.5.0",
            "_model_name": "SliderStyleModel",
            "_view_count": null,
            "_view_module": "@jupyter-widgets/base",
            "_view_module_version": "1.2.0",
            "_view_name": "StyleView",
            "description_width": "",
            "handle_color": null
          }
        },
        "6985e47f3053464a8c353d1a5c95596c": {
          "model_module": "@jupyter-widgets/base",
          "model_name": "LayoutModel",
          "model_module_version": "1.2.0",
          "state": {
            "_model_module": "@jupyter-widgets/base",
            "_model_module_version": "1.2.0",
            "_model_name": "LayoutModel",
            "_view_count": null,
            "_view_module": "@jupyter-widgets/base",
            "_view_module_version": "1.2.0",
            "_view_name": "LayoutView",
            "align_content": null,
            "align_items": null,
            "align_self": null,
            "border": null,
            "bottom": null,
            "display": null,
            "flex": null,
            "flex_flow": null,
            "grid_area": null,
            "grid_auto_columns": null,
            "grid_auto_flow": null,
            "grid_auto_rows": null,
            "grid_column": null,
            "grid_gap": null,
            "grid_row": null,
            "grid_template_areas": null,
            "grid_template_columns": null,
            "grid_template_rows": null,
            "height": null,
            "justify_content": null,
            "justify_items": null,
            "left": null,
            "margin": null,
            "max_height": null,
            "max_width": null,
            "min_height": null,
            "min_width": null,
            "object_fit": null,
            "object_position": null,
            "order": null,
            "overflow": null,
            "overflow_x": null,
            "overflow_y": null,
            "padding": null,
            "right": null,
            "top": null,
            "visibility": null,
            "width": null
          }
        },
        "a86a72b777cc4a14af3cdca8bc6917bd": {
          "model_module": "@jupyter-widgets/controls",
          "model_name": "DescriptionStyleModel",
          "model_module_version": "1.5.0",
          "state": {
            "_model_module": "@jupyter-widgets/controls",
            "_model_module_version": "1.5.0",
            "_model_name": "DescriptionStyleModel",
            "_view_count": null,
            "_view_module": "@jupyter-widgets/base",
            "_view_module_version": "1.2.0",
            "_view_name": "StyleView",
            "description_width": ""
          }
        },
        "3b890e3d521e4daca20c93c66c19400d": {
          "model_module": "@jupyter-widgets/base",
          "model_name": "LayoutModel",
          "model_module_version": "1.2.0",
          "state": {
            "_model_module": "@jupyter-widgets/base",
            "_model_module_version": "1.2.0",
            "_model_name": "LayoutModel",
            "_view_count": null,
            "_view_module": "@jupyter-widgets/base",
            "_view_module_version": "1.2.0",
            "_view_name": "LayoutView",
            "align_content": null,
            "align_items": null,
            "align_self": null,
            "border": null,
            "bottom": null,
            "display": null,
            "flex": null,
            "flex_flow": null,
            "grid_area": null,
            "grid_auto_columns": null,
            "grid_auto_flow": null,
            "grid_auto_rows": null,
            "grid_column": null,
            "grid_gap": null,
            "grid_row": null,
            "grid_template_areas": null,
            "grid_template_columns": null,
            "grid_template_rows": null,
            "height": null,
            "justify_content": null,
            "justify_items": null,
            "left": null,
            "margin": null,
            "max_height": null,
            "max_width": null,
            "min_height": null,
            "min_width": null,
            "object_fit": null,
            "object_position": null,
            "order": null,
            "overflow": null,
            "overflow_x": null,
            "overflow_y": null,
            "padding": null,
            "right": null,
            "top": null,
            "visibility": null,
            "width": null
          }
        }
      }
    }
  },
  "cells": [
    {
      "cell_type": "markdown",
      "source": [
        "<font size=\"+3\"><strong>Predicting Price with Everything</strong></font>"
      ],
      "metadata": {
        "id": "h9db8_TFHnMn"
      }
    },
    {
      "cell_type": "code",
      "source": [
        "import warnings\n",
        "from glob import glob\n",
        "\n",
        "import pandas as pd\n",
        "import seaborn as sns\n",
        "from category_encoders import OneHotEncoder\n",
        "from ipywidgets import Dropdown, FloatSlider, IntSlider, interact\n",
        "from sklearn.impute import SimpleImputer\n",
        "from sklearn.linear_model import LinearRegression, Ridge\n",
        "from sklearn.metrics import mean_absolute_error\n",
        "from sklearn.pipeline import make_pipeline\n",
        "\n",
        "warnings.simplefilter(action=\"ignore\", category=FutureWarning)"
      ],
      "metadata": {
        "id": "wShmSI8ypx3Z"
      },
      "execution_count": null,
      "outputs": []
    },
    {
      "cell_type": "markdown",
      "source": [
        "# Prepare Data"
      ],
      "metadata": {
        "id": "0rEgtY-CYu4s"
      }
    },
    {
      "cell_type": "markdown",
      "source": [
        "# Import"
      ],
      "metadata": {
        "id": "6yJaS54XYxds"
      }
    },
    {
      "cell_type": "code",
      "execution_count": null,
      "metadata": {
        "id": "25mr8ALSowp6"
      },
      "outputs": [],
      "source": [
        "def wrangle(filepath):\n",
        "    #import_csv\n",
        "    df = pd.read_csv(filepath,index_col=[0])\n",
        "\n",
        "    #subset to propertes in '\"Capital Federal\"'\n",
        "    mask_ba= df[\"place_with_parent_names\"].str.contains(\"Bogotá D.C\")\n",
        "\n",
        "    #subset for  '\"apartment\"'\n",
        "    mask_apt=df[\"property_type\"] == \"house\"\n",
        "\n",
        "    #subset where '\"price_aprox_usd\"' < 400,000\n",
        "    mask_price= df[\"price_aprox_usd\"] < 400_000\n",
        "\n",
        "    df= df[mask_ba & mask_apt & mask_price]\n",
        "\n",
        "    #Remove the outliers by '\"surface_covered_in_m2\"'\n",
        "    low, high= df[\"surface_covered_in_m2\"].quantile([0.1,0.9])\n",
        "    mask_area =df[\"surface_covered_in_m2\"].between(low, high)\n",
        "    df=df[mask_area]\n",
        "\n",
        "    #split the '\"lat-lon\"'\n",
        "    df[[\"lat\" ,\"lon\"]]= df[\"lat-lon\"].str.split(\",\", expand= True).astype(float)\n",
        "    df.drop(columns=\"lat-lon\", inplace = True)\n",
        "\n",
        "    #Extract neighborhood\n",
        "    df[\"neighborhood\"]= df[\"place_with_parent_names\"].str.split(\"|\",expand=True)[3]\n",
        "    df.drop(columns=\"place_with_parent_names\", inplace= True)\n",
        "\n",
        "    return df"
      ]
    },
    {
      "cell_type": "code",
      "source": [
        "# Create a list that contains the filenames for all real estate CSV files\n",
        "files = glob(\"/content/colombia-real-estate-*.csv\")\n",
        "files"
      ],
      "metadata": {
        "colab": {
          "base_uri": "https://localhost:8080/"
        },
        "id": "WYvSv0CNpYR5",
        "outputId": "b7330ea4-a645-42e9-90b3-fef273835588"
      },
      "execution_count": null,
      "outputs": [
        {
          "output_type": "execute_result",
          "data": {
            "text/plain": [
              "['/content/colombia-real-estate-1.csv',\n",
              " '/content/colombia-real-estate-2.csv',\n",
              " '/content/colombia-real-estate-4.csv',\n",
              " '/content/colombia-real-estate-5.csv',\n",
              " '/content/colombia-real-estate-3.csv']"
            ]
          },
          "metadata": {},
          "execution_count": 6
        }
      ]
    },
    {
      "cell_type": "code",
      "source": [
        "# Create a list named `frames`\n",
        "frames = [wrangle(file) for file in files]"
      ],
      "metadata": {
        "id": "jz8cE8ulpMsX"
      },
      "execution_count": null,
      "outputs": []
    },
    {
      "cell_type": "code",
      "source": [
        "# Concatenate the items in `frames` into a single DataFrame `df`\n",
        "df = pd.concat(frames, ignore_index= True)\n",
        "print(df.info())\n",
        "df.head()"
      ],
      "metadata": {
        "colab": {
          "base_uri": "https://localhost:8080/",
          "height": 791
        },
        "id": "h-7w5921qFQs",
        "outputId": "c581c927-d10d-43ca-b783-64c25c677b6f"
      },
      "execution_count": null,
      "outputs": [
        {
          "output_type": "stream",
          "name": "stdout",
          "text": [
            "<class 'pandas.core.frame.DataFrame'>\n",
            "RangeIndex: 4126 entries, 0 to 4125\n",
            "Data columns (total 17 columns):\n",
            " #   Column                      Non-Null Count  Dtype  \n",
            "---  ------                      --------------  -----  \n",
            " 0   operation                   4126 non-null   object \n",
            " 1   property_type               4126 non-null   object \n",
            " 2   price                       4126 non-null   float64\n",
            " 3   currency                    4126 non-null   object \n",
            " 4   price_aprox_local_currency  4126 non-null   float64\n",
            " 5   price_aprox_usd             4126 non-null   float64\n",
            " 6   surface_total_in_m2         1688 non-null   float64\n",
            " 7   surface_covered_in_m2       4126 non-null   float64\n",
            " 8   price_usd_per_m2            1688 non-null   float64\n",
            " 9   price_per_m2                4126 non-null   float64\n",
            " 10  floor                       2704 non-null   float64\n",
            " 11  rooms                       3352 non-null   float64\n",
            " 12  expenses                    1 non-null      float64\n",
            " 13  properati_url               4126 non-null   object \n",
            " 14  lat                         4126 non-null   float64\n",
            " 15  lon                         4126 non-null   float64\n",
            " 16  neighborhood                4126 non-null   object \n",
            "dtypes: float64(12), object(5)\n",
            "memory usage: 548.1+ KB\n",
            "None\n"
          ]
        },
        {
          "output_type": "execute_result",
          "data": {
            "text/plain": [
              "  operation property_type         price currency  price_aprox_local_currency  \\\n",
              "0      sell         house  6.300000e+08      COP                6.349309e+08   \n",
              "1      sell         house  5.000000e+08      COP                5.039134e+08   \n",
              "2      sell         house  3.950000e+08      COP                3.980916e+08   \n",
              "3      sell         house  1.100000e+09      COP                1.108609e+09   \n",
              "4      sell         house  7.000000e+08      COP                7.054787e+08   \n",
              "\n",
              "   price_aprox_usd  surface_total_in_m2  surface_covered_in_m2  \\\n",
              "0        212721.41                  NaN                  135.0   \n",
              "1        168826.52                  NaN                  240.0   \n",
              "2        133372.95                  NaN                  134.0   \n",
              "3        371418.34                  NaN                  143.0   \n",
              "4        236357.12                  NaN                  248.0   \n",
              "\n",
              "   price_usd_per_m2  price_per_m2  floor  rooms  expenses  \\\n",
              "0               NaN  4.666667e+06    NaN    3.0       NaN   \n",
              "1               NaN  2.083333e+06    NaN    3.0       NaN   \n",
              "2               NaN  2.947761e+06    NaN    3.0       NaN   \n",
              "3               NaN  7.692308e+06    NaN    3.0       NaN   \n",
              "4               NaN  2.822581e+06    2.0    4.0       NaN   \n",
              "\n",
              "                                       properati_url    lat     lon  \\\n",
              "0  http://usaquen-bogota-d-c.properati.com.co/jm3...  4.724 -74.023   \n",
              "1  http://los-martires-bogota-d-c.properati.com.c...  4.618 -74.081   \n",
              "2  http://suba-bogota-d-c.properati.com.co/jm4g_v...  4.729 -74.053   \n",
              "3  http://usaquen-bogota-d-c.properati.com.co/jm4...  4.667 -74.050   \n",
              "4  http://suba-bogota-d-c.properati.com.co/jm5d_v...  4.702 -74.060   \n",
              "\n",
              "   neighborhood  \n",
              "0       Usaquén  \n",
              "1  Los Mártires  \n",
              "2          Suba  \n",
              "3       Usaquén  \n",
              "4          Suba  "
            ],
            "text/html": [
              "\n",
              "\n",
              "  <div id=\"df-acf26086-cf1e-413a-a3a5-c91364540bac\">\n",
              "    <div class=\"colab-df-container\">\n",
              "      <div>\n",
              "<style scoped>\n",
              "    .dataframe tbody tr th:only-of-type {\n",
              "        vertical-align: middle;\n",
              "    }\n",
              "\n",
              "    .dataframe tbody tr th {\n",
              "        vertical-align: top;\n",
              "    }\n",
              "\n",
              "    .dataframe thead th {\n",
              "        text-align: right;\n",
              "    }\n",
              "</style>\n",
              "<table border=\"1\" class=\"dataframe\">\n",
              "  <thead>\n",
              "    <tr style=\"text-align: right;\">\n",
              "      <th></th>\n",
              "      <th>operation</th>\n",
              "      <th>property_type</th>\n",
              "      <th>price</th>\n",
              "      <th>currency</th>\n",
              "      <th>price_aprox_local_currency</th>\n",
              "      <th>price_aprox_usd</th>\n",
              "      <th>surface_total_in_m2</th>\n",
              "      <th>surface_covered_in_m2</th>\n",
              "      <th>price_usd_per_m2</th>\n",
              "      <th>price_per_m2</th>\n",
              "      <th>floor</th>\n",
              "      <th>rooms</th>\n",
              "      <th>expenses</th>\n",
              "      <th>properati_url</th>\n",
              "      <th>lat</th>\n",
              "      <th>lon</th>\n",
              "      <th>neighborhood</th>\n",
              "    </tr>\n",
              "  </thead>\n",
              "  <tbody>\n",
              "    <tr>\n",
              "      <th>0</th>\n",
              "      <td>sell</td>\n",
              "      <td>house</td>\n",
              "      <td>6.300000e+08</td>\n",
              "      <td>COP</td>\n",
              "      <td>6.349309e+08</td>\n",
              "      <td>212721.41</td>\n",
              "      <td>NaN</td>\n",
              "      <td>135.0</td>\n",
              "      <td>NaN</td>\n",
              "      <td>4.666667e+06</td>\n",
              "      <td>NaN</td>\n",
              "      <td>3.0</td>\n",
              "      <td>NaN</td>\n",
              "      <td>http://usaquen-bogota-d-c.properati.com.co/jm3...</td>\n",
              "      <td>4.724</td>\n",
              "      <td>-74.023</td>\n",
              "      <td>Usaquén</td>\n",
              "    </tr>\n",
              "    <tr>\n",
              "      <th>1</th>\n",
              "      <td>sell</td>\n",
              "      <td>house</td>\n",
              "      <td>5.000000e+08</td>\n",
              "      <td>COP</td>\n",
              "      <td>5.039134e+08</td>\n",
              "      <td>168826.52</td>\n",
              "      <td>NaN</td>\n",
              "      <td>240.0</td>\n",
              "      <td>NaN</td>\n",
              "      <td>2.083333e+06</td>\n",
              "      <td>NaN</td>\n",
              "      <td>3.0</td>\n",
              "      <td>NaN</td>\n",
              "      <td>http://los-martires-bogota-d-c.properati.com.c...</td>\n",
              "      <td>4.618</td>\n",
              "      <td>-74.081</td>\n",
              "      <td>Los Mártires</td>\n",
              "    </tr>\n",
              "    <tr>\n",
              "      <th>2</th>\n",
              "      <td>sell</td>\n",
              "      <td>house</td>\n",
              "      <td>3.950000e+08</td>\n",
              "      <td>COP</td>\n",
              "      <td>3.980916e+08</td>\n",
              "      <td>133372.95</td>\n",
              "      <td>NaN</td>\n",
              "      <td>134.0</td>\n",
              "      <td>NaN</td>\n",
              "      <td>2.947761e+06</td>\n",
              "      <td>NaN</td>\n",
              "      <td>3.0</td>\n",
              "      <td>NaN</td>\n",
              "      <td>http://suba-bogota-d-c.properati.com.co/jm4g_v...</td>\n",
              "      <td>4.729</td>\n",
              "      <td>-74.053</td>\n",
              "      <td>Suba</td>\n",
              "    </tr>\n",
              "    <tr>\n",
              "      <th>3</th>\n",
              "      <td>sell</td>\n",
              "      <td>house</td>\n",
              "      <td>1.100000e+09</td>\n",
              "      <td>COP</td>\n",
              "      <td>1.108609e+09</td>\n",
              "      <td>371418.34</td>\n",
              "      <td>NaN</td>\n",
              "      <td>143.0</td>\n",
              "      <td>NaN</td>\n",
              "      <td>7.692308e+06</td>\n",
              "      <td>NaN</td>\n",
              "      <td>3.0</td>\n",
              "      <td>NaN</td>\n",
              "      <td>http://usaquen-bogota-d-c.properati.com.co/jm4...</td>\n",
              "      <td>4.667</td>\n",
              "      <td>-74.050</td>\n",
              "      <td>Usaquén</td>\n",
              "    </tr>\n",
              "    <tr>\n",
              "      <th>4</th>\n",
              "      <td>sell</td>\n",
              "      <td>house</td>\n",
              "      <td>7.000000e+08</td>\n",
              "      <td>COP</td>\n",
              "      <td>7.054787e+08</td>\n",
              "      <td>236357.12</td>\n",
              "      <td>NaN</td>\n",
              "      <td>248.0</td>\n",
              "      <td>NaN</td>\n",
              "      <td>2.822581e+06</td>\n",
              "      <td>2.0</td>\n",
              "      <td>4.0</td>\n",
              "      <td>NaN</td>\n",
              "      <td>http://suba-bogota-d-c.properati.com.co/jm5d_v...</td>\n",
              "      <td>4.702</td>\n",
              "      <td>-74.060</td>\n",
              "      <td>Suba</td>\n",
              "    </tr>\n",
              "  </tbody>\n",
              "</table>\n",
              "</div>\n",
              "      <button class=\"colab-df-convert\" onclick=\"convertToInteractive('df-acf26086-cf1e-413a-a3a5-c91364540bac')\"\n",
              "              title=\"Convert this dataframe to an interactive table.\"\n",
              "              style=\"display:none;\">\n",
              "\n",
              "  <svg xmlns=\"http://www.w3.org/2000/svg\" height=\"24px\"viewBox=\"0 0 24 24\"\n",
              "       width=\"24px\">\n",
              "    <path d=\"M0 0h24v24H0V0z\" fill=\"none\"/>\n",
              "    <path d=\"M18.56 5.44l.94 2.06.94-2.06 2.06-.94-2.06-.94-.94-2.06-.94 2.06-2.06.94zm-11 1L8.5 8.5l.94-2.06 2.06-.94-2.06-.94L8.5 2.5l-.94 2.06-2.06.94zm10 10l.94 2.06.94-2.06 2.06-.94-2.06-.94-.94-2.06-.94 2.06-2.06.94z\"/><path d=\"M17.41 7.96l-1.37-1.37c-.4-.4-.92-.59-1.43-.59-.52 0-1.04.2-1.43.59L10.3 9.45l-7.72 7.72c-.78.78-.78 2.05 0 2.83L4 21.41c.39.39.9.59 1.41.59.51 0 1.02-.2 1.41-.59l7.78-7.78 2.81-2.81c.8-.78.8-2.07 0-2.86zM5.41 20L4 18.59l7.72-7.72 1.47 1.35L5.41 20z\"/>\n",
              "  </svg>\n",
              "      </button>\n",
              "\n",
              "\n",
              "\n",
              "    <div id=\"df-8f429fda-0275-4898-b9b6-12f295cf83eb\">\n",
              "      <button class=\"colab-df-quickchart\" onclick=\"quickchart('df-8f429fda-0275-4898-b9b6-12f295cf83eb')\"\n",
              "              title=\"Suggest charts.\"\n",
              "              style=\"display:none;\">\n",
              "\n",
              "<svg xmlns=\"http://www.w3.org/2000/svg\" height=\"24px\"viewBox=\"0 0 24 24\"\n",
              "     width=\"24px\">\n",
              "    <g>\n",
              "        <path d=\"M19 3H5c-1.1 0-2 .9-2 2v14c0 1.1.9 2 2 2h14c1.1 0 2-.9 2-2V5c0-1.1-.9-2-2-2zM9 17H7v-7h2v7zm4 0h-2V7h2v10zm4 0h-2v-4h2v4z\"/>\n",
              "    </g>\n",
              "</svg>\n",
              "      </button>\n",
              "    </div>\n",
              "\n",
              "<style>\n",
              "  .colab-df-quickchart {\n",
              "    background-color: #E8F0FE;\n",
              "    border: none;\n",
              "    border-radius: 50%;\n",
              "    cursor: pointer;\n",
              "    display: none;\n",
              "    fill: #1967D2;\n",
              "    height: 32px;\n",
              "    padding: 0 0 0 0;\n",
              "    width: 32px;\n",
              "  }\n",
              "\n",
              "  .colab-df-quickchart:hover {\n",
              "    background-color: #E2EBFA;\n",
              "    box-shadow: 0px 1px 2px rgba(60, 64, 67, 0.3), 0px 1px 3px 1px rgba(60, 64, 67, 0.15);\n",
              "    fill: #174EA6;\n",
              "  }\n",
              "\n",
              "  [theme=dark] .colab-df-quickchart {\n",
              "    background-color: #3B4455;\n",
              "    fill: #D2E3FC;\n",
              "  }\n",
              "\n",
              "  [theme=dark] .colab-df-quickchart:hover {\n",
              "    background-color: #434B5C;\n",
              "    box-shadow: 0px 1px 3px 1px rgba(0, 0, 0, 0.15);\n",
              "    filter: drop-shadow(0px 1px 2px rgba(0, 0, 0, 0.3));\n",
              "    fill: #FFFFFF;\n",
              "  }\n",
              "</style>\n",
              "\n",
              "    <script>\n",
              "      async function quickchart(key) {\n",
              "        const containerElement = document.querySelector('#' + key);\n",
              "        const charts = await google.colab.kernel.invokeFunction(\n",
              "            'suggestCharts', [key], {});\n",
              "      }\n",
              "    </script>\n",
              "\n",
              "      <script>\n",
              "\n",
              "function displayQuickchartButton(domScope) {\n",
              "  let quickchartButtonEl =\n",
              "    domScope.querySelector('#df-8f429fda-0275-4898-b9b6-12f295cf83eb button.colab-df-quickchart');\n",
              "  quickchartButtonEl.style.display =\n",
              "    google.colab.kernel.accessAllowed ? 'block' : 'none';\n",
              "}\n",
              "\n",
              "        displayQuickchartButton(document);\n",
              "      </script>\n",
              "      <style>\n",
              "    .colab-df-container {\n",
              "      display:flex;\n",
              "      flex-wrap:wrap;\n",
              "      gap: 12px;\n",
              "    }\n",
              "\n",
              "    .colab-df-convert {\n",
              "      background-color: #E8F0FE;\n",
              "      border: none;\n",
              "      border-radius: 50%;\n",
              "      cursor: pointer;\n",
              "      display: none;\n",
              "      fill: #1967D2;\n",
              "      height: 32px;\n",
              "      padding: 0 0 0 0;\n",
              "      width: 32px;\n",
              "    }\n",
              "\n",
              "    .colab-df-convert:hover {\n",
              "      background-color: #E2EBFA;\n",
              "      box-shadow: 0px 1px 2px rgba(60, 64, 67, 0.3), 0px 1px 3px 1px rgba(60, 64, 67, 0.15);\n",
              "      fill: #174EA6;\n",
              "    }\n",
              "\n",
              "    [theme=dark] .colab-df-convert {\n",
              "      background-color: #3B4455;\n",
              "      fill: #D2E3FC;\n",
              "    }\n",
              "\n",
              "    [theme=dark] .colab-df-convert:hover {\n",
              "      background-color: #434B5C;\n",
              "      box-shadow: 0px 1px 3px 1px rgba(0, 0, 0, 0.15);\n",
              "      filter: drop-shadow(0px 1px 2px rgba(0, 0, 0, 0.3));\n",
              "      fill: #FFFFFF;\n",
              "    }\n",
              "  </style>\n",
              "\n",
              "      <script>\n",
              "        const buttonEl =\n",
              "          document.querySelector('#df-acf26086-cf1e-413a-a3a5-c91364540bac button.colab-df-convert');\n",
              "        buttonEl.style.display =\n",
              "          google.colab.kernel.accessAllowed ? 'block' : 'none';\n",
              "\n",
              "        async function convertToInteractive(key) {\n",
              "          const element = document.querySelector('#df-acf26086-cf1e-413a-a3a5-c91364540bac');\n",
              "          const dataTable =\n",
              "            await google.colab.kernel.invokeFunction('convertToInteractive',\n",
              "                                                     [key], {});\n",
              "          if (!dataTable) return;\n",
              "\n",
              "          const docLinkHtml = 'Like what you see? Visit the ' +\n",
              "            '<a target=\"_blank\" href=https://colab.research.google.com/notebooks/data_table.ipynb>data table notebook</a>'\n",
              "            + ' to learn more about interactive tables.';\n",
              "          element.innerHTML = '';\n",
              "          dataTable['output_type'] = 'display_data';\n",
              "          await google.colab.output.renderOutput(dataTable, element);\n",
              "          const docLink = document.createElement('div');\n",
              "          docLink.innerHTML = docLinkHtml;\n",
              "          element.appendChild(docLink);\n",
              "        }\n",
              "      </script>\n",
              "    </div>\n",
              "  </div>\n"
            ]
          },
          "metadata": {},
          "execution_count": 8
        }
      ]
    },
    {
      "cell_type": "markdown",
      "source": [
        "## Explore"
      ],
      "metadata": {
        "id": "u0iuvcZbWCnY"
      }
    },
    {
      "cell_type": "code",
      "source": [
        "# Check null values\n",
        "df.isnull().sum() / len(df)"
      ],
      "metadata": {
        "colab": {
          "base_uri": "https://localhost:8080/"
        },
        "id": "Oj9F4X1ztJpR",
        "outputId": "4eaf66db-6ee0-4b02-d287-976abae5a3b5"
      },
      "execution_count": null,
      "outputs": [
        {
          "output_type": "execute_result",
          "data": {
            "text/plain": [
              "operation                     0.000000\n",
              "property_type                 0.000000\n",
              "price                         0.000000\n",
              "currency                      0.000000\n",
              "price_aprox_local_currency    0.000000\n",
              "price_aprox_usd               0.000000\n",
              "surface_total_in_m2           0.590887\n",
              "surface_covered_in_m2         0.000000\n",
              "price_usd_per_m2              0.590887\n",
              "price_per_m2                  0.000000\n",
              "floor                         0.344644\n",
              "rooms                         0.187591\n",
              "expenses                      0.999758\n",
              "properati_url                 0.000000\n",
              "lat                           0.000000\n",
              "lon                           0.000000\n",
              "neighborhood                  0.000000\n",
              "dtype: float64"
            ]
          },
          "metadata": {},
          "execution_count": 9
        }
      ]
    },
    {
      "cell_type": "code",
      "source": [
        "# Drop features with high null counts\n",
        "df.drop(columns = [\"floor\",\"expenses\"], inplace= True)"
      ],
      "metadata": {
        "id": "HrLGbLFQWleZ"
      },
      "execution_count": null,
      "outputs": []
    },
    {
      "cell_type": "code",
      "source": [
        "# Calculate the number of unique values for each non-numeric features\n",
        "df.select_dtypes(\"object\").nunique()"
      ],
      "metadata": {
        "colab": {
          "base_uri": "https://localhost:8080/"
        },
        "id": "E_ALw8ohtiRh",
        "outputId": "4a207e62-7541-4ca1-9257-416f9fbab869"
      },
      "execution_count": null,
      "outputs": [
        {
          "output_type": "execute_result",
          "data": {
            "text/plain": [
              "operation           2\n",
              "property_type       1\n",
              "currency            1\n",
              "properati_url    4126\n",
              "neighborhood       20\n",
              "dtype: int64"
            ]
          },
          "metadata": {},
          "execution_count": 11
        }
      ]
    },
    {
      "cell_type": "code",
      "source": [
        "#Drop low and high cardinality categorical features\n",
        "df.drop(columns= [\"operation\", \"property_type\", \"currency\",\"properati_url\"], inplace=True)"
      ],
      "metadata": {
        "id": "hs35MVssXJ_F"
      },
      "execution_count": null,
      "outputs": []
    },
    {
      "cell_type": "code",
      "source": [
        "#Drop Leakey columns\n",
        "df.drop(columns= [\n",
        "                  \"price\",\n",
        "                  \"price_aprox_local_currency\",\n",
        "                  \"price_per_m2\",\n",
        "                  \"price_usd_per_m2\"\n",
        "                 ],\n",
        "  inplace= True)"
      ],
      "metadata": {
        "id": "TKNNeI3aXiOD"
      },
      "execution_count": null,
      "outputs": []
    },
    {
      "cell_type": "code",
      "source": [
        "# Correlation heatmap of the remaining numerical features\n",
        "corr = df.select_dtypes(\"number\").drop(columns= \"price_aprox_usd\").corr()\n",
        "sns.heatmap(corr);"
      ],
      "metadata": {
        "colab": {
          "base_uri": "https://localhost:8080/",
          "height": 277
        },
        "id": "tdsXhfKmvR67",
        "outputId": "9c03aa89-9464-4631-ed44-5dd9cd820a50"
      },
      "execution_count": null,
      "outputs": [
        {
          "output_type": "display_data",
          "data": {
            "text/plain": [
              "<Figure size 640x480 with 2 Axes>"
            ],
            "image/png": "[encoded data removed]"
          },
          "metadata": {}
        }
      ]
    },
    {
      "cell_type": "code",
      "source": [
        "#Drop columns with multicollinearity\n",
        "df.drop(columns=[\"surface_total_in_m2\", \"rooms\"], inplace=True)"
      ],
      "metadata": {
        "id": "vlp-XQOxYOlW"
      },
      "execution_count": null,
      "outputs": []
    },
    {
      "cell_type": "markdown",
      "source": [
        "The final version of our wrangle function and DataFrame:"
      ],
      "metadata": {
        "id": "j4yMOEo_YQli"
      }
    },
    {
      "cell_type": "code",
      "source": [
        "def wrangle(filepath):\n",
        "    #import_csv\n",
        "    df = pd.read_csv(filepath,index_col=[0])\n",
        "\n",
        "    #subset to propertes in '\"Capital Federal\"'\n",
        "    mask_ba= df[\"place_with_parent_names\"].str.contains(\"Bogotá D.C\")\n",
        "\n",
        "    #subset for  '\"apartment\"'\n",
        "    mask_apt=df[\"property_type\"] == \"house\"\n",
        "\n",
        "    #subset where '\"price_aprox_usd\"' < 400,000\n",
        "    mask_price= df[\"price_aprox_usd\"] < 400_000\n",
        "\n",
        "    df= df[mask_ba & mask_apt & mask_price]\n",
        "\n",
        "    #Remove the outliers by '\"surface_covered_in_m2\"'\n",
        "    low, high= df[\"surface_covered_in_m2\"].quantile([0.1,0.9])\n",
        "    mask_area =df[\"surface_covered_in_m2\"].between(low, high)\n",
        "    df=df[mask_area]\n",
        "\n",
        "    #split the '\"lat-lon\"'\n",
        "    df[[\"lat\" ,\"lon\"]]= df[\"lat-lon\"].str.split(\",\", expand= True).astype(float)\n",
        "    df.drop(columns=\"lat-lon\", inplace = True)\n",
        "\n",
        "    #Extract neighborhood\n",
        "    df[\"neighborhood\"]= df[\"place_with_parent_names\"].str.split(\"|\",expand=True)[3]\n",
        "    df.drop(columns=\"place_with_parent_names\", inplace= True)\n",
        "\n",
        "    # Drop features with high null counts\n",
        "    df.drop(columns = [\"floor\",\"expenses\"], inplace= True)\n",
        "    #Drop low and high cardinality categorical variables\n",
        "    df.drop(columns= [\"operation\", \"property_type\", \"currency\",\"properati_url\"], inplace=True)\n",
        "    #Drop Leakey columns\n",
        "    df.drop(columns= [\n",
        "                      \"price\",\n",
        "                      \"price_aprox_local_currency\",\n",
        "                      \"price_per_m2\",\n",
        "                      \"price_usd_per_m2\"\n",
        "                    ],\n",
        "    inplace= True)\n",
        "    #Drop columns with multicollinearity\n",
        "    df.drop(columns=[\"surface_total_in_m2\", \"rooms\"], inplace=True)\n",
        "\n",
        "    return df"
      ],
      "metadata": {
        "id": "AsVylF0rYZgg"
      },
      "execution_count": null,
      "outputs": []
    },
    {
      "cell_type": "code",
      "source": [
        "files = glob(\"/content/colombia-real-estate-*.csv\")\n",
        "frames = [wrangle(file) for file in files]\n",
        "df = pd.concat(frames, ignore_index= True)\n",
        "print(df.info())\n",
        "df.head()"
      ],
      "metadata": {
        "colab": {
          "base_uri": "https://localhost:8080/",
          "height": 496
        },
        "id": "9qA2QC4oYk_G",
        "outputId": "ef04bc5c-41cc-4b0c-8ac2-f7dabab01677"
      },
      "execution_count": null,
      "outputs": [
        {
          "output_type": "stream",
          "name": "stdout",
          "text": [
            "<class 'pandas.core.frame.DataFrame'>\n",
            "RangeIndex: 4126 entries, 0 to 4125\n",
            "Data columns (total 5 columns):\n",
            " #   Column                 Non-Null Count  Dtype  \n",
            "---  ------                 --------------  -----  \n",
            " 0   price_aprox_usd        4126 non-null   float64\n",
            " 1   surface_covered_in_m2  4126 non-null   float64\n",
            " 2   lat                    4126 non-null   float64\n",
            " 3   lon                    4126 non-null   float64\n",
            " 4   neighborhood           4126 non-null   object \n",
            "dtypes: float64(4), object(1)\n",
            "memory usage: 161.3+ KB\n",
            "None\n"
          ]
        },
        {
          "output_type": "execute_result",
          "data": {
            "text/plain": [
              "   price_aprox_usd  surface_covered_in_m2    lat     lon  neighborhood\n",
              "0        212721.41                  135.0  4.724 -74.023       Usaquén\n",
              "1        168826.52                  240.0  4.618 -74.081  Los Mártires\n",
              "2        133372.95                  134.0  4.729 -74.053          Suba\n",
              "3        371418.34                  143.0  4.667 -74.050       Usaquén\n",
              "4        236357.12                  248.0  4.702 -74.060          Suba"
            ],
            "text/html": [
              "\n",
              "\n",
              "  <div id=\"df-f6df4f52-416c-4651-a35b-01f10093eb7a\">\n",
              "    <div class=\"colab-df-container\">\n",
              "      <div>\n",
              "<style scoped>\n",
              "    .dataframe tbody tr th:only-of-type {\n",
              "        vertical-align: middle;\n",
              "    }\n",
              "\n",
              "    .dataframe tbody tr th {\n",
              "        vertical-align: top;\n",
              "    }\n",
              "\n",
              "    .dataframe thead th {\n",
              "        text-align: right;\n",
              "    }\n",
              "</style>\n",
              "<table border=\"1\" class=\"dataframe\">\n",
              "  <thead>\n",
              "    <tr style=\"text-align: right;\">\n",
              "      <th></th>\n",
              "      <th>price_aprox_usd</th>\n",
              "      <th>surface_covered_in_m2</th>\n",
              "      <th>lat</th>\n",
              "      <th>lon</th>\n",
              "      <th>neighborhood</th>\n",
              "    </tr>\n",
              "  </thead>\n",
              "  <tbody>\n",
              "    <tr>\n",
              "      <th>0</th>\n",
              "      <td>212721.41</td>\n",
              "      <td>135.0</td>\n",
              "      <td>4.724</td>\n",
              "      <td>-74.023</td>\n",
              "      <td>Usaquén</td>\n",
              "    </tr>\n",
              "    <tr>\n",
              "      <th>1</th>\n",
              "      <td>168826.52</td>\n",
              "      <td>240.0</td>\n",
              "      <td>4.618</td>\n",
              "      <td>-74.081</td>\n",
              "      <td>Los Mártires</td>\n",
              "    </tr>\n",
              "    <tr>\n",
              "      <th>2</th>\n",
              "      <td>133372.95</td>\n",
              "      <td>134.0</td>\n",
              "      <td>4.729</td>\n",
              "      <td>-74.053</td>\n",
              "      <td>Suba</td>\n",
              "    </tr>\n",
              "    <tr>\n",
              "      <th>3</th>\n",
              "      <td>371418.34</td>\n",
              "      <td>143.0</td>\n",
              "      <td>4.667</td>\n",
              "      <td>-74.050</td>\n",
              "      <td>Usaquén</td>\n",
              "    </tr>\n",
              "    <tr>\n",
              "      <th>4</th>\n",
              "      <td>236357.12</td>\n",
              "      <td>248.0</td>\n",
              "      <td>4.702</td>\n",
              "      <td>-74.060</td>\n",
              "      <td>Suba</td>\n",
              "    </tr>\n",
              "  </tbody>\n",
              "</table>\n",
              "</div>\n",
              "      <button class=\"colab-df-convert\" onclick=\"convertToInteractive('df-f6df4f52-416c-4651-a35b-01f10093eb7a')\"\n",
              "              title=\"Convert this dataframe to an interactive table.\"\n",
              "              style=\"display:none;\">\n",
              "\n",
              "  <svg xmlns=\"http://www.w3.org/2000/svg\" height=\"24px\"viewBox=\"0 0 24 24\"\n",
              "       width=\"24px\">\n",
              "    <path d=\"M0 0h24v24H0V0z\" fill=\"none\"/>\n",
              "    <path d=\"M18.56 5.44l.94 2.06.94-2.06 2.06-.94-2.06-.94-.94-2.06-.94 2.06-2.06.94zm-11 1L8.5 8.5l.94-2.06 2.06-.94-2.06-.94L8.5 2.5l-.94 2.06-2.06.94zm10 10l.94 2.06.94-2.06 2.06-.94-2.06-.94-.94-2.06-.94 2.06-2.06.94z\"/><path d=\"M17.41 7.96l-1.37-1.37c-.4-.4-.92-.59-1.43-.59-.52 0-1.04.2-1.43.59L10.3 9.45l-7.72 7.72c-.78.78-.78 2.05 0 2.83L4 21.41c.39.39.9.59 1.41.59.51 0 1.02-.2 1.41-.59l7.78-7.78 2.81-2.81c.8-.78.8-2.07 0-2.86zM5.41 20L4 18.59l7.72-7.72 1.47 1.35L5.41 20z\"/>\n",
              "  </svg>\n",
              "      </button>\n",
              "\n",
              "\n",
              "\n",
              "    <div id=\"df-d827872b-ecf8-4956-a890-fd53cb7900b9\">\n",
              "      <button class=\"colab-df-quickchart\" onclick=\"quickchart('df-d827872b-ecf8-4956-a890-fd53cb7900b9')\"\n",
              "              title=\"Suggest charts.\"\n",
              "              style=\"display:none;\">\n",
              "\n",
              "<svg xmlns=\"http://www.w3.org/2000/svg\" height=\"24px\"viewBox=\"0 0 24 24\"\n",
              "     width=\"24px\">\n",
              "    <g>\n",
              "        <path d=\"M19 3H5c-1.1 0-2 .9-2 2v14c0 1.1.9 2 2 2h14c1.1 0 2-.9 2-2V5c0-1.1-.9-2-2-2zM9 17H7v-7h2v7zm4 0h-2V7h2v10zm4 0h-2v-4h2v4z\"/>\n",
              "    </g>\n",
              "</svg>\n",
              "      </button>\n",
              "    </div>\n",
              "\n",
              "<style>\n",
              "  .colab-df-quickchart {\n",
              "    background-color: #E8F0FE;\n",
              "    border: none;\n",
              "    border-radius: 50%;\n",
              "    cursor: pointer;\n",
              "    display: none;\n",
              "    fill: #1967D2;\n",
              "    height: 32px;\n",
              "    padding: 0 0 0 0;\n",
              "    width: 32px;\n",
              "  }\n",
              "\n",
              "  .colab-df-quickchart:hover {\n",
              "    background-color: #E2EBFA;\n",
              "    box-shadow: 0px 1px 2px rgba(60, 64, 67, 0.3), 0px 1px 3px 1px rgba(60, 64, 67, 0.15);\n",
              "    fill: #174EA6;\n",
              "  }\n",
              "\n",
              "  [theme=dark] .colab-df-quickchart {\n",
              "    background-color: #3B4455;\n",
              "    fill: #D2E3FC;\n",
              "  }\n",
              "\n",
              "  [theme=dark] .colab-df-quickchart:hover {\n",
              "    background-color: #434B5C;\n",
              "    box-shadow: 0px 1px 3px 1px rgba(0, 0, 0, 0.15);\n",
              "    filter: drop-shadow(0px 1px 2px rgba(0, 0, 0, 0.3));\n",
              "    fill: #FFFFFF;\n",
              "  }\n",
              "</style>\n",
              "\n",
              "    <script>\n",
              "      async function quickchart(key) {\n",
              "        const containerElement = document.querySelector('#' + key);\n",
              "        const charts = await google.colab.kernel.invokeFunction(\n",
              "            'suggestCharts', [key], {});\n",
              "      }\n",
              "    </script>\n",
              "\n",
              "      <script>\n",
              "\n",
              "function displayQuickchartButton(domScope) {\n",
              "  let quickchartButtonEl =\n",
              "    domScope.querySelector('#df-d827872b-ecf8-4956-a890-fd53cb7900b9 button.colab-df-quickchart');\n",
              "  quickchartButtonEl.style.display =\n",
              "    google.colab.kernel.accessAllowed ? 'block' : 'none';\n",
              "}\n",
              "\n",
              "        displayQuickchartButton(document);\n",
              "      </script>\n",
              "      <style>\n",
              "    .colab-df-container {\n",
              "      display:flex;\n",
              "      flex-wrap:wrap;\n",
              "      gap: 12px;\n",
              "    }\n",
              "\n",
              "    .colab-df-convert {\n",
              "      background-color: #E8F0FE;\n",
              "      border: none;\n",
              "      border-radius: 50%;\n",
              "      cursor: pointer;\n",
              "      display: none;\n",
              "      fill: #1967D2;\n",
              "      height: 32px;\n",
              "      padding: 0 0 0 0;\n",
              "      width: 32px;\n",
              "    }\n",
              "\n",
              "    .colab-df-convert:hover {\n",
              "      background-color: #E2EBFA;\n",
              "      box-shadow: 0px 1px 2px rgba(60, 64, 67, 0.3), 0px 1px 3px 1px rgba(60, 64, 67, 0.15);\n",
              "      fill: #174EA6;\n",
              "    }\n",
              "\n",
              "    [theme=dark] .colab-df-convert {\n",
              "      background-color: #3B4455;\n",
              "      fill: #D2E3FC;\n",
              "    }\n",
              "\n",
              "    [theme=dark] .colab-df-convert:hover {\n",
              "      background-color: #434B5C;\n",
              "      box-shadow: 0px 1px 3px 1px rgba(0, 0, 0, 0.15);\n",
              "      filter: drop-shadow(0px 1px 2px rgba(0, 0, 0, 0.3));\n",
              "      fill: #FFFFFF;\n",
              "    }\n",
              "  </style>\n",
              "\n",
              "      <script>\n",
              "        const buttonEl =\n",
              "          document.querySelector('#df-f6df4f52-416c-4651-a35b-01f10093eb7a button.colab-df-convert');\n",
              "        buttonEl.style.display =\n",
              "          google.colab.kernel.accessAllowed ? 'block' : 'none';\n",
              "\n",
              "        async function convertToInteractive(key) {\n",
              "          const element = document.querySelector('#df-f6df4f52-416c-4651-a35b-01f10093eb7a');\n",
              "          const dataTable =\n",
              "            await google.colab.kernel.invokeFunction('convertToInteractive',\n",
              "                                                     [key], {});\n",
              "          if (!dataTable) return;\n",
              "\n",
              "          const docLinkHtml = 'Like what you see? Visit the ' +\n",
              "            '<a target=\"_blank\" href=https://colab.research.google.com/notebooks/data_table.ipynb>data table notebook</a>'\n",
              "            + ' to learn more about interactive tables.';\n",
              "          element.innerHTML = '';\n",
              "          dataTable['output_type'] = 'display_data';\n",
              "          await google.colab.output.renderOutput(dataTable, element);\n",
              "          const docLink = document.createElement('div');\n",
              "          docLink.innerHTML = docLinkHtml;\n",
              "          element.appendChild(docLink);\n",
              "        }\n",
              "      </script>\n",
              "    </div>\n",
              "  </div>\n"
            ]
          },
          "metadata": {},
          "execution_count": 17
        }
      ]
    },
    {
      "cell_type": "code",
      "source": [
        "corr = df.select_dtypes(\"number\").drop(columns= \"price_aprox_usd\").corr()\n",
        "sns.heatmap(corr);"
      ],
      "metadata": {
        "colab": {
          "base_uri": "https://localhost:8080/",
          "height": 273
        },
        "id": "afovYPBqb0AQ",
        "outputId": "778c45f4-c208-4bf1-a257-8f75fc2deaf7"
      },
      "execution_count": null,
      "outputs": [
        {
          "output_type": "display_data",
          "data": {
            "text/plain": [
              "<Figure size 640x480 with 2 Axes>"
            ],
            "image/png": "[encoded data removed]"
          },
          "metadata": {}
        }
      ]
    },
    {
      "cell_type": "markdown",
      "source": [
        "## Split"
      ],
      "metadata": {
        "id": "_5otSEL2YnKj"
      }
    },
    {
      "cell_type": "code",
      "source": [
        "# Split `df` into feature matrix and target vector\n",
        "target = \"price_aprox_usd\"\n",
        "features = [\"surface_covered_in_m2\", \"lat\", \"lon\", \"neighborhood\"]\n",
        "X_train= df[features]\n",
        "y_train = df[target]"
      ],
      "metadata": {
        "id": "1gWqGMhgqVqh"
      },
      "execution_count": null,
      "outputs": []
    },
    {
      "cell_type": "markdown",
      "source": [
        "# Build Model"
      ],
      "metadata": {
        "id": "SVMWbicSZErV"
      }
    },
    {
      "cell_type": "markdown",
      "source": [
        "## Baseline"
      ],
      "metadata": {
        "id": "XAKbTl9dZHGz"
      }
    },
    {
      "cell_type": "code",
      "source": [
        "# Calculate the baseline mean absolute error\n",
        "y_mean= y_train.mean()\n",
        "y_pred_baseline =[y_mean] * len(y_train)\n",
        "print(\"Mean house price:\", round(y_mean, 2))\n",
        "print(\"Baseline MAE:\", mean_absolute_error(y_train, y_pred_baseline))"
      ],
      "metadata": {
        "colab": {
          "base_uri": "https://localhost:8080/"
        },
        "id": "QKjmkyvbqU9P",
        "outputId": "b66fa45d-1d80-40dd-ef6c-5f7ad0bee66b"
      },
      "execution_count": null,
      "outputs": [
        {
          "output_type": "stream",
          "name": "stdout",
          "text": [
            "Mean house price: 66403.66\n",
            "Baseline MAE: 86347.16145862668\n"
          ]
        }
      ]
    },
    {
      "cell_type": "markdown",
      "source": [
        "## Iterate"
      ],
      "metadata": {
        "id": "vL5REC0_ZN8y"
      }
    },
    {
      "cell_type": "code",
      "source": [
        "# pipeline contains a `OneHotEncoder`, `SimpleImputer`, and `Ridge` predictor\n",
        "model = make_pipeline(\n",
        "           OneHotEncoder(use_cat_names=True),\n",
        "           SimpleImputer(),\n",
        "           Ridge()\n",
        ")\n",
        "model.fit(X_train, y_train)"
      ],
      "metadata": {
        "colab": {
          "base_uri": "https://localhost:8080/",
          "height": 159
        },
        "id": "Wq6o9R0oqjmn",
        "outputId": "3dd5a320-4645-43a7-a09b-a0dc66a59463"
      },
      "execution_count": null,
      "outputs": [
        {
          "output_type": "execute_result",
          "data": {
            "text/plain": [
              "Pipeline(steps=[('onehotencoder',\n",
              "                 OneHotEncoder(cols=['neighborhood'], use_cat_names=True)),\n",
              "                ('simpleimputer', SimpleImputer()), ('ridge', Ridge())])"
            ],
            "text/html": [
              "<style>#sk-container-id-2 {color: black;background-color: white;}#sk-container-id-2 pre{padding: 0;}#sk-container-id-2 div.sk-toggleable {background-color: white;}#sk-container-id-2 label.sk-toggleable__label {cursor: pointer;display: block;width: 100%;margin-bottom: 0;padding: 0.3em;box-sizing: border-box;text-align: center;}#sk-container-id-2 label.sk-toggleable__label-arrow:before {content: \"▸\";float: left;margin-right: 0.25em;color: #696969;}#sk-container-id-2 label.sk-toggleable__label-arrow:hover:before {color: black;}#sk-container-id-2 div.sk-estimator:hover label.sk-toggleable__label-arrow:before {color: black;}#sk-container-id-2 div.sk-toggleable__content {max-height: 0;max-width: 0;overflow: hidden;text-align: left;background-color: #f0f8ff;}#sk-container-id-2 div.sk-toggleable__content pre {margin: 0.2em;color: black;border-radius: 0.25em;background-color: #f0f8ff;}#sk-container-id-2 input.sk-toggleable__control:checked~div.sk-toggleable__content {max-height: 200px;max-width: 100%;overflow: auto;}#sk-container-id-2 input.sk-toggleable__control:checked~label.sk-toggleable__label-arrow:before {content: \"▾\";}#sk-container-id-2 div.sk-estimator input.sk-toggleable__control:checked~label.sk-toggleable__label {background-color: #d4ebff;}#sk-container-id-2 div.sk-label input.sk-toggleable__control:checked~label.sk-toggleable__label {background-color: #d4ebff;}#sk-container-id-2 input.sk-hidden--visually {border: 0;clip: rect(1px 1px 1px 1px);clip: rect(1px, 1px, 1px, 1px);height: 1px;margin: -1px;overflow: hidden;padding: 0;position: absolute;width: 1px;}#sk-container-id-2 div.sk-estimator {font-family: monospace;background-color: #f0f8ff;border: 1px dotted black;border-radius: 0.25em;box-sizing: border-box;margin-bottom: 0.5em;}#sk-container-id-2 div.sk-estimator:hover {background-color: #d4ebff;}#sk-container-id-2 div.sk-parallel-item::after {content: \"\";width: 100%;border-bottom: 1px solid gray;flex-grow: 1;}#sk-container-id-2 div.sk-label:hover label.sk-toggleable__label {background-color: #d4ebff;}#sk-container-id-2 div.sk-serial::before {content: \"\";position: absolute;border-left: 1px solid gray;box-sizing: border-box;top: 0;bottom: 0;left: 50%;z-index: 0;}#sk-container-id-2 div.sk-serial {display: flex;flex-direction: column;align-items: center;background-color: white;padding-right: 0.2em;padding-left: 0.2em;position: relative;}#sk-container-id-2 div.sk-item {position: relative;z-index: 1;}#sk-container-id-2 div.sk-parallel {display: flex;align-items: stretch;justify-content: center;background-color: white;position: relative;}#sk-container-id-2 div.sk-item::before, #sk-container-id-2 div.sk-parallel-item::before {content: \"\";position: absolute;border-left: 1px solid gray;box-sizing: border-box;top: 0;bottom: 0;left: 50%;z-index: -1;}#sk-container-id-2 div.sk-parallel-item {display: flex;flex-direction: column;z-index: 1;position: relative;background-color: white;}#sk-container-id-2 div.sk-parallel-item:first-child::after {align-self: flex-end;width: 50%;}#sk-container-id-2 div.sk-parallel-item:last-child::after {align-self: flex-start;width: 50%;}#sk-container-id-2 div.sk-parallel-item:only-child::after {width: 0;}#sk-container-id-2 div.sk-dashed-wrapped {border: 1px dashed gray;margin: 0 0.4em 0.5em 0.4em;box-sizing: border-box;padding-bottom: 0.4em;background-color: white;}#sk-container-id-2 div.sk-label label {font-family: monospace;font-weight: bold;display: inline-block;line-height: 1.2em;}#sk-container-id-2 div.sk-label-container {text-align: center;}#sk-container-id-2 div.sk-container {/* jupyter's `normalize.less` sets `[hidden] { display: none; }` but bootstrap.min.css set `[hidden] { display: none !important; }` so we also need the `!important` here to be able to override the default hidden behavior on the sphinx rendered scikit-learn.org. See: https://github.com/scikit-learn/scikit-learn/issues/21755 */display: inline-block !important;position: relative;}#sk-container-id-2 div.sk-text-repr-fallback {display: none;}</style><div id=\"sk-container-id-2\" class=\"sk-top-container\"><div class=\"sk-text-repr-fallback\"><pre>Pipeline(steps=[(&#x27;onehotencoder&#x27;,\n",
              "                 OneHotEncoder(cols=[&#x27;neighborhood&#x27;], use_cat_names=True)),\n",
              "                (&#x27;simpleimputer&#x27;, SimpleImputer()), (&#x27;ridge&#x27;, Ridge())])</pre><b>In a Jupyter environment, please rerun this cell to show the HTML representation or trust the notebook. <br />On GitHub, the HTML representation is unable to render, please try loading this page with nbviewer.org.</b></div><div class=\"sk-container\" hidden><div class=\"sk-item sk-dashed-wrapped\"><div class=\"sk-label-container\"><div class=\"sk-label sk-toggleable\"><input class=\"sk-toggleable__control sk-hidden--visually\" id=\"sk-estimator-id-5\" type=\"checkbox\" ><label for=\"sk-estimator-id-5\" class=\"sk-toggleable__label sk-toggleable__label-arrow\">Pipeline</label><div class=\"sk-toggleable__content\"><pre>Pipeline(steps=[(&#x27;onehotencoder&#x27;,\n",
              "                 OneHotEncoder(cols=[&#x27;neighborhood&#x27;], use_cat_names=True)),\n",
              "                (&#x27;simpleimputer&#x27;, SimpleImputer()), (&#x27;ridge&#x27;, Ridge())])</pre></div></div></div><div class=\"sk-serial\"><div class=\"sk-item\"><div class=\"sk-estimator sk-toggleable\"><input class=\"sk-toggleable__control sk-hidden--visually\" id=\"sk-estimator-id-6\" type=\"checkbox\" ><label for=\"sk-estimator-id-6\" class=\"sk-toggleable__label sk-toggleable__label-arrow\">OneHotEncoder</label><div class=\"sk-toggleable__content\"><pre>OneHotEncoder(cols=[&#x27;neighborhood&#x27;], use_cat_names=True)</pre></div></div></div><div class=\"sk-item\"><div class=\"sk-estimator sk-toggleable\"><input class=\"sk-toggleable__control sk-hidden--visually\" id=\"sk-estimator-id-7\" type=\"checkbox\" ><label for=\"sk-estimator-id-7\" class=\"sk-toggleable__label sk-toggleable__label-arrow\">SimpleImputer</label><div class=\"sk-toggleable__content\"><pre>SimpleImputer()</pre></div></div></div><div class=\"sk-item\"><div class=\"sk-estimator sk-toggleable\"><input class=\"sk-toggleable__control sk-hidden--visually\" id=\"sk-estimator-id-8\" type=\"checkbox\" ><label for=\"sk-estimator-id-8\" class=\"sk-toggleable__label sk-toggleable__label-arrow\">Ridge</label><div class=\"sk-toggleable__content\"><pre>Ridge()</pre></div></div></div></div></div></div></div>"
            ]
          },
          "metadata": {},
          "execution_count": 27
        }
      ]
    },
    {
      "cell_type": "markdown",
      "source": [
        "## Evaluate"
      ],
      "metadata": {
        "id": "2bpNbTBAZe2K"
      }
    },
    {
      "cell_type": "code",
      "source": [
        "# Calculate the training mean absolute error\n",
        "y_pred_training = model.predict(X_train)\n",
        "print(\"Training MAE:\", mean_absolute_error(y_train, y_pred_training))"
      ],
      "metadata": {
        "colab": {
          "base_uri": "https://localhost:8080/"
        },
        "id": "wTBrpOmTqh9g",
        "outputId": "baf9dbeb-accf-4dac-ba2a-4c47dd88778a"
      },
      "execution_count": null,
      "outputs": [
        {
          "output_type": "stream",
          "name": "stdout",
          "text": [
            "Training MAE: 84203.94103184581\n"
          ]
        }
      ]
    },
    {
      "cell_type": "markdown",
      "source": [
        "# Results"
      ],
      "metadata": {
        "id": "lXx2yYUmZyYa"
      }
    },
    {
      "cell_type": "code",
      "source": [
        "# Create a function returns our model’s prediction for an house price\n",
        "def make_prediction(area, lat, lon, neighborhood):\n",
        "  data = {\n",
        "  \"surface_covered_in_m2\" :area,\n",
        "  \"lat\": lat,\n",
        "  \"lon\": lon,\n",
        "  \"neighborhood\": neighborhood\n",
        "  }\n",
        "  df = pd.DataFrame(data, index = [0])\n",
        "  prediction = model.predict(df).round(2)[0]\n",
        "  return f\"Predicted house price: ${prediction}\""
      ],
      "metadata": {
        "id": "FxUANyAOqqdQ"
      },
      "execution_count": null,
      "outputs": []
    },
    {
      "cell_type": "code",
      "source": [
        "make_prediction(160, 4.715, -74.095, \"Suba\")"
      ],
      "metadata": {
        "colab": {
          "base_uri": "https://localhost:8080/",
          "height": 35
        },
        "id": "1KmzjTGiqpkX",
        "outputId": "05813f00-780e-4ee8-8a0c-39a11c7ff17c"
      },
      "execution_count": null,
      "outputs": [
        {
          "output_type": "execute_result",
          "data": {
            "text/plain": [
              "'Predicted house price: $90081.74'"
            ],
            "application/vnd.google.colaboratory.intrinsic+json": {
              "type": "string"
            }
          },
          "metadata": {},
          "execution_count": 24
        }
      ]
    },
    {
      "cell_type": "code",
      "source": [
        "# Creating an interactive dashboard, where a user can supply values and receive a prediction\n",
        "interact(\n",
        "    make_prediction,\n",
        "    area=IntSlider(\n",
        "          min=X_train[\"surface_covered_in_m2\"].min(),\n",
        "          max=X_train[\"surface_covered_in_m2\"].max(),\n",
        "          value=X_train[\"surface_covered_in_m2\"].mean(),\n",
        "),\n",
        "\n",
        "    lat=FloatSlider(\n",
        "         min=X_train[\"lat\"].min(),\n",
        "         max=X_train[\"lat\"].max(),\n",
        "         step=0.01,\n",
        "         value=X_train[\"lat\"].mean(),\n",
        "),\n",
        "\n",
        "    lon=FloatSlider(\n",
        "         min=X_train[\"lon\"].min(),\n",
        "         max=X_train[\"lon\"].max(),\n",
        "         step=0.01,\n",
        "         value=X_train[\"lon\"].mean(),\n",
        "),\n",
        "\n",
        "    neighborhood=Dropdown(options=sorted(X_train[\"neighborhood\"].unique())),\n",
        ");"
      ],
      "metadata": {
        "colab": {
          "base_uri": "https://localhost:8080/",
          "height": 181,
          "referenced_widgets": [
            "05f953b81dd94461810a60d2552acf98",
            "4335b587a0d34a1eb21b6aa627292dbb",
            "0448a69964cf4967a6493e2ab8040045",
            "e7ddd4ccff2a477b8565be9da4a8f76c",
            "d5a8e99e24d54caa8f611e05feb76236",
            "cdfd1b59d01846ee9263190df76402f1",
            "1d39ed17dea7455fb61baa90014ef0ad",
            "5ac71c5f79b04d1698c05aee721b9716",
            "25a7842cf35a4c95a100f7a39da25030",
            "12777709b14144da9661df99ca088829",
            "64aafab697574d05829096ce71cec9b4",
            "96300e53bcf44740b49708107c146dcb",
            "99795b7bef834be5ba07818bebb6ec6c",
            "6985e47f3053464a8c353d1a5c95596c",
            "a86a72b777cc4a14af3cdca8bc6917bd",
            "3b890e3d521e4daca20c93c66c19400d"
          ]
        },
        "id": "SuoI8zqprFmS",
        "outputId": "5518b2e6-90b3-4d97-8da2-baafd72fb4ed"
      },
      "execution_count": null,
      "outputs": [
        {
          "output_type": "display_data",
          "data": {
            "text/plain": [
              "interactive(children=(IntSlider(value=135, description='area', max=495, min=45), FloatSlider(value=4.687857965…"
            ],
            "application/vnd.jupyter.widget-view+json": {
              "version_major": 2,
              "version_minor": 0,
              "model_id": "05f953b81dd94461810a60d2552acf98"
            }
          },
          "metadata": {}
        }
      ]
    }
  ]
}