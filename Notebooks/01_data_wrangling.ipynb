{
  "nbformat": 4,
  "nbformat_minor": 0,
  "metadata": {
    "colab": {
      "provenance": []
    },
    "kernelspec": {
      "name": "python3",
      "display_name": "Python 3"
    },
    "language_info": {
      "name": "python"
    }
  },
  "cells": [
    {
      "cell_type": "code",
      "execution_count": null,
      "metadata": {
        "id": "d5TYhsLNl4Dx"
      },
      "outputs": [],
      "source": [
        "# Import libraries\n",
        "import warnings\n",
        "from glob import glob\n",
        "\n",
        "import matplotlib.pyplot as plt\n",
        "import seaborn as sns\n",
        "import pandas as pd\n",
        "\n",
        "warnings.simplefilter(action=\"ignore\", category=FutureWarning)"
      ]
    },
    {
      "cell_type": "markdown",
      "source": [
        "# **Prepare Data**"
      ],
      "metadata": {
        "id": "xoJDCkqF73yt"
      }
    },
    {
      "cell_type": "markdown",
      "source": [
        "## **Import**"
      ],
      "metadata": {
        "id": "p8G94iYX78yc"
      }
    },
    {
      "cell_type": "code",
      "source": [
        "def wrangle(filepath):\n",
        "      # Import_csv\n",
        "      df = pd.read_csv(filepath)\n",
        "\n",
        "      # Subset data: Apartments in \"Capital Federal\", less than 400,000\n",
        "      mask_ba = df[\"place_with_parent_names\"].str.contains(\"Capital Federal\")\n",
        "      mask_apt = df[\"property_type\"] == \"apartment\"\n",
        "      mask_price = df[\"price_aprox_usd\"] < 400_000\n",
        "      df = df[mask_ba & mask_apt & mask_price]\n",
        "\n",
        "      return df"
      ],
      "metadata": {
        "id": "UjEDrBPaqy6u"
      },
      "execution_count": null,
      "outputs": []
    },
    {
      "cell_type": "code",
      "source": [
        "df = wrangle(\"buenos-aires-real-estate-1.csv\")\n",
        "print(df.shape)\n",
        "df.head()"
      ],
      "metadata": {
        "colab": {
          "base_uri": "https://localhost:8080/",
          "height": 330
        },
        "id": "FFVfXXdM7qkA",
        "outputId": "72fb7007-3c75-455d-8310-9c8bbc782bf5"
      },
      "execution_count": null,
      "outputs": [
        {
          "output_type": "stream",
          "name": "stdout",
          "text": [
            "(1781, 16)\n"
          ]
        },
        {
          "output_type": "execute_result",
          "data": {
            "text/plain": [
              "   operation property_type                   place_with_parent_names  \\\n",
              "0       sell     apartment  |Argentina|Capital Federal|Villa Crespo|   \n",
              "4       sell     apartment     |Argentina|Capital Federal|Chacarita|   \n",
              "9       sell     apartment    |Argentina|Capital Federal|Villa Luro|   \n",
              "11      sell     apartment          |Argentina|Capital Federal|Once|   \n",
              "20      sell     apartment   |Argentina|Capital Federal|San Nicolás|   \n",
              "\n",
              "                          lat-lon     price currency  \\\n",
              "0   -34.6047834183,-58.4586812499  180000.0      USD   \n",
              "4   -34.5846508988,-58.4546932614  129000.0      USD   \n",
              "9          -34.6389789,-58.500115   87000.0      USD   \n",
              "11  -34.6050060697,-58.4001162302   60000.0      USD   \n",
              "20          -34.603898,-58.378617   69000.0      USD   \n",
              "\n",
              "    price_aprox_local_currency  price_aprox_usd  surface_total_in_m2  \\\n",
              "0                    2729232.0         180000.0                120.0   \n",
              "4                    1955949.6         129000.0                 76.0   \n",
              "9                    1319128.8          87000.0                 48.0   \n",
              "11                    909744.0          60000.0                 28.0   \n",
              "20                   1046205.6          69000.0                  NaN   \n",
              "\n",
              "    surface_covered_in_m2  price_usd_per_m2  price_per_m2  floor  rooms  \\\n",
              "0                   110.0       1500.000000   1636.363636    NaN    4.0   \n",
              "4                    70.0       1697.368421   1842.857143    NaN    NaN   \n",
              "9                    42.0       1812.500000   2071.428571    NaN    NaN   \n",
              "11                   28.0       2142.857143   2142.857143    NaN    1.0   \n",
              "20                   22.0               NaN   3136.363636   23.0    2.0   \n",
              "\n",
              "   expenses                                      properati_url  \n",
              "0       NaN  http://villa-crespo.properati.com.ar/12egq_ven...  \n",
              "4       NaN  http://chacarita.properati.com.ar/10qlv_venta_...  \n",
              "9       NaN  http://villa-luro.properati.com.ar/12m82_venta...  \n",
              "11      NaN  http://once.properati.com.ar/zz0q_venta_depart...  \n",
              "20      NaN  http://san-nicolas.properati.com.ar/rnju_venta...  "
            ],
            "text/html": [
              "\n",
              "  <div id=\"df-b5a8e813-e862-4179-9517-07c9e7994929\" class=\"colab-df-container\">\n",
              "    <div>\n",
              "<style scoped>\n",
              "    .dataframe tbody tr th:only-of-type {\n",
              "        vertical-align: middle;\n",
              "    }\n",
              "\n",
              "    .dataframe tbody tr th {\n",
              "        vertical-align: top;\n",
              "    }\n",
              "\n",
              "    .dataframe thead th {\n",
              "        text-align: right;\n",
              "    }\n",
              "</style>\n",
              "<table border=\"1\" class=\"dataframe\">\n",
              "  <thead>\n",
              "    <tr style=\"text-align: right;\">\n",
              "      <th></th>\n",
              "      <th>operation</th>\n",
              "      <th>property_type</th>\n",
              "      <th>place_with_parent_names</th>\n",
              "      <th>lat-lon</th>\n",
              "      <th>price</th>\n",
              "      <th>currency</th>\n",
              "      <th>price_aprox_local_currency</th>\n",
              "      <th>price_aprox_usd</th>\n",
              "      <th>surface_total_in_m2</th>\n",
              "      <th>surface_covered_in_m2</th>\n",
              "      <th>price_usd_per_m2</th>\n",
              "      <th>price_per_m2</th>\n",
              "      <th>floor</th>\n",
              "      <th>rooms</th>\n",
              "      <th>expenses</th>\n",
              "      <th>properati_url</th>\n",
              "    </tr>\n",
              "  </thead>\n",
              "  <tbody>\n",
              "    <tr>\n",
              "      <th>0</th>\n",
              "      <td>sell</td>\n",
              "      <td>apartment</td>\n",
              "      <td>|Argentina|Capital Federal|Villa Crespo|</td>\n",
              "      <td>-34.6047834183,-58.4586812499</td>\n",
              "      <td>180000.0</td>\n",
              "      <td>USD</td>\n",
              "      <td>2729232.0</td>\n",
              "      <td>180000.0</td>\n",
              "      <td>120.0</td>\n",
              "      <td>110.0</td>\n",
              "      <td>1500.000000</td>\n",
              "      <td>1636.363636</td>\n",
              "      <td>NaN</td>\n",
              "      <td>4.0</td>\n",
              "      <td>NaN</td>\n",
              "      <td>http://villa-crespo.properati.com.ar/12egq_ven...</td>\n",
              "    </tr>\n",
              "    <tr>\n",
              "      <th>4</th>\n",
              "      <td>sell</td>\n",
              "      <td>apartment</td>\n",
              "      <td>|Argentina|Capital Federal|Chacarita|</td>\n",
              "      <td>-34.5846508988,-58.4546932614</td>\n",
              "      <td>129000.0</td>\n",
              "      <td>USD</td>\n",
              "      <td>1955949.6</td>\n",
              "      <td>129000.0</td>\n",
              "      <td>76.0</td>\n",
              "      <td>70.0</td>\n",
              "      <td>1697.368421</td>\n",
              "      <td>1842.857143</td>\n",
              "      <td>NaN</td>\n",
              "      <td>NaN</td>\n",
              "      <td>NaN</td>\n",
              "      <td>http://chacarita.properati.com.ar/10qlv_venta_...</td>\n",
              "    </tr>\n",
              "    <tr>\n",
              "      <th>9</th>\n",
              "      <td>sell</td>\n",
              "      <td>apartment</td>\n",
              "      <td>|Argentina|Capital Federal|Villa Luro|</td>\n",
              "      <td>-34.6389789,-58.500115</td>\n",
              "      <td>87000.0</td>\n",
              "      <td>USD</td>\n",
              "      <td>1319128.8</td>\n",
              "      <td>87000.0</td>\n",
              "      <td>48.0</td>\n",
              "      <td>42.0</td>\n",
              "      <td>1812.500000</td>\n",
              "      <td>2071.428571</td>\n",
              "      <td>NaN</td>\n",
              "      <td>NaN</td>\n",
              "      <td>NaN</td>\n",
              "      <td>http://villa-luro.properati.com.ar/12m82_venta...</td>\n",
              "    </tr>\n",
              "    <tr>\n",
              "      <th>11</th>\n",
              "      <td>sell</td>\n",
              "      <td>apartment</td>\n",
              "      <td>|Argentina|Capital Federal|Once|</td>\n",
              "      <td>-34.6050060697,-58.4001162302</td>\n",
              "      <td>60000.0</td>\n",
              "      <td>USD</td>\n",
              "      <td>909744.0</td>\n",
              "      <td>60000.0</td>\n",
              "      <td>28.0</td>\n",
              "      <td>28.0</td>\n",
              "      <td>2142.857143</td>\n",
              "      <td>2142.857143</td>\n",
              "      <td>NaN</td>\n",
              "      <td>1.0</td>\n",
              "      <td>NaN</td>\n",
              "      <td>http://once.properati.com.ar/zz0q_venta_depart...</td>\n",
              "    </tr>\n",
              "    <tr>\n",
              "      <th>20</th>\n",
              "      <td>sell</td>\n",
              "      <td>apartment</td>\n",
              "      <td>|Argentina|Capital Federal|San Nicolás|</td>\n",
              "      <td>-34.603898,-58.378617</td>\n",
              "      <td>69000.0</td>\n",
              "      <td>USD</td>\n",
              "      <td>1046205.6</td>\n",
              "      <td>69000.0</td>\n",
              "      <td>NaN</td>\n",
              "      <td>22.0</td>\n",
              "      <td>NaN</td>\n",
              "      <td>3136.363636</td>\n",
              "      <td>23.0</td>\n",
              "      <td>2.0</td>\n",
              "      <td>NaN</td>\n",
              "      <td>http://san-nicolas.properati.com.ar/rnju_venta...</td>\n",
              "    </tr>\n",
              "  </tbody>\n",
              "</table>\n",
              "</div>\n",
              "    <div class=\"colab-df-buttons\">\n",
              "\n",
              "  <div class=\"colab-df-container\">\n",
              "    <button class=\"colab-df-convert\" onclick=\"convertToInteractive('df-b5a8e813-e862-4179-9517-07c9e7994929')\"\n",
              "            title=\"Convert this dataframe to an interactive table.\"\n",
              "            style=\"display:none;\">\n",
              "\n",
              "  <svg xmlns=\"http://www.w3.org/2000/svg\" height=\"24px\" viewBox=\"0 -960 960 960\">\n",
              "    <path d=\"M120-120v-720h720v720H120Zm60-500h600v-160H180v160Zm220 220h160v-160H400v160Zm0 220h160v-160H400v160ZM180-400h160v-160H180v160Zm440 0h160v-160H620v160ZM180-180h160v-160H180v160Zm440 0h160v-160H620v160Z\"/>\n",
              "  </svg>\n",
              "    </button>\n",
              "\n",
              "  <style>\n",
              "    .colab-df-container {\n",
              "      display:flex;\n",
              "      gap: 12px;\n",
              "    }\n",
              "\n",
              "    .colab-df-convert {\n",
              "      background-color: #E8F0FE;\n",
              "      border: none;\n",
              "      border-radius: 50%;\n",
              "      cursor: pointer;\n",
              "      display: none;\n",
              "      fill: #1967D2;\n",
              "      height: 32px;\n",
              "      padding: 0 0 0 0;\n",
              "      width: 32px;\n",
              "    }\n",
              "\n",
              "    .colab-df-convert:hover {\n",
              "      background-color: #E2EBFA;\n",
              "      box-shadow: 0px 1px 2px rgba(60, 64, 67, 0.3), 0px 1px 3px 1px rgba(60, 64, 67, 0.15);\n",
              "      fill: #174EA6;\n",
              "    }\n",
              "\n",
              "    .colab-df-buttons div {\n",
              "      margin-bottom: 4px;\n",
              "    }\n",
              "\n",
              "    [theme=dark] .colab-df-convert {\n",
              "      background-color: #3B4455;\n",
              "      fill: #D2E3FC;\n",
              "    }\n",
              "\n",
              "    [theme=dark] .colab-df-convert:hover {\n",
              "      background-color: #434B5C;\n",
              "      box-shadow: 0px 1px 3px 1px rgba(0, 0, 0, 0.15);\n",
              "      filter: drop-shadow(0px 1px 2px rgba(0, 0, 0, 0.3));\n",
              "      fill: #FFFFFF;\n",
              "    }\n",
              "  </style>\n",
              "\n",
              "    <script>\n",
              "      const buttonEl =\n",
              "        document.querySelector('#df-b5a8e813-e862-4179-9517-07c9e7994929 button.colab-df-convert');\n",
              "      buttonEl.style.display =\n",
              "        google.colab.kernel.accessAllowed ? 'block' : 'none';\n",
              "\n",
              "      async function convertToInteractive(key) {\n",
              "        const element = document.querySelector('#df-b5a8e813-e862-4179-9517-07c9e7994929');\n",
              "        const dataTable =\n",
              "          await google.colab.kernel.invokeFunction('convertToInteractive',\n",
              "                                                    [key], {});\n",
              "        if (!dataTable) return;\n",
              "\n",
              "        const docLinkHtml = 'Like what you see? Visit the ' +\n",
              "          '<a target=\"_blank\" href=https://colab.research.google.com/notebooks/data_table.ipynb>data table notebook</a>'\n",
              "          + ' to learn more about interactive tables.';\n",
              "        element.innerHTML = '';\n",
              "        dataTable['output_type'] = 'display_data';\n",
              "        await google.colab.output.renderOutput(dataTable, element);\n",
              "        const docLink = document.createElement('div');\n",
              "        docLink.innerHTML = docLinkHtml;\n",
              "        element.appendChild(docLink);\n",
              "      }\n",
              "    </script>\n",
              "  </div>\n",
              "\n",
              "\n",
              "<div id=\"df-b5d0c3b1-fb1e-47a0-a9a0-170473cee510\">\n",
              "  <button class=\"colab-df-quickchart\" onclick=\"quickchart('df-b5d0c3b1-fb1e-47a0-a9a0-170473cee510')\"\n",
              "            title=\"Suggest charts.\"\n",
              "            style=\"display:none;\">\n",
              "\n",
              "<svg xmlns=\"http://www.w3.org/2000/svg\" height=\"24px\"viewBox=\"0 0 24 24\"\n",
              "     width=\"24px\">\n",
              "    <g>\n",
              "        <path d=\"M19 3H5c-1.1 0-2 .9-2 2v14c0 1.1.9 2 2 2h14c1.1 0 2-.9 2-2V5c0-1.1-.9-2-2-2zM9 17H7v-7h2v7zm4 0h-2V7h2v10zm4 0h-2v-4h2v4z\"/>\n",
              "    </g>\n",
              "</svg>\n",
              "  </button>\n",
              "\n",
              "<style>\n",
              "  .colab-df-quickchart {\n",
              "    background-color: #E8F0FE;\n",
              "    border: none;\n",
              "    border-radius: 50%;\n",
              "    cursor: pointer;\n",
              "    display: none;\n",
              "    fill: #1967D2;\n",
              "    height: 32px;\n",
              "    padding: 0 0 0 0;\n",
              "    width: 32px;\n",
              "  }\n",
              "\n",
              "  .colab-df-quickchart:hover {\n",
              "    background-color: #E2EBFA;\n",
              "    box-shadow: 0px 1px 2px rgba(60, 64, 67, 0.3), 0px 1px 3px 1px rgba(60, 64, 67, 0.15);\n",
              "    fill: #174EA6;\n",
              "  }\n",
              "\n",
              "  [theme=dark] .colab-df-quickchart {\n",
              "    background-color: #3B4455;\n",
              "    fill: #D2E3FC;\n",
              "  }\n",
              "\n",
              "  [theme=dark] .colab-df-quickchart:hover {\n",
              "    background-color: #434B5C;\n",
              "    box-shadow: 0px 1px 3px 1px rgba(0, 0, 0, 0.15);\n",
              "    filter: drop-shadow(0px 1px 2px rgba(0, 0, 0, 0.3));\n",
              "    fill: #FFFFFF;\n",
              "  }\n",
              "</style>\n",
              "\n",
              "  <script>\n",
              "    async function quickchart(key) {\n",
              "      const charts = await google.colab.kernel.invokeFunction(\n",
              "          'suggestCharts', [key], {});\n",
              "    }\n",
              "    (() => {\n",
              "      let quickchartButtonEl =\n",
              "        document.querySelector('#df-b5d0c3b1-fb1e-47a0-a9a0-170473cee510 button');\n",
              "      quickchartButtonEl.style.display =\n",
              "        google.colab.kernel.accessAllowed ? 'block' : 'none';\n",
              "    })();\n",
              "  </script>\n",
              "</div>\n",
              "    </div>\n",
              "  </div>\n"
            ]
          },
          "metadata": {},
          "execution_count": 8
        }
      ]
    },
    {
      "cell_type": "code",
      "source": [
        "df.info()"
      ],
      "metadata": {
        "colab": {
          "base_uri": "https://localhost:8080/"
        },
        "id": "NEBjChSi9N-7",
        "outputId": "862855ff-a1c7-4a2e-be15-35c2b034ae3f"
      },
      "execution_count": null,
      "outputs": [
        {
          "output_type": "stream",
          "name": "stdout",
          "text": [
            "<class 'pandas.core.frame.DataFrame'>\n",
            "Int64Index: 1781 entries, 0 to 8604\n",
            "Data columns (total 16 columns):\n",
            " #   Column                      Non-Null Count  Dtype  \n",
            "---  ------                      --------------  -----  \n",
            " 0   operation                   1781 non-null   object \n",
            " 1   property_type               1781 non-null   object \n",
            " 2   place_with_parent_names     1781 non-null   object \n",
            " 3   lat-lon                     1723 non-null   object \n",
            " 4   price                       1781 non-null   float64\n",
            " 5   currency                    1781 non-null   object \n",
            " 6   price_aprox_local_currency  1781 non-null   float64\n",
            " 7   price_aprox_usd             1781 non-null   float64\n",
            " 8   surface_total_in_m2         1247 non-null   float64\n",
            " 9   surface_covered_in_m2       1635 non-null   float64\n",
            " 10  price_usd_per_m2            1198 non-null   float64\n",
            " 11  price_per_m2                1618 non-null   float64\n",
            " 12  floor                       482 non-null    float64\n",
            " 13  rooms                       1385 non-null   float64\n",
            " 14  expenses                    455 non-null    object \n",
            " 15  properati_url               1781 non-null   object \n",
            "dtypes: float64(9), object(7)\n",
            "memory usage: 236.5+ KB\n"
          ]
        }
      ]
    },
    {
      "cell_type": "markdown",
      "source": [
        "## **Explore**"
      ],
      "metadata": {
        "id": "-EbyLJ178BQ9"
      }
    },
    {
      "cell_type": "markdown",
      "source": [
        "### **Data Type**"
      ],
      "metadata": {
        "id": "4eWMWd-d9ARy"
      }
    },
    {
      "cell_type": "code",
      "source": [
        "# Location information is in a single column where the data type is `object`\n",
        "# Split \"lat-lon\" column where the data type is float\n",
        "df[[\"lat\", \"lon\"]] = df[\"lat-lon\"].str.split(\",\", expand=True).astype(float)\n",
        "# Drop the `\"lat-lon\"` column\n",
        "df.drop(columns=\"lat-lon\", inplace=True)"
      ],
      "metadata": {
        "id": "vXQiwm-r9XG2"
      },
      "execution_count": null,
      "outputs": []
    },
    {
      "cell_type": "markdown",
      "source": [
        "### **Missing Values**"
      ],
      "metadata": {
        "id": "vapHmFKE8Eox"
      }
    },
    {
      "cell_type": "code",
      "source": [
        "# Check missing values\n",
        "df.isnull().sum() / len(df)"
      ],
      "metadata": {
        "colab": {
          "base_uri": "https://localhost:8080/"
        },
        "id": "mkzBnier8ILf",
        "outputId": "a57922f4-777a-44b3-9114-62db5cf7f547"
      },
      "execution_count": null,
      "outputs": [
        {
          "output_type": "execute_result",
          "data": {
            "text/plain": [
              "operation                     0.000000\n",
              "property_type                 0.000000\n",
              "place_with_parent_names       0.000000\n",
              "price                         0.000000\n",
              "currency                      0.000000\n",
              "price_aprox_local_currency    0.000000\n",
              "price_aprox_usd               0.000000\n",
              "surface_total_in_m2           0.299832\n",
              "surface_covered_in_m2         0.081976\n",
              "price_usd_per_m2              0.327344\n",
              "price_per_m2                  0.091522\n",
              "floor                         0.729366\n",
              "rooms                         0.222347\n",
              "expenses                      0.744526\n",
              "properati_url                 0.000000\n",
              "lat                           0.032566\n",
              "lon                           0.032566\n",
              "dtype: float64"
            ]
          },
          "metadata": {},
          "execution_count": 11
        }
      ]
    },
    {
      "cell_type": "code",
      "source": [
        "# Drop features with high null counts\n",
        "df.drop(columns = [\"floor\",\"expenses\"], inplace= True)"
      ],
      "metadata": {
        "id": "D0TJ_L-98YhS"
      },
      "execution_count": null,
      "outputs": []
    },
    {
      "cell_type": "markdown",
      "source": [
        "### **Low and High Cardinality**"
      ],
      "metadata": {
        "id": "gkhVUgB88jJl"
      }
    },
    {
      "cell_type": "code",
      "source": [
        "# Calculate the number of unique values for each non-numeric feature in `df`\n",
        "df.select_dtypes(\"object\").nunique()"
      ],
      "metadata": {
        "colab": {
          "base_uri": "https://localhost:8080/"
        },
        "id": "je9N6Kqz8uO7",
        "outputId": "d792c42b-4177-40fc-a0af-9b3e5d6c4dae"
      },
      "execution_count": null,
      "outputs": [
        {
          "output_type": "execute_result",
          "data": {
            "text/plain": [
              "operation                     1\n",
              "property_type                 1\n",
              "place_with_parent_names      55\n",
              "currency                      2\n",
              "properati_url              1781\n",
              "dtype: int64"
            ]
          },
          "metadata": {},
          "execution_count": 13
        }
      ]
    },
    {
      "cell_type": "code",
      "source": [
        "#Drop low and high cardinality categorical variables\n",
        "df.drop(columns= [\"operation\", \"property_type\", \"currency\",\"properati_url\"], inplace=True)"
      ],
      "metadata": {
        "id": "B2SHvCF49gB4"
      },
      "execution_count": null,
      "outputs": []
    },
    {
      "cell_type": "markdown",
      "source": [
        "### **Leakage**"
      ],
      "metadata": {
        "id": "eSofuJE79qzu"
      }
    },
    {
      "cell_type": "code",
      "source": [
        "#Drop Leakey columns\n",
        "df.drop(columns= [\n",
        "        \"price\",\n",
        "        \"price_aprox_local_currency\",\n",
        "        \"price_per_m2\",\n",
        "        \"price_usd_per_m2\"\n",
        "         ],\n",
        "inplace= True)"
      ],
      "metadata": {
        "id": "Lupp1OrB9uPk"
      },
      "execution_count": null,
      "outputs": []
    },
    {
      "cell_type": "markdown",
      "source": [
        "### **Multicollinearity**"
      ],
      "metadata": {
        "id": "BjQoxG3a96UA"
      }
    },
    {
      "cell_type": "code",
      "source": [
        "# Correlation heatmap of the remaining numerical features in `df`\n",
        "corr = df.select_dtypes(\"number\").drop(columns= \"price_aprox_usd\").corr()\n",
        "sns.heatmap(corr);"
      ],
      "metadata": {
        "colab": {
          "base_uri": "https://localhost:8080/",
          "height": 272
        },
        "id": "hU8ayHBD-E9A",
        "outputId": "eac6cfaa-5b88-4742-ae17-28b1cbc074a2"
      },
      "execution_count": null,
      "outputs": [
        {
          "output_type": "display_data",
          "data": {
            "text/plain": [
              "<Figure size 640x480 with 2 Axes>"
            ],
            "image/png": "[encoded data removed]"
          },
          "metadata": {}
        }
      ]
    },
    {
      "cell_type": "code",
      "source": [
        "#Drop columns with multicollinearity\n",
        "df.drop(columns=[\"surface_total_in_m2\", \"rooms\"], inplace=True)"
      ],
      "metadata": {
        "id": "GpZ6mqac-PzZ"
      },
      "execution_count": null,
      "outputs": []
    },
    {
      "cell_type": "code",
      "source": [
        "# Check the multicollinearity again\n",
        "corr = df.select_dtypes(\"number\").drop(columns= \"price_aprox_usd\").corr()\n",
        "sns.heatmap(corr);"
      ],
      "metadata": {
        "colab": {
          "base_uri": "https://localhost:8080/",
          "height": 267
        },
        "id": "OU0Jcggz-Sxd",
        "outputId": "bbe6fcf4-e5de-4120-a2f2-8fafc1b69166"
      },
      "execution_count": null,
      "outputs": [
        {
          "output_type": "display_data",
          "data": {
            "text/plain": [
              "<Figure size 640x480 with 2 Axes>"
            ],
            "image/png": "[encoded data removed]"
          },
          "metadata": {}
        }
      ]
    },
    {
      "cell_type": "markdown",
      "source": [
        "### **Area Distribution**"
      ],
      "metadata": {
        "id": "xwT9RAG0-kzX"
      }
    },
    {
      "cell_type": "code",
      "source": [
        "# Create a histogram of `\"surface_covered_in_m2\"`\n",
        "plt.hist(df[\"surface_covered_in_m2\"])\n",
        "plt.xlabel(\"Area [sq meters]\")\n",
        "plt.title(\"Distribution of Apartment Sizes\");"
      ],
      "metadata": {
        "colab": {
          "base_uri": "https://localhost:8080/",
          "height": 264
        },
        "id": "1nva3AwTGA84",
        "outputId": "68d6dc52-36ae-48aa-e1cf-a460c67c61b2"
      },
      "execution_count": null,
      "outputs": [
        {
          "output_type": "display_data",
          "data": {
            "text/plain": [
              "<Figure size 640x480 with 1 Axes>"
            ],
            "image/png": "[encoded data removed]"
          },
          "metadata": {}
        }
      ]
    },
    {
      "cell_type": "code",
      "source": [
        "# The summary statistics for the `surface_covered_in_m2`\n",
        "df.describe()[\"surface_covered_in_m2\"]"
      ],
      "metadata": {
        "id": "bruDdatAyBbE",
        "outputId": "0d859517-0065-4c19-f0fa-fde48a6e0185",
        "colab": {
          "base_uri": "https://localhost:8080/"
        }
      },
      "execution_count": null,
      "outputs": [
        {
          "output_type": "execute_result",
          "data": {
            "text/plain": [
              "count     1635.000000\n",
              "mean        97.877064\n",
              "std       1533.057610\n",
              "min          0.000000\n",
              "25%         38.000000\n",
              "50%         50.000000\n",
              "75%         73.000000\n",
              "max      62034.000000\n",
              "Name: surface_covered_in_m2, dtype: float64"
            ]
          },
          "metadata": {},
          "execution_count": 20
        }
      ]
    },
    {
      "cell_type": "code",
      "source": [
        "# Remove outliers for \"surface_covered_in_m2\"\n",
        "low, high = df[\"surface_covered_in_m2\"].quantile([0.1, 0.9])\n",
        "mask_area = df[\"surface_covered_in_m2\"].between(low, high)\n",
        "df = df[mask_area]"
      ],
      "metadata": {
        "id": "gwm3hQq0-ud7"
      },
      "execution_count": null,
      "outputs": []
    },
    {
      "cell_type": "code",
      "source": [
        "# Recreate a histogram of `\"surface_covered_in_m2\"`\n",
        "plt.hist(df[\"surface_covered_in_m2\"])\n",
        "plt.xlabel(\"Area [sq meters]\")\n",
        "plt.title(\"Distribution of Apartment Sizes\");"
      ],
      "metadata": {
        "colab": {
          "base_uri": "https://localhost:8080/",
          "height": 268
        },
        "id": "Dfd2YfVpGJwE",
        "outputId": "60d2410d-6c9e-4a31-ef1e-5bf4802c7334"
      },
      "execution_count": null,
      "outputs": [
        {
          "output_type": "display_data",
          "data": {
            "text/plain": [
              "<Figure size 640x480 with 1 Axes>"
            ],
            "image/png": "[encoded data removed]"
          },
          "metadata": {}
        }
      ]
    },
    {
      "cell_type": "markdown",
      "source": [
        "### **Extract Neighborhood Names**"
      ],
      "metadata": {
        "id": "OOQ2jXk6HZ-e"
      }
    },
    {
      "cell_type": "code",
      "source": [
        "# Find the neighborhood for each property in the `\"place_with_parent_names\"` column\n",
        "df[\"place_with_parent_names\"].head()"
      ],
      "metadata": {
        "id": "hexFo-BFtVaY",
        "outputId": "32743b77-8856-4a2c-dfb5-8055b0d2b603",
        "colab": {
          "base_uri": "https://localhost:8080/"
        }
      },
      "execution_count": null,
      "outputs": [
        {
          "output_type": "execute_result",
          "data": {
            "text/plain": [
              "4        |Argentina|Capital Federal|Chacarita|\n",
              "9       |Argentina|Capital Federal|Villa Luro|\n",
              "29       |Argentina|Capital Federal|Caballito|\n",
              "40    |Argentina|Capital Federal|Constitución|\n",
              "41            |Argentina|Capital Federal|Once|\n",
              "Name: place_with_parent_names, dtype: object"
            ]
          },
          "metadata": {},
          "execution_count": 23
        }
      ]
    },
    {
      "cell_type": "code",
      "source": [
        "# Extract neighborhood\n",
        "df[\"neighborhood\"]= df[\"place_with_parent_names\"].str.split(\"|\",expand=True)[3]\n",
        "# Drop the `\"place_with_parent_names\"` column\n",
        "df.drop(columns=\"place_with_parent_names\", inplace= True)"
      ],
      "metadata": {
        "id": "HlAuvQWPHafh"
      },
      "execution_count": null,
      "outputs": []
    },
    {
      "cell_type": "markdown",
      "source": [
        "# **Final Version of Wrangle Function and The Dataframe**"
      ],
      "metadata": {
        "id": "lb9qCsinMHHA"
      }
    },
    {
      "cell_type": "code",
      "source": [
        "def wrangle(filepath):\n",
        "      # Import_csv\n",
        "      df = pd.read_csv(filepath)\n",
        "\n",
        "      # Subset data: Apartments in \"Capital Federal\", less than 400,000\n",
        "      mask_ba = df[\"place_with_parent_names\"].str.contains(\"Capital Federal\")\n",
        "      mask_apt = df[\"property_type\"] == \"apartment\"\n",
        "      mask_price = df[\"price_aprox_usd\"] < 400_000\n",
        "      df = df[mask_ba & mask_apt & mask_price]\n",
        "\n",
        "      # Split \"lat-lon\" column\n",
        "      df[[\"lat\", \"lon\"]] = df[\"lat-lon\"].str.split(\",\", expand=True).astype(float)\n",
        "      df.drop(columns=\"lat-lon\", inplace=True)\n",
        "\n",
        "      # Drop features with high null counts\n",
        "      df.drop(columns = [\"floor\",\"expenses\"], inplace= True)\n",
        "\n",
        "      # Drop low and high cardinality categorical variables\n",
        "      df.drop(columns= [\"operation\", \"property_type\", \"currency\",\"properati_url\"], inplace=True)\n",
        "\n",
        "      # Drop Leakey columns\n",
        "      df.drop(columns= [\n",
        "          \"price\",\n",
        "          \"price_aprox_local_currency\",\n",
        "          \"price_per_m2\",\n",
        "          \"price_usd_per_m2\"\n",
        "           ],\n",
        "      inplace= True)\n",
        "\n",
        "      # Drop columns with multicollinearity\n",
        "      df.drop(columns=[\"surface_total_in_m2\", \"rooms\"], inplace=True)\n",
        "\n",
        "      # Subset data: Remove outliers for \"surface_covered_in_m2\"\n",
        "      low, high = df[\"surface_covered_in_m2\"].quantile([0.1, 0.9])\n",
        "      mask_area = df[\"surface_covered_in_m2\"].between(low, high)\n",
        "      df = df[mask_area]\n",
        "\n",
        "      # Get place name\n",
        "      df[\"neighborhood\"] = df[\"place_with_parent_names\"].str.split(\"|\",expand=True)[3]\n",
        "      df.drop(columns=\"place_with_parent_names\", inplace=True)\n",
        "\n",
        "      return df"
      ],
      "metadata": {
        "id": "mmJEVudd-oup"
      },
      "execution_count": null,
      "outputs": []
    },
    {
      "cell_type": "code",
      "source": [
        "# Create a list that contains the filenames for all real estate CSV files\n",
        "files = glob(\"buenos-aires-real-estate-*.csv\")\n",
        "files"
      ],
      "metadata": {
        "id": "izjKZIqOsIhk",
        "outputId": "5ea9be74-240d-4371-e9e1-71f1c327339a",
        "colab": {
          "base_uri": "https://localhost:8080/"
        }
      },
      "execution_count": null,
      "outputs": [
        {
          "output_type": "execute_result",
          "data": {
            "text/plain": [
              "['buenos-aires-real-estate-5.csv',\n",
              " 'buenos-aires-real-estate-2.csv',\n",
              " 'buenos-aires-real-estate-3.csv',\n",
              " 'buenos-aires-real-estate-4.csv',\n",
              " 'buenos-aires-real-estate-1.csv']"
            ]
          },
          "metadata": {},
          "execution_count": 26
        }
      ]
    },
    {
      "cell_type": "code",
      "source": [
        "# Use the wrangle function in a for loop to create a list named frames\n",
        "frames = []\n",
        "for file in files:\n",
        "   df= wrangle(file)\n",
        "   frames.append(df)\n",
        "len(frames)"
      ],
      "metadata": {
        "id": "DAoPmqEHsJtN",
        "outputId": "63538726-9949-4a03-ab18-a6d57be7df81",
        "colab": {
          "base_uri": "https://localhost:8080/"
        }
      },
      "execution_count": null,
      "outputs": [
        {
          "output_type": "execute_result",
          "data": {
            "text/plain": [
              "5"
            ]
          },
          "metadata": {},
          "execution_count": 27
        }
      ]
    },
    {
      "cell_type": "code",
      "source": [
        "# Use `pd.concat` to concatenate the items in frames into a single DataFrame `df`\n",
        "df = pd.concat(frames, ignore_index= True)\n",
        "print(df.shape)\n",
        "df.head()\n",
        "print(df.info())"
      ],
      "metadata": {
        "id": "_wNOpSfssKj7",
        "outputId": "9aeed565-4159-4300-ae38-d688203ada4a",
        "colab": {
          "base_uri": "https://localhost:8080/"
        }
      },
      "execution_count": null,
      "outputs": [
        {
          "output_type": "stream",
          "name": "stdout",
          "text": [
            "(6582, 5)\n",
            "<class 'pandas.core.frame.DataFrame'>\n",
            "RangeIndex: 6582 entries, 0 to 6581\n",
            "Data columns (total 5 columns):\n",
            " #   Column                 Non-Null Count  Dtype  \n",
            "---  ------                 --------------  -----  \n",
            " 0   price_aprox_usd        6582 non-null   float64\n",
            " 1   surface_covered_in_m2  6582 non-null   float64\n",
            " 2   lat                    6316 non-null   float64\n",
            " 3   lon                    6316 non-null   float64\n",
            " 4   neighborhood           6582 non-null   object \n",
            "dtypes: float64(4), object(1)\n",
            "memory usage: 257.2+ KB\n",
            "None\n"
          ]
        }
      ]
    }
  ]
}