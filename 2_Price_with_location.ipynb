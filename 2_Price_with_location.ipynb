{
  "nbformat": 4,
  "nbformat_minor": 0,
  "metadata": {
    "colab": {
      "provenance": [],
      "authorship_tag": "ABX9TyOsPL7HEheCxIHJYnH7pN5U",
      "include_colab_link": true
    },
    "kernelspec": {
      "name": "python3",
      "display_name": "Python 3"
    },
    "language_info": {
      "name": "python"
    }
  },
  "cells": [
    {
      "cell_type": "markdown",
      "metadata": {
        "id": "view-in-github",
        "colab_type": "text"
      },
      "source": [
        "<a href=\"https://colab.research.google.com/github/SawsanYusuf/Housing-in-Colombia/blob/main/2_Price_with_location.ipynb\" target=\"_parent\"><img src=\"https://colab.research.google.com/assets/colab-badge.svg\" alt=\"Open In Colab\"/></a>"
      ]
    },
    {
      "cell_type": "markdown",
      "source": [
        "<font size=\"+3\"><strong>Predicting Price with Location</strong></font>"
      ],
      "metadata": {
        "id": "n0IsfdI9HgrA"
      }
    },
    {
      "cell_type": "markdown",
      "source": [
        "In this notebook, we’re going to build on the work we did in the previous notebook. We’re going to create\n",
        "a more complex *wrangle function*, use it to clean more data, and build a model that considers\n",
        "more features when predicting apartment price."
      ],
      "metadata": {
        "id": "FHkOdU8FdJXb"
      }
    },
    {
      "cell_type": "code",
      "execution_count": null,
      "metadata": {
        "id": "1kvEJ26ni3_j"
      },
      "outputs": [],
      "source": [
        "import warnings\n",
        "import numpy as np\n",
        "import pandas as pd\n",
        "import plotly.express as px\n",
        "import plotly.graph_objects as go\n",
        "\n",
        "from sklearn.impute import SimpleImputer\n",
        "from sklearn.linear_model import LinearRegression\n",
        "from sklearn.metrics import mean_absolute_error\n",
        "from sklearn.pipeline import Pipeline, make_pipeline\n",
        "\n",
        "warnings.simplefilter(action=\"ignore\", category=FutureWarning)"
      ]
    },
    {
      "cell_type": "markdown",
      "source": [
        "# Prepare Data"
      ],
      "metadata": {
        "id": "wx8ceFHwdP6v"
      }
    },
    {
      "cell_type": "markdown",
      "source": [
        "## Import"
      ],
      "metadata": {
        "id": "3QB0Y4PSdSqN"
      }
    },
    {
      "cell_type": "code",
      "source": [
        "def wrangle(filepath):\n",
        "    #import_csv\n",
        "    df = pd.read_csv(filepath,index_col=[0])\n",
        "\n",
        "    #subset to propertes in '\"Capital Federal\"'\n",
        "    mask_ba= df[\"place_with_parent_names\"].str.contains(\"Bogotá D.C\")\n",
        "\n",
        "    #subset for  '\"apartment\"'\n",
        "    mask_apt=df[\"property_type\"] == \"house\"\n",
        "\n",
        "    #subset where '\"price_aprox_usd\"' < 400,000\n",
        "    mask_price= df[\"price_aprox_usd\"] < 400_000\n",
        "\n",
        "    df= df[mask_ba & mask_apt & mask_price]\n",
        "\n",
        "    #Remove the outliers by '\"surface_covered_in_m2\"'\n",
        "    low, high= df[\"surface_covered_in_m2\"].quantile([0.1,0.9])\n",
        "    mask_area =df[\"surface_covered_in_m2\"].between(low, high)\n",
        "    df=df[mask_area]\n",
        "\n",
        "    return df"
      ],
      "metadata": {
        "id": "9bls9W9QkeBF"
      },
      "execution_count": null,
      "outputs": []
    },
    {
      "cell_type": "markdown",
      "source": [
        "First, we use our wrangle function to create a DataFrame `frame1` from the CSV file\n",
        "`colombia-real-estate-1.csv`."
      ],
      "metadata": {
        "id": "jgYPl9ZMdaHh"
      }
    },
    {
      "cell_type": "code",
      "source": [
        "frame1 = wrangle(\"/content/colombia-real-estate-1.csv\")\n",
        "print(frame1.info())\n",
        "frame1.head()"
      ],
      "metadata": {
        "colab": {
          "base_uri": "https://localhost:8080/",
          "height": 773
        },
        "id": "Q8vDyPUwkdIo",
        "outputId": "11fc9475-f081-4c23-cf53-cdcddb1ef618"
      },
      "execution_count": null,
      "outputs": [
        {
          "output_type": "stream",
          "name": "stdout",
          "text": [
            "<class 'pandas.core.frame.DataFrame'>\n",
            "Int64Index: 504 entries, 132 to 2993\n",
            "Data columns (total 16 columns):\n",
            " #   Column                      Non-Null Count  Dtype  \n",
            "---  ------                      --------------  -----  \n",
            " 0   operation                   504 non-null    object \n",
            " 1   property_type               504 non-null    object \n",
            " 2   place_with_parent_names     504 non-null    object \n",
            " 3   lat-lon                     504 non-null    object \n",
            " 4   price                       504 non-null    float64\n",
            " 5   currency                    504 non-null    object \n",
            " 6   price_aprox_local_currency  504 non-null    float64\n",
            " 7   price_aprox_usd             504 non-null    float64\n",
            " 8   surface_total_in_m2         157 non-null    float64\n",
            " 9   surface_covered_in_m2       504 non-null    float64\n",
            " 10  price_usd_per_m2            157 non-null    float64\n",
            " 11  price_per_m2                504 non-null    float64\n",
            " 12  floor                       333 non-null    float64\n",
            " 13  rooms                       489 non-null    float64\n",
            " 14  expenses                    0 non-null      float64\n",
            " 15  properati_url               504 non-null    object \n",
            "dtypes: float64(10), object(6)\n",
            "memory usage: 66.9+ KB\n",
            "None\n"
          ]
        },
        {
          "output_type": "execute_result",
          "data": {
            "text/plain": [
              "    operation property_type             place_with_parent_names  \\\n",
              "132      sell         house       |Colombia|Bogotá D.C|Usaquén|   \n",
              "134      sell         house  |Colombia|Bogotá D.C|Los Mártires|   \n",
              "138      sell         house          |Colombia|Bogotá D.C|Suba|   \n",
              "141      sell         house       |Colombia|Bogotá D.C|Usaquén|   \n",
              "143      sell         house          |Colombia|Bogotá D.C|Suba|   \n",
              "\n",
              "           lat-lon         price currency  price_aprox_local_currency  \\\n",
              "132  4.724,-74.023  6.300000e+08      COP                6.349309e+08   \n",
              "134  4.618,-74.081  5.000000e+08      COP                5.039134e+08   \n",
              "138  4.729,-74.053  3.950000e+08      COP                3.980916e+08   \n",
              "141   4.667,-74.05  1.100000e+09      COP                1.108609e+09   \n",
              "143   4.702,-74.06  7.000000e+08      COP                7.054787e+08   \n",
              "\n",
              "     price_aprox_usd  surface_total_in_m2  surface_covered_in_m2  \\\n",
              "132        212721.41                  NaN                  135.0   \n",
              "134        168826.52                  NaN                  240.0   \n",
              "138        133372.95                  NaN                  134.0   \n",
              "141        371418.34                  NaN                  143.0   \n",
              "143        236357.12                  NaN                  248.0   \n",
              "\n",
              "     price_usd_per_m2  price_per_m2  floor  rooms  expenses  \\\n",
              "132               NaN  4.666667e+06    NaN    3.0       NaN   \n",
              "134               NaN  2.083333e+06    NaN    3.0       NaN   \n",
              "138               NaN  2.947761e+06    NaN    3.0       NaN   \n",
              "141               NaN  7.692308e+06    NaN    3.0       NaN   \n",
              "143               NaN  2.822581e+06    2.0    4.0       NaN   \n",
              "\n",
              "                                         properati_url  \n",
              "132  http://usaquen-bogota-d-c.properati.com.co/jm3...  \n",
              "134  http://los-martires-bogota-d-c.properati.com.c...  \n",
              "138  http://suba-bogota-d-c.properati.com.co/jm4g_v...  \n",
              "141  http://usaquen-bogota-d-c.properati.com.co/jm4...  \n",
              "143  http://suba-bogota-d-c.properati.com.co/jm5d_v...  "
            ],
            "text/html": [
              "\n",
              "  <div id=\"df-49f1b3b5-0b8f-46d2-ab5f-1c78e21a3050\">\n",
              "    <div class=\"colab-df-container\">\n",
              "      <div>\n",
              "<style scoped>\n",
              "    .dataframe tbody tr th:only-of-type {\n",
              "        vertical-align: middle;\n",
              "    }\n",
              "\n",
              "    .dataframe tbody tr th {\n",
              "        vertical-align: top;\n",
              "    }\n",
              "\n",
              "    .dataframe thead th {\n",
              "        text-align: right;\n",
              "    }\n",
              "</style>\n",
              "<table border=\"1\" class=\"dataframe\">\n",
              "  <thead>\n",
              "    <tr style=\"text-align: right;\">\n",
              "      <th></th>\n",
              "      <th>operation</th>\n",
              "      <th>property_type</th>\n",
              "      <th>place_with_parent_names</th>\n",
              "      <th>lat-lon</th>\n",
              "      <th>price</th>\n",
              "      <th>currency</th>\n",
              "      <th>price_aprox_local_currency</th>\n",
              "      <th>price_aprox_usd</th>\n",
              "      <th>surface_total_in_m2</th>\n",
              "      <th>surface_covered_in_m2</th>\n",
              "      <th>price_usd_per_m2</th>\n",
              "      <th>price_per_m2</th>\n",
              "      <th>floor</th>\n",
              "      <th>rooms</th>\n",
              "      <th>expenses</th>\n",
              "      <th>properati_url</th>\n",
              "    </tr>\n",
              "  </thead>\n",
              "  <tbody>\n",
              "    <tr>\n",
              "      <th>132</th>\n",
              "      <td>sell</td>\n",
              "      <td>house</td>\n",
              "      <td>|Colombia|Bogotá D.C|Usaquén|</td>\n",
              "      <td>4.724,-74.023</td>\n",
              "      <td>6.300000e+08</td>\n",
              "      <td>COP</td>\n",
              "      <td>6.349309e+08</td>\n",
              "      <td>212721.41</td>\n",
              "      <td>NaN</td>\n",
              "      <td>135.0</td>\n",
              "      <td>NaN</td>\n",
              "      <td>4.666667e+06</td>\n",
              "      <td>NaN</td>\n",
              "      <td>3.0</td>\n",
              "      <td>NaN</td>\n",
              "      <td>http://usaquen-bogota-d-c.properati.com.co/jm3...</td>\n",
              "    </tr>\n",
              "    <tr>\n",
              "      <th>134</th>\n",
              "      <td>sell</td>\n",
              "      <td>house</td>\n",
              "      <td>|Colombia|Bogotá D.C|Los Mártires|</td>\n",
              "      <td>4.618,-74.081</td>\n",
              "      <td>5.000000e+08</td>\n",
              "      <td>COP</td>\n",
              "      <td>5.039134e+08</td>\n",
              "      <td>168826.52</td>\n",
              "      <td>NaN</td>\n",
              "      <td>240.0</td>\n",
              "      <td>NaN</td>\n",
              "      <td>2.083333e+06</td>\n",
              "      <td>NaN</td>\n",
              "      <td>3.0</td>\n",
              "      <td>NaN</td>\n",
              "      <td>http://los-martires-bogota-d-c.properati.com.c...</td>\n",
              "    </tr>\n",
              "    <tr>\n",
              "      <th>138</th>\n",
              "      <td>sell</td>\n",
              "      <td>house</td>\n",
              "      <td>|Colombia|Bogotá D.C|Suba|</td>\n",
              "      <td>4.729,-74.053</td>\n",
              "      <td>3.950000e+08</td>\n",
              "      <td>COP</td>\n",
              "      <td>3.980916e+08</td>\n",
              "      <td>133372.95</td>\n",
              "      <td>NaN</td>\n",
              "      <td>134.0</td>\n",
              "      <td>NaN</td>\n",
              "      <td>2.947761e+06</td>\n",
              "      <td>NaN</td>\n",
              "      <td>3.0</td>\n",
              "      <td>NaN</td>\n",
              "      <td>http://suba-bogota-d-c.properati.com.co/jm4g_v...</td>\n",
              "    </tr>\n",
              "    <tr>\n",
              "      <th>141</th>\n",
              "      <td>sell</td>\n",
              "      <td>house</td>\n",
              "      <td>|Colombia|Bogotá D.C|Usaquén|</td>\n",
              "      <td>4.667,-74.05</td>\n",
              "      <td>1.100000e+09</td>\n",
              "      <td>COP</td>\n",
              "      <td>1.108609e+09</td>\n",
              "      <td>371418.34</td>\n",
              "      <td>NaN</td>\n",
              "      <td>143.0</td>\n",
              "      <td>NaN</td>\n",
              "      <td>7.692308e+06</td>\n",
              "      <td>NaN</td>\n",
              "      <td>3.0</td>\n",
              "      <td>NaN</td>\n",
              "      <td>http://usaquen-bogota-d-c.properati.com.co/jm4...</td>\n",
              "    </tr>\n",
              "    <tr>\n",
              "      <th>143</th>\n",
              "      <td>sell</td>\n",
              "      <td>house</td>\n",
              "      <td>|Colombia|Bogotá D.C|Suba|</td>\n",
              "      <td>4.702,-74.06</td>\n",
              "      <td>7.000000e+08</td>\n",
              "      <td>COP</td>\n",
              "      <td>7.054787e+08</td>\n",
              "      <td>236357.12</td>\n",
              "      <td>NaN</td>\n",
              "      <td>248.0</td>\n",
              "      <td>NaN</td>\n",
              "      <td>2.822581e+06</td>\n",
              "      <td>2.0</td>\n",
              "      <td>4.0</td>\n",
              "      <td>NaN</td>\n",
              "      <td>http://suba-bogota-d-c.properati.com.co/jm5d_v...</td>\n",
              "    </tr>\n",
              "  </tbody>\n",
              "</table>\n",
              "</div>\n",
              "      <button class=\"colab-df-convert\" onclick=\"convertToInteractive('df-49f1b3b5-0b8f-46d2-ab5f-1c78e21a3050')\"\n",
              "              title=\"Convert this dataframe to an interactive table.\"\n",
              "              style=\"display:none;\">\n",
              "        \n",
              "  <svg xmlns=\"http://www.w3.org/2000/svg\" height=\"24px\"viewBox=\"0 0 24 24\"\n",
              "       width=\"24px\">\n",
              "    <path d=\"M0 0h24v24H0V0z\" fill=\"none\"/>\n",
              "    <path d=\"M18.56 5.44l.94 2.06.94-2.06 2.06-.94-2.06-.94-.94-2.06-.94 2.06-2.06.94zm-11 1L8.5 8.5l.94-2.06 2.06-.94-2.06-.94L8.5 2.5l-.94 2.06-2.06.94zm10 10l.94 2.06.94-2.06 2.06-.94-2.06-.94-.94-2.06-.94 2.06-2.06.94z\"/><path d=\"M17.41 7.96l-1.37-1.37c-.4-.4-.92-.59-1.43-.59-.52 0-1.04.2-1.43.59L10.3 9.45l-7.72 7.72c-.78.78-.78 2.05 0 2.83L4 21.41c.39.39.9.59 1.41.59.51 0 1.02-.2 1.41-.59l7.78-7.78 2.81-2.81c.8-.78.8-2.07 0-2.86zM5.41 20L4 18.59l7.72-7.72 1.47 1.35L5.41 20z\"/>\n",
              "  </svg>\n",
              "      </button>\n",
              "      \n",
              "  <style>\n",
              "    .colab-df-container {\n",
              "      display:flex;\n",
              "      flex-wrap:wrap;\n",
              "      gap: 12px;\n",
              "    }\n",
              "\n",
              "    .colab-df-convert {\n",
              "      background-color: #E8F0FE;\n",
              "      border: none;\n",
              "      border-radius: 50%;\n",
              "      cursor: pointer;\n",
              "      display: none;\n",
              "      fill: #1967D2;\n",
              "      height: 32px;\n",
              "      padding: 0 0 0 0;\n",
              "      width: 32px;\n",
              "    }\n",
              "\n",
              "    .colab-df-convert:hover {\n",
              "      background-color: #E2EBFA;\n",
              "      box-shadow: 0px 1px 2px rgba(60, 64, 67, 0.3), 0px 1px 3px 1px rgba(60, 64, 67, 0.15);\n",
              "      fill: #174EA6;\n",
              "    }\n",
              "\n",
              "    [theme=dark] .colab-df-convert {\n",
              "      background-color: #3B4455;\n",
              "      fill: #D2E3FC;\n",
              "    }\n",
              "\n",
              "    [theme=dark] .colab-df-convert:hover {\n",
              "      background-color: #434B5C;\n",
              "      box-shadow: 0px 1px 3px 1px rgba(0, 0, 0, 0.15);\n",
              "      filter: drop-shadow(0px 1px 2px rgba(0, 0, 0, 0.3));\n",
              "      fill: #FFFFFF;\n",
              "    }\n",
              "  </style>\n",
              "\n",
              "      <script>\n",
              "        const buttonEl =\n",
              "          document.querySelector('#df-49f1b3b5-0b8f-46d2-ab5f-1c78e21a3050 button.colab-df-convert');\n",
              "        buttonEl.style.display =\n",
              "          google.colab.kernel.accessAllowed ? 'block' : 'none';\n",
              "\n",
              "        async function convertToInteractive(key) {\n",
              "          const element = document.querySelector('#df-49f1b3b5-0b8f-46d2-ab5f-1c78e21a3050');\n",
              "          const dataTable =\n",
              "            await google.colab.kernel.invokeFunction('convertToInteractive',\n",
              "                                                     [key], {});\n",
              "          if (!dataTable) return;\n",
              "\n",
              "          const docLinkHtml = 'Like what you see? Visit the ' +\n",
              "            '<a target=\"_blank\" href=https://colab.research.google.com/notebooks/data_table.ipynb>data table notebook</a>'\n",
              "            + ' to learn more about interactive tables.';\n",
              "          element.innerHTML = '';\n",
              "          dataTable['output_type'] = 'display_data';\n",
              "          await google.colab.output.renderOutput(dataTable, element);\n",
              "          const docLink = document.createElement('div');\n",
              "          docLink.innerHTML = docLinkHtml;\n",
              "          element.appendChild(docLink);\n",
              "        }\n",
              "      </script>\n",
              "    </div>\n",
              "  </div>\n",
              "  "
            ]
          },
          "metadata": {},
          "execution_count": 3
        }
      ]
    },
    {
      "cell_type": "markdown",
      "source": [
        "For our model, we’re going to consider apartment location, specifically, latitude and longitude.\n",
        "Looking at the output from `frame1.info()`, we can see that the location information is in a single\n",
        "column where the data type is object (pandas term for str in this case). In order to build our\n",
        "model, *we need latitude and longitude to each be in their own column where the data type is float*."
      ],
      "metadata": {
        "id": "-NapIMybd-Rm"
      }
    },
    {
      "cell_type": "markdown",
      "source": [
        "We will add to the wrangle function below so that, in the DataFrame it returns, the\n",
        "`\"lat-lon\"` column is replaced by separate `\"lat\"` and `\"lon\"` columns. We don’t forget to also drop\n",
        "the `\"lat-lon\"` column."
      ],
      "metadata": {
        "id": "zgmluSbzeH4_"
      }
    },
    {
      "cell_type": "code",
      "source": [
        "def wrangle(filepath):\n",
        "    #import_csv\n",
        "    df = pd.read_csv(filepath,index_col=[0])\n",
        "\n",
        "    #subset to propertes in '\"Capital Federal\"'\n",
        "    mask_ba= df[\"place_with_parent_names\"].str.contains(\"Bogotá D.C\")\n",
        "\n",
        "    #subset for  '\"apartment\"'\n",
        "    mask_apt=df[\"property_type\"] == \"house\"\n",
        "\n",
        "    #subset where '\"price_aprox_usd\"' < 400,000\n",
        "    mask_price= df[\"price_aprox_usd\"] < 400_000\n",
        "\n",
        "    df= df[mask_ba & mask_apt & mask_price]\n",
        "\n",
        "    #Remove the outliers by '\"surface_covered_in_m2\"'\n",
        "    low, high= df[\"surface_covered_in_m2\"].quantile([0.1,0.9])\n",
        "    mask_area =df[\"surface_covered_in_m2\"].between(low, high)\n",
        "    df=df[mask_area]\n",
        "\n",
        "    #split the '\"lat-lon\"'\n",
        "    df[[\"lat\" ,\"lon\"]]= df[\"lat-lon\"].str.split(\",\", expand= True).astype(float)\n",
        "    df.drop(columns=\"lat-lon\", inplace = True)\n",
        "\n",
        "    return df"
      ],
      "metadata": {
        "id": "warm3XBSeHZH"
      },
      "execution_count": null,
      "outputs": []
    },
    {
      "cell_type": "code",
      "source": [
        "frame1 = wrangle(\"/content/colombia-real-estate-1.csv\")\n",
        "print(frame1.info())\n",
        "frame1.head()"
      ],
      "metadata": {
        "colab": {
          "base_uri": "https://localhost:8080/",
          "height": 791
        },
        "id": "wJKR6AeSfDp2",
        "outputId": "e3be5f39-d7ad-493e-dcbf-38c69c65d41c"
      },
      "execution_count": null,
      "outputs": [
        {
          "output_type": "stream",
          "name": "stdout",
          "text": [
            "<class 'pandas.core.frame.DataFrame'>\n",
            "Int64Index: 504 entries, 132 to 2993\n",
            "Data columns (total 17 columns):\n",
            " #   Column                      Non-Null Count  Dtype  \n",
            "---  ------                      --------------  -----  \n",
            " 0   operation                   504 non-null    object \n",
            " 1   property_type               504 non-null    object \n",
            " 2   place_with_parent_names     504 non-null    object \n",
            " 3   price                       504 non-null    float64\n",
            " 4   currency                    504 non-null    object \n",
            " 5   price_aprox_local_currency  504 non-null    float64\n",
            " 6   price_aprox_usd             504 non-null    float64\n",
            " 7   surface_total_in_m2         157 non-null    float64\n",
            " 8   surface_covered_in_m2       504 non-null    float64\n",
            " 9   price_usd_per_m2            157 non-null    float64\n",
            " 10  price_per_m2                504 non-null    float64\n",
            " 11  floor                       333 non-null    float64\n",
            " 12  rooms                       489 non-null    float64\n",
            " 13  expenses                    0 non-null      float64\n",
            " 14  properati_url               504 non-null    object \n",
            " 15  lat                         504 non-null    float64\n",
            " 16  lon                         504 non-null    float64\n",
            "dtypes: float64(12), object(5)\n",
            "memory usage: 70.9+ KB\n",
            "None\n"
          ]
        },
        {
          "output_type": "execute_result",
          "data": {
            "text/plain": [
              "    operation property_type             place_with_parent_names         price  \\\n",
              "132      sell         house       |Colombia|Bogotá D.C|Usaquén|  6.300000e+08   \n",
              "134      sell         house  |Colombia|Bogotá D.C|Los Mártires|  5.000000e+08   \n",
              "138      sell         house          |Colombia|Bogotá D.C|Suba|  3.950000e+08   \n",
              "141      sell         house       |Colombia|Bogotá D.C|Usaquén|  1.100000e+09   \n",
              "143      sell         house          |Colombia|Bogotá D.C|Suba|  7.000000e+08   \n",
              "\n",
              "    currency  price_aprox_local_currency  price_aprox_usd  \\\n",
              "132      COP                6.349309e+08        212721.41   \n",
              "134      COP                5.039134e+08        168826.52   \n",
              "138      COP                3.980916e+08        133372.95   \n",
              "141      COP                1.108609e+09        371418.34   \n",
              "143      COP                7.054787e+08        236357.12   \n",
              "\n",
              "     surface_total_in_m2  surface_covered_in_m2  price_usd_per_m2  \\\n",
              "132                  NaN                  135.0               NaN   \n",
              "134                  NaN                  240.0               NaN   \n",
              "138                  NaN                  134.0               NaN   \n",
              "141                  NaN                  143.0               NaN   \n",
              "143                  NaN                  248.0               NaN   \n",
              "\n",
              "     price_per_m2  floor  rooms  expenses  \\\n",
              "132  4.666667e+06    NaN    3.0       NaN   \n",
              "134  2.083333e+06    NaN    3.0       NaN   \n",
              "138  2.947761e+06    NaN    3.0       NaN   \n",
              "141  7.692308e+06    NaN    3.0       NaN   \n",
              "143  2.822581e+06    2.0    4.0       NaN   \n",
              "\n",
              "                                         properati_url    lat     lon  \n",
              "132  http://usaquen-bogota-d-c.properati.com.co/jm3...  4.724 -74.023  \n",
              "134  http://los-martires-bogota-d-c.properati.com.c...  4.618 -74.081  \n",
              "138  http://suba-bogota-d-c.properati.com.co/jm4g_v...  4.729 -74.053  \n",
              "141  http://usaquen-bogota-d-c.properati.com.co/jm4...  4.667 -74.050  \n",
              "143  http://suba-bogota-d-c.properati.com.co/jm5d_v...  4.702 -74.060  "
            ],
            "text/html": [
              "\n",
              "  <div id=\"df-9699a63b-80cf-494f-9d79-fbb132eea2b2\">\n",
              "    <div class=\"colab-df-container\">\n",
              "      <div>\n",
              "<style scoped>\n",
              "    .dataframe tbody tr th:only-of-type {\n",
              "        vertical-align: middle;\n",
              "    }\n",
              "\n",
              "    .dataframe tbody tr th {\n",
              "        vertical-align: top;\n",
              "    }\n",
              "\n",
              "    .dataframe thead th {\n",
              "        text-align: right;\n",
              "    }\n",
              "</style>\n",
              "<table border=\"1\" class=\"dataframe\">\n",
              "  <thead>\n",
              "    <tr style=\"text-align: right;\">\n",
              "      <th></th>\n",
              "      <th>operation</th>\n",
              "      <th>property_type</th>\n",
              "      <th>place_with_parent_names</th>\n",
              "      <th>price</th>\n",
              "      <th>currency</th>\n",
              "      <th>price_aprox_local_currency</th>\n",
              "      <th>price_aprox_usd</th>\n",
              "      <th>surface_total_in_m2</th>\n",
              "      <th>surface_covered_in_m2</th>\n",
              "      <th>price_usd_per_m2</th>\n",
              "      <th>price_per_m2</th>\n",
              "      <th>floor</th>\n",
              "      <th>rooms</th>\n",
              "      <th>expenses</th>\n",
              "      <th>properati_url</th>\n",
              "      <th>lat</th>\n",
              "      <th>lon</th>\n",
              "    </tr>\n",
              "  </thead>\n",
              "  <tbody>\n",
              "    <tr>\n",
              "      <th>132</th>\n",
              "      <td>sell</td>\n",
              "      <td>house</td>\n",
              "      <td>|Colombia|Bogotá D.C|Usaquén|</td>\n",
              "      <td>6.300000e+08</td>\n",
              "      <td>COP</td>\n",
              "      <td>6.349309e+08</td>\n",
              "      <td>212721.41</td>\n",
              "      <td>NaN</td>\n",
              "      <td>135.0</td>\n",
              "      <td>NaN</td>\n",
              "      <td>4.666667e+06</td>\n",
              "      <td>NaN</td>\n",
              "      <td>3.0</td>\n",
              "      <td>NaN</td>\n",
              "      <td>http://usaquen-bogota-d-c.properati.com.co/jm3...</td>\n",
              "      <td>4.724</td>\n",
              "      <td>-74.023</td>\n",
              "    </tr>\n",
              "    <tr>\n",
              "      <th>134</th>\n",
              "      <td>sell</td>\n",
              "      <td>house</td>\n",
              "      <td>|Colombia|Bogotá D.C|Los Mártires|</td>\n",
              "      <td>5.000000e+08</td>\n",
              "      <td>COP</td>\n",
              "      <td>5.039134e+08</td>\n",
              "      <td>168826.52</td>\n",
              "      <td>NaN</td>\n",
              "      <td>240.0</td>\n",
              "      <td>NaN</td>\n",
              "      <td>2.083333e+06</td>\n",
              "      <td>NaN</td>\n",
              "      <td>3.0</td>\n",
              "      <td>NaN</td>\n",
              "      <td>http://los-martires-bogota-d-c.properati.com.c...</td>\n",
              "      <td>4.618</td>\n",
              "      <td>-74.081</td>\n",
              "    </tr>\n",
              "    <tr>\n",
              "      <th>138</th>\n",
              "      <td>sell</td>\n",
              "      <td>house</td>\n",
              "      <td>|Colombia|Bogotá D.C|Suba|</td>\n",
              "      <td>3.950000e+08</td>\n",
              "      <td>COP</td>\n",
              "      <td>3.980916e+08</td>\n",
              "      <td>133372.95</td>\n",
              "      <td>NaN</td>\n",
              "      <td>134.0</td>\n",
              "      <td>NaN</td>\n",
              "      <td>2.947761e+06</td>\n",
              "      <td>NaN</td>\n",
              "      <td>3.0</td>\n",
              "      <td>NaN</td>\n",
              "      <td>http://suba-bogota-d-c.properati.com.co/jm4g_v...</td>\n",
              "      <td>4.729</td>\n",
              "      <td>-74.053</td>\n",
              "    </tr>\n",
              "    <tr>\n",
              "      <th>141</th>\n",
              "      <td>sell</td>\n",
              "      <td>house</td>\n",
              "      <td>|Colombia|Bogotá D.C|Usaquén|</td>\n",
              "      <td>1.100000e+09</td>\n",
              "      <td>COP</td>\n",
              "      <td>1.108609e+09</td>\n",
              "      <td>371418.34</td>\n",
              "      <td>NaN</td>\n",
              "      <td>143.0</td>\n",
              "      <td>NaN</td>\n",
              "      <td>7.692308e+06</td>\n",
              "      <td>NaN</td>\n",
              "      <td>3.0</td>\n",
              "      <td>NaN</td>\n",
              "      <td>http://usaquen-bogota-d-c.properati.com.co/jm4...</td>\n",
              "      <td>4.667</td>\n",
              "      <td>-74.050</td>\n",
              "    </tr>\n",
              "    <tr>\n",
              "      <th>143</th>\n",
              "      <td>sell</td>\n",
              "      <td>house</td>\n",
              "      <td>|Colombia|Bogotá D.C|Suba|</td>\n",
              "      <td>7.000000e+08</td>\n",
              "      <td>COP</td>\n",
              "      <td>7.054787e+08</td>\n",
              "      <td>236357.12</td>\n",
              "      <td>NaN</td>\n",
              "      <td>248.0</td>\n",
              "      <td>NaN</td>\n",
              "      <td>2.822581e+06</td>\n",
              "      <td>2.0</td>\n",
              "      <td>4.0</td>\n",
              "      <td>NaN</td>\n",
              "      <td>http://suba-bogota-d-c.properati.com.co/jm5d_v...</td>\n",
              "      <td>4.702</td>\n",
              "      <td>-74.060</td>\n",
              "    </tr>\n",
              "  </tbody>\n",
              "</table>\n",
              "</div>\n",
              "      <button class=\"colab-df-convert\" onclick=\"convertToInteractive('df-9699a63b-80cf-494f-9d79-fbb132eea2b2')\"\n",
              "              title=\"Convert this dataframe to an interactive table.\"\n",
              "              style=\"display:none;\">\n",
              "        \n",
              "  <svg xmlns=\"http://www.w3.org/2000/svg\" height=\"24px\"viewBox=\"0 0 24 24\"\n",
              "       width=\"24px\">\n",
              "    <path d=\"M0 0h24v24H0V0z\" fill=\"none\"/>\n",
              "    <path d=\"M18.56 5.44l.94 2.06.94-2.06 2.06-.94-2.06-.94-.94-2.06-.94 2.06-2.06.94zm-11 1L8.5 8.5l.94-2.06 2.06-.94-2.06-.94L8.5 2.5l-.94 2.06-2.06.94zm10 10l.94 2.06.94-2.06 2.06-.94-2.06-.94-.94-2.06-.94 2.06-2.06.94z\"/><path d=\"M17.41 7.96l-1.37-1.37c-.4-.4-.92-.59-1.43-.59-.52 0-1.04.2-1.43.59L10.3 9.45l-7.72 7.72c-.78.78-.78 2.05 0 2.83L4 21.41c.39.39.9.59 1.41.59.51 0 1.02-.2 1.41-.59l7.78-7.78 2.81-2.81c.8-.78.8-2.07 0-2.86zM5.41 20L4 18.59l7.72-7.72 1.47 1.35L5.41 20z\"/>\n",
              "  </svg>\n",
              "      </button>\n",
              "      \n",
              "  <style>\n",
              "    .colab-df-container {\n",
              "      display:flex;\n",
              "      flex-wrap:wrap;\n",
              "      gap: 12px;\n",
              "    }\n",
              "\n",
              "    .colab-df-convert {\n",
              "      background-color: #E8F0FE;\n",
              "      border: none;\n",
              "      border-radius: 50%;\n",
              "      cursor: pointer;\n",
              "      display: none;\n",
              "      fill: #1967D2;\n",
              "      height: 32px;\n",
              "      padding: 0 0 0 0;\n",
              "      width: 32px;\n",
              "    }\n",
              "\n",
              "    .colab-df-convert:hover {\n",
              "      background-color: #E2EBFA;\n",
              "      box-shadow: 0px 1px 2px rgba(60, 64, 67, 0.3), 0px 1px 3px 1px rgba(60, 64, 67, 0.15);\n",
              "      fill: #174EA6;\n",
              "    }\n",
              "\n",
              "    [theme=dark] .colab-df-convert {\n",
              "      background-color: #3B4455;\n",
              "      fill: #D2E3FC;\n",
              "    }\n",
              "\n",
              "    [theme=dark] .colab-df-convert:hover {\n",
              "      background-color: #434B5C;\n",
              "      box-shadow: 0px 1px 3px 1px rgba(0, 0, 0, 0.15);\n",
              "      filter: drop-shadow(0px 1px 2px rgba(0, 0, 0, 0.3));\n",
              "      fill: #FFFFFF;\n",
              "    }\n",
              "  </style>\n",
              "\n",
              "      <script>\n",
              "        const buttonEl =\n",
              "          document.querySelector('#df-9699a63b-80cf-494f-9d79-fbb132eea2b2 button.colab-df-convert');\n",
              "        buttonEl.style.display =\n",
              "          google.colab.kernel.accessAllowed ? 'block' : 'none';\n",
              "\n",
              "        async function convertToInteractive(key) {\n",
              "          const element = document.querySelector('#df-9699a63b-80cf-494f-9d79-fbb132eea2b2');\n",
              "          const dataTable =\n",
              "            await google.colab.kernel.invokeFunction('convertToInteractive',\n",
              "                                                     [key], {});\n",
              "          if (!dataTable) return;\n",
              "\n",
              "          const docLinkHtml = 'Like what you see? Visit the ' +\n",
              "            '<a target=\"_blank\" href=https://colab.research.google.com/notebooks/data_table.ipynb>data table notebook</a>'\n",
              "            + ' to learn more about interactive tables.';\n",
              "          element.innerHTML = '';\n",
              "          dataTable['output_type'] = 'display_data';\n",
              "          await google.colab.output.renderOutput(dataTable, element);\n",
              "          const docLink = document.createElement('div');\n",
              "          docLink.innerHTML = docLinkHtml;\n",
              "          element.appendChild(docLink);\n",
              "        }\n",
              "      </script>\n",
              "    </div>\n",
              "  </div>\n",
              "  "
            ]
          },
          "metadata": {},
          "execution_count": 5
        }
      ]
    },
    {
      "cell_type": "markdown",
      "source": [
        "Now that our wrangle function is working, let’s use it to clean more data!"
      ],
      "metadata": {
        "id": "jobiAjotemQ7"
      }
    },
    {
      "cell_type": "markdown",
      "source": [
        "Let's use our revised wrangle function tocreate a DataFrames `frame2` from the file\n",
        "`colombia-real-estate-1.csv`."
      ],
      "metadata": {
        "id": "zGiwcq5Peo00"
      }
    },
    {
      "cell_type": "code",
      "source": [
        "frame2 = wrangle(\"colombia-real-estate-2.csv\")\n",
        "frame2.head()"
      ],
      "metadata": {
        "colab": {
          "base_uri": "https://localhost:8080/",
          "height": 357
        },
        "id": "oAUwvawNQxHb",
        "outputId": "b37b40f5-c053-47af-9108-e5384c64973e"
      },
      "execution_count": null,
      "outputs": [
        {
          "output_type": "execute_result",
          "data": {
            "text/plain": [
              "     operation property_type                   place_with_parent_names  \\\n",
              "3000      sell         house             |Colombia|Bogotá D.C|Kennedy|   \n",
              "3002      sell         house  |Colombia|Bogotá D.C|Rafael Uribe Uribe|   \n",
              "3011      sell         house                |Colombia|Bogotá D.C|Suba|   \n",
              "3014      sell         house             |Colombia|Bogotá D.C|Usaquén|   \n",
              "3015      sell         house                |Colombia|Bogotá D.C|Suba|   \n",
              "\n",
              "            price currency  price_aprox_local_currency  price_aprox_usd  \\\n",
              "3000  440000000.0      COP                4.434438e+08        148567.33   \n",
              "3002  334900000.0      COP                3.375212e+08        113080.00   \n",
              "3011  350000000.0      COP                3.527394e+08        118178.56   \n",
              "3014  910000000.0      COP                9.171224e+08        307264.26   \n",
              "3015  980000000.0      COP                9.876703e+08        330899.98   \n",
              "\n",
              "      surface_total_in_m2  surface_covered_in_m2  price_usd_per_m2  \\\n",
              "3000                161.0                  161.0        922.778447   \n",
              "3002                384.0                  131.0        294.479167   \n",
              "3011                112.0                  112.0       1055.165714   \n",
              "3014                  NaN                  164.0               NaN   \n",
              "3015                190.0                  190.0       1741.578842   \n",
              "\n",
              "      price_per_m2  floor  rooms  expenses  \\\n",
              "3000  2.732919e+06    NaN    4.0       NaN   \n",
              "3002  2.556489e+06    3.0   10.0       NaN   \n",
              "3011  3.125000e+06    NaN    3.0       NaN   \n",
              "3014  5.548780e+06    8.0    3.0       NaN   \n",
              "3015  5.157895e+06    NaN    2.0       NaN   \n",
              "\n",
              "                                          properati_url    lat     lon  \n",
              "3000  http://kennedy-bogota-d-c.properati.com.co/k4o...  4.631 -74.147  \n",
              "3002  http://rafael-uribe-uribe-bogota-d-c.properati...  4.585 -74.123  \n",
              "3011  http://suba-bogota-d-c.properati.com.co/k4qt_v...  4.747 -74.062  \n",
              "3014  http://usaquen-bogota-d-c.properati.com.co/k4r...  4.705 -74.044  \n",
              "3015  http://suba-bogota-d-c.properati.com.co/k4rx_v...  4.715 -74.095  "
            ],
            "text/html": [
              "\n",
              "  <div id=\"df-27cdc7b2-0c80-4715-b17e-954db0e5bdd2\">\n",
              "    <div class=\"colab-df-container\">\n",
              "      <div>\n",
              "<style scoped>\n",
              "    .dataframe tbody tr th:only-of-type {\n",
              "        vertical-align: middle;\n",
              "    }\n",
              "\n",
              "    .dataframe tbody tr th {\n",
              "        vertical-align: top;\n",
              "    }\n",
              "\n",
              "    .dataframe thead th {\n",
              "        text-align: right;\n",
              "    }\n",
              "</style>\n",
              "<table border=\"1\" class=\"dataframe\">\n",
              "  <thead>\n",
              "    <tr style=\"text-align: right;\">\n",
              "      <th></th>\n",
              "      <th>operation</th>\n",
              "      <th>property_type</th>\n",
              "      <th>place_with_parent_names</th>\n",
              "      <th>price</th>\n",
              "      <th>currency</th>\n",
              "      <th>price_aprox_local_currency</th>\n",
              "      <th>price_aprox_usd</th>\n",
              "      <th>surface_total_in_m2</th>\n",
              "      <th>surface_covered_in_m2</th>\n",
              "      <th>price_usd_per_m2</th>\n",
              "      <th>price_per_m2</th>\n",
              "      <th>floor</th>\n",
              "      <th>rooms</th>\n",
              "      <th>expenses</th>\n",
              "      <th>properati_url</th>\n",
              "      <th>lat</th>\n",
              "      <th>lon</th>\n",
              "    </tr>\n",
              "  </thead>\n",
              "  <tbody>\n",
              "    <tr>\n",
              "      <th>3000</th>\n",
              "      <td>sell</td>\n",
              "      <td>house</td>\n",
              "      <td>|Colombia|Bogotá D.C|Kennedy|</td>\n",
              "      <td>440000000.0</td>\n",
              "      <td>COP</td>\n",
              "      <td>4.434438e+08</td>\n",
              "      <td>148567.33</td>\n",
              "      <td>161.0</td>\n",
              "      <td>161.0</td>\n",
              "      <td>922.778447</td>\n",
              "      <td>2.732919e+06</td>\n",
              "      <td>NaN</td>\n",
              "      <td>4.0</td>\n",
              "      <td>NaN</td>\n",
              "      <td>http://kennedy-bogota-d-c.properati.com.co/k4o...</td>\n",
              "      <td>4.631</td>\n",
              "      <td>-74.147</td>\n",
              "    </tr>\n",
              "    <tr>\n",
              "      <th>3002</th>\n",
              "      <td>sell</td>\n",
              "      <td>house</td>\n",
              "      <td>|Colombia|Bogotá D.C|Rafael Uribe Uribe|</td>\n",
              "      <td>334900000.0</td>\n",
              "      <td>COP</td>\n",
              "      <td>3.375212e+08</td>\n",
              "      <td>113080.00</td>\n",
              "      <td>384.0</td>\n",
              "      <td>131.0</td>\n",
              "      <td>294.479167</td>\n",
              "      <td>2.556489e+06</td>\n",
              "      <td>3.0</td>\n",
              "      <td>10.0</td>\n",
              "      <td>NaN</td>\n",
              "      <td>http://rafael-uribe-uribe-bogota-d-c.properati...</td>\n",
              "      <td>4.585</td>\n",
              "      <td>-74.123</td>\n",
              "    </tr>\n",
              "    <tr>\n",
              "      <th>3011</th>\n",
              "      <td>sell</td>\n",
              "      <td>house</td>\n",
              "      <td>|Colombia|Bogotá D.C|Suba|</td>\n",
              "      <td>350000000.0</td>\n",
              "      <td>COP</td>\n",
              "      <td>3.527394e+08</td>\n",
              "      <td>118178.56</td>\n",
              "      <td>112.0</td>\n",
              "      <td>112.0</td>\n",
              "      <td>1055.165714</td>\n",
              "      <td>3.125000e+06</td>\n",
              "      <td>NaN</td>\n",
              "      <td>3.0</td>\n",
              "      <td>NaN</td>\n",
              "      <td>http://suba-bogota-d-c.properati.com.co/k4qt_v...</td>\n",
              "      <td>4.747</td>\n",
              "      <td>-74.062</td>\n",
              "    </tr>\n",
              "    <tr>\n",
              "      <th>3014</th>\n",
              "      <td>sell</td>\n",
              "      <td>house</td>\n",
              "      <td>|Colombia|Bogotá D.C|Usaquén|</td>\n",
              "      <td>910000000.0</td>\n",
              "      <td>COP</td>\n",
              "      <td>9.171224e+08</td>\n",
              "      <td>307264.26</td>\n",
              "      <td>NaN</td>\n",
              "      <td>164.0</td>\n",
              "      <td>NaN</td>\n",
              "      <td>5.548780e+06</td>\n",
              "      <td>8.0</td>\n",
              "      <td>3.0</td>\n",
              "      <td>NaN</td>\n",
              "      <td>http://usaquen-bogota-d-c.properati.com.co/k4r...</td>\n",
              "      <td>4.705</td>\n",
              "      <td>-74.044</td>\n",
              "    </tr>\n",
              "    <tr>\n",
              "      <th>3015</th>\n",
              "      <td>sell</td>\n",
              "      <td>house</td>\n",
              "      <td>|Colombia|Bogotá D.C|Suba|</td>\n",
              "      <td>980000000.0</td>\n",
              "      <td>COP</td>\n",
              "      <td>9.876703e+08</td>\n",
              "      <td>330899.98</td>\n",
              "      <td>190.0</td>\n",
              "      <td>190.0</td>\n",
              "      <td>1741.578842</td>\n",
              "      <td>5.157895e+06</td>\n",
              "      <td>NaN</td>\n",
              "      <td>2.0</td>\n",
              "      <td>NaN</td>\n",
              "      <td>http://suba-bogota-d-c.properati.com.co/k4rx_v...</td>\n",
              "      <td>4.715</td>\n",
              "      <td>-74.095</td>\n",
              "    </tr>\n",
              "  </tbody>\n",
              "</table>\n",
              "</div>\n",
              "      <button class=\"colab-df-convert\" onclick=\"convertToInteractive('df-27cdc7b2-0c80-4715-b17e-954db0e5bdd2')\"\n",
              "              title=\"Convert this dataframe to an interactive table.\"\n",
              "              style=\"display:none;\">\n",
              "        \n",
              "  <svg xmlns=\"http://www.w3.org/2000/svg\" height=\"24px\"viewBox=\"0 0 24 24\"\n",
              "       width=\"24px\">\n",
              "    <path d=\"M0 0h24v24H0V0z\" fill=\"none\"/>\n",
              "    <path d=\"M18.56 5.44l.94 2.06.94-2.06 2.06-.94-2.06-.94-.94-2.06-.94 2.06-2.06.94zm-11 1L8.5 8.5l.94-2.06 2.06-.94-2.06-.94L8.5 2.5l-.94 2.06-2.06.94zm10 10l.94 2.06.94-2.06 2.06-.94-2.06-.94-.94-2.06-.94 2.06-2.06.94z\"/><path d=\"M17.41 7.96l-1.37-1.37c-.4-.4-.92-.59-1.43-.59-.52 0-1.04.2-1.43.59L10.3 9.45l-7.72 7.72c-.78.78-.78 2.05 0 2.83L4 21.41c.39.39.9.59 1.41.59.51 0 1.02-.2 1.41-.59l7.78-7.78 2.81-2.81c.8-.78.8-2.07 0-2.86zM5.41 20L4 18.59l7.72-7.72 1.47 1.35L5.41 20z\"/>\n",
              "  </svg>\n",
              "      </button>\n",
              "      \n",
              "  <style>\n",
              "    .colab-df-container {\n",
              "      display:flex;\n",
              "      flex-wrap:wrap;\n",
              "      gap: 12px;\n",
              "    }\n",
              "\n",
              "    .colab-df-convert {\n",
              "      background-color: #E8F0FE;\n",
              "      border: none;\n",
              "      border-radius: 50%;\n",
              "      cursor: pointer;\n",
              "      display: none;\n",
              "      fill: #1967D2;\n",
              "      height: 32px;\n",
              "      padding: 0 0 0 0;\n",
              "      width: 32px;\n",
              "    }\n",
              "\n",
              "    .colab-df-convert:hover {\n",
              "      background-color: #E2EBFA;\n",
              "      box-shadow: 0px 1px 2px rgba(60, 64, 67, 0.3), 0px 1px 3px 1px rgba(60, 64, 67, 0.15);\n",
              "      fill: #174EA6;\n",
              "    }\n",
              "\n",
              "    [theme=dark] .colab-df-convert {\n",
              "      background-color: #3B4455;\n",
              "      fill: #D2E3FC;\n",
              "    }\n",
              "\n",
              "    [theme=dark] .colab-df-convert:hover {\n",
              "      background-color: #434B5C;\n",
              "      box-shadow: 0px 1px 3px 1px rgba(0, 0, 0, 0.15);\n",
              "      filter: drop-shadow(0px 1px 2px rgba(0, 0, 0, 0.3));\n",
              "      fill: #FFFFFF;\n",
              "    }\n",
              "  </style>\n",
              "\n",
              "      <script>\n",
              "        const buttonEl =\n",
              "          document.querySelector('#df-27cdc7b2-0c80-4715-b17e-954db0e5bdd2 button.colab-df-convert');\n",
              "        buttonEl.style.display =\n",
              "          google.colab.kernel.accessAllowed ? 'block' : 'none';\n",
              "\n",
              "        async function convertToInteractive(key) {\n",
              "          const element = document.querySelector('#df-27cdc7b2-0c80-4715-b17e-954db0e5bdd2');\n",
              "          const dataTable =\n",
              "            await google.colab.kernel.invokeFunction('convertToInteractive',\n",
              "                                                     [key], {});\n",
              "          if (!dataTable) return;\n",
              "\n",
              "          const docLinkHtml = 'Like what you see? Visit the ' +\n",
              "            '<a target=\"_blank\" href=https://colab.research.google.com/notebooks/data_table.ipynb>data table notebook</a>'\n",
              "            + ' to learn more about interactive tables.';\n",
              "          element.innerHTML = '';\n",
              "          dataTable['output_type'] = 'display_data';\n",
              "          await google.colab.output.renderOutput(dataTable, element);\n",
              "          const docLink = document.createElement('div');\n",
              "          docLink.innerHTML = docLinkHtml;\n",
              "          element.appendChild(docLink);\n",
              "        }\n",
              "      </script>\n",
              "    </div>\n",
              "  </div>\n",
              "  "
            ]
          },
          "metadata": {},
          "execution_count": 6
        }
      ]
    },
    {
      "cell_type": "markdown",
      "source": [
        "Let’s combine our DataFrames so we can use then to train our model."
      ],
      "metadata": {
        "id": "iTdul_4zfRUg"
      }
    },
    {
      "cell_type": "code",
      "source": [
        "df = pd.concat([frame1,frame2], ignore_index=True )\n",
        "print(df.info())\n",
        "df.head()"
      ],
      "metadata": {
        "id": "1eCVk2YrlKVW",
        "colab": {
          "base_uri": "https://localhost:8080/",
          "height": 791
        },
        "outputId": "baf3a1a9-56ca-426c-bc6a-d31f57e3455a"
      },
      "execution_count": null,
      "outputs": [
        {
          "output_type": "stream",
          "name": "stdout",
          "text": [
            "<class 'pandas.core.frame.DataFrame'>\n",
            "RangeIndex: 1199 entries, 0 to 1198\n",
            "Data columns (total 17 columns):\n",
            " #   Column                      Non-Null Count  Dtype  \n",
            "---  ------                      --------------  -----  \n",
            " 0   operation                   1199 non-null   object \n",
            " 1   property_type               1199 non-null   object \n",
            " 2   place_with_parent_names     1199 non-null   object \n",
            " 3   price                       1199 non-null   float64\n",
            " 4   currency                    1199 non-null   object \n",
            " 5   price_aprox_local_currency  1199 non-null   float64\n",
            " 6   price_aprox_usd             1199 non-null   float64\n",
            " 7   surface_total_in_m2         431 non-null    float64\n",
            " 8   surface_covered_in_m2       1199 non-null   float64\n",
            " 9   price_usd_per_m2            431 non-null    float64\n",
            " 10  price_per_m2                1199 non-null   float64\n",
            " 11  floor                       818 non-null    float64\n",
            " 12  rooms                       1162 non-null   float64\n",
            " 13  expenses                    1 non-null      float64\n",
            " 14  properati_url               1199 non-null   object \n",
            " 15  lat                         1199 non-null   float64\n",
            " 16  lon                         1199 non-null   float64\n",
            "dtypes: float64(12), object(5)\n",
            "memory usage: 159.4+ KB\n",
            "None\n"
          ]
        },
        {
          "output_type": "execute_result",
          "data": {
            "text/plain": [
              "  operation property_type             place_with_parent_names         price  \\\n",
              "0      sell         house       |Colombia|Bogotá D.C|Usaquén|  6.300000e+08   \n",
              "1      sell         house  |Colombia|Bogotá D.C|Los Mártires|  5.000000e+08   \n",
              "2      sell         house          |Colombia|Bogotá D.C|Suba|  3.950000e+08   \n",
              "3      sell         house       |Colombia|Bogotá D.C|Usaquén|  1.100000e+09   \n",
              "4      sell         house          |Colombia|Bogotá D.C|Suba|  7.000000e+08   \n",
              "\n",
              "  currency  price_aprox_local_currency  price_aprox_usd  surface_total_in_m2  \\\n",
              "0      COP                6.349309e+08        212721.41                  NaN   \n",
              "1      COP                5.039134e+08        168826.52                  NaN   \n",
              "2      COP                3.980916e+08        133372.95                  NaN   \n",
              "3      COP                1.108609e+09        371418.34                  NaN   \n",
              "4      COP                7.054787e+08        236357.12                  NaN   \n",
              "\n",
              "   surface_covered_in_m2  price_usd_per_m2  price_per_m2  floor  rooms  \\\n",
              "0                  135.0               NaN  4.666667e+06    NaN    3.0   \n",
              "1                  240.0               NaN  2.083333e+06    NaN    3.0   \n",
              "2                  134.0               NaN  2.947761e+06    NaN    3.0   \n",
              "3                  143.0               NaN  7.692308e+06    NaN    3.0   \n",
              "4                  248.0               NaN  2.822581e+06    2.0    4.0   \n",
              "\n",
              "   expenses                                      properati_url    lat     lon  \n",
              "0       NaN  http://usaquen-bogota-d-c.properati.com.co/jm3...  4.724 -74.023  \n",
              "1       NaN  http://los-martires-bogota-d-c.properati.com.c...  4.618 -74.081  \n",
              "2       NaN  http://suba-bogota-d-c.properati.com.co/jm4g_v...  4.729 -74.053  \n",
              "3       NaN  http://usaquen-bogota-d-c.properati.com.co/jm4...  4.667 -74.050  \n",
              "4       NaN  http://suba-bogota-d-c.properati.com.co/jm5d_v...  4.702 -74.060  "
            ],
            "text/html": [
              "\n",
              "  <div id=\"df-7a3a4741-eded-4dbf-b8fb-defe8d56273a\">\n",
              "    <div class=\"colab-df-container\">\n",
              "      <div>\n",
              "<style scoped>\n",
              "    .dataframe tbody tr th:only-of-type {\n",
              "        vertical-align: middle;\n",
              "    }\n",
              "\n",
              "    .dataframe tbody tr th {\n",
              "        vertical-align: top;\n",
              "    }\n",
              "\n",
              "    .dataframe thead th {\n",
              "        text-align: right;\n",
              "    }\n",
              "</style>\n",
              "<table border=\"1\" class=\"dataframe\">\n",
              "  <thead>\n",
              "    <tr style=\"text-align: right;\">\n",
              "      <th></th>\n",
              "      <th>operation</th>\n",
              "      <th>property_type</th>\n",
              "      <th>place_with_parent_names</th>\n",
              "      <th>price</th>\n",
              "      <th>currency</th>\n",
              "      <th>price_aprox_local_currency</th>\n",
              "      <th>price_aprox_usd</th>\n",
              "      <th>surface_total_in_m2</th>\n",
              "      <th>surface_covered_in_m2</th>\n",
              "      <th>price_usd_per_m2</th>\n",
              "      <th>price_per_m2</th>\n",
              "      <th>floor</th>\n",
              "      <th>rooms</th>\n",
              "      <th>expenses</th>\n",
              "      <th>properati_url</th>\n",
              "      <th>lat</th>\n",
              "      <th>lon</th>\n",
              "    </tr>\n",
              "  </thead>\n",
              "  <tbody>\n",
              "    <tr>\n",
              "      <th>0</th>\n",
              "      <td>sell</td>\n",
              "      <td>house</td>\n",
              "      <td>|Colombia|Bogotá D.C|Usaquén|</td>\n",
              "      <td>6.300000e+08</td>\n",
              "      <td>COP</td>\n",
              "      <td>6.349309e+08</td>\n",
              "      <td>212721.41</td>\n",
              "      <td>NaN</td>\n",
              "      <td>135.0</td>\n",
              "      <td>NaN</td>\n",
              "      <td>4.666667e+06</td>\n",
              "      <td>NaN</td>\n",
              "      <td>3.0</td>\n",
              "      <td>NaN</td>\n",
              "      <td>http://usaquen-bogota-d-c.properati.com.co/jm3...</td>\n",
              "      <td>4.724</td>\n",
              "      <td>-74.023</td>\n",
              "    </tr>\n",
              "    <tr>\n",
              "      <th>1</th>\n",
              "      <td>sell</td>\n",
              "      <td>house</td>\n",
              "      <td>|Colombia|Bogotá D.C|Los Mártires|</td>\n",
              "      <td>5.000000e+08</td>\n",
              "      <td>COP</td>\n",
              "      <td>5.039134e+08</td>\n",
              "      <td>168826.52</td>\n",
              "      <td>NaN</td>\n",
              "      <td>240.0</td>\n",
              "      <td>NaN</td>\n",
              "      <td>2.083333e+06</td>\n",
              "      <td>NaN</td>\n",
              "      <td>3.0</td>\n",
              "      <td>NaN</td>\n",
              "      <td>http://los-martires-bogota-d-c.properati.com.c...</td>\n",
              "      <td>4.618</td>\n",
              "      <td>-74.081</td>\n",
              "    </tr>\n",
              "    <tr>\n",
              "      <th>2</th>\n",
              "      <td>sell</td>\n",
              "      <td>house</td>\n",
              "      <td>|Colombia|Bogotá D.C|Suba|</td>\n",
              "      <td>3.950000e+08</td>\n",
              "      <td>COP</td>\n",
              "      <td>3.980916e+08</td>\n",
              "      <td>133372.95</td>\n",
              "      <td>NaN</td>\n",
              "      <td>134.0</td>\n",
              "      <td>NaN</td>\n",
              "      <td>2.947761e+06</td>\n",
              "      <td>NaN</td>\n",
              "      <td>3.0</td>\n",
              "      <td>NaN</td>\n",
              "      <td>http://suba-bogota-d-c.properati.com.co/jm4g_v...</td>\n",
              "      <td>4.729</td>\n",
              "      <td>-74.053</td>\n",
              "    </tr>\n",
              "    <tr>\n",
              "      <th>3</th>\n",
              "      <td>sell</td>\n",
              "      <td>house</td>\n",
              "      <td>|Colombia|Bogotá D.C|Usaquén|</td>\n",
              "      <td>1.100000e+09</td>\n",
              "      <td>COP</td>\n",
              "      <td>1.108609e+09</td>\n",
              "      <td>371418.34</td>\n",
              "      <td>NaN</td>\n",
              "      <td>143.0</td>\n",
              "      <td>NaN</td>\n",
              "      <td>7.692308e+06</td>\n",
              "      <td>NaN</td>\n",
              "      <td>3.0</td>\n",
              "      <td>NaN</td>\n",
              "      <td>http://usaquen-bogota-d-c.properati.com.co/jm4...</td>\n",
              "      <td>4.667</td>\n",
              "      <td>-74.050</td>\n",
              "    </tr>\n",
              "    <tr>\n",
              "      <th>4</th>\n",
              "      <td>sell</td>\n",
              "      <td>house</td>\n",
              "      <td>|Colombia|Bogotá D.C|Suba|</td>\n",
              "      <td>7.000000e+08</td>\n",
              "      <td>COP</td>\n",
              "      <td>7.054787e+08</td>\n",
              "      <td>236357.12</td>\n",
              "      <td>NaN</td>\n",
              "      <td>248.0</td>\n",
              "      <td>NaN</td>\n",
              "      <td>2.822581e+06</td>\n",
              "      <td>2.0</td>\n",
              "      <td>4.0</td>\n",
              "      <td>NaN</td>\n",
              "      <td>http://suba-bogota-d-c.properati.com.co/jm5d_v...</td>\n",
              "      <td>4.702</td>\n",
              "      <td>-74.060</td>\n",
              "    </tr>\n",
              "  </tbody>\n",
              "</table>\n",
              "</div>\n",
              "      <button class=\"colab-df-convert\" onclick=\"convertToInteractive('df-7a3a4741-eded-4dbf-b8fb-defe8d56273a')\"\n",
              "              title=\"Convert this dataframe to an interactive table.\"\n",
              "              style=\"display:none;\">\n",
              "        \n",
              "  <svg xmlns=\"http://www.w3.org/2000/svg\" height=\"24px\"viewBox=\"0 0 24 24\"\n",
              "       width=\"24px\">\n",
              "    <path d=\"M0 0h24v24H0V0z\" fill=\"none\"/>\n",
              "    <path d=\"M18.56 5.44l.94 2.06.94-2.06 2.06-.94-2.06-.94-.94-2.06-.94 2.06-2.06.94zm-11 1L8.5 8.5l.94-2.06 2.06-.94-2.06-.94L8.5 2.5l-.94 2.06-2.06.94zm10 10l.94 2.06.94-2.06 2.06-.94-2.06-.94-.94-2.06-.94 2.06-2.06.94z\"/><path d=\"M17.41 7.96l-1.37-1.37c-.4-.4-.92-.59-1.43-.59-.52 0-1.04.2-1.43.59L10.3 9.45l-7.72 7.72c-.78.78-.78 2.05 0 2.83L4 21.41c.39.39.9.59 1.41.59.51 0 1.02-.2 1.41-.59l7.78-7.78 2.81-2.81c.8-.78.8-2.07 0-2.86zM5.41 20L4 18.59l7.72-7.72 1.47 1.35L5.41 20z\"/>\n",
              "  </svg>\n",
              "      </button>\n",
              "      \n",
              "  <style>\n",
              "    .colab-df-container {\n",
              "      display:flex;\n",
              "      flex-wrap:wrap;\n",
              "      gap: 12px;\n",
              "    }\n",
              "\n",
              "    .colab-df-convert {\n",
              "      background-color: #E8F0FE;\n",
              "      border: none;\n",
              "      border-radius: 50%;\n",
              "      cursor: pointer;\n",
              "      display: none;\n",
              "      fill: #1967D2;\n",
              "      height: 32px;\n",
              "      padding: 0 0 0 0;\n",
              "      width: 32px;\n",
              "    }\n",
              "\n",
              "    .colab-df-convert:hover {\n",
              "      background-color: #E2EBFA;\n",
              "      box-shadow: 0px 1px 2px rgba(60, 64, 67, 0.3), 0px 1px 3px 1px rgba(60, 64, 67, 0.15);\n",
              "      fill: #174EA6;\n",
              "    }\n",
              "\n",
              "    [theme=dark] .colab-df-convert {\n",
              "      background-color: #3B4455;\n",
              "      fill: #D2E3FC;\n",
              "    }\n",
              "\n",
              "    [theme=dark] .colab-df-convert:hover {\n",
              "      background-color: #434B5C;\n",
              "      box-shadow: 0px 1px 3px 1px rgba(0, 0, 0, 0.15);\n",
              "      filter: drop-shadow(0px 1px 2px rgba(0, 0, 0, 0.3));\n",
              "      fill: #FFFFFF;\n",
              "    }\n",
              "  </style>\n",
              "\n",
              "      <script>\n",
              "        const buttonEl =\n",
              "          document.querySelector('#df-7a3a4741-eded-4dbf-b8fb-defe8d56273a button.colab-df-convert');\n",
              "        buttonEl.style.display =\n",
              "          google.colab.kernel.accessAllowed ? 'block' : 'none';\n",
              "\n",
              "        async function convertToInteractive(key) {\n",
              "          const element = document.querySelector('#df-7a3a4741-eded-4dbf-b8fb-defe8d56273a');\n",
              "          const dataTable =\n",
              "            await google.colab.kernel.invokeFunction('convertToInteractive',\n",
              "                                                     [key], {});\n",
              "          if (!dataTable) return;\n",
              "\n",
              "          const docLinkHtml = 'Like what you see? Visit the ' +\n",
              "            '<a target=\"_blank\" href=https://colab.research.google.com/notebooks/data_table.ipynb>data table notebook</a>'\n",
              "            + ' to learn more about interactive tables.';\n",
              "          element.innerHTML = '';\n",
              "          dataTable['output_type'] = 'display_data';\n",
              "          await google.colab.output.renderOutput(dataTable, element);\n",
              "          const docLink = document.createElement('div');\n",
              "          docLink.innerHTML = docLinkHtml;\n",
              "          element.appendChild(docLink);\n",
              "        }\n",
              "      </script>\n",
              "    </div>\n",
              "  </div>\n",
              "  "
            ]
          },
          "metadata": {},
          "execution_count": 7
        }
      ]
    },
    {
      "cell_type": "markdown",
      "source": [
        "## Explore"
      ],
      "metadata": {
        "id": "DSawr-wyfWYd"
      }
    },
    {
      "cell_type": "markdown",
      "source": [
        "In this notebook, we’re building a multiple linear regression\n",
        "model that predicts price based on two features, `\"lon\"` and `\"lat\"`. This means that our data\n",
        "visualizations now have to communicate three pieces of information: Longitude, latitude, and\n",
        "price. How can we represent these three attributes on a two-dimensional screen?\n",
        "One option is to incorporate color into our **scatter plot**."
      ],
      "metadata": {
        "id": "i9guxMeDfft_"
      }
    },
    {
      "cell_type": "code",
      "source": [
        "fig = px.scatter_mapbox(\n",
        "            df, # Our DataFrame\n",
        "            lat=\"lat\",\n",
        "            lon=\"lon\",\n",
        "            width=600, # Width of map\n",
        "            height=600, # Height of map\n",
        "            color=\"price_aprox_usd\",\n",
        "            hover_data=[\"price_aprox_usd\"], # Display price when hovering mouse over house\n",
        ")\n",
        "fig.update_layout(mapbox_style=\"open-street-map\")\n",
        "fig.show()"
      ],
      "metadata": {
        "colab": {
          "base_uri": "https://localhost:8080/",
          "height": 637
        },
        "id": "ou7JXLPzljG8",
        "outputId": "350b15a2-44ae-46f9-df79-002ed343af65"
      },
      "execution_count": null,
      "outputs": [
        {
          "output_type": "display_data",
          "data": {
            "text/html": [
              "<html>\n",
              "<head><meta charset=\"utf-8\" /></head>\n",
              "<body>\n",
              "    <div>            <script src=\"https://cdnjs.cloudflare.com/ajax/libs/mathjax/2.7.5/MathJax.js?config=TeX-AMS-MML_SVG\"></script><script type=\"text/javascript\">if (window.MathJax && window.MathJax.Hub && window.MathJax.Hub.Config) {window.MathJax.Hub.Config({SVG: {font: \"STIX-Web\"}});}</script>                <script type=\"text/javascript\">window.PlotlyConfig = {MathJaxConfig: 'local'};</script>\n",
              "        <script src=\"https://cdn.plot.ly/plotly-2.18.2.min.js\"></script>                <div id=\"3ad0126b-e166-4ab9-a6f1-20f76817588b\" class=\"plotly-graph-div\" style=\"height:600px; width:600px;\"></div>            <script type=\"text/javascript\">                                    window.PLOTLYENV=window.PLOTLYENV || {};                                    if (document.getElementById(\"3ad0126b-e166-4ab9-a6f1-20f76817588b\")) {                    Plotly.newPlot(                        \"3ad0126b-e166-4ab9-a6f1-20f76817588b\",                        [{\"customdata\":[[212721.41],[168826.52],[133372.95],[371418.34],[236357.12],[202591.82],[300511.2],[168826.52],[121555.09],[280252.02],[212721.41],[175579.58],[212721.41],[253239.78],[199215.29],[257207.2],[216435.59],[270122.43],[320770.38],[320770.38],[243110.18],[287005.08],[217786.21],[219474.47],[256616.31],[118178.56],[101295.91],[141814.27],[145190.8],[84413.26],[172203.05],[158696.92],[253239.78],[84413.26],[202591.82],[253239.78],[162073.45],[202591.82],[323504.7],[341568.12],[359394.85],[162073.45],[330899.98],[229604.06],[229604.06],[364665.28],[388300.99],[79348.46],[75971.93],[219474.47],[270122.43],[162073.45],[320770.38],[73946.01],[73608.36],[276875.49],[158696.92],[287005.08],[310640.79],[141814.27],[371418.34],[138437.74],[347782.63],[189085.7],[78676.53],[287005.08],[243110.18],[246486.72],[131684.68],[82724.99],[131684.68],[354535.69],[270122.43],[131684.68],[155320.39],[378171.4],[97919.38],[92854.58],[371418.34],[101295.91],[155320.39],[219474.47],[371418.34],[175579.58],[253239.78],[162073.45],[168826.52],[256616.31],[229604.06],[143502.54],[300477.44],[236323.36],[246486.72],[150221.83],[175545.81],[106360.7],[138437.74],[158663.16],[371418.34],[320736.62],[163727.95],[230954.68],[202591.82],[189085.7],[212721.41],[337653.04],[162073.45],[378171.4],[162073.45],[106360.7],[162073.45],[253239.78],[134385.91],[300511.2],[320770.38],[219474.47],[124931.62],[290381.61],[108048.97],[120542.13],[287005.08],[202591.82],[205968.35],[121555.09],[118178.56],[185709.17],[303887.73],[111425.5],[169574.42],[243520.43],[234668.86],[167138.25],[126619.89],[121555.09],[155320.39],[253239.78],[168826.52],[151943.86],[287005.08],[129996.42],[195838.76],[101295.91],[118178.56],[195838.76],[276875.49],[202591.82],[371418.34],[114802.03],[371418.34],[151943.86],[94542.85],[287005.08],[155320.39],[354535.69],[229604.06],[190773.96],[320770.38],[108048.97],[308952.53],[175579.58],[266745.9],[162073.45],[178956.11],[303887.73],[121555.09],[276875.49],[371418.34],[253239.78],[256616.31],[334276.51],[236357.12],[297134.67],[226396.02],[101295.91],[308952.53],[141814.27],[287005.08],[219474.47],[232980.59],[219474.47],[135061.21],[108048.97],[192462.23],[151943.86],[320770.38],[219474.47],[334276.51],[354535.69],[178956.11],[155320.39],[136183.19],[256997.71],[91166.32],[128308.15],[57063.36],[108048.97],[104672.44],[310640.79],[167138.25],[151943.86],[132697.64],[290381.61],[182332.64],[141814.27],[239733.65],[209007.23],[236357.12],[229604.06],[371418.34],[229604.06],[287005.08],[287005.08],[231292.33],[173891.31],[253239.78],[111425.5],[297134.67],[270122.43],[287005.08],[121217.44],[131684.68],[197527.02],[290381.61],[141814.27],[131684.68],[151943.86],[229604.06],[371418.34],[354535.69],[128308.15],[117165.6],[151943.86],[185709.17],[236357.12],[118178.56],[300173.55],[259992.84],[320770.38],[114802.03],[310640.79],[312315.38],[320770.38],[330899.98],[175579.58],[212721.41],[236357.12],[211033.15],[97919.38],[263369.37],[151943.86],[298822.94],[151943.86],[143502.54],[118178.56],[145190.8],[108048.97],[113113.76],[229604.06],[337653.04],[101295.91],[133372.95],[160385.19],[253239.78],[330899.98],[138437.74],[253239.78],[286667.43],[320432.73],[155320.39],[67530.6],[160385.19],[354974.64],[151943.86],[253239.78],[111425.5],[87789.79],[74249.9],[141814.27],[263369.37],[330899.98],[226227.53],[253239.78],[388300.99],[270122.43],[314017.32],[151943.86],[226227.53],[283628.55],[253239.78],[219474.47],[70907.13],[320770.38],[151943.86],[151943.86],[218123.86],[151943.86],[393216.55],[180744.15],[223384.33],[379014.35],[260668.14],[324146.91],[219474.47],[94542.85],[368041.81],[253239.78],[226227.53],[145190.8],[283628.55],[330899.98],[121521.32],[195838.76],[310640.79],[172203.05],[185709.17],[354535.69],[222851.0],[236357.12],[99607.64],[216097.94],[124931.62],[108048.97],[337653.04],[330899.98],[145190.8],[121555.09],[145190.8],[121555.09],[236357.12],[143468.77],[131684.68],[256616.31],[145190.8],[94542.85],[94542.85],[121555.09],[76984.89],[97919.38],[346094.36],[335964.77],[138437.74],[185709.17],[205968.35],[202591.82],[388300.99],[301186.51],[202591.82],[202591.82],[165449.99],[178956.11],[129658.76],[170514.78],[148567.33],[246486.72],[287005.08],[199215.29],[199215.29],[263369.37],[167138.25],[337315.38],[135061.21],[109737.23],[253239.78],[327523.45],[337653.04],[209344.88],[185709.17],[222851.0],[226227.53],[121555.09],[253239.78],[388300.99],[297134.67],[287005.08],[280252.02],[371418.34],[320770.38],[145190.8],[138437.74],[330899.98],[253239.78],[108048.97],[182332.64],[388300.99],[236357.12],[236357.12],[77660.19],[64154.07],[151943.86],[263369.37],[234668.86],[320770.38],[229604.06],[219474.47],[118178.56],[182332.64],[138437.74],[54699.79],[91166.32],[185709.17],[141814.27],[263369.37],[141814.27],[74283.66],[145190.8],[236357.12],[371418.34],[253239.78],[140126.01],[320770.38],[91166.32],[189085.7],[178956.11],[253239.78],[253239.78],[219474.47],[148567.33],[263369.37],[219474.47],[165449.99],[91166.32],[101295.91],[148229.68],[101295.91],[158696.92],[270122.43],[303887.73],[124931.62],[106360.7],[77660.19],[163761.72],[162073.45],[238821.99],[151943.86],[219474.47],[67530.6],[226227.53],[395054.05],[283628.55],[337653.04],[263369.37],[276875.49],[302942.3],[239733.65],[168151.21],[219474.47],[168826.52],[185709.17],[79348.46],[283290.9],[263369.37],[185709.17],[222851.0],[303887.73],[86101.52],[202591.82],[330899.98],[270122.43],[165449.99],[192462.23],[164099.37],[217786.21],[273498.96],[309290.18],[168826.52],[158696.92],[246486.72],[371418.34],[195838.76],[371418.34],[141814.27],[197527.02],[253239.78],[256616.31],[168826.52],[155320.39],[278563.75],[185709.17],[276200.18],[87789.79],[320770.38],[287005.08],[287005.08],[337653.04],[300511.2],[215760.29],[320770.38],[189085.7],[320770.38],[246486.72],[281940.28],[178956.11],[175579.58],[163761.72],[194150.49],[215760.29],[212721.41],[219474.47],[82724.99],[287005.08],[118178.56],[229604.06],[312329.06],[300511.2],[148567.33],[113080.0],[118178.56],[307264.26],[330899.98],[133372.95],[195838.76],[397755.28],[87789.79],[195838.76],[310640.79],[314017.32],[89478.05],[315705.59],[273498.96],[229604.06],[280252.02],[330899.98],[354535.69],[388300.99],[263369.37],[135027.45],[253239.78],[202591.82],[175579.58],[141814.27],[287005.08],[119866.82],[300511.2],[236357.12],[116490.29],[33765.3],[72595.4],[84379.49],[131684.68],[395054.05],[219474.47],[151943.86],[209344.88],[334276.51],[209344.88],[83737.95],[87789.79],[119866.82],[283628.55],[337653.04],[222851.0],[243110.18],[371418.34],[198539.98],[219474.47],[110750.19],[141814.27],[222851.0],[62465.81],[119866.82],[162073.45],[141814.27],[246486.72],[167138.25],[280252.02],[77626.43],[276875.49],[113113.76],[158696.92],[162073.45],[119866.82],[219474.51],[310640.79],[258304.57],[131684.68],[219474.47],[209344.88],[138437.74],[141814.27],[151943.86],[330899.98],[150255.6],[126619.89],[84413.26],[104672.44],[40518.36],[133372.95],[60777.54],[141814.27],[101295.91],[54024.48],[151943.86],[253239.78],[252226.82],[136749.48],[303887.73],[388300.99],[135061.21],[151943.86],[226227.53],[236357.12],[47271.42],[137828.95],[293758.14],[162073.45],[270122.43],[100282.95],[300511.2],[79348.46],[79348.46],[79348.46],[79348.46],[79348.46],[79348.46],[79348.46],[79348.46],[79348.46],[79348.46],[138437.74],[162073.45],[253239.78],[151943.86],[151943.86],[138437.74],[337653.04],[67496.84],[114802.03],[330899.98],[129996.42],[162073.45],[310640.79],[297134.67],[158021.62],[141814.27],[202591.82],[138437.74],[205968.35],[320770.38],[209344.88],[251551.51],[55712.75],[287005.08],[151943.86],[185709.17],[287005.08],[195838.76],[324146.91],[121555.09],[157008.66],[248512.63],[264373.73],[243110.18],[158696.92],[148567.33],[232980.59],[253239.78],[266745.9],[263369.37],[117840.91],[157008.66],[158696.92],[276875.49],[145190.8],[378171.4],[229604.06],[200903.55],[175579.58],[145190.8],[148567.33],[118178.56],[74283.66],[104334.78],[300511.2],[124931.62],[388300.99],[87789.79],[67496.84],[263369.37],[99607.64],[185709.17],[97919.38],[135061.21],[128308.15],[297134.67],[168826.52],[236357.12],[287005.08],[57367.25],[206643.66],[303887.73],[185709.17],[131684.68],[185709.17],[329211.71],[222851.0],[185709.17],[222851.0],[121555.09],[104672.44],[202591.82],[108048.97],[108048.97],[263369.37],[141814.27],[303887.73],[209344.88],[334276.51],[280252.02],[219474.47],[189085.7],[233133.36],[99607.64],[94542.85],[263369.37],[163761.72],[79348.46],[320770.38],[371418.34],[177267.84],[158696.92],[133372.95],[165449.99],[60777.54],[135061.21],[45583.16],[330899.98],[208669.57],[148567.33],[151943.86],[158696.92],[60777.54],[334276.51],[199215.29],[354535.69],[327523.45],[219474.47],[161735.8],[166125.29],[178956.11],[128308.15],[151943.86],[280252.02],[74283.66],[175241.92],[113113.76],[74283.66],[209344.88],[183683.25],[169501.82],[145190.8],[158696.92],[334276.51],[101295.91],[65842.34],[141814.27],[320770.38],[178956.11],[60777.54],[101295.91],[104672.44],[98594.68],[64154.07],[300511.2],[168792.75],[79348.46],[187397.43],[145190.8],[216097.94],[175008.94],[136749.48],[108048.97],[276875.49],[128308.15],[108048.97],[121555.09],[163687.6],[79348.46],[158696.92],[368041.81],[135061.21],[70907.13],[287005.08],[266745.9],[151943.86],[119866.82],[162073.45],[195838.76],[232980.59],[57367.25],[189085.7],[185709.17],[118178.56],[97919.38],[232980.59],[101295.91],[104672.44],[182332.64],[287005.08],[135061.21],[232980.59],[270122.43],[257144.32],[135061.21],[128308.15],[278563.75],[145190.8],[195838.76],[276875.49],[188410.39],[153632.13],[124931.62],[131684.68],[243110.18],[158359.27],[84413.26],[81036.72],[70907.13],[54024.48],[138437.74],[219474.47],[131684.68],[154286.59],[154286.59],[154286.59],[304225.39],[123243.36],[116827.95],[123243.36],[115646.16],[116490.29],[212721.41],[276875.49],[172203.05],[162073.45],[278563.75],[141814.27],[103997.13],[128308.15],[145190.8],[287005.08],[116490.29],[371418.34],[47271.42],[101295.91],[280252.02],[151943.86],[276875.49],[212721.41],[310640.79],[151943.86],[337653.04],[201916.51],[303887.73],[140126.01],[259992.84],[128308.15],[101295.91],[189085.7],[303887.73],[101295.91],[97919.38],[197527.02],[212721.41],[135061.21],[118178.56],[47237.66],[212957.77],[202591.82],[388300.99],[268434.16],[287005.08],[200903.55],[226227.53],[224539.27],[185709.17],[371418.34],[165449.99],[253239.78],[114802.03],[227240.49],[118178.56],[162073.45],[121555.09],[287005.08],[89478.05],[121555.09],[60777.54],[128308.15],[118178.56],[74283.66],[189085.7],[146879.07],[297134.67],[276875.49],[214409.68],[170514.78],[47271.42],[151943.86],[91166.32],[200903.55],[239733.65],[155320.39],[185709.17],[168826.52],[167138.25],[14147.66],[185709.17],[113113.76],[100282.95],[319440.71],[242691.49],[228591.78],[343074.06],[283628.55],[140126.01],[143502.54],[356561.61],[253239.78],[118178.56],[252902.12],[287005.08],[246486.72],[54024.48],[303550.08],[165449.99],[202591.82],[70231.83],[131684.68],[108048.97],[124931.62],[94542.85],[287005.08],[145190.8],[303887.73],[172203.05],[232980.59],[246486.72],[232980.59],[121555.09],[320770.38],[150255.6],[175579.58],[226227.53],[59089.28],[137762.44],[224633.81],[268867.71],[257144.32],[257144.32],[131684.68],[175579.58],[162073.45],[75429.0],[354535.69],[52336.22],[72595.4],[287005.08],[104672.44],[232980.59],[263369.37],[118178.56],[121555.09],[343730.79],[70907.13],[202591.82],[391677.52],[200228.25],[257144.32],[257144.32],[335964.77],[108048.97],[302199.47],[118178.56],[239733.65],[232980.59],[239733.65],[173891.31],[190773.96],[102984.17],[94509.08],[145190.8],[143502.54],[246486.72],[371418.34],[128308.15],[5495.89],[135061.21],[158696.92],[182332.64],[54480.31],[84075.6],[121555.09],[276875.49],[25965.51],[192462.23],[109737.23],[175579.58],[222851.0],[268434.16],[104672.44],[157008.66],[77322.54],[99607.64],[84413.26],[290381.61],[280252.02],[207977.39],[172203.05],[128308.15],[192462.23],[138437.74],[320770.38],[258304.57],[189085.7],[253239.78],[48284.38],[47237.66],[172203.05],[124593.97],[123243.36],[108048.97],[165449.99],[145190.8],[283628.55],[185709.17],[57401.01],[265057.63],[283628.55],[118178.56],[212721.41],[136411.82],[295446.41],[236357.12],[246486.72],[84750.91],[229604.06],[200903.55],[141814.27],[87789.79],[126619.89],[119866.82],[87789.79],[335964.77],[55712.75],[102984.17],[263369.37],[138280.4],[175913.64],[168826.52],[57401.01],[135061.21],[163531.1],[114802.03],[243553.14],[185709.17],[124931.62],[45583.16],[266745.9],[371418.34],[172203.05],[138437.74],[81036.72],[200903.55],[199215.29],[118178.56],[116490.29],[115646.16],[135061.21],[148567.33],[168826.52],[276875.49],[280252.02],[202591.82],[303887.73],[371418.34],[263369.37],[118178.56],[249863.25],[145190.8],[199215.29],[185709.17],[199215.29],[89478.05],[189085.7],[158696.92],[118178.56],[398430.58],[175579.58],[81036.72],[86101.52],[141814.27],[86101.52],[243110.18],[263369.37],[212721.41],[86101.52],[128308.15],[151943.86],[151943.86],[205968.35],[195838.76],[259992.84],[101295.91],[395054.05],[212721.41],[290381.61],[123243.36],[202591.82],[243110.18],[303887.73],[153632.13],[329273.48],[287005.08],[232980.59],[310640.79],[303887.73],[270122.43],[167475.9],[125606.93],[148567.33],[97919.38],[131684.68],[243110.18],[162073.45],[118178.56],[165449.99],[253239.78],[119866.82],[232980.59],[96231.11],[121555.09],[209344.88],[337653.04],[303887.73],[175579.58],[111087.85],[303887.73],[131684.68],[200903.55],[162073.45],[175579.58],[114802.03],[108048.97],[92854.58],[109737.23],[320770.38],[162073.45],[162073.45],[150255.6],[131684.68],[371418.34],[97919.38],[320770.38],[80361.42],[128308.15],[110750.19],[128308.15],[151943.86],[388300.99],[43894.89],[287005.08],[54024.48],[55712.75],[108048.97],[97919.38],[239733.65],[199215.29],[124931.62],[109737.23],[219474.47],[151943.86],[168488.86],[162073.45],[249863.25],[84413.26],[43894.89],[300511.2],[219474.47],[126619.89],[319082.12],[253239.78],[138437.74],[92854.58],[160385.19],[84413.26],[121555.09],[302199.47],[57401.01],[176151.56],[189085.7],[283628.55],[118853.87],[162073.45],[232980.59],[151943.86],[97919.38],[276875.49],[114802.03],[162073.45]],\"hovertemplate\":\"lat=%{lat}<br>lon=%{lon}<br>price_aprox_usd=%{marker.color}<extra></extra>\",\"lat\":[4.724,4.618,4.729,4.667,4.702,4.765,4.667,4.699,4.662,4.698,4.693,4.727,4.667,4.675,4.737,4.699,4.699,4.767,4.656,4.714,4.676,4.649,4.667,4.723,4.7,4.757,4.616,4.699,4.719,4.734,4.697,4.702,4.705,4.757,4.73,4.732,4.686,4.685,4.669,4.669,4.669,4.687,4.711,4.719,4.727,4.719,4.715,4.743,4.744,4.724,4.727,4.755,4.695,4.76,4.76,4.705,4.754,4.709,4.677,4.598,4.741,4.61,4.685,4.741,4.746,4.727,4.705,4.687,4.721,4.768,4.755,4.698,4.692,4.72,4.727,4.657,4.747,4.737,4.706,4.765,4.75,4.598,4.663,4.742,4.726,4.693,4.719,4.695,4.727,4.709,4.677,4.701,4.766,4.746,4.72,4.725,4.72,4.698,4.728,4.677,4.687,4.694,4.766,4.722,4.696,4.731,4.74,4.724,4.698,4.63,4.588,4.634,4.646,4.657,4.676,4.681,4.718,4.577,4.637,4.696,4.713,4.727,4.707,4.699,4.598,4.706,4.666,4.664,4.725,4.565,4.746,4.755,4.706,4.691,4.725,4.699,4.699,4.643,4.647,4.725,4.692,4.706,4.666,4.721,4.696,4.7,4.72,4.699,4.724,4.746,4.719,4.694,4.726,4.725,4.709,4.695,4.675,4.759,4.716,4.694,4.731,4.739,4.696,4.677,4.723,4.658,4.726,4.701,4.701,4.726,4.717,4.675,4.598,4.725,4.714,4.717,4.746,4.697,4.701,4.699,4.732,4.723,4.719,4.65,4.637,4.711,4.684,4.64,4.755,4.721,4.69,4.69,4.634,4.74,4.579,4.731,4.755,4.688,4.695,4.708,4.704,4.708,4.685,4.652,4.648,4.682,4.702,4.712,4.706,4.724,4.731,4.707,4.693,4.691,4.692,4.72,4.669,4.693,4.795,4.719,4.746,4.696,4.655,4.734,4.619,4.719,4.724,4.727,4.706,4.672,4.633,4.719,4.756,4.7,4.714,4.682,4.693,4.712,4.716,4.725,4.668,4.698,4.71,4.729,4.707,4.662,4.698,4.734,4.653,4.715,4.801,4.738,4.761,4.733,4.699,4.759,4.718,4.668,4.697,4.742,4.654,4.726,4.604,4.706,4.733,4.694,4.662,4.694,4.677,4.754,4.726,4.648,4.587,4.687,4.714,4.726,4.617,4.713,4.767,4.707,4.635,4.715,4.698,4.733,4.581,4.666,4.687,4.694,4.649,4.707,4.719,4.674,4.677,4.724,4.714,4.706,4.702,4.702,4.702,4.702,4.702,4.688,4.707,4.739,4.721,4.719,4.68,4.669,4.72,4.692,4.598,4.682,4.698,4.695,4.698,4.708,4.687,4.688,4.738,4.719,4.722,4.591,4.732,4.701,4.699,4.636,4.754,4.728,4.704,4.613,4.746,4.679,4.634,4.737,4.736,4.738,4.739,4.694,4.675,4.71,4.746,4.69,4.672,4.679,4.691,4.724,4.672,4.671,4.651,4.719,4.689,4.719,4.725,4.719,4.63,4.694,4.645,4.767,4.628,4.662,4.725,4.663,4.674,4.675,4.685,4.693,4.622,4.687,4.687,4.705,4.693,4.673,4.69,4.705,4.689,4.64,4.689,4.706,4.728,4.679,4.679,4.706,4.696,4.698,4.704,4.731,4.766,4.689,4.708,4.678,4.732,4.685,4.67,4.67,4.582,4.589,4.699,4.719,4.598,4.7,4.689,4.689,4.689,4.692,4.693,4.686,4.64,4.651,4.641,4.741,4.752,4.694,4.705,4.771,4.771,4.679,4.74,4.649,4.651,4.696,4.729,4.723,4.72,4.663,4.733,4.681,4.747,4.651,4.739,4.649,4.711,4.658,4.71,4.719,4.692,4.67,4.645,4.693,4.696,4.706,4.696,4.665,4.712,4.704,4.644,4.681,4.719,4.678,4.635,4.682,4.682,4.678,4.676,4.675,4.743,4.681,4.678,4.667,4.685,4.715,4.682,4.681,4.678,4.682,4.679,4.683,4.683,4.673,4.684,4.684,4.683,4.685,4.672,4.68,4.679,4.676,4.678,4.679,4.679,4.721,4.756,4.675,4.675,4.718,4.683,4.675,4.686,4.682,4.686,4.675,4.719,4.704,4.682,4.678,4.723,4.654,4.727,4.697,4.72,4.707,4.719,4.682,4.718,4.714,4.631,4.585,4.747,4.705,4.715,4.698,4.718,4.674,4.767,4.719,4.706,4.696,4.724,4.696,4.736,4.695,4.718,4.694,4.694,4.724,4.762,4.682,4.688,4.729,4.697,4.675,4.719,4.723,4.704,4.654,4.623,4.595,4.744,4.473,4.765,4.705,4.693,4.691,4.703,4.661,4.643,4.735,4.699,4.726,4.676,4.651,4.658,4.708,4.675,4.701,4.719,4.632,4.645,4.692,4.763,4.709,4.722,4.642,4.701,4.723,4.678,4.589,4.542,4.736,4.692,4.722,4.721,4.716,4.639,4.701,4.679,4.618,4.663,4.727,4.721,4.721,4.708,4.727,4.726,4.726,4.647,4.729,4.677,4.72,4.693,4.645,4.748,4.708,4.697,4.678,4.726,4.709,4.692,4.694,4.645,4.644,4.705,4.625,4.69,4.679,4.7,4.696,4.682,4.706,4.63,4.63,4.63,4.63,4.63,4.63,4.63,4.63,4.63,4.63,4.697,4.642,4.683,4.611,4.699,4.7,4.695,4.64,4.623,4.72,4.701,4.74,4.695,4.723,4.7,4.68,4.694,4.724,4.705,4.721,4.718,4.695,4.711,4.823,4.7,4.587,4.7,4.69,4.689,4.739,4.74,4.742,4.69,4.686,4.695,4.687,4.709,4.708,4.695,4.703,4.713,4.741,4.735,4.725,4.72,4.727,4.691,4.721,4.699,4.709,4.701,4.642,4.743,4.724,4.764,4.736,4.669,4.615,4.766,4.602,4.715,4.736,4.732,4.735,4.61,4.699,4.73,4.719,4.699,4.628,4.696,4.688,4.702,4.704,4.745,4.693,4.666,4.688,4.699,4.695,4.732,4.698,4.704,4.722,4.732,4.715,4.705,4.678,4.685,4.674,4.678,4.682,4.678,4.671,4.733,4.732,4.688,4.738,4.677,4.677,4.682,4.68,4.695,4.683,4.71,4.681,4.633,4.726,4.729,4.729,4.738,4.679,4.578,4.704,4.723,4.595,4.7,4.696,4.681,4.681,4.681,4.733,4.651,4.681,4.603,4.716,4.694,4.629,4.67,4.681,4.681,4.693,4.689,4.491,4.596,4.751,4.735,4.728,4.67,4.662,4.62,4.72,4.695,4.768,4.728,4.603,4.733,4.732,4.709,4.725,4.71,4.671,4.693,4.601,4.7,4.704,4.697,4.71,4.746,4.679,4.664,4.705,4.601,4.725,4.702,4.725,4.59,4.706,4.708,4.702,4.626,4.705,4.723,4.725,4.734,4.699,4.705,4.668,4.697,4.664,4.682,4.722,4.711,4.5975418,4.745,4.727,4.693,4.698,4.711,4.653,4.732,4.723,4.606,4.744,4.697,4.723,4.62,4.62,4.62,4.603,4.646,4.627,4.696,4.7386684,4.7386684,4.7386684,4.678,4.751,4.655,4.751,4.751,4.751,4.686,4.686,4.682,4.733,4.718,4.722,4.743,4.7,4.688,4.716,4.751,4.585,4.64,4.677,4.705,4.699,4.71,4.731,4.745,4.685,4.643,4.792,4.702,4.725,4.703,4.734,4.754,4.712,4.667,4.727,4.62,4.575,4.672,4.722,4.643,4.562,4.693,4.672,4.648,4.714,4.713,4.674,4.647,4.699,4.704,4.682,4.698,4.723,4.693,4.717,4.731,4.686,4.697,4.725,4.624,4.722,4.755,4.601,4.755,4.683,4.702,4.689,4.7,4.7,4.589,4.706,4.651,4.758,4.681,4.7,4.642,4.632,4.727,4.717,4.692,4.53,4.715,4.666,4.682,4.734,4.733,4.733,4.732,4.683,4.704,4.695,4.677,4.697,4.725,4.732,4.7,4.694,4.636,4.701,4.719,4.699,4.746,4.704,4.7,4.651,4.747,4.696,4.753,4.682,4.716,4.696,4.711,4.693,4.723,4.676,4.695,4.704,4.677,4.572,4.692,4.684,4.684,4.7149508,4.7164519,4.696,4.692,4.718,4.7070179,4.724,4.752,4.716,4.737,4.727,4.792,4.733,4.731,4.759,4.678,4.631,4.713,4.69,4.69,4.613418,4.6780132,4.7,4.641,4.676,4.705,4.703,4.708,4.687,4.709,4.693,4.651,4.572,4.732,4.692,4.598,4.7,4.761,4.5905789,4.716,4.716,4.692,4.7109886,4.632,4.615,4.707,4.573,4.703,4.585,4.704,4.704,4.681,4.702,4.68,4.749,4.739,4.723,4.707,4.689,4.704,4.643,4.704,4.615,4.721,4.672,4.706,4.692,4.705,4.623,4.711,4.688,4.615,4.661,4.66,4.689,4.687,4.675,4.747,4.745,4.669,4.683,4.718,4.732,4.73,4.681,4.682,4.694,4.74,4.674,4.681,4.695,4.727,4.751,4.751,4.607,4.772,4.739,4.677,4.693,4.684,4.684,4.699,4.723,4.725,4.684,4.643,4.684,4.725,4.645,4.625,4.699,4.678,4.725,4.697,4.639,4.689,4.71,4.751,4.751,4.751,4.722,4.697,4.685,4.699,4.692,4.707,4.604,4.69,4.547,4.612,4.687,4.759,4.705,4.694,4.694,4.729,4.708,4.707,4.665,4.608,4.583,4.564,4.564,4.644,4.564,4.695,4.716,4.72,4.564,4.644,4.632,4.718,4.735,4.705,4.711,4.696,4.664,4.695,4.682,4.695,4.688,4.697,4.705,4.724,4.703,4.653,4.688,4.691,4.689,4.701,4.698,4.699,4.698,4.744,4.748,4.752,4.742,4.688,4.724,4.689,4.728,4.688,4.721,4.623,4.711,4.597,4.669,4.686,4.695,4.689,4.696,4.714,4.586,4.679,4.769,4.695,4.688,4.686,4.674,4.745,4.707,4.734,4.695,4.729,4.747,4.674,4.745,4.692,4.618,4.589,4.641,4.692,4.724,4.714,4.623,4.623,4.77,4.623,4.686,4.686,4.723,4.723,4.686,4.647,4.67,4.691,4.672,4.623,4.646,4.702,4.756,4.682,4.725,4.7,4.682,4.688,4.724,4.748,4.726,4.672,4.559,4.656,4.695,4.703,4.717,4.693,4.683,4.692,4.747,4.71,4.693,4.717],\"legendgroup\":\"\",\"lon\":[-74.023,-74.081,-74.053,-74.05,-74.06,-74.034,-74.046,-74.032,-74.127,-74.04,-74.043,-74.075,-74.05,-74.055,-74.053,-74.032,-74.032,-74.067,-74.048,-74.08,-74.059,-74.084,-74.05,-74.037,-74.046,-74.054,-74.17,-74.052,-74.049,-74.053,-74.03,-74.032,-74.076,-74.089,-74.076,-74.074,-74.045,-74.046,-74.058,-74.057,-74.057,-74.054,-74.026,-74.074,-74.072,-74.075,-74.031,-74.061,-74.063,-74.039,-74.062,-74.049,-74.094,-74.039,-74.039,-74.039,-74.049,-74.083,-74.042,-74.076,-74.069,-74.067,-74.055,-74.123,-74.096,-74.075,-74.042,-74.056,-74.068,-74.03,-74.039,-74.037,-74.047,-74.044,-74.028,-74.054,-74.036,-74.053,-74.041,-74.073,-74.066,-74.076,-74.026,-74.099,-74.058,-74.035,-74.043,-74.048,-74.076,-74.049,-74.045,-74.068,-74.064,-74.059,-74.04,-74.04,-74.044,-74.046,-74.075,-74.045,-74.054,-74.038,-74.064,-74.062,-74.039,-74.074,-74.046,-74.046,-74.036,-74.081,-74.12,-74.073,-74.075,-74.054,-74.045,-74.049,-74.066,-74.102,-74.07,-74.063,-74.141,-74.062,-74.051,-74.032,-74.076,-74.041,-74.049,-74.059,-74.04,-74.1,-74.07,-74.068,-74.041,-74.051,-74.068,-74.032,-74.032,-74.113,-74.08,-74.04,-74.075,-74.041,-74.131,-74.068,-74.046,-74.041,-74.077,-74.043,-74.024,-74.069,-74.042,-74.088,-74.058,-74.077,-74.065,-74.043,-74.055,-74.046,-74.033,-74.063,-74.078,-74.044,-74.062,-74.042,-74.04,-74.048,-74.025,-74.078,-74.077,-74.024,-74.044,-74.055,-74.076,-74.025,-74.03,-74.034,-74.069,-74.04,-74.034,-74.033,-74.043,-74.03,-74.038,-74.048,-74.079,-74.048,-74.054,-74.059,-74.068,-74.06,-74.047,-74.047,-74.07,-74.065,-74.153,-74.038,-74.037,-74.055,-74.038,-74.029,-74.064,-74.081,-74.045,-74.076,-74.088,-74.051,-74.048,-74.027,-74.063,-74.063,-74.064,-74.078,-74.047,-74.041,-74.045,-74.058,-74.059,-74.073,-74.059,-74.064,-74.033,-74.039,-74.053,-74.034,-74.142,-74.047,-74.063,-74.024,-74.041,-74.061,-74.109,-74.047,-74.068,-74.047,-74.035,-74.051,-74.047,-74.05,-74.042,-74.075,-74.047,-74.046,-74.081,-74.044,-74.046,-74.049,-74.066,-74.035,-74.057,-74.036,-74.077,-74.046,-74.039,-74.044,-74.041,-74.046,-74.049,-74.132,-74.079,-74.06,-74.05,-74.064,-74.134,-74.04,-74.044,-74.076,-74.048,-74.046,-74.057,-74.098,-74.064,-74.053,-74.078,-74.054,-74.072,-74.04,-74.19,-74.066,-74.067,-74.029,-74.062,-74.077,-74.051,-74.043,-74.091,-74.077,-74.068,-74.033,-74.085,-74.05,-74.126,-74.047,-74.075,-74.039,-74.073,-74.056,-74.053,-74.053,-74.053,-74.053,-74.053,-74.055,-74.05,-74.095,-74.026,-74.039,-74.056,-74.063,-74.038,-74.037,-74.076,-74.043,-74.043,-74.044,-74.045,-74.03,-74.047,-74.054,-74.033,-74.038,-74.066,-74.173,-74.076,-74.029,-74.041,-74.164,-74.043,-74.03,-74.068,-74.107,-74.025,-74.164,-74.098,-74.06,-74.051,-74.055,-74.046,-74.038,-74.055,-74.029,-74.041,-74.05,-74.057,-74.053,-74.049,-74.023,-74.057,-74.057,-74.111,-74.11,-74.081,-74.044,-74.044,-74.042,-74.062,-74.054,-74.053,-74.067,-74.144,-74.048,-74.061,-74.059,-74.048,-74.056,-74.045,-74.052,-74.165,-74.049,-74.049,-74.049,-74.054,-74.048,-74.054,-74.07,-74.055,-74.066,-74.046,-74.06,-74.063,-74.041,-74.053,-74.058,-74.036,-74.054,-74.062,-74.036,-74.045,-74.1,-74.041,-74.043,-74.035,-74.05,-74.053,-74.053,-74.09,-74.085,-74.039,-74.131,-74.076,-74.077,-74.045,-74.045,-74.043,-74.151,-74.056,-74.14,-74.116,-74.084,-74.093,-74.069,-74.063,-74.046,-74.033,-74.027,-74.027,-74.056,-74.059,-74.082,-74.056,-74.083,-74.067,-74.028,-74.042,-74.129,-74.071,-74.051,-74.057,-74.081,-74.038,-74.164,-74.085,-74.128,-74.084,-74.043,-74.038,-74.128,-74.056,-74.042,-74.048,-74.083,-74.048,-74.064,-74.082,-74.047,-74.075,-74.044,-74.046,-74.055,-74.111,-74.052,-74.052,-74.054,-74.056,-74.055,-74.035,-74.051,-74.041,-74.047,-74.054,-74.029,-74.051,-74.044,-74.043,-74.051,-74.056,-74.056,-74.05,-74.05,-74.046,-74.055,-74.05,-74.046,-74.051,-74.052,-74.056,-74.056,-74.053,-74.055,-74.055,-74.027,-74.099,-74.055,-74.054,-74.028,-74.044,-74.055,-74.055,-74.043,-74.055,-74.055,-74.031,-74.046,-74.051,-74.052,-74.04,-74.063,-74.048,-74.034,-74.04,-74.046,-74.034,-74.043,-74.027,-74.077,-74.147,-74.123,-74.062,-74.044,-74.095,-74.046,-74.043,-74.047,-74.05,-74.036,-74.041,-74.054,-74.044,-74.054,-74.064,-74.051,-74.047,-74.047,-74.054,-74.023,-74.058,-74.146,-74.052,-74.07,-74.039,-74.055,-74.11,-74.04,-74.041,-74.055,-74.14,-74.08,-74.028,-74.116,-74.066,-74.044,-74.051,-74.072,-74.03,-74.049,-74.057,-74.051,-74.077,-74.065,-74.043,-74.051,-74.048,-74.082,-74.046,-74.033,-74.039,-74.142,-74.076,-74.051,-74.04,-74.03,-74.026,-74.058,-74.052,-74.057,-74.053,-74.084,-74.08,-74.061,-74.041,-74.048,-74.037,-74.036,-74.173,-74.034,-74.049,-74.07,-74.059,-74.061,-74.05,-74.05,-74.054,-74.048,-74.041,-74.056,-74.085,-74.1,-74.089,-74.116,-74.055,-74.079,-74.107,-74.029,-74.076,-74.054,-74.061,-74.084,-74.098,-74.063,-74.054,-74.053,-74.043,-74.098,-74.045,-74.049,-74.054,-74.063,-74.044,-74.039,-74.106,-74.106,-74.106,-74.106,-74.106,-74.106,-74.106,-74.106,-74.106,-74.106,-74.047,-74.088,-74.049,-74.071,-74.049,-74.05,-74.054,-74.165,-74.14,-74.079,-74.05,-74.066,-74.045,-74.024,-74.051,-74.045,-74.038,-74.065,-74.047,-74.075,-74.034,-74.041,-74.132,-74.031,-74.052,-74.145,-74.053,-74.061,-74.055,-74.066,-74.034,-74.074,-74.047,-74.154,-74.037,-74.045,-74.082,-74.065,-74.051,-74.039,-74.066,-74.036,-74.027,-74.06,-74.042,-74.024,-74.044,-74.042,-74.048,-74.029,-74.039,-74.07,-74.038,-74.037,-74.065,-74.058,-74.05,-74.071,-74.03,-74.064,-74.034,-74.058,-74.056,-74.089,-74.089,-74.035,-74.049,-74.071,-74.047,-74.168,-74.068,-74.049,-74.049,-74.029,-74.066,-74.053,-74.136,-74.049,-74.038,-74.037,-74.052,-74.035,-74.033,-74.119,-74.04,-74.049,-74.041,-74.054,-74.055,-74.053,-74.055,-74.051,-74.053,-74.113,-74.053,-74.072,-74.056,-74.043,-74.054,-74.054,-74.05,-74.056,-74.031,-74.108,-74.114,-74.056,-74.178,-74.075,-74.062,-74.049,-74.046,-74.044,-74.12,-74.053,-74.115,-74.083,-74.047,-74.053,-74.15,-74.15,-74.15,-74.033,-74.053,-74.052,-74.153,-74.031,-74.051,-74.125,-74.058,-74.15,-74.15,-74.036,-74.038,-74.116,-74.127,-74.099,-74.031,-74.028,-74.112,-74.05,-74.085,-74.06,-74.083,-74.03,-74.028,-74.113,-74.054,-74.037,-74.049,-74.063,-74.077,-74.057,-74.028,-74.083,-74.039,-74.059,-74.116,-74.077,-74.053,-74.049,-74.047,-74.061,-74.164,-74.063,-74.082,-74.04,-74.144,-74.029,-74.029,-74.054,-74.067,-74.055,-74.035,-74.039,-74.025,-74.046,-74.059,-74.05,-74.034,-74.079,-74.099,-74.062,-74.072,-74.0957812,-74.064,-74.036,-74.042,-74.04,-74.072,-74.052,-74.064,-74.063,-74.125,-74.064,-74.037,-74.029,-74.129,-74.129,-74.129,-74.153,-74.084,-74.12,-74.041,-74.0929959,-74.0929959,-74.0929959,-74.051,-74.066,-74.141,-74.066,-74.066,-74.066,-74.043,-74.055,-74.055,-74.029,-74.074,-74.041,-74.033,-74.034,-74.055,-74.075,-74.066,-74.179,-74.141,-74.059,-74.042,-74.035,-74.081,-74.063,-74.068,-74.045,-74.055,-74.06,-74.028,-74.032,-74.031,-74.043,-74.065,-74.047,-74.045,-74.034,-74.129,-74.097,-74.057,-74.037,-74.079,-74.112,-74.047,-74.057,-74.083,-74.097,-74.077,-74.14,-74.09,-74.048,-74.055,-74.056,-74.039,-74.063,-74.05,-74.043,-74.064,-74.046,-74.048,-74.06,-74.17,-74.042,-74.1,-74.077,-74.104,-74.139,-74.044,-74.044,-74.046,-74.045,-74.143,-74.048,-74.162,-74.055,-74.14,-74.05,-74.057,-74.086,-74.035,-74.036,-74.05,-74.111,-74.048,-74.061,-74.044,-74.029,-74.025,-74.026,-74.025,-74.053,-74.064,-74.042,-74.054,-74.08,-74.038,-74.046,-74.035,-74.038,-74.15,-74.029,-74.047,-74.048,-74.039,-74.057,-74.065,-74.079,-74.053,-74.062,-74.048,-74.051,-74.032,-74.079,-74.076,-74.052,-74.04,-74.055,-74.082,-74.055,-74.042,-74.086,-74.079,-74.121,-74.121,-74.1248743,-74.1225404,-74.081,-74.078,-74.069,-74.1324375,-74.022,-74.095,-74.121,-74.077,-74.04,-74.061,-74.075,-74.064,-74.055,-74.054,-74.155,-74.033,-74.052,-74.052,-74.1725698,-74.0772199,-74.039,-74.158,-74.054,-74.03,-74.031,-74.032,-74.049,-74.03,-74.031,-74.081,-74.094,-74.037,-74.079,-74.154,-74.037,-74.035,-74.1020454,-74.031,-74.031,-74.079,-74.072092,-74.154,-74.072,-74.041,-74.083,-74.03,-74.091,-74.031,-74.031,-74.046,-74.09,-74.046,-74.049,-74.046,-74.037,-74.087,-74.052,-74.032,-74.062,-74.056,-74.064,-74.043,-74.046,-74.043,-74.071,-74.043,-74.148,-74.072,-74.044,-74.063,-74.078,-74.079,-74.108,-74.044,-74.042,-74.072,-74.104,-74.086,-74.104,-74.074,-74.036,-74.037,-74.043,-74.048,-74.071,-74.047,-74.048,-74.051,-74.083,-74.025,-74.066,-74.066,-74.208,-74.027,-74.095,-74.065,-74.035,-74.049,-74.049,-74.053,-74.124,-74.044,-74.049,-74.13,-74.049,-74.041,-74.074,-74.124,-74.044,-74.04,-74.04,-74.037,-74.154,-74.052,-74.05,-74.066,-74.066,-74.066,-74.03,-74.04,-74.056,-74.042,-74.051,-74.053,-74.084,-74.05,-74.154,-74.174,-74.045,-74.046,-74.042,-74.037,-74.042,-74.036,-74.029,-74.029,-74.06,-74.208,-74.116,-74.103,-74.103,-74.058,-74.103,-74.039,-74.049,-74.029,-74.103,-74.061,-74.06,-74.071,-74.034,-74.043,-74.076,-74.082,-74.047,-74.082,-74.055,-74.037,-74.059,-74.079,-74.043,-74.028,-74.033,-74.05,-74.07,-74.049,-74.049,-74.039,-74.04,-74.04,-74.04,-74.059,-74.064,-74.068,-74.027,-74.049,-74.049,-74.066,-74.042,-74.07,-74.041,-74.148,-74.072,-74.067,-74.041,-74.067,-74.083,-74.049,-74.081,-74.048,-74.12,-74.041,-74.033,-74.119,-74.07,-74.071,-74.057,-74.067,-74.062,-74.034,-74.082,-74.074,-74.05,-74.056,-74.033,-74.055,-74.069,-74.124,-74.141,-74.098,-74.046,-74.03,-74.148,-74.148,-74.033,-74.148,-74.05,-74.05,-74.119,-74.04,-74.051,-74.056,-74.142,-74.053,-74.052,-74.148,-74.139,-74.029,-74.07,-74.049,-74.06,-74.035,-74.049,-74.08,-74.047,-74.089,-74.033,-74.056,-74.143,-74.049,-74.063,-74.051,-74.043,-74.067,-74.053,-74.066,-74.055,-74.082,-74.05,-74.031],\"marker\":{\"color\":[212721.41,168826.52,133372.95,371418.34,236357.12,202591.82,300511.2,168826.52,121555.09,280252.02,212721.41,175579.58,212721.41,253239.78,199215.29,257207.2,216435.59,270122.43,320770.38,320770.38,243110.18,287005.08,217786.21,219474.47,256616.31,118178.56,101295.91,141814.27,145190.8,84413.26,172203.05,158696.92,253239.78,84413.26,202591.82,253239.78,162073.45,202591.82,323504.7,341568.12,359394.85,162073.45,330899.98,229604.06,229604.06,364665.28,388300.99,79348.46,75971.93,219474.47,270122.43,162073.45,320770.38,73946.01,73608.36,276875.49,158696.92,287005.08,310640.79,141814.27,371418.34,138437.74,347782.63,189085.7,78676.53,287005.08,243110.18,246486.72,131684.68,82724.99,131684.68,354535.69,270122.43,131684.68,155320.39,378171.4,97919.38,92854.58,371418.34,101295.91,155320.39,219474.47,371418.34,175579.58,253239.78,162073.45,168826.52,256616.31,229604.06,143502.54,300477.44,236323.36,246486.72,150221.83,175545.81,106360.7,138437.74,158663.16,371418.34,320736.62,163727.95,230954.68,202591.82,189085.7,212721.41,337653.04,162073.45,378171.4,162073.45,106360.7,162073.45,253239.78,134385.91,300511.2,320770.38,219474.47,124931.62,290381.61,108048.97,120542.13,287005.08,202591.82,205968.35,121555.09,118178.56,185709.17,303887.73,111425.5,169574.42,243520.43,234668.86,167138.25,126619.89,121555.09,155320.39,253239.78,168826.52,151943.86,287005.08,129996.42,195838.76,101295.91,118178.56,195838.76,276875.49,202591.82,371418.34,114802.03,371418.34,151943.86,94542.85,287005.08,155320.39,354535.69,229604.06,190773.96,320770.38,108048.97,308952.53,175579.58,266745.9,162073.45,178956.11,303887.73,121555.09,276875.49,371418.34,253239.78,256616.31,334276.51,236357.12,297134.67,226396.02,101295.91,308952.53,141814.27,287005.08,219474.47,232980.59,219474.47,135061.21,108048.97,192462.23,151943.86,320770.38,219474.47,334276.51,354535.69,178956.11,155320.39,136183.19,256997.71,91166.32,128308.15,57063.36,108048.97,104672.44,310640.79,167138.25,151943.86,132697.64,290381.61,182332.64,141814.27,239733.65,209007.23,236357.12,229604.06,371418.34,229604.06,287005.08,287005.08,231292.33,173891.31,253239.78,111425.5,297134.67,270122.43,287005.08,121217.44,131684.68,197527.02,290381.61,141814.27,131684.68,151943.86,229604.06,371418.34,354535.69,128308.15,117165.6,151943.86,185709.17,236357.12,118178.56,300173.55,259992.84,320770.38,114802.03,310640.79,312315.38,320770.38,330899.98,175579.58,212721.41,236357.12,211033.15,97919.38,263369.37,151943.86,298822.94,151943.86,143502.54,118178.56,145190.8,108048.97,113113.76,229604.06,337653.04,101295.91,133372.95,160385.19,253239.78,330899.98,138437.74,253239.78,286667.43,320432.73,155320.39,67530.6,160385.19,354974.64,151943.86,253239.78,111425.5,87789.79,74249.9,141814.27,263369.37,330899.98,226227.53,253239.78,388300.99,270122.43,314017.32,151943.86,226227.53,283628.55,253239.78,219474.47,70907.13,320770.38,151943.86,151943.86,218123.86,151943.86,393216.55,180744.15,223384.33,379014.35,260668.14,324146.91,219474.47,94542.85,368041.81,253239.78,226227.53,145190.8,283628.55,330899.98,121521.32,195838.76,310640.79,172203.05,185709.17,354535.69,222851.0,236357.12,99607.64,216097.94,124931.62,108048.97,337653.04,330899.98,145190.8,121555.09,145190.8,121555.09,236357.12,143468.77,131684.68,256616.31,145190.8,94542.85,94542.85,121555.09,76984.89,97919.38,346094.36,335964.77,138437.74,185709.17,205968.35,202591.82,388300.99,301186.51,202591.82,202591.82,165449.99,178956.11,129658.76,170514.78,148567.33,246486.72,287005.08,199215.29,199215.29,263369.37,167138.25,337315.38,135061.21,109737.23,253239.78,327523.45,337653.04,209344.88,185709.17,222851.0,226227.53,121555.09,253239.78,388300.99,297134.67,287005.08,280252.02,371418.34,320770.38,145190.8,138437.74,330899.98,253239.78,108048.97,182332.64,388300.99,236357.12,236357.12,77660.19,64154.07,151943.86,263369.37,234668.86,320770.38,229604.06,219474.47,118178.56,182332.64,138437.74,54699.79,91166.32,185709.17,141814.27,263369.37,141814.27,74283.66,145190.8,236357.12,371418.34,253239.78,140126.01,320770.38,91166.32,189085.7,178956.11,253239.78,253239.78,219474.47,148567.33,263369.37,219474.47,165449.99,91166.32,101295.91,148229.68,101295.91,158696.92,270122.43,303887.73,124931.62,106360.7,77660.19,163761.72,162073.45,238821.99,151943.86,219474.47,67530.6,226227.53,395054.05,283628.55,337653.04,263369.37,276875.49,302942.3,239733.65,168151.21,219474.47,168826.52,185709.17,79348.46,283290.9,263369.37,185709.17,222851.0,303887.73,86101.52,202591.82,330899.98,270122.43,165449.99,192462.23,164099.37,217786.21,273498.96,309290.18,168826.52,158696.92,246486.72,371418.34,195838.76,371418.34,141814.27,197527.02,253239.78,256616.31,168826.52,155320.39,278563.75,185709.17,276200.18,87789.79,320770.38,287005.08,287005.08,337653.04,300511.2,215760.29,320770.38,189085.7,320770.38,246486.72,281940.28,178956.11,175579.58,163761.72,194150.49,215760.29,212721.41,219474.47,82724.99,287005.08,118178.56,229604.06,312329.06,300511.2,148567.33,113080.0,118178.56,307264.26,330899.98,133372.95,195838.76,397755.28,87789.79,195838.76,310640.79,314017.32,89478.05,315705.59,273498.96,229604.06,280252.02,330899.98,354535.69,388300.99,263369.37,135027.45,253239.78,202591.82,175579.58,141814.27,287005.08,119866.82,300511.2,236357.12,116490.29,33765.3,72595.4,84379.49,131684.68,395054.05,219474.47,151943.86,209344.88,334276.51,209344.88,83737.95,87789.79,119866.82,283628.55,337653.04,222851.0,243110.18,371418.34,198539.98,219474.47,110750.19,141814.27,222851.0,62465.81,119866.82,162073.45,141814.27,246486.72,167138.25,280252.02,77626.43,276875.49,113113.76,158696.92,162073.45,119866.82,219474.51,310640.79,258304.57,131684.68,219474.47,209344.88,138437.74,141814.27,151943.86,330899.98,150255.6,126619.89,84413.26,104672.44,40518.36,133372.95,60777.54,141814.27,101295.91,54024.48,151943.86,253239.78,252226.82,136749.48,303887.73,388300.99,135061.21,151943.86,226227.53,236357.12,47271.42,137828.95,293758.14,162073.45,270122.43,100282.95,300511.2,79348.46,79348.46,79348.46,79348.46,79348.46,79348.46,79348.46,79348.46,79348.46,79348.46,138437.74,162073.45,253239.78,151943.86,151943.86,138437.74,337653.04,67496.84,114802.03,330899.98,129996.42,162073.45,310640.79,297134.67,158021.62,141814.27,202591.82,138437.74,205968.35,320770.38,209344.88,251551.51,55712.75,287005.08,151943.86,185709.17,287005.08,195838.76,324146.91,121555.09,157008.66,248512.63,264373.73,243110.18,158696.92,148567.33,232980.59,253239.78,266745.9,263369.37,117840.91,157008.66,158696.92,276875.49,145190.8,378171.4,229604.06,200903.55,175579.58,145190.8,148567.33,118178.56,74283.66,104334.78,300511.2,124931.62,388300.99,87789.79,67496.84,263369.37,99607.64,185709.17,97919.38,135061.21,128308.15,297134.67,168826.52,236357.12,287005.08,57367.25,206643.66,303887.73,185709.17,131684.68,185709.17,329211.71,222851.0,185709.17,222851.0,121555.09,104672.44,202591.82,108048.97,108048.97,263369.37,141814.27,303887.73,209344.88,334276.51,280252.02,219474.47,189085.7,233133.36,99607.64,94542.85,263369.37,163761.72,79348.46,320770.38,371418.34,177267.84,158696.92,133372.95,165449.99,60777.54,135061.21,45583.16,330899.98,208669.57,148567.33,151943.86,158696.92,60777.54,334276.51,199215.29,354535.69,327523.45,219474.47,161735.8,166125.29,178956.11,128308.15,151943.86,280252.02,74283.66,175241.92,113113.76,74283.66,209344.88,183683.25,169501.82,145190.8,158696.92,334276.51,101295.91,65842.34,141814.27,320770.38,178956.11,60777.54,101295.91,104672.44,98594.68,64154.07,300511.2,168792.75,79348.46,187397.43,145190.8,216097.94,175008.94,136749.48,108048.97,276875.49,128308.15,108048.97,121555.09,163687.6,79348.46,158696.92,368041.81,135061.21,70907.13,287005.08,266745.9,151943.86,119866.82,162073.45,195838.76,232980.59,57367.25,189085.7,185709.17,118178.56,97919.38,232980.59,101295.91,104672.44,182332.64,287005.08,135061.21,232980.59,270122.43,257144.32,135061.21,128308.15,278563.75,145190.8,195838.76,276875.49,188410.39,153632.13,124931.62,131684.68,243110.18,158359.27,84413.26,81036.72,70907.13,54024.48,138437.74,219474.47,131684.68,154286.59,154286.59,154286.59,304225.39,123243.36,116827.95,123243.36,115646.16,116490.29,212721.41,276875.49,172203.05,162073.45,278563.75,141814.27,103997.13,128308.15,145190.8,287005.08,116490.29,371418.34,47271.42,101295.91,280252.02,151943.86,276875.49,212721.41,310640.79,151943.86,337653.04,201916.51,303887.73,140126.01,259992.84,128308.15,101295.91,189085.7,303887.73,101295.91,97919.38,197527.02,212721.41,135061.21,118178.56,47237.66,212957.77,202591.82,388300.99,268434.16,287005.08,200903.55,226227.53,224539.27,185709.17,371418.34,165449.99,253239.78,114802.03,227240.49,118178.56,162073.45,121555.09,287005.08,89478.05,121555.09,60777.54,128308.15,118178.56,74283.66,189085.7,146879.07,297134.67,276875.49,214409.68,170514.78,47271.42,151943.86,91166.32,200903.55,239733.65,155320.39,185709.17,168826.52,167138.25,14147.66,185709.17,113113.76,100282.95,319440.71,242691.49,228591.78,343074.06,283628.55,140126.01,143502.54,356561.61,253239.78,118178.56,252902.12,287005.08,246486.72,54024.48,303550.08,165449.99,202591.82,70231.83,131684.68,108048.97,124931.62,94542.85,287005.08,145190.8,303887.73,172203.05,232980.59,246486.72,232980.59,121555.09,320770.38,150255.6,175579.58,226227.53,59089.28,137762.44,224633.81,268867.71,257144.32,257144.32,131684.68,175579.58,162073.45,75429.0,354535.69,52336.22,72595.4,287005.08,104672.44,232980.59,263369.37,118178.56,121555.09,343730.79,70907.13,202591.82,391677.52,200228.25,257144.32,257144.32,335964.77,108048.97,302199.47,118178.56,239733.65,232980.59,239733.65,173891.31,190773.96,102984.17,94509.08,145190.8,143502.54,246486.72,371418.34,128308.15,5495.89,135061.21,158696.92,182332.64,54480.31,84075.6,121555.09,276875.49,25965.51,192462.23,109737.23,175579.58,222851.0,268434.16,104672.44,157008.66,77322.54,99607.64,84413.26,290381.61,280252.02,207977.39,172203.05,128308.15,192462.23,138437.74,320770.38,258304.57,189085.7,253239.78,48284.38,47237.66,172203.05,124593.97,123243.36,108048.97,165449.99,145190.8,283628.55,185709.17,57401.01,265057.63,283628.55,118178.56,212721.41,136411.82,295446.41,236357.12,246486.72,84750.91,229604.06,200903.55,141814.27,87789.79,126619.89,119866.82,87789.79,335964.77,55712.75,102984.17,263369.37,138280.4,175913.64,168826.52,57401.01,135061.21,163531.1,114802.03,243553.14,185709.17,124931.62,45583.16,266745.9,371418.34,172203.05,138437.74,81036.72,200903.55,199215.29,118178.56,116490.29,115646.16,135061.21,148567.33,168826.52,276875.49,280252.02,202591.82,303887.73,371418.34,263369.37,118178.56,249863.25,145190.8,199215.29,185709.17,199215.29,89478.05,189085.7,158696.92,118178.56,398430.58,175579.58,81036.72,86101.52,141814.27,86101.52,243110.18,263369.37,212721.41,86101.52,128308.15,151943.86,151943.86,205968.35,195838.76,259992.84,101295.91,395054.05,212721.41,290381.61,123243.36,202591.82,243110.18,303887.73,153632.13,329273.48,287005.08,232980.59,310640.79,303887.73,270122.43,167475.9,125606.93,148567.33,97919.38,131684.68,243110.18,162073.45,118178.56,165449.99,253239.78,119866.82,232980.59,96231.11,121555.09,209344.88,337653.04,303887.73,175579.58,111087.85,303887.73,131684.68,200903.55,162073.45,175579.58,114802.03,108048.97,92854.58,109737.23,320770.38,162073.45,162073.45,150255.6,131684.68,371418.34,97919.38,320770.38,80361.42,128308.15,110750.19,128308.15,151943.86,388300.99,43894.89,287005.08,54024.48,55712.75,108048.97,97919.38,239733.65,199215.29,124931.62,109737.23,219474.47,151943.86,168488.86,162073.45,249863.25,84413.26,43894.89,300511.2,219474.47,126619.89,319082.12,253239.78,138437.74,92854.58,160385.19,84413.26,121555.09,302199.47,57401.01,176151.56,189085.7,283628.55,118853.87,162073.45,232980.59,151943.86,97919.38,276875.49,114802.03,162073.45],\"coloraxis\":\"coloraxis\"},\"mode\":\"markers\",\"name\":\"\",\"showlegend\":false,\"subplot\":\"mapbox\",\"type\":\"scattermapbox\"}],                        {\"template\":{\"data\":{\"histogram2dcontour\":[{\"type\":\"histogram2dcontour\",\"colorbar\":{\"outlinewidth\":0,\"ticks\":\"\"},\"colorscale\":[[0.0,\"#0d0887\"],[0.1111111111111111,\"#46039f\"],[0.2222222222222222,\"#7201a8\"],[0.3333333333333333,\"#9c179e\"],[0.4444444444444444,\"#bd3786\"],[0.5555555555555556,\"#d8576b\"],[0.6666666666666666,\"#ed7953\"],[0.7777777777777778,\"#fb9f3a\"],[0.8888888888888888,\"#fdca26\"],[1.0,\"#f0f921\"]]}],\"choropleth\":[{\"type\":\"choropleth\",\"colorbar\":{\"outlinewidth\":0,\"ticks\":\"\"}}],\"histogram2d\":[{\"type\":\"histogram2d\",\"colorbar\":{\"outlinewidth\":0,\"ticks\":\"\"},\"colorscale\":[[0.0,\"#0d0887\"],[0.1111111111111111,\"#46039f\"],[0.2222222222222222,\"#7201a8\"],[0.3333333333333333,\"#9c179e\"],[0.4444444444444444,\"#bd3786\"],[0.5555555555555556,\"#d8576b\"],[0.6666666666666666,\"#ed7953\"],[0.7777777777777778,\"#fb9f3a\"],[0.8888888888888888,\"#fdca26\"],[1.0,\"#f0f921\"]]}],\"heatmap\":[{\"type\":\"heatmap\",\"colorbar\":{\"outlinewidth\":0,\"ticks\":\"\"},\"colorscale\":[[0.0,\"#0d0887\"],[0.1111111111111111,\"#46039f\"],[0.2222222222222222,\"#7201a8\"],[0.3333333333333333,\"#9c179e\"],[0.4444444444444444,\"#bd3786\"],[0.5555555555555556,\"#d8576b\"],[0.6666666666666666,\"#ed7953\"],[0.7777777777777778,\"#fb9f3a\"],[0.8888888888888888,\"#fdca26\"],[1.0,\"#f0f921\"]]}],\"heatmapgl\":[{\"type\":\"heatmapgl\",\"colorbar\":{\"outlinewidth\":0,\"ticks\":\"\"},\"colorscale\":[[0.0,\"#0d0887\"],[0.1111111111111111,\"#46039f\"],[0.2222222222222222,\"#7201a8\"],[0.3333333333333333,\"#9c179e\"],[0.4444444444444444,\"#bd3786\"],[0.5555555555555556,\"#d8576b\"],[0.6666666666666666,\"#ed7953\"],[0.7777777777777778,\"#fb9f3a\"],[0.8888888888888888,\"#fdca26\"],[1.0,\"#f0f921\"]]}],\"contourcarpet\":[{\"type\":\"contourcarpet\",\"colorbar\":{\"outlinewidth\":0,\"ticks\":\"\"}}],\"contour\":[{\"type\":\"contour\",\"colorbar\":{\"outlinewidth\":0,\"ticks\":\"\"},\"colorscale\":[[0.0,\"#0d0887\"],[0.1111111111111111,\"#46039f\"],[0.2222222222222222,\"#7201a8\"],[0.3333333333333333,\"#9c179e\"],[0.4444444444444444,\"#bd3786\"],[0.5555555555555556,\"#d8576b\"],[0.6666666666666666,\"#ed7953\"],[0.7777777777777778,\"#fb9f3a\"],[0.8888888888888888,\"#fdca26\"],[1.0,\"#f0f921\"]]}],\"surface\":[{\"type\":\"surface\",\"colorbar\":{\"outlinewidth\":0,\"ticks\":\"\"},\"colorscale\":[[0.0,\"#0d0887\"],[0.1111111111111111,\"#46039f\"],[0.2222222222222222,\"#7201a8\"],[0.3333333333333333,\"#9c179e\"],[0.4444444444444444,\"#bd3786\"],[0.5555555555555556,\"#d8576b\"],[0.6666666666666666,\"#ed7953\"],[0.7777777777777778,\"#fb9f3a\"],[0.8888888888888888,\"#fdca26\"],[1.0,\"#f0f921\"]]}],\"mesh3d\":[{\"type\":\"mesh3d\",\"colorbar\":{\"outlinewidth\":0,\"ticks\":\"\"}}],\"scatter\":[{\"fillpattern\":{\"fillmode\":\"overlay\",\"size\":10,\"solidity\":0.2},\"type\":\"scatter\"}],\"parcoords\":[{\"type\":\"parcoords\",\"line\":{\"colorbar\":{\"outlinewidth\":0,\"ticks\":\"\"}}}],\"scatterpolargl\":[{\"type\":\"scatterpolargl\",\"marker\":{\"colorbar\":{\"outlinewidth\":0,\"ticks\":\"\"}}}],\"bar\":[{\"error_x\":{\"color\":\"#2a3f5f\"},\"error_y\":{\"color\":\"#2a3f5f\"},\"marker\":{\"line\":{\"color\":\"#E5ECF6\",\"width\":0.5},\"pattern\":{\"fillmode\":\"overlay\",\"size\":10,\"solidity\":0.2}},\"type\":\"bar\"}],\"scattergeo\":[{\"type\":\"scattergeo\",\"marker\":{\"colorbar\":{\"outlinewidth\":0,\"ticks\":\"\"}}}],\"scatterpolar\":[{\"type\":\"scatterpolar\",\"marker\":{\"colorbar\":{\"outlinewidth\":0,\"ticks\":\"\"}}}],\"histogram\":[{\"marker\":{\"pattern\":{\"fillmode\":\"overlay\",\"size\":10,\"solidity\":0.2}},\"type\":\"histogram\"}],\"scattergl\":[{\"type\":\"scattergl\",\"marker\":{\"colorbar\":{\"outlinewidth\":0,\"ticks\":\"\"}}}],\"scatter3d\":[{\"type\":\"scatter3d\",\"line\":{\"colorbar\":{\"outlinewidth\":0,\"ticks\":\"\"}},\"marker\":{\"colorbar\":{\"outlinewidth\":0,\"ticks\":\"\"}}}],\"scattermapbox\":[{\"type\":\"scattermapbox\",\"marker\":{\"colorbar\":{\"outlinewidth\":0,\"ticks\":\"\"}}}],\"scatterternary\":[{\"type\":\"scatterternary\",\"marker\":{\"colorbar\":{\"outlinewidth\":0,\"ticks\":\"\"}}}],\"scattercarpet\":[{\"type\":\"scattercarpet\",\"marker\":{\"colorbar\":{\"outlinewidth\":0,\"ticks\":\"\"}}}],\"carpet\":[{\"aaxis\":{\"endlinecolor\":\"#2a3f5f\",\"gridcolor\":\"white\",\"linecolor\":\"white\",\"minorgridcolor\":\"white\",\"startlinecolor\":\"#2a3f5f\"},\"baxis\":{\"endlinecolor\":\"#2a3f5f\",\"gridcolor\":\"white\",\"linecolor\":\"white\",\"minorgridcolor\":\"white\",\"startlinecolor\":\"#2a3f5f\"},\"type\":\"carpet\"}],\"table\":[{\"cells\":{\"fill\":{\"color\":\"#EBF0F8\"},\"line\":{\"color\":\"white\"}},\"header\":{\"fill\":{\"color\":\"#C8D4E3\"},\"line\":{\"color\":\"white\"}},\"type\":\"table\"}],\"barpolar\":[{\"marker\":{\"line\":{\"color\":\"#E5ECF6\",\"width\":0.5},\"pattern\":{\"fillmode\":\"overlay\",\"size\":10,\"solidity\":0.2}},\"type\":\"barpolar\"}],\"pie\":[{\"automargin\":true,\"type\":\"pie\"}]},\"layout\":{\"autotypenumbers\":\"strict\",\"colorway\":[\"#636efa\",\"#EF553B\",\"#00cc96\",\"#ab63fa\",\"#FFA15A\",\"#19d3f3\",\"#FF6692\",\"#B6E880\",\"#FF97FF\",\"#FECB52\"],\"font\":{\"color\":\"#2a3f5f\"},\"hovermode\":\"closest\",\"hoverlabel\":{\"align\":\"left\"},\"paper_bgcolor\":\"white\",\"plot_bgcolor\":\"#E5ECF6\",\"polar\":{\"bgcolor\":\"#E5ECF6\",\"angularaxis\":{\"gridcolor\":\"white\",\"linecolor\":\"white\",\"ticks\":\"\"},\"radialaxis\":{\"gridcolor\":\"white\",\"linecolor\":\"white\",\"ticks\":\"\"}},\"ternary\":{\"bgcolor\":\"#E5ECF6\",\"aaxis\":{\"gridcolor\":\"white\",\"linecolor\":\"white\",\"ticks\":\"\"},\"baxis\":{\"gridcolor\":\"white\",\"linecolor\":\"white\",\"ticks\":\"\"},\"caxis\":{\"gridcolor\":\"white\",\"linecolor\":\"white\",\"ticks\":\"\"}},\"coloraxis\":{\"colorbar\":{\"outlinewidth\":0,\"ticks\":\"\"}},\"colorscale\":{\"sequential\":[[0.0,\"#0d0887\"],[0.1111111111111111,\"#46039f\"],[0.2222222222222222,\"#7201a8\"],[0.3333333333333333,\"#9c179e\"],[0.4444444444444444,\"#bd3786\"],[0.5555555555555556,\"#d8576b\"],[0.6666666666666666,\"#ed7953\"],[0.7777777777777778,\"#fb9f3a\"],[0.8888888888888888,\"#fdca26\"],[1.0,\"#f0f921\"]],\"sequentialminus\":[[0.0,\"#0d0887\"],[0.1111111111111111,\"#46039f\"],[0.2222222222222222,\"#7201a8\"],[0.3333333333333333,\"#9c179e\"],[0.4444444444444444,\"#bd3786\"],[0.5555555555555556,\"#d8576b\"],[0.6666666666666666,\"#ed7953\"],[0.7777777777777778,\"#fb9f3a\"],[0.8888888888888888,\"#fdca26\"],[1.0,\"#f0f921\"]],\"diverging\":[[0,\"#8e0152\"],[0.1,\"#c51b7d\"],[0.2,\"#de77ae\"],[0.3,\"#f1b6da\"],[0.4,\"#fde0ef\"],[0.5,\"#f7f7f7\"],[0.6,\"#e6f5d0\"],[0.7,\"#b8e186\"],[0.8,\"#7fbc41\"],[0.9,\"#4d9221\"],[1,\"#276419\"]]},\"xaxis\":{\"gridcolor\":\"white\",\"linecolor\":\"white\",\"ticks\":\"\",\"title\":{\"standoff\":15},\"zerolinecolor\":\"white\",\"automargin\":true,\"zerolinewidth\":2},\"yaxis\":{\"gridcolor\":\"white\",\"linecolor\":\"white\",\"ticks\":\"\",\"title\":{\"standoff\":15},\"zerolinecolor\":\"white\",\"automargin\":true,\"zerolinewidth\":2},\"scene\":{\"xaxis\":{\"backgroundcolor\":\"#E5ECF6\",\"gridcolor\":\"white\",\"linecolor\":\"white\",\"showbackground\":true,\"ticks\":\"\",\"zerolinecolor\":\"white\",\"gridwidth\":2},\"yaxis\":{\"backgroundcolor\":\"#E5ECF6\",\"gridcolor\":\"white\",\"linecolor\":\"white\",\"showbackground\":true,\"ticks\":\"\",\"zerolinecolor\":\"white\",\"gridwidth\":2},\"zaxis\":{\"backgroundcolor\":\"#E5ECF6\",\"gridcolor\":\"white\",\"linecolor\":\"white\",\"showbackground\":true,\"ticks\":\"\",\"zerolinecolor\":\"white\",\"gridwidth\":2}},\"shapedefaults\":{\"line\":{\"color\":\"#2a3f5f\"}},\"annotationdefaults\":{\"arrowcolor\":\"#2a3f5f\",\"arrowhead\":0,\"arrowwidth\":1},\"geo\":{\"bgcolor\":\"white\",\"landcolor\":\"#E5ECF6\",\"subunitcolor\":\"white\",\"showland\":true,\"showlakes\":true,\"lakecolor\":\"white\"},\"title\":{\"x\":0.05},\"mapbox\":{\"style\":\"light\"}}},\"mapbox\":{\"domain\":{\"x\":[0.0,1.0],\"y\":[0.0,1.0]},\"center\":{\"lat\":4.693343591576314,\"lon\":-74.06316142468724},\"zoom\":8,\"style\":\"open-street-map\"},\"coloraxis\":{\"colorbar\":{\"title\":{\"text\":\"price_aprox_usd\"}},\"colorscale\":[[0.0,\"#0d0887\"],[0.1111111111111111,\"#46039f\"],[0.2222222222222222,\"#7201a8\"],[0.3333333333333333,\"#9c179e\"],[0.4444444444444444,\"#bd3786\"],[0.5555555555555556,\"#d8576b\"],[0.6666666666666666,\"#ed7953\"],[0.7777777777777778,\"#fb9f3a\"],[0.8888888888888888,\"#fdca26\"],[1.0,\"#f0f921\"]]},\"legend\":{\"tracegroupgap\":0},\"margin\":{\"t\":60},\"height\":600,\"width\":600},                        {\"responsive\": true}                    ).then(function(){\n",
              "                            \n",
              "var gd = document.getElementById('3ad0126b-e166-4ab9-a6f1-20f76817588b');\n",
              "var x = new MutationObserver(function (mutations, observer) {{\n",
              "        var display = window.getComputedStyle(gd).display;\n",
              "        if (!display || display === 'none') {{\n",
              "            console.log([gd, 'removed!']);\n",
              "            Plotly.purge(gd);\n",
              "            observer.disconnect();\n",
              "        }}\n",
              "}});\n",
              "\n",
              "// Listen for the removal of the full notebook cells\n",
              "var notebookContainer = gd.closest('#notebook-container');\n",
              "if (notebookContainer) {{\n",
              "    x.observe(notebookContainer, {childList: true});\n",
              "}}\n",
              "\n",
              "// Listen for the clearing of the current output cell\n",
              "var outputEl = gd.closest('.output');\n",
              "if (outputEl) {{\n",
              "    x.observe(outputEl, {childList: true});\n",
              "}}\n",
              "\n",
              "                        })                };                            </script>        </div>\n",
              "</body>\n",
              "</html>"
            ]
          },
          "metadata": {}
        }
      ]
    },
    {
      "cell_type": "markdown",
      "source": [
        "Another option is to add a third dimension to our scatter plot. We can plot longitude on the x-axis\n",
        "and latitude on the y-axis (like we do in the map above), and then add a z-axis with price."
      ],
      "metadata": {
        "id": "xtl-6HL_fvVD"
      }
    },
    {
      "cell_type": "code",
      "source": [
        "# Create 3D scatter plot\n",
        "fig = px.scatter_3d(\n",
        "         df,\n",
        "         x=\"lon\",\n",
        "         y=\"lat\",\n",
        "         z=\"price_aprox_usd\",\n",
        "         labels={\"lon\": \"longitude\", \"lat\": \"latitude\", \"price_aprox_usd\": \"price\"},\n",
        "         width=600,\n",
        "         height=500,\n",
        ")\n",
        "\n",
        "# Refine formatting\n",
        "fig.update_traces(marker={\"size\": 4, \"line\": {\"width\": 2, \"color\": \"DarkSlateGrey\"}},\n",
        "                  selector={\"mode\": \"markers\"},\n",
        ")\n",
        "\n",
        "# Display figure\n",
        "fig.show()"
      ],
      "metadata": {
        "colab": {
          "base_uri": "https://localhost:8080/",
          "height": 537
        },
        "id": "m_5-KR6OmwG3",
        "outputId": "f6a836b0-46c2-4bae-cad0-005c2812b8b1"
      },
      "execution_count": null,
      "outputs": [
        {
          "output_type": "display_data",
          "data": {
            "text/html": [
              "<html>\n",
              "<head><meta charset=\"utf-8\" /></head>\n",
              "<body>\n",
              "    <div>            <script src=\"https://cdnjs.cloudflare.com/ajax/libs/mathjax/2.7.5/MathJax.js?config=TeX-AMS-MML_SVG\"></script><script type=\"text/javascript\">if (window.MathJax && window.MathJax.Hub && window.MathJax.Hub.Config) {window.MathJax.Hub.Config({SVG: {font: \"STIX-Web\"}});}</script>                <script type=\"text/javascript\">window.PlotlyConfig = {MathJaxConfig: 'local'};</script>\n",
              "        <script src=\"https://cdn.plot.ly/plotly-2.18.2.min.js\"></script>                <div id=\"fc1d5cee-0478-4a6e-8fb4-db517c4407b0\" class=\"plotly-graph-div\" style=\"height:500px; width:600px;\"></div>            <script type=\"text/javascript\">                                    window.PLOTLYENV=window.PLOTLYENV || {};                                    if (document.getElementById(\"fc1d5cee-0478-4a6e-8fb4-db517c4407b0\")) {                    Plotly.newPlot(                        \"fc1d5cee-0478-4a6e-8fb4-db517c4407b0\",                        [{\"hovertemplate\":\"longitude=%{x}<br>latitude=%{y}<br>price=%{z}<extra></extra>\",\"legendgroup\":\"\",\"marker\":{\"color\":\"#636efa\",\"symbol\":\"circle\",\"line\":{\"color\":\"DarkSlateGrey\",\"width\":2},\"size\":4},\"mode\":\"markers\",\"name\":\"\",\"scene\":\"scene\",\"showlegend\":false,\"x\":[-74.023,-74.081,-74.053,-74.05,-74.06,-74.034,-74.046,-74.032,-74.127,-74.04,-74.043,-74.075,-74.05,-74.055,-74.053,-74.032,-74.032,-74.067,-74.048,-74.08,-74.059,-74.084,-74.05,-74.037,-74.046,-74.054,-74.17,-74.052,-74.049,-74.053,-74.03,-74.032,-74.076,-74.089,-74.076,-74.074,-74.045,-74.046,-74.058,-74.057,-74.057,-74.054,-74.026,-74.074,-74.072,-74.075,-74.031,-74.061,-74.063,-74.039,-74.062,-74.049,-74.094,-74.039,-74.039,-74.039,-74.049,-74.083,-74.042,-74.076,-74.069,-74.067,-74.055,-74.123,-74.096,-74.075,-74.042,-74.056,-74.068,-74.03,-74.039,-74.037,-74.047,-74.044,-74.028,-74.054,-74.036,-74.053,-74.041,-74.073,-74.066,-74.076,-74.026,-74.099,-74.058,-74.035,-74.043,-74.048,-74.076,-74.049,-74.045,-74.068,-74.064,-74.059,-74.04,-74.04,-74.044,-74.046,-74.075,-74.045,-74.054,-74.038,-74.064,-74.062,-74.039,-74.074,-74.046,-74.046,-74.036,-74.081,-74.12,-74.073,-74.075,-74.054,-74.045,-74.049,-74.066,-74.102,-74.07,-74.063,-74.141,-74.062,-74.051,-74.032,-74.076,-74.041,-74.049,-74.059,-74.04,-74.1,-74.07,-74.068,-74.041,-74.051,-74.068,-74.032,-74.032,-74.113,-74.08,-74.04,-74.075,-74.041,-74.131,-74.068,-74.046,-74.041,-74.077,-74.043,-74.024,-74.069,-74.042,-74.088,-74.058,-74.077,-74.065,-74.043,-74.055,-74.046,-74.033,-74.063,-74.078,-74.044,-74.062,-74.042,-74.04,-74.048,-74.025,-74.078,-74.077,-74.024,-74.044,-74.055,-74.076,-74.025,-74.03,-74.034,-74.069,-74.04,-74.034,-74.033,-74.043,-74.03,-74.038,-74.048,-74.079,-74.048,-74.054,-74.059,-74.068,-74.06,-74.047,-74.047,-74.07,-74.065,-74.153,-74.038,-74.037,-74.055,-74.038,-74.029,-74.064,-74.081,-74.045,-74.076,-74.088,-74.051,-74.048,-74.027,-74.063,-74.063,-74.064,-74.078,-74.047,-74.041,-74.045,-74.058,-74.059,-74.073,-74.059,-74.064,-74.033,-74.039,-74.053,-74.034,-74.142,-74.047,-74.063,-74.024,-74.041,-74.061,-74.109,-74.047,-74.068,-74.047,-74.035,-74.051,-74.047,-74.05,-74.042,-74.075,-74.047,-74.046,-74.081,-74.044,-74.046,-74.049,-74.066,-74.035,-74.057,-74.036,-74.077,-74.046,-74.039,-74.044,-74.041,-74.046,-74.049,-74.132,-74.079,-74.06,-74.05,-74.064,-74.134,-74.04,-74.044,-74.076,-74.048,-74.046,-74.057,-74.098,-74.064,-74.053,-74.078,-74.054,-74.072,-74.04,-74.19,-74.066,-74.067,-74.029,-74.062,-74.077,-74.051,-74.043,-74.091,-74.077,-74.068,-74.033,-74.085,-74.05,-74.126,-74.047,-74.075,-74.039,-74.073,-74.056,-74.053,-74.053,-74.053,-74.053,-74.053,-74.055,-74.05,-74.095,-74.026,-74.039,-74.056,-74.063,-74.038,-74.037,-74.076,-74.043,-74.043,-74.044,-74.045,-74.03,-74.047,-74.054,-74.033,-74.038,-74.066,-74.173,-74.076,-74.029,-74.041,-74.164,-74.043,-74.03,-74.068,-74.107,-74.025,-74.164,-74.098,-74.06,-74.051,-74.055,-74.046,-74.038,-74.055,-74.029,-74.041,-74.05,-74.057,-74.053,-74.049,-74.023,-74.057,-74.057,-74.111,-74.11,-74.081,-74.044,-74.044,-74.042,-74.062,-74.054,-74.053,-74.067,-74.144,-74.048,-74.061,-74.059,-74.048,-74.056,-74.045,-74.052,-74.165,-74.049,-74.049,-74.049,-74.054,-74.048,-74.054,-74.07,-74.055,-74.066,-74.046,-74.06,-74.063,-74.041,-74.053,-74.058,-74.036,-74.054,-74.062,-74.036,-74.045,-74.1,-74.041,-74.043,-74.035,-74.05,-74.053,-74.053,-74.09,-74.085,-74.039,-74.131,-74.076,-74.077,-74.045,-74.045,-74.043,-74.151,-74.056,-74.14,-74.116,-74.084,-74.093,-74.069,-74.063,-74.046,-74.033,-74.027,-74.027,-74.056,-74.059,-74.082,-74.056,-74.083,-74.067,-74.028,-74.042,-74.129,-74.071,-74.051,-74.057,-74.081,-74.038,-74.164,-74.085,-74.128,-74.084,-74.043,-74.038,-74.128,-74.056,-74.042,-74.048,-74.083,-74.048,-74.064,-74.082,-74.047,-74.075,-74.044,-74.046,-74.055,-74.111,-74.052,-74.052,-74.054,-74.056,-74.055,-74.035,-74.051,-74.041,-74.047,-74.054,-74.029,-74.051,-74.044,-74.043,-74.051,-74.056,-74.056,-74.05,-74.05,-74.046,-74.055,-74.05,-74.046,-74.051,-74.052,-74.056,-74.056,-74.053,-74.055,-74.055,-74.027,-74.099,-74.055,-74.054,-74.028,-74.044,-74.055,-74.055,-74.043,-74.055,-74.055,-74.031,-74.046,-74.051,-74.052,-74.04,-74.063,-74.048,-74.034,-74.04,-74.046,-74.034,-74.043,-74.027,-74.077,-74.147,-74.123,-74.062,-74.044,-74.095,-74.046,-74.043,-74.047,-74.05,-74.036,-74.041,-74.054,-74.044,-74.054,-74.064,-74.051,-74.047,-74.047,-74.054,-74.023,-74.058,-74.146,-74.052,-74.07,-74.039,-74.055,-74.11,-74.04,-74.041,-74.055,-74.14,-74.08,-74.028,-74.116,-74.066,-74.044,-74.051,-74.072,-74.03,-74.049,-74.057,-74.051,-74.077,-74.065,-74.043,-74.051,-74.048,-74.082,-74.046,-74.033,-74.039,-74.142,-74.076,-74.051,-74.04,-74.03,-74.026,-74.058,-74.052,-74.057,-74.053,-74.084,-74.08,-74.061,-74.041,-74.048,-74.037,-74.036,-74.173,-74.034,-74.049,-74.07,-74.059,-74.061,-74.05,-74.05,-74.054,-74.048,-74.041,-74.056,-74.085,-74.1,-74.089,-74.116,-74.055,-74.079,-74.107,-74.029,-74.076,-74.054,-74.061,-74.084,-74.098,-74.063,-74.054,-74.053,-74.043,-74.098,-74.045,-74.049,-74.054,-74.063,-74.044,-74.039,-74.106,-74.106,-74.106,-74.106,-74.106,-74.106,-74.106,-74.106,-74.106,-74.106,-74.047,-74.088,-74.049,-74.071,-74.049,-74.05,-74.054,-74.165,-74.14,-74.079,-74.05,-74.066,-74.045,-74.024,-74.051,-74.045,-74.038,-74.065,-74.047,-74.075,-74.034,-74.041,-74.132,-74.031,-74.052,-74.145,-74.053,-74.061,-74.055,-74.066,-74.034,-74.074,-74.047,-74.154,-74.037,-74.045,-74.082,-74.065,-74.051,-74.039,-74.066,-74.036,-74.027,-74.06,-74.042,-74.024,-74.044,-74.042,-74.048,-74.029,-74.039,-74.07,-74.038,-74.037,-74.065,-74.058,-74.05,-74.071,-74.03,-74.064,-74.034,-74.058,-74.056,-74.089,-74.089,-74.035,-74.049,-74.071,-74.047,-74.168,-74.068,-74.049,-74.049,-74.029,-74.066,-74.053,-74.136,-74.049,-74.038,-74.037,-74.052,-74.035,-74.033,-74.119,-74.04,-74.049,-74.041,-74.054,-74.055,-74.053,-74.055,-74.051,-74.053,-74.113,-74.053,-74.072,-74.056,-74.043,-74.054,-74.054,-74.05,-74.056,-74.031,-74.108,-74.114,-74.056,-74.178,-74.075,-74.062,-74.049,-74.046,-74.044,-74.12,-74.053,-74.115,-74.083,-74.047,-74.053,-74.15,-74.15,-74.15,-74.033,-74.053,-74.052,-74.153,-74.031,-74.051,-74.125,-74.058,-74.15,-74.15,-74.036,-74.038,-74.116,-74.127,-74.099,-74.031,-74.028,-74.112,-74.05,-74.085,-74.06,-74.083,-74.03,-74.028,-74.113,-74.054,-74.037,-74.049,-74.063,-74.077,-74.057,-74.028,-74.083,-74.039,-74.059,-74.116,-74.077,-74.053,-74.049,-74.047,-74.061,-74.164,-74.063,-74.082,-74.04,-74.144,-74.029,-74.029,-74.054,-74.067,-74.055,-74.035,-74.039,-74.025,-74.046,-74.059,-74.05,-74.034,-74.079,-74.099,-74.062,-74.072,-74.0957812,-74.064,-74.036,-74.042,-74.04,-74.072,-74.052,-74.064,-74.063,-74.125,-74.064,-74.037,-74.029,-74.129,-74.129,-74.129,-74.153,-74.084,-74.12,-74.041,-74.0929959,-74.0929959,-74.0929959,-74.051,-74.066,-74.141,-74.066,-74.066,-74.066,-74.043,-74.055,-74.055,-74.029,-74.074,-74.041,-74.033,-74.034,-74.055,-74.075,-74.066,-74.179,-74.141,-74.059,-74.042,-74.035,-74.081,-74.063,-74.068,-74.045,-74.055,-74.06,-74.028,-74.032,-74.031,-74.043,-74.065,-74.047,-74.045,-74.034,-74.129,-74.097,-74.057,-74.037,-74.079,-74.112,-74.047,-74.057,-74.083,-74.097,-74.077,-74.14,-74.09,-74.048,-74.055,-74.056,-74.039,-74.063,-74.05,-74.043,-74.064,-74.046,-74.048,-74.06,-74.17,-74.042,-74.1,-74.077,-74.104,-74.139,-74.044,-74.044,-74.046,-74.045,-74.143,-74.048,-74.162,-74.055,-74.14,-74.05,-74.057,-74.086,-74.035,-74.036,-74.05,-74.111,-74.048,-74.061,-74.044,-74.029,-74.025,-74.026,-74.025,-74.053,-74.064,-74.042,-74.054,-74.08,-74.038,-74.046,-74.035,-74.038,-74.15,-74.029,-74.047,-74.048,-74.039,-74.057,-74.065,-74.079,-74.053,-74.062,-74.048,-74.051,-74.032,-74.079,-74.076,-74.052,-74.04,-74.055,-74.082,-74.055,-74.042,-74.086,-74.079,-74.121,-74.121,-74.1248743,-74.1225404,-74.081,-74.078,-74.069,-74.1324375,-74.022,-74.095,-74.121,-74.077,-74.04,-74.061,-74.075,-74.064,-74.055,-74.054,-74.155,-74.033,-74.052,-74.052,-74.1725698,-74.0772199,-74.039,-74.158,-74.054,-74.03,-74.031,-74.032,-74.049,-74.03,-74.031,-74.081,-74.094,-74.037,-74.079,-74.154,-74.037,-74.035,-74.1020454,-74.031,-74.031,-74.079,-74.072092,-74.154,-74.072,-74.041,-74.083,-74.03,-74.091,-74.031,-74.031,-74.046,-74.09,-74.046,-74.049,-74.046,-74.037,-74.087,-74.052,-74.032,-74.062,-74.056,-74.064,-74.043,-74.046,-74.043,-74.071,-74.043,-74.148,-74.072,-74.044,-74.063,-74.078,-74.079,-74.108,-74.044,-74.042,-74.072,-74.104,-74.086,-74.104,-74.074,-74.036,-74.037,-74.043,-74.048,-74.071,-74.047,-74.048,-74.051,-74.083,-74.025,-74.066,-74.066,-74.208,-74.027,-74.095,-74.065,-74.035,-74.049,-74.049,-74.053,-74.124,-74.044,-74.049,-74.13,-74.049,-74.041,-74.074,-74.124,-74.044,-74.04,-74.04,-74.037,-74.154,-74.052,-74.05,-74.066,-74.066,-74.066,-74.03,-74.04,-74.056,-74.042,-74.051,-74.053,-74.084,-74.05,-74.154,-74.174,-74.045,-74.046,-74.042,-74.037,-74.042,-74.036,-74.029,-74.029,-74.06,-74.208,-74.116,-74.103,-74.103,-74.058,-74.103,-74.039,-74.049,-74.029,-74.103,-74.061,-74.06,-74.071,-74.034,-74.043,-74.076,-74.082,-74.047,-74.082,-74.055,-74.037,-74.059,-74.079,-74.043,-74.028,-74.033,-74.05,-74.07,-74.049,-74.049,-74.039,-74.04,-74.04,-74.04,-74.059,-74.064,-74.068,-74.027,-74.049,-74.049,-74.066,-74.042,-74.07,-74.041,-74.148,-74.072,-74.067,-74.041,-74.067,-74.083,-74.049,-74.081,-74.048,-74.12,-74.041,-74.033,-74.119,-74.07,-74.071,-74.057,-74.067,-74.062,-74.034,-74.082,-74.074,-74.05,-74.056,-74.033,-74.055,-74.069,-74.124,-74.141,-74.098,-74.046,-74.03,-74.148,-74.148,-74.033,-74.148,-74.05,-74.05,-74.119,-74.04,-74.051,-74.056,-74.142,-74.053,-74.052,-74.148,-74.139,-74.029,-74.07,-74.049,-74.06,-74.035,-74.049,-74.08,-74.047,-74.089,-74.033,-74.056,-74.143,-74.049,-74.063,-74.051,-74.043,-74.067,-74.053,-74.066,-74.055,-74.082,-74.05,-74.031],\"y\":[4.724,4.618,4.729,4.667,4.702,4.765,4.667,4.699,4.662,4.698,4.693,4.727,4.667,4.675,4.737,4.699,4.699,4.767,4.656,4.714,4.676,4.649,4.667,4.723,4.7,4.757,4.616,4.699,4.719,4.734,4.697,4.702,4.705,4.757,4.73,4.732,4.686,4.685,4.669,4.669,4.669,4.687,4.711,4.719,4.727,4.719,4.715,4.743,4.744,4.724,4.727,4.755,4.695,4.76,4.76,4.705,4.754,4.709,4.677,4.598,4.741,4.61,4.685,4.741,4.746,4.727,4.705,4.687,4.721,4.768,4.755,4.698,4.692,4.72,4.727,4.657,4.747,4.737,4.706,4.765,4.75,4.598,4.663,4.742,4.726,4.693,4.719,4.695,4.727,4.709,4.677,4.701,4.766,4.746,4.72,4.725,4.72,4.698,4.728,4.677,4.687,4.694,4.766,4.722,4.696,4.731,4.74,4.724,4.698,4.63,4.588,4.634,4.646,4.657,4.676,4.681,4.718,4.577,4.637,4.696,4.713,4.727,4.707,4.699,4.598,4.706,4.666,4.664,4.725,4.565,4.746,4.755,4.706,4.691,4.725,4.699,4.699,4.643,4.647,4.725,4.692,4.706,4.666,4.721,4.696,4.7,4.72,4.699,4.724,4.746,4.719,4.694,4.726,4.725,4.709,4.695,4.675,4.759,4.716,4.694,4.731,4.739,4.696,4.677,4.723,4.658,4.726,4.701,4.701,4.726,4.717,4.675,4.598,4.725,4.714,4.717,4.746,4.697,4.701,4.699,4.732,4.723,4.719,4.65,4.637,4.711,4.684,4.64,4.755,4.721,4.69,4.69,4.634,4.74,4.579,4.731,4.755,4.688,4.695,4.708,4.704,4.708,4.685,4.652,4.648,4.682,4.702,4.712,4.706,4.724,4.731,4.707,4.693,4.691,4.692,4.72,4.669,4.693,4.795,4.719,4.746,4.696,4.655,4.734,4.619,4.719,4.724,4.727,4.706,4.672,4.633,4.719,4.756,4.7,4.714,4.682,4.693,4.712,4.716,4.725,4.668,4.698,4.71,4.729,4.707,4.662,4.698,4.734,4.653,4.715,4.801,4.738,4.761,4.733,4.699,4.759,4.718,4.668,4.697,4.742,4.654,4.726,4.604,4.706,4.733,4.694,4.662,4.694,4.677,4.754,4.726,4.648,4.587,4.687,4.714,4.726,4.617,4.713,4.767,4.707,4.635,4.715,4.698,4.733,4.581,4.666,4.687,4.694,4.649,4.707,4.719,4.674,4.677,4.724,4.714,4.706,4.702,4.702,4.702,4.702,4.702,4.688,4.707,4.739,4.721,4.719,4.68,4.669,4.72,4.692,4.598,4.682,4.698,4.695,4.698,4.708,4.687,4.688,4.738,4.719,4.722,4.591,4.732,4.701,4.699,4.636,4.754,4.728,4.704,4.613,4.746,4.679,4.634,4.737,4.736,4.738,4.739,4.694,4.675,4.71,4.746,4.69,4.672,4.679,4.691,4.724,4.672,4.671,4.651,4.719,4.689,4.719,4.725,4.719,4.63,4.694,4.645,4.767,4.628,4.662,4.725,4.663,4.674,4.675,4.685,4.693,4.622,4.687,4.687,4.705,4.693,4.673,4.69,4.705,4.689,4.64,4.689,4.706,4.728,4.679,4.679,4.706,4.696,4.698,4.704,4.731,4.766,4.689,4.708,4.678,4.732,4.685,4.67,4.67,4.582,4.589,4.699,4.719,4.598,4.7,4.689,4.689,4.689,4.692,4.693,4.686,4.64,4.651,4.641,4.741,4.752,4.694,4.705,4.771,4.771,4.679,4.74,4.649,4.651,4.696,4.729,4.723,4.72,4.663,4.733,4.681,4.747,4.651,4.739,4.649,4.711,4.658,4.71,4.719,4.692,4.67,4.645,4.693,4.696,4.706,4.696,4.665,4.712,4.704,4.644,4.681,4.719,4.678,4.635,4.682,4.682,4.678,4.676,4.675,4.743,4.681,4.678,4.667,4.685,4.715,4.682,4.681,4.678,4.682,4.679,4.683,4.683,4.673,4.684,4.684,4.683,4.685,4.672,4.68,4.679,4.676,4.678,4.679,4.679,4.721,4.756,4.675,4.675,4.718,4.683,4.675,4.686,4.682,4.686,4.675,4.719,4.704,4.682,4.678,4.723,4.654,4.727,4.697,4.72,4.707,4.719,4.682,4.718,4.714,4.631,4.585,4.747,4.705,4.715,4.698,4.718,4.674,4.767,4.719,4.706,4.696,4.724,4.696,4.736,4.695,4.718,4.694,4.694,4.724,4.762,4.682,4.688,4.729,4.697,4.675,4.719,4.723,4.704,4.654,4.623,4.595,4.744,4.473,4.765,4.705,4.693,4.691,4.703,4.661,4.643,4.735,4.699,4.726,4.676,4.651,4.658,4.708,4.675,4.701,4.719,4.632,4.645,4.692,4.763,4.709,4.722,4.642,4.701,4.723,4.678,4.589,4.542,4.736,4.692,4.722,4.721,4.716,4.639,4.701,4.679,4.618,4.663,4.727,4.721,4.721,4.708,4.727,4.726,4.726,4.647,4.729,4.677,4.72,4.693,4.645,4.748,4.708,4.697,4.678,4.726,4.709,4.692,4.694,4.645,4.644,4.705,4.625,4.69,4.679,4.7,4.696,4.682,4.706,4.63,4.63,4.63,4.63,4.63,4.63,4.63,4.63,4.63,4.63,4.697,4.642,4.683,4.611,4.699,4.7,4.695,4.64,4.623,4.72,4.701,4.74,4.695,4.723,4.7,4.68,4.694,4.724,4.705,4.721,4.718,4.695,4.711,4.823,4.7,4.587,4.7,4.69,4.689,4.739,4.74,4.742,4.69,4.686,4.695,4.687,4.709,4.708,4.695,4.703,4.713,4.741,4.735,4.725,4.72,4.727,4.691,4.721,4.699,4.709,4.701,4.642,4.743,4.724,4.764,4.736,4.669,4.615,4.766,4.602,4.715,4.736,4.732,4.735,4.61,4.699,4.73,4.719,4.699,4.628,4.696,4.688,4.702,4.704,4.745,4.693,4.666,4.688,4.699,4.695,4.732,4.698,4.704,4.722,4.732,4.715,4.705,4.678,4.685,4.674,4.678,4.682,4.678,4.671,4.733,4.732,4.688,4.738,4.677,4.677,4.682,4.68,4.695,4.683,4.71,4.681,4.633,4.726,4.729,4.729,4.738,4.679,4.578,4.704,4.723,4.595,4.7,4.696,4.681,4.681,4.681,4.733,4.651,4.681,4.603,4.716,4.694,4.629,4.67,4.681,4.681,4.693,4.689,4.491,4.596,4.751,4.735,4.728,4.67,4.662,4.62,4.72,4.695,4.768,4.728,4.603,4.733,4.732,4.709,4.725,4.71,4.671,4.693,4.601,4.7,4.704,4.697,4.71,4.746,4.679,4.664,4.705,4.601,4.725,4.702,4.725,4.59,4.706,4.708,4.702,4.626,4.705,4.723,4.725,4.734,4.699,4.705,4.668,4.697,4.664,4.682,4.722,4.711,4.5975418,4.745,4.727,4.693,4.698,4.711,4.653,4.732,4.723,4.606,4.744,4.697,4.723,4.62,4.62,4.62,4.603,4.646,4.627,4.696,4.7386684,4.7386684,4.7386684,4.678,4.751,4.655,4.751,4.751,4.751,4.686,4.686,4.682,4.733,4.718,4.722,4.743,4.7,4.688,4.716,4.751,4.585,4.64,4.677,4.705,4.699,4.71,4.731,4.745,4.685,4.643,4.792,4.702,4.725,4.703,4.734,4.754,4.712,4.667,4.727,4.62,4.575,4.672,4.722,4.643,4.562,4.693,4.672,4.648,4.714,4.713,4.674,4.647,4.699,4.704,4.682,4.698,4.723,4.693,4.717,4.731,4.686,4.697,4.725,4.624,4.722,4.755,4.601,4.755,4.683,4.702,4.689,4.7,4.7,4.589,4.706,4.651,4.758,4.681,4.7,4.642,4.632,4.727,4.717,4.692,4.53,4.715,4.666,4.682,4.734,4.733,4.733,4.732,4.683,4.704,4.695,4.677,4.697,4.725,4.732,4.7,4.694,4.636,4.701,4.719,4.699,4.746,4.704,4.7,4.651,4.747,4.696,4.753,4.682,4.716,4.696,4.711,4.693,4.723,4.676,4.695,4.704,4.677,4.572,4.692,4.684,4.684,4.7149508,4.7164519,4.696,4.692,4.718,4.7070179,4.724,4.752,4.716,4.737,4.727,4.792,4.733,4.731,4.759,4.678,4.631,4.713,4.69,4.69,4.613418,4.6780132,4.7,4.641,4.676,4.705,4.703,4.708,4.687,4.709,4.693,4.651,4.572,4.732,4.692,4.598,4.7,4.761,4.5905789,4.716,4.716,4.692,4.7109886,4.632,4.615,4.707,4.573,4.703,4.585,4.704,4.704,4.681,4.702,4.68,4.749,4.739,4.723,4.707,4.689,4.704,4.643,4.704,4.615,4.721,4.672,4.706,4.692,4.705,4.623,4.711,4.688,4.615,4.661,4.66,4.689,4.687,4.675,4.747,4.745,4.669,4.683,4.718,4.732,4.73,4.681,4.682,4.694,4.74,4.674,4.681,4.695,4.727,4.751,4.751,4.607,4.772,4.739,4.677,4.693,4.684,4.684,4.699,4.723,4.725,4.684,4.643,4.684,4.725,4.645,4.625,4.699,4.678,4.725,4.697,4.639,4.689,4.71,4.751,4.751,4.751,4.722,4.697,4.685,4.699,4.692,4.707,4.604,4.69,4.547,4.612,4.687,4.759,4.705,4.694,4.694,4.729,4.708,4.707,4.665,4.608,4.583,4.564,4.564,4.644,4.564,4.695,4.716,4.72,4.564,4.644,4.632,4.718,4.735,4.705,4.711,4.696,4.664,4.695,4.682,4.695,4.688,4.697,4.705,4.724,4.703,4.653,4.688,4.691,4.689,4.701,4.698,4.699,4.698,4.744,4.748,4.752,4.742,4.688,4.724,4.689,4.728,4.688,4.721,4.623,4.711,4.597,4.669,4.686,4.695,4.689,4.696,4.714,4.586,4.679,4.769,4.695,4.688,4.686,4.674,4.745,4.707,4.734,4.695,4.729,4.747,4.674,4.745,4.692,4.618,4.589,4.641,4.692,4.724,4.714,4.623,4.623,4.77,4.623,4.686,4.686,4.723,4.723,4.686,4.647,4.67,4.691,4.672,4.623,4.646,4.702,4.756,4.682,4.725,4.7,4.682,4.688,4.724,4.748,4.726,4.672,4.559,4.656,4.695,4.703,4.717,4.693,4.683,4.692,4.747,4.71,4.693,4.717],\"z\":[212721.41,168826.52,133372.95,371418.34,236357.12,202591.82,300511.2,168826.52,121555.09,280252.02,212721.41,175579.58,212721.41,253239.78,199215.29,257207.2,216435.59,270122.43,320770.38,320770.38,243110.18,287005.08,217786.21,219474.47,256616.31,118178.56,101295.91,141814.27,145190.8,84413.26,172203.05,158696.92,253239.78,84413.26,202591.82,253239.78,162073.45,202591.82,323504.7,341568.12,359394.85,162073.45,330899.98,229604.06,229604.06,364665.28,388300.99,79348.46,75971.93,219474.47,270122.43,162073.45,320770.38,73946.01,73608.36,276875.49,158696.92,287005.08,310640.79,141814.27,371418.34,138437.74,347782.63,189085.7,78676.53,287005.08,243110.18,246486.72,131684.68,82724.99,131684.68,354535.69,270122.43,131684.68,155320.39,378171.4,97919.38,92854.58,371418.34,101295.91,155320.39,219474.47,371418.34,175579.58,253239.78,162073.45,168826.52,256616.31,229604.06,143502.54,300477.44,236323.36,246486.72,150221.83,175545.81,106360.7,138437.74,158663.16,371418.34,320736.62,163727.95,230954.68,202591.82,189085.7,212721.41,337653.04,162073.45,378171.4,162073.45,106360.7,162073.45,253239.78,134385.91,300511.2,320770.38,219474.47,124931.62,290381.61,108048.97,120542.13,287005.08,202591.82,205968.35,121555.09,118178.56,185709.17,303887.73,111425.5,169574.42,243520.43,234668.86,167138.25,126619.89,121555.09,155320.39,253239.78,168826.52,151943.86,287005.08,129996.42,195838.76,101295.91,118178.56,195838.76,276875.49,202591.82,371418.34,114802.03,371418.34,151943.86,94542.85,287005.08,155320.39,354535.69,229604.06,190773.96,320770.38,108048.97,308952.53,175579.58,266745.9,162073.45,178956.11,303887.73,121555.09,276875.49,371418.34,253239.78,256616.31,334276.51,236357.12,297134.67,226396.02,101295.91,308952.53,141814.27,287005.08,219474.47,232980.59,219474.47,135061.21,108048.97,192462.23,151943.86,320770.38,219474.47,334276.51,354535.69,178956.11,155320.39,136183.19,256997.71,91166.32,128308.15,57063.36,108048.97,104672.44,310640.79,167138.25,151943.86,132697.64,290381.61,182332.64,141814.27,239733.65,209007.23,236357.12,229604.06,371418.34,229604.06,287005.08,287005.08,231292.33,173891.31,253239.78,111425.5,297134.67,270122.43,287005.08,121217.44,131684.68,197527.02,290381.61,141814.27,131684.68,151943.86,229604.06,371418.34,354535.69,128308.15,117165.6,151943.86,185709.17,236357.12,118178.56,300173.55,259992.84,320770.38,114802.03,310640.79,312315.38,320770.38,330899.98,175579.58,212721.41,236357.12,211033.15,97919.38,263369.37,151943.86,298822.94,151943.86,143502.54,118178.56,145190.8,108048.97,113113.76,229604.06,337653.04,101295.91,133372.95,160385.19,253239.78,330899.98,138437.74,253239.78,286667.43,320432.73,155320.39,67530.6,160385.19,354974.64,151943.86,253239.78,111425.5,87789.79,74249.9,141814.27,263369.37,330899.98,226227.53,253239.78,388300.99,270122.43,314017.32,151943.86,226227.53,283628.55,253239.78,219474.47,70907.13,320770.38,151943.86,151943.86,218123.86,151943.86,393216.55,180744.15,223384.33,379014.35,260668.14,324146.91,219474.47,94542.85,368041.81,253239.78,226227.53,145190.8,283628.55,330899.98,121521.32,195838.76,310640.79,172203.05,185709.17,354535.69,222851.0,236357.12,99607.64,216097.94,124931.62,108048.97,337653.04,330899.98,145190.8,121555.09,145190.8,121555.09,236357.12,143468.77,131684.68,256616.31,145190.8,94542.85,94542.85,121555.09,76984.89,97919.38,346094.36,335964.77,138437.74,185709.17,205968.35,202591.82,388300.99,301186.51,202591.82,202591.82,165449.99,178956.11,129658.76,170514.78,148567.33,246486.72,287005.08,199215.29,199215.29,263369.37,167138.25,337315.38,135061.21,109737.23,253239.78,327523.45,337653.04,209344.88,185709.17,222851.0,226227.53,121555.09,253239.78,388300.99,297134.67,287005.08,280252.02,371418.34,320770.38,145190.8,138437.74,330899.98,253239.78,108048.97,182332.64,388300.99,236357.12,236357.12,77660.19,64154.07,151943.86,263369.37,234668.86,320770.38,229604.06,219474.47,118178.56,182332.64,138437.74,54699.79,91166.32,185709.17,141814.27,263369.37,141814.27,74283.66,145190.8,236357.12,371418.34,253239.78,140126.01,320770.38,91166.32,189085.7,178956.11,253239.78,253239.78,219474.47,148567.33,263369.37,219474.47,165449.99,91166.32,101295.91,148229.68,101295.91,158696.92,270122.43,303887.73,124931.62,106360.7,77660.19,163761.72,162073.45,238821.99,151943.86,219474.47,67530.6,226227.53,395054.05,283628.55,337653.04,263369.37,276875.49,302942.3,239733.65,168151.21,219474.47,168826.52,185709.17,79348.46,283290.9,263369.37,185709.17,222851.0,303887.73,86101.52,202591.82,330899.98,270122.43,165449.99,192462.23,164099.37,217786.21,273498.96,309290.18,168826.52,158696.92,246486.72,371418.34,195838.76,371418.34,141814.27,197527.02,253239.78,256616.31,168826.52,155320.39,278563.75,185709.17,276200.18,87789.79,320770.38,287005.08,287005.08,337653.04,300511.2,215760.29,320770.38,189085.7,320770.38,246486.72,281940.28,178956.11,175579.58,163761.72,194150.49,215760.29,212721.41,219474.47,82724.99,287005.08,118178.56,229604.06,312329.06,300511.2,148567.33,113080.0,118178.56,307264.26,330899.98,133372.95,195838.76,397755.28,87789.79,195838.76,310640.79,314017.32,89478.05,315705.59,273498.96,229604.06,280252.02,330899.98,354535.69,388300.99,263369.37,135027.45,253239.78,202591.82,175579.58,141814.27,287005.08,119866.82,300511.2,236357.12,116490.29,33765.3,72595.4,84379.49,131684.68,395054.05,219474.47,151943.86,209344.88,334276.51,209344.88,83737.95,87789.79,119866.82,283628.55,337653.04,222851.0,243110.18,371418.34,198539.98,219474.47,110750.19,141814.27,222851.0,62465.81,119866.82,162073.45,141814.27,246486.72,167138.25,280252.02,77626.43,276875.49,113113.76,158696.92,162073.45,119866.82,219474.51,310640.79,258304.57,131684.68,219474.47,209344.88,138437.74,141814.27,151943.86,330899.98,150255.6,126619.89,84413.26,104672.44,40518.36,133372.95,60777.54,141814.27,101295.91,54024.48,151943.86,253239.78,252226.82,136749.48,303887.73,388300.99,135061.21,151943.86,226227.53,236357.12,47271.42,137828.95,293758.14,162073.45,270122.43,100282.95,300511.2,79348.46,79348.46,79348.46,79348.46,79348.46,79348.46,79348.46,79348.46,79348.46,79348.46,138437.74,162073.45,253239.78,151943.86,151943.86,138437.74,337653.04,67496.84,114802.03,330899.98,129996.42,162073.45,310640.79,297134.67,158021.62,141814.27,202591.82,138437.74,205968.35,320770.38,209344.88,251551.51,55712.75,287005.08,151943.86,185709.17,287005.08,195838.76,324146.91,121555.09,157008.66,248512.63,264373.73,243110.18,158696.92,148567.33,232980.59,253239.78,266745.9,263369.37,117840.91,157008.66,158696.92,276875.49,145190.8,378171.4,229604.06,200903.55,175579.58,145190.8,148567.33,118178.56,74283.66,104334.78,300511.2,124931.62,388300.99,87789.79,67496.84,263369.37,99607.64,185709.17,97919.38,135061.21,128308.15,297134.67,168826.52,236357.12,287005.08,57367.25,206643.66,303887.73,185709.17,131684.68,185709.17,329211.71,222851.0,185709.17,222851.0,121555.09,104672.44,202591.82,108048.97,108048.97,263369.37,141814.27,303887.73,209344.88,334276.51,280252.02,219474.47,189085.7,233133.36,99607.64,94542.85,263369.37,163761.72,79348.46,320770.38,371418.34,177267.84,158696.92,133372.95,165449.99,60777.54,135061.21,45583.16,330899.98,208669.57,148567.33,151943.86,158696.92,60777.54,334276.51,199215.29,354535.69,327523.45,219474.47,161735.8,166125.29,178956.11,128308.15,151943.86,280252.02,74283.66,175241.92,113113.76,74283.66,209344.88,183683.25,169501.82,145190.8,158696.92,334276.51,101295.91,65842.34,141814.27,320770.38,178956.11,60777.54,101295.91,104672.44,98594.68,64154.07,300511.2,168792.75,79348.46,187397.43,145190.8,216097.94,175008.94,136749.48,108048.97,276875.49,128308.15,108048.97,121555.09,163687.6,79348.46,158696.92,368041.81,135061.21,70907.13,287005.08,266745.9,151943.86,119866.82,162073.45,195838.76,232980.59,57367.25,189085.7,185709.17,118178.56,97919.38,232980.59,101295.91,104672.44,182332.64,287005.08,135061.21,232980.59,270122.43,257144.32,135061.21,128308.15,278563.75,145190.8,195838.76,276875.49,188410.39,153632.13,124931.62,131684.68,243110.18,158359.27,84413.26,81036.72,70907.13,54024.48,138437.74,219474.47,131684.68,154286.59,154286.59,154286.59,304225.39,123243.36,116827.95,123243.36,115646.16,116490.29,212721.41,276875.49,172203.05,162073.45,278563.75,141814.27,103997.13,128308.15,145190.8,287005.08,116490.29,371418.34,47271.42,101295.91,280252.02,151943.86,276875.49,212721.41,310640.79,151943.86,337653.04,201916.51,303887.73,140126.01,259992.84,128308.15,101295.91,189085.7,303887.73,101295.91,97919.38,197527.02,212721.41,135061.21,118178.56,47237.66,212957.77,202591.82,388300.99,268434.16,287005.08,200903.55,226227.53,224539.27,185709.17,371418.34,165449.99,253239.78,114802.03,227240.49,118178.56,162073.45,121555.09,287005.08,89478.05,121555.09,60777.54,128308.15,118178.56,74283.66,189085.7,146879.07,297134.67,276875.49,214409.68,170514.78,47271.42,151943.86,91166.32,200903.55,239733.65,155320.39,185709.17,168826.52,167138.25,14147.66,185709.17,113113.76,100282.95,319440.71,242691.49,228591.78,343074.06,283628.55,140126.01,143502.54,356561.61,253239.78,118178.56,252902.12,287005.08,246486.72,54024.48,303550.08,165449.99,202591.82,70231.83,131684.68,108048.97,124931.62,94542.85,287005.08,145190.8,303887.73,172203.05,232980.59,246486.72,232980.59,121555.09,320770.38,150255.6,175579.58,226227.53,59089.28,137762.44,224633.81,268867.71,257144.32,257144.32,131684.68,175579.58,162073.45,75429.0,354535.69,52336.22,72595.4,287005.08,104672.44,232980.59,263369.37,118178.56,121555.09,343730.79,70907.13,202591.82,391677.52,200228.25,257144.32,257144.32,335964.77,108048.97,302199.47,118178.56,239733.65,232980.59,239733.65,173891.31,190773.96,102984.17,94509.08,145190.8,143502.54,246486.72,371418.34,128308.15,5495.89,135061.21,158696.92,182332.64,54480.31,84075.6,121555.09,276875.49,25965.51,192462.23,109737.23,175579.58,222851.0,268434.16,104672.44,157008.66,77322.54,99607.64,84413.26,290381.61,280252.02,207977.39,172203.05,128308.15,192462.23,138437.74,320770.38,258304.57,189085.7,253239.78,48284.38,47237.66,172203.05,124593.97,123243.36,108048.97,165449.99,145190.8,283628.55,185709.17,57401.01,265057.63,283628.55,118178.56,212721.41,136411.82,295446.41,236357.12,246486.72,84750.91,229604.06,200903.55,141814.27,87789.79,126619.89,119866.82,87789.79,335964.77,55712.75,102984.17,263369.37,138280.4,175913.64,168826.52,57401.01,135061.21,163531.1,114802.03,243553.14,185709.17,124931.62,45583.16,266745.9,371418.34,172203.05,138437.74,81036.72,200903.55,199215.29,118178.56,116490.29,115646.16,135061.21,148567.33,168826.52,276875.49,280252.02,202591.82,303887.73,371418.34,263369.37,118178.56,249863.25,145190.8,199215.29,185709.17,199215.29,89478.05,189085.7,158696.92,118178.56,398430.58,175579.58,81036.72,86101.52,141814.27,86101.52,243110.18,263369.37,212721.41,86101.52,128308.15,151943.86,151943.86,205968.35,195838.76,259992.84,101295.91,395054.05,212721.41,290381.61,123243.36,202591.82,243110.18,303887.73,153632.13,329273.48,287005.08,232980.59,310640.79,303887.73,270122.43,167475.9,125606.93,148567.33,97919.38,131684.68,243110.18,162073.45,118178.56,165449.99,253239.78,119866.82,232980.59,96231.11,121555.09,209344.88,337653.04,303887.73,175579.58,111087.85,303887.73,131684.68,200903.55,162073.45,175579.58,114802.03,108048.97,92854.58,109737.23,320770.38,162073.45,162073.45,150255.6,131684.68,371418.34,97919.38,320770.38,80361.42,128308.15,110750.19,128308.15,151943.86,388300.99,43894.89,287005.08,54024.48,55712.75,108048.97,97919.38,239733.65,199215.29,124931.62,109737.23,219474.47,151943.86,168488.86,162073.45,249863.25,84413.26,43894.89,300511.2,219474.47,126619.89,319082.12,253239.78,138437.74,92854.58,160385.19,84413.26,121555.09,302199.47,57401.01,176151.56,189085.7,283628.55,118853.87,162073.45,232980.59,151943.86,97919.38,276875.49,114802.03,162073.45],\"type\":\"scatter3d\"}],                        {\"template\":{\"data\":{\"histogram2dcontour\":[{\"type\":\"histogram2dcontour\",\"colorbar\":{\"outlinewidth\":0,\"ticks\":\"\"},\"colorscale\":[[0.0,\"#0d0887\"],[0.1111111111111111,\"#46039f\"],[0.2222222222222222,\"#7201a8\"],[0.3333333333333333,\"#9c179e\"],[0.4444444444444444,\"#bd3786\"],[0.5555555555555556,\"#d8576b\"],[0.6666666666666666,\"#ed7953\"],[0.7777777777777778,\"#fb9f3a\"],[0.8888888888888888,\"#fdca26\"],[1.0,\"#f0f921\"]]}],\"choropleth\":[{\"type\":\"choropleth\",\"colorbar\":{\"outlinewidth\":0,\"ticks\":\"\"}}],\"histogram2d\":[{\"type\":\"histogram2d\",\"colorbar\":{\"outlinewidth\":0,\"ticks\":\"\"},\"colorscale\":[[0.0,\"#0d0887\"],[0.1111111111111111,\"#46039f\"],[0.2222222222222222,\"#7201a8\"],[0.3333333333333333,\"#9c179e\"],[0.4444444444444444,\"#bd3786\"],[0.5555555555555556,\"#d8576b\"],[0.6666666666666666,\"#ed7953\"],[0.7777777777777778,\"#fb9f3a\"],[0.8888888888888888,\"#fdca26\"],[1.0,\"#f0f921\"]]}],\"heatmap\":[{\"type\":\"heatmap\",\"colorbar\":{\"outlinewidth\":0,\"ticks\":\"\"},\"colorscale\":[[0.0,\"#0d0887\"],[0.1111111111111111,\"#46039f\"],[0.2222222222222222,\"#7201a8\"],[0.3333333333333333,\"#9c179e\"],[0.4444444444444444,\"#bd3786\"],[0.5555555555555556,\"#d8576b\"],[0.6666666666666666,\"#ed7953\"],[0.7777777777777778,\"#fb9f3a\"],[0.8888888888888888,\"#fdca26\"],[1.0,\"#f0f921\"]]}],\"heatmapgl\":[{\"type\":\"heatmapgl\",\"colorbar\":{\"outlinewidth\":0,\"ticks\":\"\"},\"colorscale\":[[0.0,\"#0d0887\"],[0.1111111111111111,\"#46039f\"],[0.2222222222222222,\"#7201a8\"],[0.3333333333333333,\"#9c179e\"],[0.4444444444444444,\"#bd3786\"],[0.5555555555555556,\"#d8576b\"],[0.6666666666666666,\"#ed7953\"],[0.7777777777777778,\"#fb9f3a\"],[0.8888888888888888,\"#fdca26\"],[1.0,\"#f0f921\"]]}],\"contourcarpet\":[{\"type\":\"contourcarpet\",\"colorbar\":{\"outlinewidth\":0,\"ticks\":\"\"}}],\"contour\":[{\"type\":\"contour\",\"colorbar\":{\"outlinewidth\":0,\"ticks\":\"\"},\"colorscale\":[[0.0,\"#0d0887\"],[0.1111111111111111,\"#46039f\"],[0.2222222222222222,\"#7201a8\"],[0.3333333333333333,\"#9c179e\"],[0.4444444444444444,\"#bd3786\"],[0.5555555555555556,\"#d8576b\"],[0.6666666666666666,\"#ed7953\"],[0.7777777777777778,\"#fb9f3a\"],[0.8888888888888888,\"#fdca26\"],[1.0,\"#f0f921\"]]}],\"surface\":[{\"type\":\"surface\",\"colorbar\":{\"outlinewidth\":0,\"ticks\":\"\"},\"colorscale\":[[0.0,\"#0d0887\"],[0.1111111111111111,\"#46039f\"],[0.2222222222222222,\"#7201a8\"],[0.3333333333333333,\"#9c179e\"],[0.4444444444444444,\"#bd3786\"],[0.5555555555555556,\"#d8576b\"],[0.6666666666666666,\"#ed7953\"],[0.7777777777777778,\"#fb9f3a\"],[0.8888888888888888,\"#fdca26\"],[1.0,\"#f0f921\"]]}],\"mesh3d\":[{\"type\":\"mesh3d\",\"colorbar\":{\"outlinewidth\":0,\"ticks\":\"\"}}],\"scatter\":[{\"fillpattern\":{\"fillmode\":\"overlay\",\"size\":10,\"solidity\":0.2},\"type\":\"scatter\"}],\"parcoords\":[{\"type\":\"parcoords\",\"line\":{\"colorbar\":{\"outlinewidth\":0,\"ticks\":\"\"}}}],\"scatterpolargl\":[{\"type\":\"scatterpolargl\",\"marker\":{\"colorbar\":{\"outlinewidth\":0,\"ticks\":\"\"}}}],\"bar\":[{\"error_x\":{\"color\":\"#2a3f5f\"},\"error_y\":{\"color\":\"#2a3f5f\"},\"marker\":{\"line\":{\"color\":\"#E5ECF6\",\"width\":0.5},\"pattern\":{\"fillmode\":\"overlay\",\"size\":10,\"solidity\":0.2}},\"type\":\"bar\"}],\"scattergeo\":[{\"type\":\"scattergeo\",\"marker\":{\"colorbar\":{\"outlinewidth\":0,\"ticks\":\"\"}}}],\"scatterpolar\":[{\"type\":\"scatterpolar\",\"marker\":{\"colorbar\":{\"outlinewidth\":0,\"ticks\":\"\"}}}],\"histogram\":[{\"marker\":{\"pattern\":{\"fillmode\":\"overlay\",\"size\":10,\"solidity\":0.2}},\"type\":\"histogram\"}],\"scattergl\":[{\"type\":\"scattergl\",\"marker\":{\"colorbar\":{\"outlinewidth\":0,\"ticks\":\"\"}}}],\"scatter3d\":[{\"type\":\"scatter3d\",\"line\":{\"colorbar\":{\"outlinewidth\":0,\"ticks\":\"\"}},\"marker\":{\"colorbar\":{\"outlinewidth\":0,\"ticks\":\"\"}}}],\"scattermapbox\":[{\"type\":\"scattermapbox\",\"marker\":{\"colorbar\":{\"outlinewidth\":0,\"ticks\":\"\"}}}],\"scatterternary\":[{\"type\":\"scatterternary\",\"marker\":{\"colorbar\":{\"outlinewidth\":0,\"ticks\":\"\"}}}],\"scattercarpet\":[{\"type\":\"scattercarpet\",\"marker\":{\"colorbar\":{\"outlinewidth\":0,\"ticks\":\"\"}}}],\"carpet\":[{\"aaxis\":{\"endlinecolor\":\"#2a3f5f\",\"gridcolor\":\"white\",\"linecolor\":\"white\",\"minorgridcolor\":\"white\",\"startlinecolor\":\"#2a3f5f\"},\"baxis\":{\"endlinecolor\":\"#2a3f5f\",\"gridcolor\":\"white\",\"linecolor\":\"white\",\"minorgridcolor\":\"white\",\"startlinecolor\":\"#2a3f5f\"},\"type\":\"carpet\"}],\"table\":[{\"cells\":{\"fill\":{\"color\":\"#EBF0F8\"},\"line\":{\"color\":\"white\"}},\"header\":{\"fill\":{\"color\":\"#C8D4E3\"},\"line\":{\"color\":\"white\"}},\"type\":\"table\"}],\"barpolar\":[{\"marker\":{\"line\":{\"color\":\"#E5ECF6\",\"width\":0.5},\"pattern\":{\"fillmode\":\"overlay\",\"size\":10,\"solidity\":0.2}},\"type\":\"barpolar\"}],\"pie\":[{\"automargin\":true,\"type\":\"pie\"}]},\"layout\":{\"autotypenumbers\":\"strict\",\"colorway\":[\"#636efa\",\"#EF553B\",\"#00cc96\",\"#ab63fa\",\"#FFA15A\",\"#19d3f3\",\"#FF6692\",\"#B6E880\",\"#FF97FF\",\"#FECB52\"],\"font\":{\"color\":\"#2a3f5f\"},\"hovermode\":\"closest\",\"hoverlabel\":{\"align\":\"left\"},\"paper_bgcolor\":\"white\",\"plot_bgcolor\":\"#E5ECF6\",\"polar\":{\"bgcolor\":\"#E5ECF6\",\"angularaxis\":{\"gridcolor\":\"white\",\"linecolor\":\"white\",\"ticks\":\"\"},\"radialaxis\":{\"gridcolor\":\"white\",\"linecolor\":\"white\",\"ticks\":\"\"}},\"ternary\":{\"bgcolor\":\"#E5ECF6\",\"aaxis\":{\"gridcolor\":\"white\",\"linecolor\":\"white\",\"ticks\":\"\"},\"baxis\":{\"gridcolor\":\"white\",\"linecolor\":\"white\",\"ticks\":\"\"},\"caxis\":{\"gridcolor\":\"white\",\"linecolor\":\"white\",\"ticks\":\"\"}},\"coloraxis\":{\"colorbar\":{\"outlinewidth\":0,\"ticks\":\"\"}},\"colorscale\":{\"sequential\":[[0.0,\"#0d0887\"],[0.1111111111111111,\"#46039f\"],[0.2222222222222222,\"#7201a8\"],[0.3333333333333333,\"#9c179e\"],[0.4444444444444444,\"#bd3786\"],[0.5555555555555556,\"#d8576b\"],[0.6666666666666666,\"#ed7953\"],[0.7777777777777778,\"#fb9f3a\"],[0.8888888888888888,\"#fdca26\"],[1.0,\"#f0f921\"]],\"sequentialminus\":[[0.0,\"#0d0887\"],[0.1111111111111111,\"#46039f\"],[0.2222222222222222,\"#7201a8\"],[0.3333333333333333,\"#9c179e\"],[0.4444444444444444,\"#bd3786\"],[0.5555555555555556,\"#d8576b\"],[0.6666666666666666,\"#ed7953\"],[0.7777777777777778,\"#fb9f3a\"],[0.8888888888888888,\"#fdca26\"],[1.0,\"#f0f921\"]],\"diverging\":[[0,\"#8e0152\"],[0.1,\"#c51b7d\"],[0.2,\"#de77ae\"],[0.3,\"#f1b6da\"],[0.4,\"#fde0ef\"],[0.5,\"#f7f7f7\"],[0.6,\"#e6f5d0\"],[0.7,\"#b8e186\"],[0.8,\"#7fbc41\"],[0.9,\"#4d9221\"],[1,\"#276419\"]]},\"xaxis\":{\"gridcolor\":\"white\",\"linecolor\":\"white\",\"ticks\":\"\",\"title\":{\"standoff\":15},\"zerolinecolor\":\"white\",\"automargin\":true,\"zerolinewidth\":2},\"yaxis\":{\"gridcolor\":\"white\",\"linecolor\":\"white\",\"ticks\":\"\",\"title\":{\"standoff\":15},\"zerolinecolor\":\"white\",\"automargin\":true,\"zerolinewidth\":2},\"scene\":{\"xaxis\":{\"backgroundcolor\":\"#E5ECF6\",\"gridcolor\":\"white\",\"linecolor\":\"white\",\"showbackground\":true,\"ticks\":\"\",\"zerolinecolor\":\"white\",\"gridwidth\":2},\"yaxis\":{\"backgroundcolor\":\"#E5ECF6\",\"gridcolor\":\"white\",\"linecolor\":\"white\",\"showbackground\":true,\"ticks\":\"\",\"zerolinecolor\":\"white\",\"gridwidth\":2},\"zaxis\":{\"backgroundcolor\":\"#E5ECF6\",\"gridcolor\":\"white\",\"linecolor\":\"white\",\"showbackground\":true,\"ticks\":\"\",\"zerolinecolor\":\"white\",\"gridwidth\":2}},\"shapedefaults\":{\"line\":{\"color\":\"#2a3f5f\"}},\"annotationdefaults\":{\"arrowcolor\":\"#2a3f5f\",\"arrowhead\":0,\"arrowwidth\":1},\"geo\":{\"bgcolor\":\"white\",\"landcolor\":\"#E5ECF6\",\"subunitcolor\":\"white\",\"showland\":true,\"showlakes\":true,\"lakecolor\":\"white\"},\"title\":{\"x\":0.05},\"mapbox\":{\"style\":\"light\"}}},\"scene\":{\"domain\":{\"x\":[0.0,1.0],\"y\":[0.0,1.0]},\"xaxis\":{\"title\":{\"text\":\"longitude\"}},\"yaxis\":{\"title\":{\"text\":\"latitude\"}},\"zaxis\":{\"title\":{\"text\":\"price\"}}},\"legend\":{\"tracegroupgap\":0},\"margin\":{\"t\":60},\"height\":500,\"width\":600},                        {\"responsive\": true}                    ).then(function(){\n",
              "                            \n",
              "var gd = document.getElementById('fc1d5cee-0478-4a6e-8fb4-db517c4407b0');\n",
              "var x = new MutationObserver(function (mutations, observer) {{\n",
              "        var display = window.getComputedStyle(gd).display;\n",
              "        if (!display || display === 'none') {{\n",
              "            console.log([gd, 'removed!']);\n",
              "            Plotly.purge(gd);\n",
              "            observer.disconnect();\n",
              "        }}\n",
              "}});\n",
              "\n",
              "// Listen for the removal of the full notebook cells\n",
              "var notebookContainer = gd.closest('#notebook-container');\n",
              "if (notebookContainer) {{\n",
              "    x.observe(notebookContainer, {childList: true});\n",
              "}}\n",
              "\n",
              "// Listen for the clearing of the current output cell\n",
              "var outputEl = gd.closest('.output');\n",
              "if (outputEl) {{\n",
              "    x.observe(outputEl, {childList: true});\n",
              "}}\n",
              "\n",
              "                        })                };                            </script>        </div>\n",
              "</body>\n",
              "</html>"
            ]
          },
          "metadata": {}
        }
      ]
    },
    {
      "cell_type": "markdown",
      "source": [
        "## Split"
      ],
      "metadata": {
        "id": "jUNDs0EqgOs9"
      }
    },
    {
      "cell_type": "markdown",
      "source": [
        "Let’s separate\n",
        "our features (`latitude` and `longitude`) from our target (`price`)."
      ],
      "metadata": {
        "id": "RSvr8LcMgQa7"
      }
    },
    {
      "cell_type": "code",
      "source": [
        "features = [\"lon\", \"lat\"]\n",
        "X_train = df[features]\n",
        "X_train.shape"
      ],
      "metadata": {
        "colab": {
          "base_uri": "https://localhost:8080/"
        },
        "id": "qIjmX3-3nA66",
        "outputId": "4b59ea76-1f2e-4f64-e5a1-8543deb8e564"
      },
      "execution_count": null,
      "outputs": [
        {
          "output_type": "execute_result",
          "data": {
            "text/plain": [
              "(1199, 2)"
            ]
          },
          "metadata": {},
          "execution_count": 11
        }
      ]
    },
    {
      "cell_type": "code",
      "source": [
        "target = \"price_aprox_usd\"\n",
        "y_train = df[target]\n",
        "y_train.shape"
      ],
      "metadata": {
        "colab": {
          "base_uri": "https://localhost:8080/"
        },
        "id": "OWRv8aHIm_iO",
        "outputId": "bbee230c-3a06-4d23-c864-d7532e1eec7c"
      },
      "execution_count": null,
      "outputs": [
        {
          "output_type": "execute_result",
          "data": {
            "text/plain": [
              "(1199,)"
            ]
          },
          "metadata": {},
          "execution_count": 12
        }
      ]
    },
    {
      "cell_type": "markdown",
      "source": [
        "# Build Model"
      ],
      "metadata": {
        "id": "ALtZhVX_gUtk"
      }
    },
    {
      "cell_type": "markdown",
      "source": [
        "## Baseline"
      ],
      "metadata": {
        "id": "UcJdMWzKgWdT"
      }
    },
    {
      "cell_type": "code",
      "source": [
        "y_mean= y_train.mean()\n",
        "y_pred_baseline =[y_mean] * len(y_train)\n",
        "print(\"Mean apt price:\", round(y_mean, 2))\n",
        "print(\"Baseline MAE:\", round(mean_absolute_error(y_train, y_pred_baseline),2))"
      ],
      "metadata": {
        "colab": {
          "base_uri": "https://localhost:8080/"
        },
        "id": "bEZw-XYrkJEt",
        "outputId": "cde00467-77df-4c1a-fa0a-bd7ae0de5abd"
      },
      "execution_count": null,
      "outputs": [
        {
          "output_type": "stream",
          "name": "stdout",
          "text": [
            "Mean apt price: 195960.13\n",
            "Baseline MAE: 72006.54\n"
          ]
        }
      ]
    },
    {
      "cell_type": "markdown",
      "source": [
        "# Iterate"
      ],
      "metadata": {
        "id": "emFonx3Ugn0R"
      }
    },
    {
      "cell_type": "markdown",
      "source": [
        "Take a moment to scroll up to the output for `df.info()` and look at the values in the \"Non-Null\n",
        "Count\" column. Because of the math it uses, a linear regression model can’t handle observations\n",
        "where there are missing values.\n",
        "\n",
        "We can simply dropped rows that contained NaN values, but this isn’t ideal. Models\n",
        "generally perform better when they have more data to train with, so every row is precious. Instead,\n",
        "we can fill in these missing values using information we get from the whole column — a process called **imputation**.\n",
        "\n",
        "There are many different strategies for imputing missing values, and one of\n",
        "the most common is filling in the missing values with the mean of the column.\n",
        "\n",
        "In addition to **predictors** like LinearRegression, scikit-learn also has **transformers** that help\n",
        "us deal with issues like missing values."
      ],
      "metadata": {
        "id": "t-NQ3aKlhgo7"
      }
    },
    {
      "cell_type": "markdown",
      "source": [
        "A model\n",
        "may require multiple transformers, and doing all those transformations one-by-one is slow and likely\n",
        "to lead to errors. Instead, we can combine our transformer and predictor into a single object\n",
        "called a **pipeline**."
      ],
      "metadata": {
        "id": "FdAK1dUdg553"
      }
    },
    {
      "cell_type": "markdown",
      "source": [
        "Let's create a **pipeline** named model that contains a `SimpleImputer` transformer followed\n",
        "by a `LinearRegression` predictor."
      ],
      "metadata": {
        "id": "11XYLxKlgqOD"
      }
    },
    {
      "cell_type": "code",
      "source": [
        "model = make_pipeline(\n",
        "           SimpleImputer(),\n",
        "           LinearRegression()\n",
        ")"
      ],
      "metadata": {
        "id": "lT26GgMgnsqt"
      },
      "execution_count": null,
      "outputs": []
    },
    {
      "cell_type": "markdown",
      "source": [
        "With our pipeline assembled, we use the `fit()` method, which will train the transformer, transform\n",
        "the data, then pass the transformed data to the predictor for training, all in one step."
      ],
      "metadata": {
        "id": "hOIVR06IhGLQ"
      }
    },
    {
      "cell_type": "code",
      "source": [
        "model.fit(X_train, y_train)"
      ],
      "metadata": {
        "colab": {
          "base_uri": "https://localhost:8080/",
          "height": 125
        },
        "id": "XAcML-A2nuWj",
        "outputId": "f57c44c0-5806-4b65-ce15-878e671b3fc6"
      },
      "execution_count": null,
      "outputs": [
        {
          "output_type": "execute_result",
          "data": {
            "text/plain": [
              "Pipeline(steps=[('simpleimputer', SimpleImputer()),\n",
              "                ('linearregression', LinearRegression())])"
            ],
            "text/html": [
              "<style>#sk-container-id-1 {color: black;background-color: white;}#sk-container-id-1 pre{padding: 0;}#sk-container-id-1 div.sk-toggleable {background-color: white;}#sk-container-id-1 label.sk-toggleable__label {cursor: pointer;display: block;width: 100%;margin-bottom: 0;padding: 0.3em;box-sizing: border-box;text-align: center;}#sk-container-id-1 label.sk-toggleable__label-arrow:before {content: \"▸\";float: left;margin-right: 0.25em;color: #696969;}#sk-container-id-1 label.sk-toggleable__label-arrow:hover:before {color: black;}#sk-container-id-1 div.sk-estimator:hover label.sk-toggleable__label-arrow:before {color: black;}#sk-container-id-1 div.sk-toggleable__content {max-height: 0;max-width: 0;overflow: hidden;text-align: left;background-color: #f0f8ff;}#sk-container-id-1 div.sk-toggleable__content pre {margin: 0.2em;color: black;border-radius: 0.25em;background-color: #f0f8ff;}#sk-container-id-1 input.sk-toggleable__control:checked~div.sk-toggleable__content {max-height: 200px;max-width: 100%;overflow: auto;}#sk-container-id-1 input.sk-toggleable__control:checked~label.sk-toggleable__label-arrow:before {content: \"▾\";}#sk-container-id-1 div.sk-estimator input.sk-toggleable__control:checked~label.sk-toggleable__label {background-color: #d4ebff;}#sk-container-id-1 div.sk-label input.sk-toggleable__control:checked~label.sk-toggleable__label {background-color: #d4ebff;}#sk-container-id-1 input.sk-hidden--visually {border: 0;clip: rect(1px 1px 1px 1px);clip: rect(1px, 1px, 1px, 1px);height: 1px;margin: -1px;overflow: hidden;padding: 0;position: absolute;width: 1px;}#sk-container-id-1 div.sk-estimator {font-family: monospace;background-color: #f0f8ff;border: 1px dotted black;border-radius: 0.25em;box-sizing: border-box;margin-bottom: 0.5em;}#sk-container-id-1 div.sk-estimator:hover {background-color: #d4ebff;}#sk-container-id-1 div.sk-parallel-item::after {content: \"\";width: 100%;border-bottom: 1px solid gray;flex-grow: 1;}#sk-container-id-1 div.sk-label:hover label.sk-toggleable__label {background-color: #d4ebff;}#sk-container-id-1 div.sk-serial::before {content: \"\";position: absolute;border-left: 1px solid gray;box-sizing: border-box;top: 0;bottom: 0;left: 50%;z-index: 0;}#sk-container-id-1 div.sk-serial {display: flex;flex-direction: column;align-items: center;background-color: white;padding-right: 0.2em;padding-left: 0.2em;position: relative;}#sk-container-id-1 div.sk-item {position: relative;z-index: 1;}#sk-container-id-1 div.sk-parallel {display: flex;align-items: stretch;justify-content: center;background-color: white;position: relative;}#sk-container-id-1 div.sk-item::before, #sk-container-id-1 div.sk-parallel-item::before {content: \"\";position: absolute;border-left: 1px solid gray;box-sizing: border-box;top: 0;bottom: 0;left: 50%;z-index: -1;}#sk-container-id-1 div.sk-parallel-item {display: flex;flex-direction: column;z-index: 1;position: relative;background-color: white;}#sk-container-id-1 div.sk-parallel-item:first-child::after {align-self: flex-end;width: 50%;}#sk-container-id-1 div.sk-parallel-item:last-child::after {align-self: flex-start;width: 50%;}#sk-container-id-1 div.sk-parallel-item:only-child::after {width: 0;}#sk-container-id-1 div.sk-dashed-wrapped {border: 1px dashed gray;margin: 0 0.4em 0.5em 0.4em;box-sizing: border-box;padding-bottom: 0.4em;background-color: white;}#sk-container-id-1 div.sk-label label {font-family: monospace;font-weight: bold;display: inline-block;line-height: 1.2em;}#sk-container-id-1 div.sk-label-container {text-align: center;}#sk-container-id-1 div.sk-container {/* jupyter's `normalize.less` sets `[hidden] { display: none; }` but bootstrap.min.css set `[hidden] { display: none !important; }` so we also need the `!important` here to be able to override the default hidden behavior on the sphinx rendered scikit-learn.org. See: https://github.com/scikit-learn/scikit-learn/issues/21755 */display: inline-block !important;position: relative;}#sk-container-id-1 div.sk-text-repr-fallback {display: none;}</style><div id=\"sk-container-id-1\" class=\"sk-top-container\"><div class=\"sk-text-repr-fallback\"><pre>Pipeline(steps=[(&#x27;simpleimputer&#x27;, SimpleImputer()),\n",
              "                (&#x27;linearregression&#x27;, LinearRegression())])</pre><b>In a Jupyter environment, please rerun this cell to show the HTML representation or trust the notebook. <br />On GitHub, the HTML representation is unable to render, please try loading this page with nbviewer.org.</b></div><div class=\"sk-container\" hidden><div class=\"sk-item sk-dashed-wrapped\"><div class=\"sk-label-container\"><div class=\"sk-label sk-toggleable\"><input class=\"sk-toggleable__control sk-hidden--visually\" id=\"sk-estimator-id-1\" type=\"checkbox\" ><label for=\"sk-estimator-id-1\" class=\"sk-toggleable__label sk-toggleable__label-arrow\">Pipeline</label><div class=\"sk-toggleable__content\"><pre>Pipeline(steps=[(&#x27;simpleimputer&#x27;, SimpleImputer()),\n",
              "                (&#x27;linearregression&#x27;, LinearRegression())])</pre></div></div></div><div class=\"sk-serial\"><div class=\"sk-item\"><div class=\"sk-estimator sk-toggleable\"><input class=\"sk-toggleable__control sk-hidden--visually\" id=\"sk-estimator-id-2\" type=\"checkbox\" ><label for=\"sk-estimator-id-2\" class=\"sk-toggleable__label sk-toggleable__label-arrow\">SimpleImputer</label><div class=\"sk-toggleable__content\"><pre>SimpleImputer()</pre></div></div></div><div class=\"sk-item\"><div class=\"sk-estimator sk-toggleable\"><input class=\"sk-toggleable__control sk-hidden--visually\" id=\"sk-estimator-id-3\" type=\"checkbox\" ><label for=\"sk-estimator-id-3\" class=\"sk-toggleable__label sk-toggleable__label-arrow\">LinearRegression</label><div class=\"sk-toggleable__content\"><pre>LinearRegression()</pre></div></div></div></div></div></div></div>"
            ]
          },
          "metadata": {},
          "execution_count": 20
        }
      ]
    },
    {
      "cell_type": "markdown",
      "source": [
        "## Evaluate"
      ],
      "metadata": {
        "id": "irpiih1uiAbR"
      }
    },
    {
      "cell_type": "markdown",
      "source": [
        "As always, we’ll start by evaluating our model’s performance on the training data."
      ],
      "metadata": {
        "id": "5sE4yRXaiCkP"
      }
    },
    {
      "cell_type": "code",
      "source": [
        "y_pred_training = model.predict(X_train)"
      ],
      "metadata": {
        "id": "Sfku4Ybun1BE"
      },
      "execution_count": null,
      "outputs": []
    },
    {
      "cell_type": "code",
      "source": [
        "mae_training = mean_absolute_error(y_train, y_pred_training)\n",
        "print(\"Training MAE:\", round(mae_training, 2))"
      ],
      "metadata": {
        "colab": {
          "base_uri": "https://localhost:8080/"
        },
        "id": "hbHFVnF3n2hv",
        "outputId": "dfa9b525-82de-4206-d6d6-535c3c05cd57"
      },
      "execution_count": null,
      "outputs": [
        {
          "output_type": "stream",
          "name": "stdout",
          "text": [
            "Training MAE: 69170.32\n"
          ]
        }
      ]
    },
    {
      "cell_type": "markdown",
      "source": [
        "# Results"
      ],
      "metadata": {
        "id": "5_JHfBmCiMwe"
      }
    },
    {
      "cell_type": "markdown",
      "source": [
        "Let’s take a look at the equation our model has come up with for predicting price based on latitude\n",
        "and longitude. We’ll need to expand on our formula to account for both features.\n",
        "\n",
        "Let's extract the intercept and coefficients for our model."
      ],
      "metadata": {
        "id": "TQTJx0wMiN9P"
      }
    },
    {
      "cell_type": "code",
      "source": [
        "intercept = model.named_steps[\"linearregression\"].intercept_.round()\n",
        "coefficients = model.named_steps[\"linearregression\"].coef_.round()\n",
        "coefficients"
      ],
      "metadata": {
        "colab": {
          "base_uri": "https://localhost:8080/"
        },
        "id": "pd-u5EWrn_LK",
        "outputId": "abcf65ee-9cd1-49a1-d1e7-624b6be48213"
      },
      "execution_count": null,
      "outputs": [
        {
          "output_type": "execute_result",
          "data": {
            "text/plain": [
              "array([ 834598., -261361.])"
            ]
          },
          "metadata": {},
          "execution_count": 24
        }
      ]
    },
    {
      "cell_type": "markdown",
      "source": [
        "Let's print the equation that our model has\n",
        "determined for predicting apartment price based on latitude and longitude."
      ],
      "metadata": {
        "id": "BHl-c0ZHiWX2"
      }
    },
    {
      "cell_type": "code",
      "source": [
        "print(\n",
        "f\"price = {intercept} + ({coefficients [0]} * longitude) + ({coefficients[1]} * latitude)\"\n",
        ")"
      ],
      "metadata": {
        "colab": {
          "base_uri": "https://localhost:8080/"
        },
        "id": "1pzAWJYBn94x",
        "outputId": "d7df6056-87b1-4f7b-c9d8-7ef62141a1bf"
      },
      "execution_count": null,
      "outputs": [
        {
          "output_type": "stream",
          "name": "stdout",
          "text": [
            "price = 63235589.0 + (834598.0 * longitude) + (-261361.0 * latitude)\n"
          ]
        }
      ]
    },
    {
      "cell_type": "markdown",
      "source": [
        "What does this equation tell us? As you move north, the predicted apartment price\n",
        "increases. And as you move west, the predicted apartment price\n",
        "decrease."
      ],
      "metadata": {
        "id": "hmjgZ-Y5i4Kz"
      }
    },
    {
      "cell_type": "markdown",
      "source": [
        "Let's create a 3D scatter plot, with `\"lon\"` on the x-axis,\n",
        "`\"lat\"` on the y-axis, and `\"price_aprox_usd\"` on the z-axis."
      ],
      "metadata": {
        "id": "eDsbqTQ3ipkp"
      }
    },
    {
      "cell_type": "code",
      "source": [
        "# Create 3D scatter plot\n",
        "fig = px.scatter_3d(\n",
        "         df,\n",
        "         x=\"lon\",\n",
        "         y=\"lat\",\n",
        "         z=\"price_aprox_usd\",\n",
        "         labels={\"lon\": \"longitude\", \"lat\": \"latitude\", \"price_aprox_usd\": \"price\"},\n",
        "         width=600,\n",
        "         height=500,\n",
        ")\n",
        "\n",
        "# Create x and y coordinates for model representation\n",
        "x_plane = np.linspace(df[\"lon\"].min(), df[\"lon\"].max(), 10)\n",
        "y_plane = np.linspace(df[\"lat\"].min(), df[\"lat\"].max(), 10)\n",
        "xx, yy = np.meshgrid(x_plane, y_plane)\n",
        "\n",
        "# Use model to predict z coordinates\n",
        "z_plane = model.predict(pd.DataFrame({\"lon\": x_plane, \"lat\": y_plane}))\n",
        "zz = np.tile(z_plane, (10, 1))\n",
        "\n",
        "# Add plane to figure\n",
        "fig.add_trace(go.Surface(x=xx, y=yy, z=zz))\n",
        "\n",
        "# Refine formatting\n",
        "fig.update_traces(\n",
        "         marker={\"size\": 4, \"line\": {\"width\": 2, \"color\": \"DarkSlateGrey\"}},\n",
        "         selector={\"mode\": \"markers\"},\n",
        ")\n",
        "\n",
        "# Display figure\n",
        "fig.show()"
      ],
      "metadata": {
        "colab": {
          "base_uri": "https://localhost:8080/",
          "height": 537
        },
        "id": "gI2UrQWMoKh5",
        "outputId": "7dec5c35-2bcf-438a-aa85-217f8d0699bb"
      },
      "execution_count": null,
      "outputs": [
        {
          "output_type": "display_data",
          "data": {
            "text/html": [
              "<html>\n",
              "<head><meta charset=\"utf-8\" /></head>\n",
              "<body>\n",
              "    <div>            <script src=\"https://cdnjs.cloudflare.com/ajax/libs/mathjax/2.7.5/MathJax.js?config=TeX-AMS-MML_SVG\"></script><script type=\"text/javascript\">if (window.MathJax && window.MathJax.Hub && window.MathJax.Hub.Config) {window.MathJax.Hub.Config({SVG: {font: \"STIX-Web\"}});}</script>                <script type=\"text/javascript\">window.PlotlyConfig = {MathJaxConfig: 'local'};</script>\n",
              "        <script src=\"https://cdn.plot.ly/plotly-2.18.2.min.js\"></script>                <div id=\"42e5bef7-a884-49b3-9cff-d2eba820be01\" class=\"plotly-graph-div\" style=\"height:500px; width:600px;\"></div>            <script type=\"text/javascript\">                                    window.PLOTLYENV=window.PLOTLYENV || {};                                    if (document.getElementById(\"42e5bef7-a884-49b3-9cff-d2eba820be01\")) {                    Plotly.newPlot(                        \"42e5bef7-a884-49b3-9cff-d2eba820be01\",                        [{\"hovertemplate\":\"longitude=%{x}<br>latitude=%{y}<br>price=%{z}<extra></extra>\",\"legendgroup\":\"\",\"marker\":{\"color\":\"#636efa\",\"symbol\":\"circle\",\"line\":{\"color\":\"DarkSlateGrey\",\"width\":2},\"size\":4},\"mode\":\"markers\",\"name\":\"\",\"scene\":\"scene\",\"showlegend\":false,\"x\":[-74.023,-74.081,-74.053,-74.05,-74.06,-74.034,-74.046,-74.032,-74.127,-74.04,-74.043,-74.075,-74.05,-74.055,-74.053,-74.032,-74.032,-74.067,-74.048,-74.08,-74.059,-74.084,-74.05,-74.037,-74.046,-74.054,-74.17,-74.052,-74.049,-74.053,-74.03,-74.032,-74.076,-74.089,-74.076,-74.074,-74.045,-74.046,-74.058,-74.057,-74.057,-74.054,-74.026,-74.074,-74.072,-74.075,-74.031,-74.061,-74.063,-74.039,-74.062,-74.049,-74.094,-74.039,-74.039,-74.039,-74.049,-74.083,-74.042,-74.076,-74.069,-74.067,-74.055,-74.123,-74.096,-74.075,-74.042,-74.056,-74.068,-74.03,-74.039,-74.037,-74.047,-74.044,-74.028,-74.054,-74.036,-74.053,-74.041,-74.073,-74.066,-74.076,-74.026,-74.099,-74.058,-74.035,-74.043,-74.048,-74.076,-74.049,-74.045,-74.068,-74.064,-74.059,-74.04,-74.04,-74.044,-74.046,-74.075,-74.045,-74.054,-74.038,-74.064,-74.062,-74.039,-74.074,-74.046,-74.046,-74.036,-74.081,-74.12,-74.073,-74.075,-74.054,-74.045,-74.049,-74.066,-74.102,-74.07,-74.063,-74.141,-74.062,-74.051,-74.032,-74.076,-74.041,-74.049,-74.059,-74.04,-74.1,-74.07,-74.068,-74.041,-74.051,-74.068,-74.032,-74.032,-74.113,-74.08,-74.04,-74.075,-74.041,-74.131,-74.068,-74.046,-74.041,-74.077,-74.043,-74.024,-74.069,-74.042,-74.088,-74.058,-74.077,-74.065,-74.043,-74.055,-74.046,-74.033,-74.063,-74.078,-74.044,-74.062,-74.042,-74.04,-74.048,-74.025,-74.078,-74.077,-74.024,-74.044,-74.055,-74.076,-74.025,-74.03,-74.034,-74.069,-74.04,-74.034,-74.033,-74.043,-74.03,-74.038,-74.048,-74.079,-74.048,-74.054,-74.059,-74.068,-74.06,-74.047,-74.047,-74.07,-74.065,-74.153,-74.038,-74.037,-74.055,-74.038,-74.029,-74.064,-74.081,-74.045,-74.076,-74.088,-74.051,-74.048,-74.027,-74.063,-74.063,-74.064,-74.078,-74.047,-74.041,-74.045,-74.058,-74.059,-74.073,-74.059,-74.064,-74.033,-74.039,-74.053,-74.034,-74.142,-74.047,-74.063,-74.024,-74.041,-74.061,-74.109,-74.047,-74.068,-74.047,-74.035,-74.051,-74.047,-74.05,-74.042,-74.075,-74.047,-74.046,-74.081,-74.044,-74.046,-74.049,-74.066,-74.035,-74.057,-74.036,-74.077,-74.046,-74.039,-74.044,-74.041,-74.046,-74.049,-74.132,-74.079,-74.06,-74.05,-74.064,-74.134,-74.04,-74.044,-74.076,-74.048,-74.046,-74.057,-74.098,-74.064,-74.053,-74.078,-74.054,-74.072,-74.04,-74.19,-74.066,-74.067,-74.029,-74.062,-74.077,-74.051,-74.043,-74.091,-74.077,-74.068,-74.033,-74.085,-74.05,-74.126,-74.047,-74.075,-74.039,-74.073,-74.056,-74.053,-74.053,-74.053,-74.053,-74.053,-74.055,-74.05,-74.095,-74.026,-74.039,-74.056,-74.063,-74.038,-74.037,-74.076,-74.043,-74.043,-74.044,-74.045,-74.03,-74.047,-74.054,-74.033,-74.038,-74.066,-74.173,-74.076,-74.029,-74.041,-74.164,-74.043,-74.03,-74.068,-74.107,-74.025,-74.164,-74.098,-74.06,-74.051,-74.055,-74.046,-74.038,-74.055,-74.029,-74.041,-74.05,-74.057,-74.053,-74.049,-74.023,-74.057,-74.057,-74.111,-74.11,-74.081,-74.044,-74.044,-74.042,-74.062,-74.054,-74.053,-74.067,-74.144,-74.048,-74.061,-74.059,-74.048,-74.056,-74.045,-74.052,-74.165,-74.049,-74.049,-74.049,-74.054,-74.048,-74.054,-74.07,-74.055,-74.066,-74.046,-74.06,-74.063,-74.041,-74.053,-74.058,-74.036,-74.054,-74.062,-74.036,-74.045,-74.1,-74.041,-74.043,-74.035,-74.05,-74.053,-74.053,-74.09,-74.085,-74.039,-74.131,-74.076,-74.077,-74.045,-74.045,-74.043,-74.151,-74.056,-74.14,-74.116,-74.084,-74.093,-74.069,-74.063,-74.046,-74.033,-74.027,-74.027,-74.056,-74.059,-74.082,-74.056,-74.083,-74.067,-74.028,-74.042,-74.129,-74.071,-74.051,-74.057,-74.081,-74.038,-74.164,-74.085,-74.128,-74.084,-74.043,-74.038,-74.128,-74.056,-74.042,-74.048,-74.083,-74.048,-74.064,-74.082,-74.047,-74.075,-74.044,-74.046,-74.055,-74.111,-74.052,-74.052,-74.054,-74.056,-74.055,-74.035,-74.051,-74.041,-74.047,-74.054,-74.029,-74.051,-74.044,-74.043,-74.051,-74.056,-74.056,-74.05,-74.05,-74.046,-74.055,-74.05,-74.046,-74.051,-74.052,-74.056,-74.056,-74.053,-74.055,-74.055,-74.027,-74.099,-74.055,-74.054,-74.028,-74.044,-74.055,-74.055,-74.043,-74.055,-74.055,-74.031,-74.046,-74.051,-74.052,-74.04,-74.063,-74.048,-74.034,-74.04,-74.046,-74.034,-74.043,-74.027,-74.077,-74.147,-74.123,-74.062,-74.044,-74.095,-74.046,-74.043,-74.047,-74.05,-74.036,-74.041,-74.054,-74.044,-74.054,-74.064,-74.051,-74.047,-74.047,-74.054,-74.023,-74.058,-74.146,-74.052,-74.07,-74.039,-74.055,-74.11,-74.04,-74.041,-74.055,-74.14,-74.08,-74.028,-74.116,-74.066,-74.044,-74.051,-74.072,-74.03,-74.049,-74.057,-74.051,-74.077,-74.065,-74.043,-74.051,-74.048,-74.082,-74.046,-74.033,-74.039,-74.142,-74.076,-74.051,-74.04,-74.03,-74.026,-74.058,-74.052,-74.057,-74.053,-74.084,-74.08,-74.061,-74.041,-74.048,-74.037,-74.036,-74.173,-74.034,-74.049,-74.07,-74.059,-74.061,-74.05,-74.05,-74.054,-74.048,-74.041,-74.056,-74.085,-74.1,-74.089,-74.116,-74.055,-74.079,-74.107,-74.029,-74.076,-74.054,-74.061,-74.084,-74.098,-74.063,-74.054,-74.053,-74.043,-74.098,-74.045,-74.049,-74.054,-74.063,-74.044,-74.039,-74.106,-74.106,-74.106,-74.106,-74.106,-74.106,-74.106,-74.106,-74.106,-74.106,-74.047,-74.088,-74.049,-74.071,-74.049,-74.05,-74.054,-74.165,-74.14,-74.079,-74.05,-74.066,-74.045,-74.024,-74.051,-74.045,-74.038,-74.065,-74.047,-74.075,-74.034,-74.041,-74.132,-74.031,-74.052,-74.145,-74.053,-74.061,-74.055,-74.066,-74.034,-74.074,-74.047,-74.154,-74.037,-74.045,-74.082,-74.065,-74.051,-74.039,-74.066,-74.036,-74.027,-74.06,-74.042,-74.024,-74.044,-74.042,-74.048,-74.029,-74.039,-74.07,-74.038,-74.037,-74.065,-74.058,-74.05,-74.071,-74.03,-74.064,-74.034,-74.058,-74.056,-74.089,-74.089,-74.035,-74.049,-74.071,-74.047,-74.168,-74.068,-74.049,-74.049,-74.029,-74.066,-74.053,-74.136,-74.049,-74.038,-74.037,-74.052,-74.035,-74.033,-74.119,-74.04,-74.049,-74.041,-74.054,-74.055,-74.053,-74.055,-74.051,-74.053,-74.113,-74.053,-74.072,-74.056,-74.043,-74.054,-74.054,-74.05,-74.056,-74.031,-74.108,-74.114,-74.056,-74.178,-74.075,-74.062,-74.049,-74.046,-74.044,-74.12,-74.053,-74.115,-74.083,-74.047,-74.053,-74.15,-74.15,-74.15,-74.033,-74.053,-74.052,-74.153,-74.031,-74.051,-74.125,-74.058,-74.15,-74.15,-74.036,-74.038,-74.116,-74.127,-74.099,-74.031,-74.028,-74.112,-74.05,-74.085,-74.06,-74.083,-74.03,-74.028,-74.113,-74.054,-74.037,-74.049,-74.063,-74.077,-74.057,-74.028,-74.083,-74.039,-74.059,-74.116,-74.077,-74.053,-74.049,-74.047,-74.061,-74.164,-74.063,-74.082,-74.04,-74.144,-74.029,-74.029,-74.054,-74.067,-74.055,-74.035,-74.039,-74.025,-74.046,-74.059,-74.05,-74.034,-74.079,-74.099,-74.062,-74.072,-74.0957812,-74.064,-74.036,-74.042,-74.04,-74.072,-74.052,-74.064,-74.063,-74.125,-74.064,-74.037,-74.029,-74.129,-74.129,-74.129,-74.153,-74.084,-74.12,-74.041,-74.0929959,-74.0929959,-74.0929959,-74.051,-74.066,-74.141,-74.066,-74.066,-74.066,-74.043,-74.055,-74.055,-74.029,-74.074,-74.041,-74.033,-74.034,-74.055,-74.075,-74.066,-74.179,-74.141,-74.059,-74.042,-74.035,-74.081,-74.063,-74.068,-74.045,-74.055,-74.06,-74.028,-74.032,-74.031,-74.043,-74.065,-74.047,-74.045,-74.034,-74.129,-74.097,-74.057,-74.037,-74.079,-74.112,-74.047,-74.057,-74.083,-74.097,-74.077,-74.14,-74.09,-74.048,-74.055,-74.056,-74.039,-74.063,-74.05,-74.043,-74.064,-74.046,-74.048,-74.06,-74.17,-74.042,-74.1,-74.077,-74.104,-74.139,-74.044,-74.044,-74.046,-74.045,-74.143,-74.048,-74.162,-74.055,-74.14,-74.05,-74.057,-74.086,-74.035,-74.036,-74.05,-74.111,-74.048,-74.061,-74.044,-74.029,-74.025,-74.026,-74.025,-74.053,-74.064,-74.042,-74.054,-74.08,-74.038,-74.046,-74.035,-74.038,-74.15,-74.029,-74.047,-74.048,-74.039,-74.057,-74.065,-74.079,-74.053,-74.062,-74.048,-74.051,-74.032,-74.079,-74.076,-74.052,-74.04,-74.055,-74.082,-74.055,-74.042,-74.086,-74.079,-74.121,-74.121,-74.1248743,-74.1225404,-74.081,-74.078,-74.069,-74.1324375,-74.022,-74.095,-74.121,-74.077,-74.04,-74.061,-74.075,-74.064,-74.055,-74.054,-74.155,-74.033,-74.052,-74.052,-74.1725698,-74.0772199,-74.039,-74.158,-74.054,-74.03,-74.031,-74.032,-74.049,-74.03,-74.031,-74.081,-74.094,-74.037,-74.079,-74.154,-74.037,-74.035,-74.1020454,-74.031,-74.031,-74.079,-74.072092,-74.154,-74.072,-74.041,-74.083,-74.03,-74.091,-74.031,-74.031,-74.046,-74.09,-74.046,-74.049,-74.046,-74.037,-74.087,-74.052,-74.032,-74.062,-74.056,-74.064,-74.043,-74.046,-74.043,-74.071,-74.043,-74.148,-74.072,-74.044,-74.063,-74.078,-74.079,-74.108,-74.044,-74.042,-74.072,-74.104,-74.086,-74.104,-74.074,-74.036,-74.037,-74.043,-74.048,-74.071,-74.047,-74.048,-74.051,-74.083,-74.025,-74.066,-74.066,-74.208,-74.027,-74.095,-74.065,-74.035,-74.049,-74.049,-74.053,-74.124,-74.044,-74.049,-74.13,-74.049,-74.041,-74.074,-74.124,-74.044,-74.04,-74.04,-74.037,-74.154,-74.052,-74.05,-74.066,-74.066,-74.066,-74.03,-74.04,-74.056,-74.042,-74.051,-74.053,-74.084,-74.05,-74.154,-74.174,-74.045,-74.046,-74.042,-74.037,-74.042,-74.036,-74.029,-74.029,-74.06,-74.208,-74.116,-74.103,-74.103,-74.058,-74.103,-74.039,-74.049,-74.029,-74.103,-74.061,-74.06,-74.071,-74.034,-74.043,-74.076,-74.082,-74.047,-74.082,-74.055,-74.037,-74.059,-74.079,-74.043,-74.028,-74.033,-74.05,-74.07,-74.049,-74.049,-74.039,-74.04,-74.04,-74.04,-74.059,-74.064,-74.068,-74.027,-74.049,-74.049,-74.066,-74.042,-74.07,-74.041,-74.148,-74.072,-74.067,-74.041,-74.067,-74.083,-74.049,-74.081,-74.048,-74.12,-74.041,-74.033,-74.119,-74.07,-74.071,-74.057,-74.067,-74.062,-74.034,-74.082,-74.074,-74.05,-74.056,-74.033,-74.055,-74.069,-74.124,-74.141,-74.098,-74.046,-74.03,-74.148,-74.148,-74.033,-74.148,-74.05,-74.05,-74.119,-74.04,-74.051,-74.056,-74.142,-74.053,-74.052,-74.148,-74.139,-74.029,-74.07,-74.049,-74.06,-74.035,-74.049,-74.08,-74.047,-74.089,-74.033,-74.056,-74.143,-74.049,-74.063,-74.051,-74.043,-74.067,-74.053,-74.066,-74.055,-74.082,-74.05,-74.031],\"y\":[4.724,4.618,4.729,4.667,4.702,4.765,4.667,4.699,4.662,4.698,4.693,4.727,4.667,4.675,4.737,4.699,4.699,4.767,4.656,4.714,4.676,4.649,4.667,4.723,4.7,4.757,4.616,4.699,4.719,4.734,4.697,4.702,4.705,4.757,4.73,4.732,4.686,4.685,4.669,4.669,4.669,4.687,4.711,4.719,4.727,4.719,4.715,4.743,4.744,4.724,4.727,4.755,4.695,4.76,4.76,4.705,4.754,4.709,4.677,4.598,4.741,4.61,4.685,4.741,4.746,4.727,4.705,4.687,4.721,4.768,4.755,4.698,4.692,4.72,4.727,4.657,4.747,4.737,4.706,4.765,4.75,4.598,4.663,4.742,4.726,4.693,4.719,4.695,4.727,4.709,4.677,4.701,4.766,4.746,4.72,4.725,4.72,4.698,4.728,4.677,4.687,4.694,4.766,4.722,4.696,4.731,4.74,4.724,4.698,4.63,4.588,4.634,4.646,4.657,4.676,4.681,4.718,4.577,4.637,4.696,4.713,4.727,4.707,4.699,4.598,4.706,4.666,4.664,4.725,4.565,4.746,4.755,4.706,4.691,4.725,4.699,4.699,4.643,4.647,4.725,4.692,4.706,4.666,4.721,4.696,4.7,4.72,4.699,4.724,4.746,4.719,4.694,4.726,4.725,4.709,4.695,4.675,4.759,4.716,4.694,4.731,4.739,4.696,4.677,4.723,4.658,4.726,4.701,4.701,4.726,4.717,4.675,4.598,4.725,4.714,4.717,4.746,4.697,4.701,4.699,4.732,4.723,4.719,4.65,4.637,4.711,4.684,4.64,4.755,4.721,4.69,4.69,4.634,4.74,4.579,4.731,4.755,4.688,4.695,4.708,4.704,4.708,4.685,4.652,4.648,4.682,4.702,4.712,4.706,4.724,4.731,4.707,4.693,4.691,4.692,4.72,4.669,4.693,4.795,4.719,4.746,4.696,4.655,4.734,4.619,4.719,4.724,4.727,4.706,4.672,4.633,4.719,4.756,4.7,4.714,4.682,4.693,4.712,4.716,4.725,4.668,4.698,4.71,4.729,4.707,4.662,4.698,4.734,4.653,4.715,4.801,4.738,4.761,4.733,4.699,4.759,4.718,4.668,4.697,4.742,4.654,4.726,4.604,4.706,4.733,4.694,4.662,4.694,4.677,4.754,4.726,4.648,4.587,4.687,4.714,4.726,4.617,4.713,4.767,4.707,4.635,4.715,4.698,4.733,4.581,4.666,4.687,4.694,4.649,4.707,4.719,4.674,4.677,4.724,4.714,4.706,4.702,4.702,4.702,4.702,4.702,4.688,4.707,4.739,4.721,4.719,4.68,4.669,4.72,4.692,4.598,4.682,4.698,4.695,4.698,4.708,4.687,4.688,4.738,4.719,4.722,4.591,4.732,4.701,4.699,4.636,4.754,4.728,4.704,4.613,4.746,4.679,4.634,4.737,4.736,4.738,4.739,4.694,4.675,4.71,4.746,4.69,4.672,4.679,4.691,4.724,4.672,4.671,4.651,4.719,4.689,4.719,4.725,4.719,4.63,4.694,4.645,4.767,4.628,4.662,4.725,4.663,4.674,4.675,4.685,4.693,4.622,4.687,4.687,4.705,4.693,4.673,4.69,4.705,4.689,4.64,4.689,4.706,4.728,4.679,4.679,4.706,4.696,4.698,4.704,4.731,4.766,4.689,4.708,4.678,4.732,4.685,4.67,4.67,4.582,4.589,4.699,4.719,4.598,4.7,4.689,4.689,4.689,4.692,4.693,4.686,4.64,4.651,4.641,4.741,4.752,4.694,4.705,4.771,4.771,4.679,4.74,4.649,4.651,4.696,4.729,4.723,4.72,4.663,4.733,4.681,4.747,4.651,4.739,4.649,4.711,4.658,4.71,4.719,4.692,4.67,4.645,4.693,4.696,4.706,4.696,4.665,4.712,4.704,4.644,4.681,4.719,4.678,4.635,4.682,4.682,4.678,4.676,4.675,4.743,4.681,4.678,4.667,4.685,4.715,4.682,4.681,4.678,4.682,4.679,4.683,4.683,4.673,4.684,4.684,4.683,4.685,4.672,4.68,4.679,4.676,4.678,4.679,4.679,4.721,4.756,4.675,4.675,4.718,4.683,4.675,4.686,4.682,4.686,4.675,4.719,4.704,4.682,4.678,4.723,4.654,4.727,4.697,4.72,4.707,4.719,4.682,4.718,4.714,4.631,4.585,4.747,4.705,4.715,4.698,4.718,4.674,4.767,4.719,4.706,4.696,4.724,4.696,4.736,4.695,4.718,4.694,4.694,4.724,4.762,4.682,4.688,4.729,4.697,4.675,4.719,4.723,4.704,4.654,4.623,4.595,4.744,4.473,4.765,4.705,4.693,4.691,4.703,4.661,4.643,4.735,4.699,4.726,4.676,4.651,4.658,4.708,4.675,4.701,4.719,4.632,4.645,4.692,4.763,4.709,4.722,4.642,4.701,4.723,4.678,4.589,4.542,4.736,4.692,4.722,4.721,4.716,4.639,4.701,4.679,4.618,4.663,4.727,4.721,4.721,4.708,4.727,4.726,4.726,4.647,4.729,4.677,4.72,4.693,4.645,4.748,4.708,4.697,4.678,4.726,4.709,4.692,4.694,4.645,4.644,4.705,4.625,4.69,4.679,4.7,4.696,4.682,4.706,4.63,4.63,4.63,4.63,4.63,4.63,4.63,4.63,4.63,4.63,4.697,4.642,4.683,4.611,4.699,4.7,4.695,4.64,4.623,4.72,4.701,4.74,4.695,4.723,4.7,4.68,4.694,4.724,4.705,4.721,4.718,4.695,4.711,4.823,4.7,4.587,4.7,4.69,4.689,4.739,4.74,4.742,4.69,4.686,4.695,4.687,4.709,4.708,4.695,4.703,4.713,4.741,4.735,4.725,4.72,4.727,4.691,4.721,4.699,4.709,4.701,4.642,4.743,4.724,4.764,4.736,4.669,4.615,4.766,4.602,4.715,4.736,4.732,4.735,4.61,4.699,4.73,4.719,4.699,4.628,4.696,4.688,4.702,4.704,4.745,4.693,4.666,4.688,4.699,4.695,4.732,4.698,4.704,4.722,4.732,4.715,4.705,4.678,4.685,4.674,4.678,4.682,4.678,4.671,4.733,4.732,4.688,4.738,4.677,4.677,4.682,4.68,4.695,4.683,4.71,4.681,4.633,4.726,4.729,4.729,4.738,4.679,4.578,4.704,4.723,4.595,4.7,4.696,4.681,4.681,4.681,4.733,4.651,4.681,4.603,4.716,4.694,4.629,4.67,4.681,4.681,4.693,4.689,4.491,4.596,4.751,4.735,4.728,4.67,4.662,4.62,4.72,4.695,4.768,4.728,4.603,4.733,4.732,4.709,4.725,4.71,4.671,4.693,4.601,4.7,4.704,4.697,4.71,4.746,4.679,4.664,4.705,4.601,4.725,4.702,4.725,4.59,4.706,4.708,4.702,4.626,4.705,4.723,4.725,4.734,4.699,4.705,4.668,4.697,4.664,4.682,4.722,4.711,4.5975418,4.745,4.727,4.693,4.698,4.711,4.653,4.732,4.723,4.606,4.744,4.697,4.723,4.62,4.62,4.62,4.603,4.646,4.627,4.696,4.7386684,4.7386684,4.7386684,4.678,4.751,4.655,4.751,4.751,4.751,4.686,4.686,4.682,4.733,4.718,4.722,4.743,4.7,4.688,4.716,4.751,4.585,4.64,4.677,4.705,4.699,4.71,4.731,4.745,4.685,4.643,4.792,4.702,4.725,4.703,4.734,4.754,4.712,4.667,4.727,4.62,4.575,4.672,4.722,4.643,4.562,4.693,4.672,4.648,4.714,4.713,4.674,4.647,4.699,4.704,4.682,4.698,4.723,4.693,4.717,4.731,4.686,4.697,4.725,4.624,4.722,4.755,4.601,4.755,4.683,4.702,4.689,4.7,4.7,4.589,4.706,4.651,4.758,4.681,4.7,4.642,4.632,4.727,4.717,4.692,4.53,4.715,4.666,4.682,4.734,4.733,4.733,4.732,4.683,4.704,4.695,4.677,4.697,4.725,4.732,4.7,4.694,4.636,4.701,4.719,4.699,4.746,4.704,4.7,4.651,4.747,4.696,4.753,4.682,4.716,4.696,4.711,4.693,4.723,4.676,4.695,4.704,4.677,4.572,4.692,4.684,4.684,4.7149508,4.7164519,4.696,4.692,4.718,4.7070179,4.724,4.752,4.716,4.737,4.727,4.792,4.733,4.731,4.759,4.678,4.631,4.713,4.69,4.69,4.613418,4.6780132,4.7,4.641,4.676,4.705,4.703,4.708,4.687,4.709,4.693,4.651,4.572,4.732,4.692,4.598,4.7,4.761,4.5905789,4.716,4.716,4.692,4.7109886,4.632,4.615,4.707,4.573,4.703,4.585,4.704,4.704,4.681,4.702,4.68,4.749,4.739,4.723,4.707,4.689,4.704,4.643,4.704,4.615,4.721,4.672,4.706,4.692,4.705,4.623,4.711,4.688,4.615,4.661,4.66,4.689,4.687,4.675,4.747,4.745,4.669,4.683,4.718,4.732,4.73,4.681,4.682,4.694,4.74,4.674,4.681,4.695,4.727,4.751,4.751,4.607,4.772,4.739,4.677,4.693,4.684,4.684,4.699,4.723,4.725,4.684,4.643,4.684,4.725,4.645,4.625,4.699,4.678,4.725,4.697,4.639,4.689,4.71,4.751,4.751,4.751,4.722,4.697,4.685,4.699,4.692,4.707,4.604,4.69,4.547,4.612,4.687,4.759,4.705,4.694,4.694,4.729,4.708,4.707,4.665,4.608,4.583,4.564,4.564,4.644,4.564,4.695,4.716,4.72,4.564,4.644,4.632,4.718,4.735,4.705,4.711,4.696,4.664,4.695,4.682,4.695,4.688,4.697,4.705,4.724,4.703,4.653,4.688,4.691,4.689,4.701,4.698,4.699,4.698,4.744,4.748,4.752,4.742,4.688,4.724,4.689,4.728,4.688,4.721,4.623,4.711,4.597,4.669,4.686,4.695,4.689,4.696,4.714,4.586,4.679,4.769,4.695,4.688,4.686,4.674,4.745,4.707,4.734,4.695,4.729,4.747,4.674,4.745,4.692,4.618,4.589,4.641,4.692,4.724,4.714,4.623,4.623,4.77,4.623,4.686,4.686,4.723,4.723,4.686,4.647,4.67,4.691,4.672,4.623,4.646,4.702,4.756,4.682,4.725,4.7,4.682,4.688,4.724,4.748,4.726,4.672,4.559,4.656,4.695,4.703,4.717,4.693,4.683,4.692,4.747,4.71,4.693,4.717],\"z\":[212721.41,168826.52,133372.95,371418.34,236357.12,202591.82,300511.2,168826.52,121555.09,280252.02,212721.41,175579.58,212721.41,253239.78,199215.29,257207.2,216435.59,270122.43,320770.38,320770.38,243110.18,287005.08,217786.21,219474.47,256616.31,118178.56,101295.91,141814.27,145190.8,84413.26,172203.05,158696.92,253239.78,84413.26,202591.82,253239.78,162073.45,202591.82,323504.7,341568.12,359394.85,162073.45,330899.98,229604.06,229604.06,364665.28,388300.99,79348.46,75971.93,219474.47,270122.43,162073.45,320770.38,73946.01,73608.36,276875.49,158696.92,287005.08,310640.79,141814.27,371418.34,138437.74,347782.63,189085.7,78676.53,287005.08,243110.18,246486.72,131684.68,82724.99,131684.68,354535.69,270122.43,131684.68,155320.39,378171.4,97919.38,92854.58,371418.34,101295.91,155320.39,219474.47,371418.34,175579.58,253239.78,162073.45,168826.52,256616.31,229604.06,143502.54,300477.44,236323.36,246486.72,150221.83,175545.81,106360.7,138437.74,158663.16,371418.34,320736.62,163727.95,230954.68,202591.82,189085.7,212721.41,337653.04,162073.45,378171.4,162073.45,106360.7,162073.45,253239.78,134385.91,300511.2,320770.38,219474.47,124931.62,290381.61,108048.97,120542.13,287005.08,202591.82,205968.35,121555.09,118178.56,185709.17,303887.73,111425.5,169574.42,243520.43,234668.86,167138.25,126619.89,121555.09,155320.39,253239.78,168826.52,151943.86,287005.08,129996.42,195838.76,101295.91,118178.56,195838.76,276875.49,202591.82,371418.34,114802.03,371418.34,151943.86,94542.85,287005.08,155320.39,354535.69,229604.06,190773.96,320770.38,108048.97,308952.53,175579.58,266745.9,162073.45,178956.11,303887.73,121555.09,276875.49,371418.34,253239.78,256616.31,334276.51,236357.12,297134.67,226396.02,101295.91,308952.53,141814.27,287005.08,219474.47,232980.59,219474.47,135061.21,108048.97,192462.23,151943.86,320770.38,219474.47,334276.51,354535.69,178956.11,155320.39,136183.19,256997.71,91166.32,128308.15,57063.36,108048.97,104672.44,310640.79,167138.25,151943.86,132697.64,290381.61,182332.64,141814.27,239733.65,209007.23,236357.12,229604.06,371418.34,229604.06,287005.08,287005.08,231292.33,173891.31,253239.78,111425.5,297134.67,270122.43,287005.08,121217.44,131684.68,197527.02,290381.61,141814.27,131684.68,151943.86,229604.06,371418.34,354535.69,128308.15,117165.6,151943.86,185709.17,236357.12,118178.56,300173.55,259992.84,320770.38,114802.03,310640.79,312315.38,320770.38,330899.98,175579.58,212721.41,236357.12,211033.15,97919.38,263369.37,151943.86,298822.94,151943.86,143502.54,118178.56,145190.8,108048.97,113113.76,229604.06,337653.04,101295.91,133372.95,160385.19,253239.78,330899.98,138437.74,253239.78,286667.43,320432.73,155320.39,67530.6,160385.19,354974.64,151943.86,253239.78,111425.5,87789.79,74249.9,141814.27,263369.37,330899.98,226227.53,253239.78,388300.99,270122.43,314017.32,151943.86,226227.53,283628.55,253239.78,219474.47,70907.13,320770.38,151943.86,151943.86,218123.86,151943.86,393216.55,180744.15,223384.33,379014.35,260668.14,324146.91,219474.47,94542.85,368041.81,253239.78,226227.53,145190.8,283628.55,330899.98,121521.32,195838.76,310640.79,172203.05,185709.17,354535.69,222851.0,236357.12,99607.64,216097.94,124931.62,108048.97,337653.04,330899.98,145190.8,121555.09,145190.8,121555.09,236357.12,143468.77,131684.68,256616.31,145190.8,94542.85,94542.85,121555.09,76984.89,97919.38,346094.36,335964.77,138437.74,185709.17,205968.35,202591.82,388300.99,301186.51,202591.82,202591.82,165449.99,178956.11,129658.76,170514.78,148567.33,246486.72,287005.08,199215.29,199215.29,263369.37,167138.25,337315.38,135061.21,109737.23,253239.78,327523.45,337653.04,209344.88,185709.17,222851.0,226227.53,121555.09,253239.78,388300.99,297134.67,287005.08,280252.02,371418.34,320770.38,145190.8,138437.74,330899.98,253239.78,108048.97,182332.64,388300.99,236357.12,236357.12,77660.19,64154.07,151943.86,263369.37,234668.86,320770.38,229604.06,219474.47,118178.56,182332.64,138437.74,54699.79,91166.32,185709.17,141814.27,263369.37,141814.27,74283.66,145190.8,236357.12,371418.34,253239.78,140126.01,320770.38,91166.32,189085.7,178956.11,253239.78,253239.78,219474.47,148567.33,263369.37,219474.47,165449.99,91166.32,101295.91,148229.68,101295.91,158696.92,270122.43,303887.73,124931.62,106360.7,77660.19,163761.72,162073.45,238821.99,151943.86,219474.47,67530.6,226227.53,395054.05,283628.55,337653.04,263369.37,276875.49,302942.3,239733.65,168151.21,219474.47,168826.52,185709.17,79348.46,283290.9,263369.37,185709.17,222851.0,303887.73,86101.52,202591.82,330899.98,270122.43,165449.99,192462.23,164099.37,217786.21,273498.96,309290.18,168826.52,158696.92,246486.72,371418.34,195838.76,371418.34,141814.27,197527.02,253239.78,256616.31,168826.52,155320.39,278563.75,185709.17,276200.18,87789.79,320770.38,287005.08,287005.08,337653.04,300511.2,215760.29,320770.38,189085.7,320770.38,246486.72,281940.28,178956.11,175579.58,163761.72,194150.49,215760.29,212721.41,219474.47,82724.99,287005.08,118178.56,229604.06,312329.06,300511.2,148567.33,113080.0,118178.56,307264.26,330899.98,133372.95,195838.76,397755.28,87789.79,195838.76,310640.79,314017.32,89478.05,315705.59,273498.96,229604.06,280252.02,330899.98,354535.69,388300.99,263369.37,135027.45,253239.78,202591.82,175579.58,141814.27,287005.08,119866.82,300511.2,236357.12,116490.29,33765.3,72595.4,84379.49,131684.68,395054.05,219474.47,151943.86,209344.88,334276.51,209344.88,83737.95,87789.79,119866.82,283628.55,337653.04,222851.0,243110.18,371418.34,198539.98,219474.47,110750.19,141814.27,222851.0,62465.81,119866.82,162073.45,141814.27,246486.72,167138.25,280252.02,77626.43,276875.49,113113.76,158696.92,162073.45,119866.82,219474.51,310640.79,258304.57,131684.68,219474.47,209344.88,138437.74,141814.27,151943.86,330899.98,150255.6,126619.89,84413.26,104672.44,40518.36,133372.95,60777.54,141814.27,101295.91,54024.48,151943.86,253239.78,252226.82,136749.48,303887.73,388300.99,135061.21,151943.86,226227.53,236357.12,47271.42,137828.95,293758.14,162073.45,270122.43,100282.95,300511.2,79348.46,79348.46,79348.46,79348.46,79348.46,79348.46,79348.46,79348.46,79348.46,79348.46,138437.74,162073.45,253239.78,151943.86,151943.86,138437.74,337653.04,67496.84,114802.03,330899.98,129996.42,162073.45,310640.79,297134.67,158021.62,141814.27,202591.82,138437.74,205968.35,320770.38,209344.88,251551.51,55712.75,287005.08,151943.86,185709.17,287005.08,195838.76,324146.91,121555.09,157008.66,248512.63,264373.73,243110.18,158696.92,148567.33,232980.59,253239.78,266745.9,263369.37,117840.91,157008.66,158696.92,276875.49,145190.8,378171.4,229604.06,200903.55,175579.58,145190.8,148567.33,118178.56,74283.66,104334.78,300511.2,124931.62,388300.99,87789.79,67496.84,263369.37,99607.64,185709.17,97919.38,135061.21,128308.15,297134.67,168826.52,236357.12,287005.08,57367.25,206643.66,303887.73,185709.17,131684.68,185709.17,329211.71,222851.0,185709.17,222851.0,121555.09,104672.44,202591.82,108048.97,108048.97,263369.37,141814.27,303887.73,209344.88,334276.51,280252.02,219474.47,189085.7,233133.36,99607.64,94542.85,263369.37,163761.72,79348.46,320770.38,371418.34,177267.84,158696.92,133372.95,165449.99,60777.54,135061.21,45583.16,330899.98,208669.57,148567.33,151943.86,158696.92,60777.54,334276.51,199215.29,354535.69,327523.45,219474.47,161735.8,166125.29,178956.11,128308.15,151943.86,280252.02,74283.66,175241.92,113113.76,74283.66,209344.88,183683.25,169501.82,145190.8,158696.92,334276.51,101295.91,65842.34,141814.27,320770.38,178956.11,60777.54,101295.91,104672.44,98594.68,64154.07,300511.2,168792.75,79348.46,187397.43,145190.8,216097.94,175008.94,136749.48,108048.97,276875.49,128308.15,108048.97,121555.09,163687.6,79348.46,158696.92,368041.81,135061.21,70907.13,287005.08,266745.9,151943.86,119866.82,162073.45,195838.76,232980.59,57367.25,189085.7,185709.17,118178.56,97919.38,232980.59,101295.91,104672.44,182332.64,287005.08,135061.21,232980.59,270122.43,257144.32,135061.21,128308.15,278563.75,145190.8,195838.76,276875.49,188410.39,153632.13,124931.62,131684.68,243110.18,158359.27,84413.26,81036.72,70907.13,54024.48,138437.74,219474.47,131684.68,154286.59,154286.59,154286.59,304225.39,123243.36,116827.95,123243.36,115646.16,116490.29,212721.41,276875.49,172203.05,162073.45,278563.75,141814.27,103997.13,128308.15,145190.8,287005.08,116490.29,371418.34,47271.42,101295.91,280252.02,151943.86,276875.49,212721.41,310640.79,151943.86,337653.04,201916.51,303887.73,140126.01,259992.84,128308.15,101295.91,189085.7,303887.73,101295.91,97919.38,197527.02,212721.41,135061.21,118178.56,47237.66,212957.77,202591.82,388300.99,268434.16,287005.08,200903.55,226227.53,224539.27,185709.17,371418.34,165449.99,253239.78,114802.03,227240.49,118178.56,162073.45,121555.09,287005.08,89478.05,121555.09,60777.54,128308.15,118178.56,74283.66,189085.7,146879.07,297134.67,276875.49,214409.68,170514.78,47271.42,151943.86,91166.32,200903.55,239733.65,155320.39,185709.17,168826.52,167138.25,14147.66,185709.17,113113.76,100282.95,319440.71,242691.49,228591.78,343074.06,283628.55,140126.01,143502.54,356561.61,253239.78,118178.56,252902.12,287005.08,246486.72,54024.48,303550.08,165449.99,202591.82,70231.83,131684.68,108048.97,124931.62,94542.85,287005.08,145190.8,303887.73,172203.05,232980.59,246486.72,232980.59,121555.09,320770.38,150255.6,175579.58,226227.53,59089.28,137762.44,224633.81,268867.71,257144.32,257144.32,131684.68,175579.58,162073.45,75429.0,354535.69,52336.22,72595.4,287005.08,104672.44,232980.59,263369.37,118178.56,121555.09,343730.79,70907.13,202591.82,391677.52,200228.25,257144.32,257144.32,335964.77,108048.97,302199.47,118178.56,239733.65,232980.59,239733.65,173891.31,190773.96,102984.17,94509.08,145190.8,143502.54,246486.72,371418.34,128308.15,5495.89,135061.21,158696.92,182332.64,54480.31,84075.6,121555.09,276875.49,25965.51,192462.23,109737.23,175579.58,222851.0,268434.16,104672.44,157008.66,77322.54,99607.64,84413.26,290381.61,280252.02,207977.39,172203.05,128308.15,192462.23,138437.74,320770.38,258304.57,189085.7,253239.78,48284.38,47237.66,172203.05,124593.97,123243.36,108048.97,165449.99,145190.8,283628.55,185709.17,57401.01,265057.63,283628.55,118178.56,212721.41,136411.82,295446.41,236357.12,246486.72,84750.91,229604.06,200903.55,141814.27,87789.79,126619.89,119866.82,87789.79,335964.77,55712.75,102984.17,263369.37,138280.4,175913.64,168826.52,57401.01,135061.21,163531.1,114802.03,243553.14,185709.17,124931.62,45583.16,266745.9,371418.34,172203.05,138437.74,81036.72,200903.55,199215.29,118178.56,116490.29,115646.16,135061.21,148567.33,168826.52,276875.49,280252.02,202591.82,303887.73,371418.34,263369.37,118178.56,249863.25,145190.8,199215.29,185709.17,199215.29,89478.05,189085.7,158696.92,118178.56,398430.58,175579.58,81036.72,86101.52,141814.27,86101.52,243110.18,263369.37,212721.41,86101.52,128308.15,151943.86,151943.86,205968.35,195838.76,259992.84,101295.91,395054.05,212721.41,290381.61,123243.36,202591.82,243110.18,303887.73,153632.13,329273.48,287005.08,232980.59,310640.79,303887.73,270122.43,167475.9,125606.93,148567.33,97919.38,131684.68,243110.18,162073.45,118178.56,165449.99,253239.78,119866.82,232980.59,96231.11,121555.09,209344.88,337653.04,303887.73,175579.58,111087.85,303887.73,131684.68,200903.55,162073.45,175579.58,114802.03,108048.97,92854.58,109737.23,320770.38,162073.45,162073.45,150255.6,131684.68,371418.34,97919.38,320770.38,80361.42,128308.15,110750.19,128308.15,151943.86,388300.99,43894.89,287005.08,54024.48,55712.75,108048.97,97919.38,239733.65,199215.29,124931.62,109737.23,219474.47,151943.86,168488.86,162073.45,249863.25,84413.26,43894.89,300511.2,219474.47,126619.89,319082.12,253239.78,138437.74,92854.58,160385.19,84413.26,121555.09,302199.47,57401.01,176151.56,189085.7,283628.55,118853.87,162073.45,232980.59,151943.86,97919.38,276875.49,114802.03,162073.45],\"type\":\"scatter3d\"},{\"x\":[[-74.208,-74.18733333333333,-74.16666666666667,-74.146,-74.12533333333333,-74.10466666666667,-74.084,-74.06333333333333,-74.04266666666668,-74.022],[-74.208,-74.18733333333333,-74.16666666666667,-74.146,-74.12533333333333,-74.10466666666667,-74.084,-74.06333333333333,-74.04266666666668,-74.022],[-74.208,-74.18733333333333,-74.16666666666667,-74.146,-74.12533333333333,-74.10466666666667,-74.084,-74.06333333333333,-74.04266666666668,-74.022],[-74.208,-74.18733333333333,-74.16666666666667,-74.146,-74.12533333333333,-74.10466666666667,-74.084,-74.06333333333333,-74.04266666666668,-74.022],[-74.208,-74.18733333333333,-74.16666666666667,-74.146,-74.12533333333333,-74.10466666666667,-74.084,-74.06333333333333,-74.04266666666668,-74.022],[-74.208,-74.18733333333333,-74.16666666666667,-74.146,-74.12533333333333,-74.10466666666667,-74.084,-74.06333333333333,-74.04266666666668,-74.022],[-74.208,-74.18733333333333,-74.16666666666667,-74.146,-74.12533333333333,-74.10466666666667,-74.084,-74.06333333333333,-74.04266666666668,-74.022],[-74.208,-74.18733333333333,-74.16666666666667,-74.146,-74.12533333333333,-74.10466666666667,-74.084,-74.06333333333333,-74.04266666666668,-74.022],[-74.208,-74.18733333333333,-74.16666666666667,-74.146,-74.12533333333333,-74.10466666666667,-74.084,-74.06333333333333,-74.04266666666668,-74.022],[-74.208,-74.18733333333333,-74.16666666666667,-74.146,-74.12533333333333,-74.10466666666667,-74.084,-74.06333333333333,-74.04266666666668,-74.022]],\"y\":[[4.473,4.473,4.473,4.473,4.473,4.473,4.473,4.473,4.473,4.473],[4.511888888888889,4.511888888888889,4.511888888888889,4.511888888888889,4.511888888888889,4.511888888888889,4.511888888888889,4.511888888888889,4.511888888888889,4.511888888888889],[4.550777777777777,4.550777777777777,4.550777777777777,4.550777777777777,4.550777777777777,4.550777777777777,4.550777777777777,4.550777777777777,4.550777777777777,4.550777777777777],[4.589666666666667,4.589666666666667,4.589666666666667,4.589666666666667,4.589666666666667,4.589666666666667,4.589666666666667,4.589666666666667,4.589666666666667,4.589666666666667],[4.628555555555556,4.628555555555556,4.628555555555556,4.628555555555556,4.628555555555556,4.628555555555556,4.628555555555556,4.628555555555556,4.628555555555556,4.628555555555556],[4.6674444444444445,4.6674444444444445,4.6674444444444445,4.6674444444444445,4.6674444444444445,4.6674444444444445,4.6674444444444445,4.6674444444444445,4.6674444444444445,4.6674444444444445],[4.706333333333333,4.706333333333333,4.706333333333333,4.706333333333333,4.706333333333333,4.706333333333333,4.706333333333333,4.706333333333333,4.706333333333333,4.706333333333333],[4.745222222222223,4.745222222222223,4.745222222222223,4.745222222222223,4.745222222222223,4.745222222222223,4.745222222222223,4.745222222222223,4.745222222222223,4.745222222222223],[4.784111111111112,4.784111111111112,4.784111111111112,4.784111111111112,4.784111111111112,4.784111111111112,4.784111111111112,4.784111111111112,4.784111111111112,4.784111111111112],[4.823,4.823,4.823,4.823,4.823,4.823,4.823,4.823,4.823,4.823]],\"z\":[[132667.42007499933,139751.7308865264,146836.04169803858,153920.3525095582,161004.66332108527,168088.97413259745,175173.28494411707,182257.59575564414,189341.90656715631,196426.21737867594],[132667.42007499933,139751.7308865264,146836.04169803858,153920.3525095582,161004.66332108527,168088.97413259745,175173.28494411707,182257.59575564414,189341.90656715631,196426.21737867594],[132667.42007499933,139751.7308865264,146836.04169803858,153920.3525095582,161004.66332108527,168088.97413259745,175173.28494411707,182257.59575564414,189341.90656715631,196426.21737867594],[132667.42007499933,139751.7308865264,146836.04169803858,153920.3525095582,161004.66332108527,168088.97413259745,175173.28494411707,182257.59575564414,189341.90656715631,196426.21737867594],[132667.42007499933,139751.7308865264,146836.04169803858,153920.3525095582,161004.66332108527,168088.97413259745,175173.28494411707,182257.59575564414,189341.90656715631,196426.21737867594],[132667.42007499933,139751.7308865264,146836.04169803858,153920.3525095582,161004.66332108527,168088.97413259745,175173.28494411707,182257.59575564414,189341.90656715631,196426.21737867594],[132667.42007499933,139751.7308865264,146836.04169803858,153920.3525095582,161004.66332108527,168088.97413259745,175173.28494411707,182257.59575564414,189341.90656715631,196426.21737867594],[132667.42007499933,139751.7308865264,146836.04169803858,153920.3525095582,161004.66332108527,168088.97413259745,175173.28494411707,182257.59575564414,189341.90656715631,196426.21737867594],[132667.42007499933,139751.7308865264,146836.04169803858,153920.3525095582,161004.66332108527,168088.97413259745,175173.28494411707,182257.59575564414,189341.90656715631,196426.21737867594],[132667.42007499933,139751.7308865264,146836.04169803858,153920.3525095582,161004.66332108527,168088.97413259745,175173.28494411707,182257.59575564414,189341.90656715631,196426.21737867594]],\"type\":\"surface\"}],                        {\"template\":{\"data\":{\"histogram2dcontour\":[{\"type\":\"histogram2dcontour\",\"colorbar\":{\"outlinewidth\":0,\"ticks\":\"\"},\"colorscale\":[[0.0,\"#0d0887\"],[0.1111111111111111,\"#46039f\"],[0.2222222222222222,\"#7201a8\"],[0.3333333333333333,\"#9c179e\"],[0.4444444444444444,\"#bd3786\"],[0.5555555555555556,\"#d8576b\"],[0.6666666666666666,\"#ed7953\"],[0.7777777777777778,\"#fb9f3a\"],[0.8888888888888888,\"#fdca26\"],[1.0,\"#f0f921\"]]}],\"choropleth\":[{\"type\":\"choropleth\",\"colorbar\":{\"outlinewidth\":0,\"ticks\":\"\"}}],\"histogram2d\":[{\"type\":\"histogram2d\",\"colorbar\":{\"outlinewidth\":0,\"ticks\":\"\"},\"colorscale\":[[0.0,\"#0d0887\"],[0.1111111111111111,\"#46039f\"],[0.2222222222222222,\"#7201a8\"],[0.3333333333333333,\"#9c179e\"],[0.4444444444444444,\"#bd3786\"],[0.5555555555555556,\"#d8576b\"],[0.6666666666666666,\"#ed7953\"],[0.7777777777777778,\"#fb9f3a\"],[0.8888888888888888,\"#fdca26\"],[1.0,\"#f0f921\"]]}],\"heatmap\":[{\"type\":\"heatmap\",\"colorbar\":{\"outlinewidth\":0,\"ticks\":\"\"},\"colorscale\":[[0.0,\"#0d0887\"],[0.1111111111111111,\"#46039f\"],[0.2222222222222222,\"#7201a8\"],[0.3333333333333333,\"#9c179e\"],[0.4444444444444444,\"#bd3786\"],[0.5555555555555556,\"#d8576b\"],[0.6666666666666666,\"#ed7953\"],[0.7777777777777778,\"#fb9f3a\"],[0.8888888888888888,\"#fdca26\"],[1.0,\"#f0f921\"]]}],\"heatmapgl\":[{\"type\":\"heatmapgl\",\"colorbar\":{\"outlinewidth\":0,\"ticks\":\"\"},\"colorscale\":[[0.0,\"#0d0887\"],[0.1111111111111111,\"#46039f\"],[0.2222222222222222,\"#7201a8\"],[0.3333333333333333,\"#9c179e\"],[0.4444444444444444,\"#bd3786\"],[0.5555555555555556,\"#d8576b\"],[0.6666666666666666,\"#ed7953\"],[0.7777777777777778,\"#fb9f3a\"],[0.8888888888888888,\"#fdca26\"],[1.0,\"#f0f921\"]]}],\"contourcarpet\":[{\"type\":\"contourcarpet\",\"colorbar\":{\"outlinewidth\":0,\"ticks\":\"\"}}],\"contour\":[{\"type\":\"contour\",\"colorbar\":{\"outlinewidth\":0,\"ticks\":\"\"},\"colorscale\":[[0.0,\"#0d0887\"],[0.1111111111111111,\"#46039f\"],[0.2222222222222222,\"#7201a8\"],[0.3333333333333333,\"#9c179e\"],[0.4444444444444444,\"#bd3786\"],[0.5555555555555556,\"#d8576b\"],[0.6666666666666666,\"#ed7953\"],[0.7777777777777778,\"#fb9f3a\"],[0.8888888888888888,\"#fdca26\"],[1.0,\"#f0f921\"]]}],\"surface\":[{\"type\":\"surface\",\"colorbar\":{\"outlinewidth\":0,\"ticks\":\"\"},\"colorscale\":[[0.0,\"#0d0887\"],[0.1111111111111111,\"#46039f\"],[0.2222222222222222,\"#7201a8\"],[0.3333333333333333,\"#9c179e\"],[0.4444444444444444,\"#bd3786\"],[0.5555555555555556,\"#d8576b\"],[0.6666666666666666,\"#ed7953\"],[0.7777777777777778,\"#fb9f3a\"],[0.8888888888888888,\"#fdca26\"],[1.0,\"#f0f921\"]]}],\"mesh3d\":[{\"type\":\"mesh3d\",\"colorbar\":{\"outlinewidth\":0,\"ticks\":\"\"}}],\"scatter\":[{\"fillpattern\":{\"fillmode\":\"overlay\",\"size\":10,\"solidity\":0.2},\"type\":\"scatter\"}],\"parcoords\":[{\"type\":\"parcoords\",\"line\":{\"colorbar\":{\"outlinewidth\":0,\"ticks\":\"\"}}}],\"scatterpolargl\":[{\"type\":\"scatterpolargl\",\"marker\":{\"colorbar\":{\"outlinewidth\":0,\"ticks\":\"\"}}}],\"bar\":[{\"error_x\":{\"color\":\"#2a3f5f\"},\"error_y\":{\"color\":\"#2a3f5f\"},\"marker\":{\"line\":{\"color\":\"#E5ECF6\",\"width\":0.5},\"pattern\":{\"fillmode\":\"overlay\",\"size\":10,\"solidity\":0.2}},\"type\":\"bar\"}],\"scattergeo\":[{\"type\":\"scattergeo\",\"marker\":{\"colorbar\":{\"outlinewidth\":0,\"ticks\":\"\"}}}],\"scatterpolar\":[{\"type\":\"scatterpolar\",\"marker\":{\"colorbar\":{\"outlinewidth\":0,\"ticks\":\"\"}}}],\"histogram\":[{\"marker\":{\"pattern\":{\"fillmode\":\"overlay\",\"size\":10,\"solidity\":0.2}},\"type\":\"histogram\"}],\"scattergl\":[{\"type\":\"scattergl\",\"marker\":{\"colorbar\":{\"outlinewidth\":0,\"ticks\":\"\"}}}],\"scatter3d\":[{\"type\":\"scatter3d\",\"line\":{\"colorbar\":{\"outlinewidth\":0,\"ticks\":\"\"}},\"marker\":{\"colorbar\":{\"outlinewidth\":0,\"ticks\":\"\"}}}],\"scattermapbox\":[{\"type\":\"scattermapbox\",\"marker\":{\"colorbar\":{\"outlinewidth\":0,\"ticks\":\"\"}}}],\"scatterternary\":[{\"type\":\"scatterternary\",\"marker\":{\"colorbar\":{\"outlinewidth\":0,\"ticks\":\"\"}}}],\"scattercarpet\":[{\"type\":\"scattercarpet\",\"marker\":{\"colorbar\":{\"outlinewidth\":0,\"ticks\":\"\"}}}],\"carpet\":[{\"aaxis\":{\"endlinecolor\":\"#2a3f5f\",\"gridcolor\":\"white\",\"linecolor\":\"white\",\"minorgridcolor\":\"white\",\"startlinecolor\":\"#2a3f5f\"},\"baxis\":{\"endlinecolor\":\"#2a3f5f\",\"gridcolor\":\"white\",\"linecolor\":\"white\",\"minorgridcolor\":\"white\",\"startlinecolor\":\"#2a3f5f\"},\"type\":\"carpet\"}],\"table\":[{\"cells\":{\"fill\":{\"color\":\"#EBF0F8\"},\"line\":{\"color\":\"white\"}},\"header\":{\"fill\":{\"color\":\"#C8D4E3\"},\"line\":{\"color\":\"white\"}},\"type\":\"table\"}],\"barpolar\":[{\"marker\":{\"line\":{\"color\":\"#E5ECF6\",\"width\":0.5},\"pattern\":{\"fillmode\":\"overlay\",\"size\":10,\"solidity\":0.2}},\"type\":\"barpolar\"}],\"pie\":[{\"automargin\":true,\"type\":\"pie\"}]},\"layout\":{\"autotypenumbers\":\"strict\",\"colorway\":[\"#636efa\",\"#EF553B\",\"#00cc96\",\"#ab63fa\",\"#FFA15A\",\"#19d3f3\",\"#FF6692\",\"#B6E880\",\"#FF97FF\",\"#FECB52\"],\"font\":{\"color\":\"#2a3f5f\"},\"hovermode\":\"closest\",\"hoverlabel\":{\"align\":\"left\"},\"paper_bgcolor\":\"white\",\"plot_bgcolor\":\"#E5ECF6\",\"polar\":{\"bgcolor\":\"#E5ECF6\",\"angularaxis\":{\"gridcolor\":\"white\",\"linecolor\":\"white\",\"ticks\":\"\"},\"radialaxis\":{\"gridcolor\":\"white\",\"linecolor\":\"white\",\"ticks\":\"\"}},\"ternary\":{\"bgcolor\":\"#E5ECF6\",\"aaxis\":{\"gridcolor\":\"white\",\"linecolor\":\"white\",\"ticks\":\"\"},\"baxis\":{\"gridcolor\":\"white\",\"linecolor\":\"white\",\"ticks\":\"\"},\"caxis\":{\"gridcolor\":\"white\",\"linecolor\":\"white\",\"ticks\":\"\"}},\"coloraxis\":{\"colorbar\":{\"outlinewidth\":0,\"ticks\":\"\"}},\"colorscale\":{\"sequential\":[[0.0,\"#0d0887\"],[0.1111111111111111,\"#46039f\"],[0.2222222222222222,\"#7201a8\"],[0.3333333333333333,\"#9c179e\"],[0.4444444444444444,\"#bd3786\"],[0.5555555555555556,\"#d8576b\"],[0.6666666666666666,\"#ed7953\"],[0.7777777777777778,\"#fb9f3a\"],[0.8888888888888888,\"#fdca26\"],[1.0,\"#f0f921\"]],\"sequentialminus\":[[0.0,\"#0d0887\"],[0.1111111111111111,\"#46039f\"],[0.2222222222222222,\"#7201a8\"],[0.3333333333333333,\"#9c179e\"],[0.4444444444444444,\"#bd3786\"],[0.5555555555555556,\"#d8576b\"],[0.6666666666666666,\"#ed7953\"],[0.7777777777777778,\"#fb9f3a\"],[0.8888888888888888,\"#fdca26\"],[1.0,\"#f0f921\"]],\"diverging\":[[0,\"#8e0152\"],[0.1,\"#c51b7d\"],[0.2,\"#de77ae\"],[0.3,\"#f1b6da\"],[0.4,\"#fde0ef\"],[0.5,\"#f7f7f7\"],[0.6,\"#e6f5d0\"],[0.7,\"#b8e186\"],[0.8,\"#7fbc41\"],[0.9,\"#4d9221\"],[1,\"#276419\"]]},\"xaxis\":{\"gridcolor\":\"white\",\"linecolor\":\"white\",\"ticks\":\"\",\"title\":{\"standoff\":15},\"zerolinecolor\":\"white\",\"automargin\":true,\"zerolinewidth\":2},\"yaxis\":{\"gridcolor\":\"white\",\"linecolor\":\"white\",\"ticks\":\"\",\"title\":{\"standoff\":15},\"zerolinecolor\":\"white\",\"automargin\":true,\"zerolinewidth\":2},\"scene\":{\"xaxis\":{\"backgroundcolor\":\"#E5ECF6\",\"gridcolor\":\"white\",\"linecolor\":\"white\",\"showbackground\":true,\"ticks\":\"\",\"zerolinecolor\":\"white\",\"gridwidth\":2},\"yaxis\":{\"backgroundcolor\":\"#E5ECF6\",\"gridcolor\":\"white\",\"linecolor\":\"white\",\"showbackground\":true,\"ticks\":\"\",\"zerolinecolor\":\"white\",\"gridwidth\":2},\"zaxis\":{\"backgroundcolor\":\"#E5ECF6\",\"gridcolor\":\"white\",\"linecolor\":\"white\",\"showbackground\":true,\"ticks\":\"\",\"zerolinecolor\":\"white\",\"gridwidth\":2}},\"shapedefaults\":{\"line\":{\"color\":\"#2a3f5f\"}},\"annotationdefaults\":{\"arrowcolor\":\"#2a3f5f\",\"arrowhead\":0,\"arrowwidth\":1},\"geo\":{\"bgcolor\":\"white\",\"landcolor\":\"#E5ECF6\",\"subunitcolor\":\"white\",\"showland\":true,\"showlakes\":true,\"lakecolor\":\"white\"},\"title\":{\"x\":0.05},\"mapbox\":{\"style\":\"light\"}}},\"scene\":{\"domain\":{\"x\":[0.0,1.0],\"y\":[0.0,1.0]},\"xaxis\":{\"title\":{\"text\":\"longitude\"}},\"yaxis\":{\"title\":{\"text\":\"latitude\"}},\"zaxis\":{\"title\":{\"text\":\"price\"}}},\"legend\":{\"tracegroupgap\":0},\"margin\":{\"t\":60},\"height\":500,\"width\":600},                        {\"responsive\": true}                    ).then(function(){\n",
              "                            \n",
              "var gd = document.getElementById('42e5bef7-a884-49b3-9cff-d2eba820be01');\n",
              "var x = new MutationObserver(function (mutations, observer) {{\n",
              "        var display = window.getComputedStyle(gd).display;\n",
              "        if (!display || display === 'none') {{\n",
              "            console.log([gd, 'removed!']);\n",
              "            Plotly.purge(gd);\n",
              "            observer.disconnect();\n",
              "        }}\n",
              "}});\n",
              "\n",
              "// Listen for the removal of the full notebook cells\n",
              "var notebookContainer = gd.closest('#notebook-container');\n",
              "if (notebookContainer) {{\n",
              "    x.observe(notebookContainer, {childList: true});\n",
              "}}\n",
              "\n",
              "// Listen for the clearing of the current output cell\n",
              "var outputEl = gd.closest('.output');\n",
              "if (outputEl) {{\n",
              "    x.observe(outputEl, {childList: true});\n",
              "}}\n",
              "\n",
              "                        })                };                            </script>        </div>\n",
              "</body>\n",
              "</html>"
            ]
          },
          "metadata": {}
        }
      ]
    }
  ]
}