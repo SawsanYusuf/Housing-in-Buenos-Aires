{
  "nbformat": 4,
  "nbformat_minor": 0,
  "metadata": {
    "colab": {
      "provenance": [],
      "authorship_tag": "ABX9TyN1nlqUsm3hYLlqp2CCM3UM",
      "include_colab_link": true
    },
    "kernelspec": {
      "name": "python3",
      "display_name": "Python 3"
    },
    "language_info": {
      "name": "python"
    },
    "widgets": {
      "application/vnd.jupyter.widget-state+json": {
        "74ab02ccde0c47bd8e09d5b1bbc2bf7a": {
          "model_module": "@jupyter-widgets/controls",
          "model_name": "VBoxModel",
          "model_module_version": "1.5.0",
          "state": {
            "_dom_classes": [
              "widget-interact"
            ],
            "_model_module": "@jupyter-widgets/controls",
            "_model_module_version": "1.5.0",
            "_model_name": "VBoxModel",
            "_view_count": null,
            "_view_module": "@jupyter-widgets/controls",
            "_view_module_version": "1.5.0",
            "_view_name": "VBoxView",
            "box_style": "",
            "children": [
              "IPY_MODEL_ad4f285b234548248d4f496a40da14cd",
              "IPY_MODEL_a6ed9f9c8d394a959838d51674110f0b",
              "IPY_MODEL_b1cc0d7df5e34771883f4efd6c2b73e7",
              "IPY_MODEL_38d73e8b41bb4d88ae2d61e6dd83475e",
              "IPY_MODEL_e9056f2e1452439e8f76290ef855c57f"
            ],
            "layout": "IPY_MODEL_088880fe11c0444cb8fcae1488252dcc"
          }
        },
        "ad4f285b234548248d4f496a40da14cd": {
          "model_module": "@jupyter-widgets/controls",
          "model_name": "IntSliderModel",
          "model_module_version": "1.5.0",
          "state": {
            "_dom_classes": [],
            "_model_module": "@jupyter-widgets/controls",
            "_model_module_version": "1.5.0",
            "_model_name": "IntSliderModel",
            "_view_count": null,
            "_view_module": "@jupyter-widgets/controls",
            "_view_module_version": "1.5.0",
            "_view_name": "IntSliderView",
            "continuous_update": true,
            "description": "area",
            "description_tooltip": null,
            "disabled": false,
            "layout": "IPY_MODEL_008787206d9e40ba81ef82f565560bc9",
            "max": 495,
            "min": 45,
            "orientation": "horizontal",
            "readout": true,
            "readout_format": "d",
            "step": 1,
            "style": "IPY_MODEL_a8563937c33542be814d63a6d9cd5618",
            "value": 212
          }
        },
        "a6ed9f9c8d394a959838d51674110f0b": {
          "model_module": "@jupyter-widgets/controls",
          "model_name": "FloatSliderModel",
          "model_module_version": "1.5.0",
          "state": {
            "_dom_classes": [],
            "_model_module": "@jupyter-widgets/controls",
            "_model_module_version": "1.5.0",
            "_model_name": "FloatSliderModel",
            "_view_count": null,
            "_view_module": "@jupyter-widgets/controls",
            "_view_module_version": "1.5.0",
            "_view_name": "FloatSliderView",
            "continuous_update": true,
            "description": "lat",
            "description_tooltip": null,
            "disabled": false,
            "layout": "IPY_MODEL_7772370174b642378e923a766fdb4b1b",
            "max": 4.825,
            "min": 4.473,
            "orientation": "horizontal",
            "readout": true,
            "readout_format": ".2f",
            "step": 0.01,
            "style": "IPY_MODEL_274a896d53e14d71896ec6d306cea650",
            "value": 4.503
          }
        },
        "b1cc0d7df5e34771883f4efd6c2b73e7": {
          "model_module": "@jupyter-widgets/controls",
          "model_name": "FloatSliderModel",
          "model_module_version": "1.5.0",
          "state": {
            "_dom_classes": [],
            "_model_module": "@jupyter-widgets/controls",
            "_model_module_version": "1.5.0",
            "_model_name": "FloatSliderModel",
            "_view_count": null,
            "_view_module": "@jupyter-widgets/controls",
            "_view_module_version": "1.5.0",
            "_view_name": "FloatSliderView",
            "continuous_update": true,
            "description": "lon",
            "description_tooltip": null,
            "disabled": false,
            "layout": "IPY_MODEL_47684a0a3c5c40769e3393adfa52d9ab",
            "max": -74.017,
            "min": -74.214,
            "orientation": "horizontal",
            "readout": true,
            "readout_format": ".2f",
            "step": 0.01,
            "style": "IPY_MODEL_ad0cb34af313469d95cc8c886dfdab58",
            "value": -74.06025364716433
          }
        },
        "38d73e8b41bb4d88ae2d61e6dd83475e": {
          "model_module": "@jupyter-widgets/controls",
          "model_name": "DropdownModel",
          "model_module_version": "1.5.0",
          "state": {
            "_dom_classes": [],
            "_model_module": "@jupyter-widgets/controls",
            "_model_module_version": "1.5.0",
            "_model_name": "DropdownModel",
            "_options_labels": [
              "",
              "Antonio Nariño",
              "Barrios Unidos",
              "Bosa",
              "Chapinero",
              "Ciudad Bolívar",
              "Engativa",
              "Fontibón",
              "Kennedy",
              "La Candelaria",
              "Los Mártires",
              "Puente Aranda",
              "Rafael Uribe Uribe",
              "San Cristobal",
              "Santa Fe",
              "Suba",
              "Teusaquillo",
              "Tunjuelito",
              "Usaquén",
              "Usme"
            ],
            "_view_count": null,
            "_view_module": "@jupyter-widgets/controls",
            "_view_module_version": "1.5.0",
            "_view_name": "DropdownView",
            "description": "neighborhood",
            "description_tooltip": null,
            "disabled": false,
            "index": 3,
            "layout": "IPY_MODEL_a70798c648fe4c65bcf9b437c3869292",
            "style": "IPY_MODEL_aa91664de53b417e8e976fa641895784"
          }
        },
        "e9056f2e1452439e8f76290ef855c57f": {
          "model_module": "@jupyter-widgets/output",
          "model_name": "OutputModel",
          "model_module_version": "1.0.0",
          "state": {
            "_dom_classes": [],
            "_model_module": "@jupyter-widgets/output",
            "_model_module_version": "1.0.0",
            "_model_name": "OutputModel",
            "_view_count": null,
            "_view_module": "@jupyter-widgets/output",
            "_view_module_version": "1.0.0",
            "_view_name": "OutputView",
            "layout": "IPY_MODEL_fd8dbf0acacc4b678f319ef085860e3d",
            "msg_id": "",
            "outputs": [
              {
                "output_type": "display_data",
                "data": {
                  "text/plain": "'Predicted apartment price: $43607.26'",
                  "application/vnd.google.colaboratory.intrinsic+json": {
                    "type": "string"
                  }
                },
                "metadata": {}
              }
            ]
          }
        },
        "088880fe11c0444cb8fcae1488252dcc": {
          "model_module": "@jupyter-widgets/base",
          "model_name": "LayoutModel",
          "model_module_version": "1.2.0",
          "state": {
            "_model_module": "@jupyter-widgets/base",
            "_model_module_version": "1.2.0",
            "_model_name": "LayoutModel",
            "_view_count": null,
            "_view_module": "@jupyter-widgets/base",
            "_view_module_version": "1.2.0",
            "_view_name": "LayoutView",
            "align_content": null,
            "align_items": null,
            "align_self": null,
            "border": null,
            "bottom": null,
            "display": null,
            "flex": null,
            "flex_flow": null,
            "grid_area": null,
            "grid_auto_columns": null,
            "grid_auto_flow": null,
            "grid_auto_rows": null,
            "grid_column": null,
            "grid_gap": null,
            "grid_row": null,
            "grid_template_areas": null,
            "grid_template_columns": null,
            "grid_template_rows": null,
            "height": null,
            "justify_content": null,
            "justify_items": null,
            "left": null,
            "margin": null,
            "max_height": null,
            "max_width": null,
            "min_height": null,
            "min_width": null,
            "object_fit": null,
            "object_position": null,
            "order": null,
            "overflow": null,
            "overflow_x": null,
            "overflow_y": null,
            "padding": null,
            "right": null,
            "top": null,
            "visibility": null,
            "width": null
          }
        },
        "008787206d9e40ba81ef82f565560bc9": {
          "model_module": "@jupyter-widgets/base",
          "model_name": "LayoutModel",
          "model_module_version": "1.2.0",
          "state": {
            "_model_module": "@jupyter-widgets/base",
            "_model_module_version": "1.2.0",
            "_model_name": "LayoutModel",
            "_view_count": null,
            "_view_module": "@jupyter-widgets/base",
            "_view_module_version": "1.2.0",
            "_view_name": "LayoutView",
            "align_content": null,
            "align_items": null,
            "align_self": null,
            "border": null,
            "bottom": null,
            "display": null,
            "flex": null,
            "flex_flow": null,
            "grid_area": null,
            "grid_auto_columns": null,
            "grid_auto_flow": null,
            "grid_auto_rows": null,
            "grid_column": null,
            "grid_gap": null,
            "grid_row": null,
            "grid_template_areas": null,
            "grid_template_columns": null,
            "grid_template_rows": null,
            "height": null,
            "justify_content": null,
            "justify_items": null,
            "left": null,
            "margin": null,
            "max_height": null,
            "max_width": null,
            "min_height": null,
            "min_width": null,
            "object_fit": null,
            "object_position": null,
            "order": null,
            "overflow": null,
            "overflow_x": null,
            "overflow_y": null,
            "padding": null,
            "right": null,
            "top": null,
            "visibility": null,
            "width": null
          }
        },
        "a8563937c33542be814d63a6d9cd5618": {
          "model_module": "@jupyter-widgets/controls",
          "model_name": "SliderStyleModel",
          "model_module_version": "1.5.0",
          "state": {
            "_model_module": "@jupyter-widgets/controls",
            "_model_module_version": "1.5.0",
            "_model_name": "SliderStyleModel",
            "_view_count": null,
            "_view_module": "@jupyter-widgets/base",
            "_view_module_version": "1.2.0",
            "_view_name": "StyleView",
            "description_width": "",
            "handle_color": null
          }
        },
        "7772370174b642378e923a766fdb4b1b": {
          "model_module": "@jupyter-widgets/base",
          "model_name": "LayoutModel",
          "model_module_version": "1.2.0",
          "state": {
            "_model_module": "@jupyter-widgets/base",
            "_model_module_version": "1.2.0",
            "_model_name": "LayoutModel",
            "_view_count": null,
            "_view_module": "@jupyter-widgets/base",
            "_view_module_version": "1.2.0",
            "_view_name": "LayoutView",
            "align_content": null,
            "align_items": null,
            "align_self": null,
            "border": null,
            "bottom": null,
            "display": null,
            "flex": null,
            "flex_flow": null,
            "grid_area": null,
            "grid_auto_columns": null,
            "grid_auto_flow": null,
            "grid_auto_rows": null,
            "grid_column": null,
            "grid_gap": null,
            "grid_row": null,
            "grid_template_areas": null,
            "grid_template_columns": null,
            "grid_template_rows": null,
            "height": null,
            "justify_content": null,
            "justify_items": null,
            "left": null,
            "margin": null,
            "max_height": null,
            "max_width": null,
            "min_height": null,
            "min_width": null,
            "object_fit": null,
            "object_position": null,
            "order": null,
            "overflow": null,
            "overflow_x": null,
            "overflow_y": null,
            "padding": null,
            "right": null,
            "top": null,
            "visibility": null,
            "width": null
          }
        },
        "274a896d53e14d71896ec6d306cea650": {
          "model_module": "@jupyter-widgets/controls",
          "model_name": "SliderStyleModel",
          "model_module_version": "1.5.0",
          "state": {
            "_model_module": "@jupyter-widgets/controls",
            "_model_module_version": "1.5.0",
            "_model_name": "SliderStyleModel",
            "_view_count": null,
            "_view_module": "@jupyter-widgets/base",
            "_view_module_version": "1.2.0",
            "_view_name": "StyleView",
            "description_width": "",
            "handle_color": null
          }
        },
        "47684a0a3c5c40769e3393adfa52d9ab": {
          "model_module": "@jupyter-widgets/base",
          "model_name": "LayoutModel",
          "model_module_version": "1.2.0",
          "state": {
            "_model_module": "@jupyter-widgets/base",
            "_model_module_version": "1.2.0",
            "_model_name": "LayoutModel",
            "_view_count": null,
            "_view_module": "@jupyter-widgets/base",
            "_view_module_version": "1.2.0",
            "_view_name": "LayoutView",
            "align_content": null,
            "align_items": null,
            "align_self": null,
            "border": null,
            "bottom": null,
            "display": null,
            "flex": null,
            "flex_flow": null,
            "grid_area": null,
            "grid_auto_columns": null,
            "grid_auto_flow": null,
            "grid_auto_rows": null,
            "grid_column": null,
            "grid_gap": null,
            "grid_row": null,
            "grid_template_areas": null,
            "grid_template_columns": null,
            "grid_template_rows": null,
            "height": null,
            "justify_content": null,
            "justify_items": null,
            "left": null,
            "margin": null,
            "max_height": null,
            "max_width": null,
            "min_height": null,
            "min_width": null,
            "object_fit": null,
            "object_position": null,
            "order": null,
            "overflow": null,
            "overflow_x": null,
            "overflow_y": null,
            "padding": null,
            "right": null,
            "top": null,
            "visibility": null,
            "width": null
          }
        },
        "ad0cb34af313469d95cc8c886dfdab58": {
          "model_module": "@jupyter-widgets/controls",
          "model_name": "SliderStyleModel",
          "model_module_version": "1.5.0",
          "state": {
            "_model_module": "@jupyter-widgets/controls",
            "_model_module_version": "1.5.0",
            "_model_name": "SliderStyleModel",
            "_view_count": null,
            "_view_module": "@jupyter-widgets/base",
            "_view_module_version": "1.2.0",
            "_view_name": "StyleView",
            "description_width": "",
            "handle_color": null
          }
        },
        "a70798c648fe4c65bcf9b437c3869292": {
          "model_module": "@jupyter-widgets/base",
          "model_name": "LayoutModel",
          "model_module_version": "1.2.0",
          "state": {
            "_model_module": "@jupyter-widgets/base",
            "_model_module_version": "1.2.0",
            "_model_name": "LayoutModel",
            "_view_count": null,
            "_view_module": "@jupyter-widgets/base",
            "_view_module_version": "1.2.0",
            "_view_name": "LayoutView",
            "align_content": null,
            "align_items": null,
            "align_self": null,
            "border": null,
            "bottom": null,
            "display": null,
            "flex": null,
            "flex_flow": null,
            "grid_area": null,
            "grid_auto_columns": null,
            "grid_auto_flow": null,
            "grid_auto_rows": null,
            "grid_column": null,
            "grid_gap": null,
            "grid_row": null,
            "grid_template_areas": null,
            "grid_template_columns": null,
            "grid_template_rows": null,
            "height": null,
            "justify_content": null,
            "justify_items": null,
            "left": null,
            "margin": null,
            "max_height": null,
            "max_width": null,
            "min_height": null,
            "min_width": null,
            "object_fit": null,
            "object_position": null,
            "order": null,
            "overflow": null,
            "overflow_x": null,
            "overflow_y": null,
            "padding": null,
            "right": null,
            "top": null,
            "visibility": null,
            "width": null
          }
        },
        "aa91664de53b417e8e976fa641895784": {
          "model_module": "@jupyter-widgets/controls",
          "model_name": "DescriptionStyleModel",
          "model_module_version": "1.5.0",
          "state": {
            "_model_module": "@jupyter-widgets/controls",
            "_model_module_version": "1.5.0",
            "_model_name": "DescriptionStyleModel",
            "_view_count": null,
            "_view_module": "@jupyter-widgets/base",
            "_view_module_version": "1.2.0",
            "_view_name": "StyleView",
            "description_width": ""
          }
        },
        "fd8dbf0acacc4b678f319ef085860e3d": {
          "model_module": "@jupyter-widgets/base",
          "model_name": "LayoutModel",
          "model_module_version": "1.2.0",
          "state": {
            "_model_module": "@jupyter-widgets/base",
            "_model_module_version": "1.2.0",
            "_model_name": "LayoutModel",
            "_view_count": null,
            "_view_module": "@jupyter-widgets/base",
            "_view_module_version": "1.2.0",
            "_view_name": "LayoutView",
            "align_content": null,
            "align_items": null,
            "align_self": null,
            "border": null,
            "bottom": null,
            "display": null,
            "flex": null,
            "flex_flow": null,
            "grid_area": null,
            "grid_auto_columns": null,
            "grid_auto_flow": null,
            "grid_auto_rows": null,
            "grid_column": null,
            "grid_gap": null,
            "grid_row": null,
            "grid_template_areas": null,
            "grid_template_columns": null,
            "grid_template_rows": null,
            "height": null,
            "justify_content": null,
            "justify_items": null,
            "left": null,
            "margin": null,
            "max_height": null,
            "max_width": null,
            "min_height": null,
            "min_width": null,
            "object_fit": null,
            "object_position": null,
            "order": null,
            "overflow": null,
            "overflow_x": null,
            "overflow_y": null,
            "padding": null,
            "right": null,
            "top": null,
            "visibility": null,
            "width": null
          }
        }
      }
    }
  },
  "cells": [
    {
      "cell_type": "markdown",
      "metadata": {
        "id": "view-in-github",
        "colab_type": "text"
      },
      "source": [
        "<a href=\"https://colab.research.google.com/github/SawsanYusuf/Housing-in-Colombia/blob/main/4_Price_with_everything.ipynb\" target=\"_parent\"><img src=\"https://colab.research.google.com/assets/colab-badge.svg\" alt=\"Open In Colab\"/></a>"
      ]
    },
    {
      "cell_type": "markdown",
      "source": [
        "<font size=\"+3\"><strong>Predicting Price with Everything</strong></font>"
      ],
      "metadata": {
        "id": "h9db8_TFHnMn"
      }
    },
    {
      "cell_type": "code",
      "source": [
        "import warnings\n",
        "from glob import glob\n",
        "\n",
        "import pandas as pd\n",
        "import seaborn as sns\n",
        "from category_encoders import OneHotEncoder\n",
        "from ipywidgets import Dropdown, FloatSlider, IntSlider, interact\n",
        "from sklearn.impute import SimpleImputer\n",
        "from sklearn.linear_model import LinearRegression, Ridge\n",
        "from sklearn.metrics import mean_absolute_error\n",
        "from sklearn.pipeline import make_pipeline\n",
        "\n",
        "warnings.simplefilter(action=\"ignore\", category=FutureWarning)"
      ],
      "metadata": {
        "id": "wShmSI8ypx3Z"
      },
      "execution_count": null,
      "outputs": []
    },
    {
      "cell_type": "markdown",
      "source": [
        "# Prepare Data"
      ],
      "metadata": {
        "id": "0rEgtY-CYu4s"
      }
    },
    {
      "cell_type": "markdown",
      "source": [
        "# Import"
      ],
      "metadata": {
        "id": "6yJaS54XYxds"
      }
    },
    {
      "cell_type": "code",
      "execution_count": null,
      "metadata": {
        "id": "25mr8ALSowp6"
      },
      "outputs": [],
      "source": [
        "def wrangle(filepath):\n",
        "    #import_csv\n",
        "    df = pd.read_csv(filepath,index_col=[0])\n",
        "\n",
        "    #subset to propertes in '\"Capital Federal\"'\n",
        "    mask_ba= df[\"place_with_parent_names\"].str.contains(\"Bogotá D.C\")\n",
        "\n",
        "    #subset for  '\"apartment\"'\n",
        "    mask_apt=df[\"property_type\"] == \"house\"\n",
        "\n",
        "    #subset where '\"price_aprox_usd\"' < 400,000\n",
        "    mask_price= df[\"price_aprox_usd\"] < 400_000\n",
        "\n",
        "    df= df[mask_ba & mask_apt & mask_price]\n",
        "\n",
        "    #Remove the outliers by '\"surface_covered_in_m2\"'\n",
        "    low, high= df[\"surface_covered_in_m2\"].quantile([0.1,0.9])\n",
        "    mask_area =df[\"surface_covered_in_m2\"].between(low, high)\n",
        "    df=df[mask_area]\n",
        "\n",
        "    #split the '\"lat-lon\"'\n",
        "    df[[\"lat\" ,\"lon\"]]= df[\"lat-lon\"].str.split(\",\", expand= True).astype(float)\n",
        "    df.drop(columns=\"lat-lon\", inplace = True)\n",
        "\n",
        "    #Extract neighborhood\n",
        "    df[\"neighborhood\"]= df[\"place_with_parent_names\"].str.split(\"|\",expand=True)[3]\n",
        "    df.drop(columns=\"place_with_parent_names\", inplace= True)\n",
        "\n",
        "    return df"
      ]
    },
    {
      "cell_type": "markdown",
      "source": [
        "Let’s begin by loading all our CSV files into a DataFrame"
      ],
      "metadata": {
        "id": "OUskxVWuTbHe"
      }
    },
    {
      "cell_type": "code",
      "source": [
        "files = glob(\"/content/colombia-real-estate-*.csv\")\n",
        "files"
      ],
      "metadata": {
        "colab": {
          "base_uri": "https://localhost:8080/"
        },
        "id": "WYvSv0CNpYR5",
        "outputId": "2fccfb65-4137-40cb-db37-aff448b596f6"
      },
      "execution_count": null,
      "outputs": [
        {
          "output_type": "execute_result",
          "data": {
            "text/plain": [
              "['/content/colombia-real-estate-4.csv',\n",
              " '/content/colombia-real-estate-3.csv',\n",
              " '/content/colombia-real-estate-2.csv',\n",
              " '/content/colombia-real-estate-5.csv',\n",
              " '/content/colombia-real-estate-1.csv']"
            ]
          },
          "metadata": {},
          "execution_count": 4
        }
      ]
    },
    {
      "cell_type": "markdown",
      "source": [
        "We need to put all our DataFrames into a list. To achieve this, we’re going to\n",
        "use a more compact coding technique called a **list comprehension**."
      ],
      "metadata": {
        "id": "xKC4_5V4Tr5w"
      }
    },
    {
      "cell_type": "code",
      "source": [
        "frames = [wrangle(file) for file in files]"
      ],
      "metadata": {
        "id": "jz8cE8ulpMsX"
      },
      "execution_count": null,
      "outputs": []
    },
    {
      "cell_type": "markdown",
      "source": [
        "Last step: Combine the DataFrames in frames into a single df."
      ],
      "metadata": {
        "id": "ond1XM_AVyjJ"
      }
    },
    {
      "cell_type": "code",
      "source": [
        "df = pd.concat(frames, ignore_index= True)\n",
        "print(df.info())\n",
        "df.head()"
      ],
      "metadata": {
        "colab": {
          "base_uri": "https://localhost:8080/",
          "height": 791
        },
        "id": "h-7w5921qFQs",
        "outputId": "fc8259f1-6b12-43cc-839e-c086dd3f3664"
      },
      "execution_count": null,
      "outputs": [
        {
          "output_type": "stream",
          "name": "stdout",
          "text": [
            "<class 'pandas.core.frame.DataFrame'>\n",
            "RangeIndex: 4126 entries, 0 to 4125\n",
            "Data columns (total 17 columns):\n",
            " #   Column                      Non-Null Count  Dtype  \n",
            "---  ------                      --------------  -----  \n",
            " 0   operation                   4126 non-null   object \n",
            " 1   property_type               4126 non-null   object \n",
            " 2   price                       4126 non-null   float64\n",
            " 3   currency                    4126 non-null   object \n",
            " 4   price_aprox_local_currency  4126 non-null   float64\n",
            " 5   price_aprox_usd             4126 non-null   float64\n",
            " 6   surface_total_in_m2         1688 non-null   float64\n",
            " 7   surface_covered_in_m2       4126 non-null   float64\n",
            " 8   price_usd_per_m2            1688 non-null   float64\n",
            " 9   price_per_m2                4126 non-null   float64\n",
            " 10  floor                       2704 non-null   float64\n",
            " 11  rooms                       3352 non-null   float64\n",
            " 12  expenses                    1 non-null      float64\n",
            " 13  properati_url               4126 non-null   object \n",
            " 14  lat                         4126 non-null   float64\n",
            " 15  lon                         4126 non-null   float64\n",
            " 16  neighborhood                4126 non-null   object \n",
            "dtypes: float64(12), object(5)\n",
            "memory usage: 548.1+ KB\n",
            "None\n"
          ]
        },
        {
          "output_type": "execute_result",
          "data": {
            "text/plain": [
              "  operation property_type       price currency  price_aprox_local_currency  \\\n",
              "0      rent         house   5000000.0      COP                  5039118.44   \n",
              "1      rent         house  45000000.0      COP                 45352185.42   \n",
              "2      rent         house   7500000.0      COP                  7558677.67   \n",
              "3      rent         house   8000000.0      COP                  8062601.45   \n",
              "4      rent         house   5000000.0      COP                  5039118.44   \n",
              "\n",
              "   price_aprox_usd  surface_total_in_m2  surface_covered_in_m2  \\\n",
              "0          1688.26                  NaN                  150.0   \n",
              "1         15194.38                  NaN                  350.0   \n",
              "2          2532.39                  NaN                  143.0   \n",
              "3          2701.22                  NaN                  258.0   \n",
              "4          1688.26                  NaN                   87.0   \n",
              "\n",
              "   price_usd_per_m2   price_per_m2  floor  rooms  expenses  \\\n",
              "0               NaN   33333.333333    NaN    2.0       NaN   \n",
              "1               NaN  128571.428571    NaN    NaN       NaN   \n",
              "2               NaN   52447.552448    NaN    3.0       NaN   \n",
              "3               NaN   31007.751938    1.0    3.0       NaN   \n",
              "4               NaN   57471.264368    1.0    2.0       NaN   \n",
              "\n",
              "                                       properati_url    lat     lon  \\\n",
              "0  http://chapinero-bogota-d-c.properati.com.co/j...  4.635 -74.062   \n",
              "1  http://engativa-bogota-d-c.properati.com.co/jm...  4.696 -74.094   \n",
              "2  http://usaquen-bogota-d-c.properati.com.co/jm4...  4.667 -74.050   \n",
              "3  http://chapinero-bogota-d-c.properati.com.co/j...  4.677 -74.045   \n",
              "4  http://chapinero-bogota-d-c.properati.com.co/j...  4.677 -74.045   \n",
              "\n",
              "  neighborhood  \n",
              "0    Chapinero  \n",
              "1     Engativa  \n",
              "2      Usaquén  \n",
              "3    Chapinero  \n",
              "4    Chapinero  "
            ],
            "text/html": [
              "\n",
              "\n",
              "  <div id=\"df-0c1e6c29-d04d-41ce-983c-96795e9fe7f2\">\n",
              "    <div class=\"colab-df-container\">\n",
              "      <div>\n",
              "<style scoped>\n",
              "    .dataframe tbody tr th:only-of-type {\n",
              "        vertical-align: middle;\n",
              "    }\n",
              "\n",
              "    .dataframe tbody tr th {\n",
              "        vertical-align: top;\n",
              "    }\n",
              "\n",
              "    .dataframe thead th {\n",
              "        text-align: right;\n",
              "    }\n",
              "</style>\n",
              "<table border=\"1\" class=\"dataframe\">\n",
              "  <thead>\n",
              "    <tr style=\"text-align: right;\">\n",
              "      <th></th>\n",
              "      <th>operation</th>\n",
              "      <th>property_type</th>\n",
              "      <th>price</th>\n",
              "      <th>currency</th>\n",
              "      <th>price_aprox_local_currency</th>\n",
              "      <th>price_aprox_usd</th>\n",
              "      <th>surface_total_in_m2</th>\n",
              "      <th>surface_covered_in_m2</th>\n",
              "      <th>price_usd_per_m2</th>\n",
              "      <th>price_per_m2</th>\n",
              "      <th>floor</th>\n",
              "      <th>rooms</th>\n",
              "      <th>expenses</th>\n",
              "      <th>properati_url</th>\n",
              "      <th>lat</th>\n",
              "      <th>lon</th>\n",
              "      <th>neighborhood</th>\n",
              "    </tr>\n",
              "  </thead>\n",
              "  <tbody>\n",
              "    <tr>\n",
              "      <th>0</th>\n",
              "      <td>rent</td>\n",
              "      <td>house</td>\n",
              "      <td>5000000.0</td>\n",
              "      <td>COP</td>\n",
              "      <td>5039118.44</td>\n",
              "      <td>1688.26</td>\n",
              "      <td>NaN</td>\n",
              "      <td>150.0</td>\n",
              "      <td>NaN</td>\n",
              "      <td>33333.333333</td>\n",
              "      <td>NaN</td>\n",
              "      <td>2.0</td>\n",
              "      <td>NaN</td>\n",
              "      <td>http://chapinero-bogota-d-c.properati.com.co/j...</td>\n",
              "      <td>4.635</td>\n",
              "      <td>-74.062</td>\n",
              "      <td>Chapinero</td>\n",
              "    </tr>\n",
              "    <tr>\n",
              "      <th>1</th>\n",
              "      <td>rent</td>\n",
              "      <td>house</td>\n",
              "      <td>45000000.0</td>\n",
              "      <td>COP</td>\n",
              "      <td>45352185.42</td>\n",
              "      <td>15194.38</td>\n",
              "      <td>NaN</td>\n",
              "      <td>350.0</td>\n",
              "      <td>NaN</td>\n",
              "      <td>128571.428571</td>\n",
              "      <td>NaN</td>\n",
              "      <td>NaN</td>\n",
              "      <td>NaN</td>\n",
              "      <td>http://engativa-bogota-d-c.properati.com.co/jm...</td>\n",
              "      <td>4.696</td>\n",
              "      <td>-74.094</td>\n",
              "      <td>Engativa</td>\n",
              "    </tr>\n",
              "    <tr>\n",
              "      <th>2</th>\n",
              "      <td>rent</td>\n",
              "      <td>house</td>\n",
              "      <td>7500000.0</td>\n",
              "      <td>COP</td>\n",
              "      <td>7558677.67</td>\n",
              "      <td>2532.39</td>\n",
              "      <td>NaN</td>\n",
              "      <td>143.0</td>\n",
              "      <td>NaN</td>\n",
              "      <td>52447.552448</td>\n",
              "      <td>NaN</td>\n",
              "      <td>3.0</td>\n",
              "      <td>NaN</td>\n",
              "      <td>http://usaquen-bogota-d-c.properati.com.co/jm4...</td>\n",
              "      <td>4.667</td>\n",
              "      <td>-74.050</td>\n",
              "      <td>Usaquén</td>\n",
              "    </tr>\n",
              "    <tr>\n",
              "      <th>3</th>\n",
              "      <td>rent</td>\n",
              "      <td>house</td>\n",
              "      <td>8000000.0</td>\n",
              "      <td>COP</td>\n",
              "      <td>8062601.45</td>\n",
              "      <td>2701.22</td>\n",
              "      <td>NaN</td>\n",
              "      <td>258.0</td>\n",
              "      <td>NaN</td>\n",
              "      <td>31007.751938</td>\n",
              "      <td>1.0</td>\n",
              "      <td>3.0</td>\n",
              "      <td>NaN</td>\n",
              "      <td>http://chapinero-bogota-d-c.properati.com.co/j...</td>\n",
              "      <td>4.677</td>\n",
              "      <td>-74.045</td>\n",
              "      <td>Chapinero</td>\n",
              "    </tr>\n",
              "    <tr>\n",
              "      <th>4</th>\n",
              "      <td>rent</td>\n",
              "      <td>house</td>\n",
              "      <td>5000000.0</td>\n",
              "      <td>COP</td>\n",
              "      <td>5039118.44</td>\n",
              "      <td>1688.26</td>\n",
              "      <td>NaN</td>\n",
              "      <td>87.0</td>\n",
              "      <td>NaN</td>\n",
              "      <td>57471.264368</td>\n",
              "      <td>1.0</td>\n",
              "      <td>2.0</td>\n",
              "      <td>NaN</td>\n",
              "      <td>http://chapinero-bogota-d-c.properati.com.co/j...</td>\n",
              "      <td>4.677</td>\n",
              "      <td>-74.045</td>\n",
              "      <td>Chapinero</td>\n",
              "    </tr>\n",
              "  </tbody>\n",
              "</table>\n",
              "</div>\n",
              "      <button class=\"colab-df-convert\" onclick=\"convertToInteractive('df-0c1e6c29-d04d-41ce-983c-96795e9fe7f2')\"\n",
              "              title=\"Convert this dataframe to an interactive table.\"\n",
              "              style=\"display:none;\">\n",
              "\n",
              "  <svg xmlns=\"http://www.w3.org/2000/svg\" height=\"24px\"viewBox=\"0 0 24 24\"\n",
              "       width=\"24px\">\n",
              "    <path d=\"M0 0h24v24H0V0z\" fill=\"none\"/>\n",
              "    <path d=\"M18.56 5.44l.94 2.06.94-2.06 2.06-.94-2.06-.94-.94-2.06-.94 2.06-2.06.94zm-11 1L8.5 8.5l.94-2.06 2.06-.94-2.06-.94L8.5 2.5l-.94 2.06-2.06.94zm10 10l.94 2.06.94-2.06 2.06-.94-2.06-.94-.94-2.06-.94 2.06-2.06.94z\"/><path d=\"M17.41 7.96l-1.37-1.37c-.4-.4-.92-.59-1.43-.59-.52 0-1.04.2-1.43.59L10.3 9.45l-7.72 7.72c-.78.78-.78 2.05 0 2.83L4 21.41c.39.39.9.59 1.41.59.51 0 1.02-.2 1.41-.59l7.78-7.78 2.81-2.81c.8-.78.8-2.07 0-2.86zM5.41 20L4 18.59l7.72-7.72 1.47 1.35L5.41 20z\"/>\n",
              "  </svg>\n",
              "      </button>\n",
              "\n",
              "\n",
              "\n",
              "    <div id=\"df-73b5ba9f-fd15-4065-a9f5-986be744cf44\">\n",
              "      <button class=\"colab-df-quickchart\" onclick=\"quickchart('df-73b5ba9f-fd15-4065-a9f5-986be744cf44')\"\n",
              "              title=\"Suggest charts.\"\n",
              "              style=\"display:none;\">\n",
              "\n",
              "<svg xmlns=\"http://www.w3.org/2000/svg\" height=\"24px\"viewBox=\"0 0 24 24\"\n",
              "     width=\"24px\">\n",
              "    <g>\n",
              "        <path d=\"M19 3H5c-1.1 0-2 .9-2 2v14c0 1.1.9 2 2 2h14c1.1 0 2-.9 2-2V5c0-1.1-.9-2-2-2zM9 17H7v-7h2v7zm4 0h-2V7h2v10zm4 0h-2v-4h2v4z\"/>\n",
              "    </g>\n",
              "</svg>\n",
              "      </button>\n",
              "    </div>\n",
              "\n",
              "<style>\n",
              "  .colab-df-quickchart {\n",
              "    background-color: #E8F0FE;\n",
              "    border: none;\n",
              "    border-radius: 50%;\n",
              "    cursor: pointer;\n",
              "    display: none;\n",
              "    fill: #1967D2;\n",
              "    height: 32px;\n",
              "    padding: 0 0 0 0;\n",
              "    width: 32px;\n",
              "  }\n",
              "\n",
              "  .colab-df-quickchart:hover {\n",
              "    background-color: #E2EBFA;\n",
              "    box-shadow: 0px 1px 2px rgba(60, 64, 67, 0.3), 0px 1px 3px 1px rgba(60, 64, 67, 0.15);\n",
              "    fill: #174EA6;\n",
              "  }\n",
              "\n",
              "  [theme=dark] .colab-df-quickchart {\n",
              "    background-color: #3B4455;\n",
              "    fill: #D2E3FC;\n",
              "  }\n",
              "\n",
              "  [theme=dark] .colab-df-quickchart:hover {\n",
              "    background-color: #434B5C;\n",
              "    box-shadow: 0px 1px 3px 1px rgba(0, 0, 0, 0.15);\n",
              "    filter: drop-shadow(0px 1px 2px rgba(0, 0, 0, 0.3));\n",
              "    fill: #FFFFFF;\n",
              "  }\n",
              "</style>\n",
              "\n",
              "    <script>\n",
              "      async function quickchart(key) {\n",
              "        const containerElement = document.querySelector('#' + key);\n",
              "        const charts = await google.colab.kernel.invokeFunction(\n",
              "            'suggestCharts', [key], {});\n",
              "      }\n",
              "    </script>\n",
              "\n",
              "      <script>\n",
              "\n",
              "function displayQuickchartButton(domScope) {\n",
              "  let quickchartButtonEl =\n",
              "    domScope.querySelector('#df-73b5ba9f-fd15-4065-a9f5-986be744cf44 button.colab-df-quickchart');\n",
              "  quickchartButtonEl.style.display =\n",
              "    google.colab.kernel.accessAllowed ? 'block' : 'none';\n",
              "}\n",
              "\n",
              "        displayQuickchartButton(document);\n",
              "      </script>\n",
              "      <style>\n",
              "    .colab-df-container {\n",
              "      display:flex;\n",
              "      flex-wrap:wrap;\n",
              "      gap: 12px;\n",
              "    }\n",
              "\n",
              "    .colab-df-convert {\n",
              "      background-color: #E8F0FE;\n",
              "      border: none;\n",
              "      border-radius: 50%;\n",
              "      cursor: pointer;\n",
              "      display: none;\n",
              "      fill: #1967D2;\n",
              "      height: 32px;\n",
              "      padding: 0 0 0 0;\n",
              "      width: 32px;\n",
              "    }\n",
              "\n",
              "    .colab-df-convert:hover {\n",
              "      background-color: #E2EBFA;\n",
              "      box-shadow: 0px 1px 2px rgba(60, 64, 67, 0.3), 0px 1px 3px 1px rgba(60, 64, 67, 0.15);\n",
              "      fill: #174EA6;\n",
              "    }\n",
              "\n",
              "    [theme=dark] .colab-df-convert {\n",
              "      background-color: #3B4455;\n",
              "      fill: #D2E3FC;\n",
              "    }\n",
              "\n",
              "    [theme=dark] .colab-df-convert:hover {\n",
              "      background-color: #434B5C;\n",
              "      box-shadow: 0px 1px 3px 1px rgba(0, 0, 0, 0.15);\n",
              "      filter: drop-shadow(0px 1px 2px rgba(0, 0, 0, 0.3));\n",
              "      fill: #FFFFFF;\n",
              "    }\n",
              "  </style>\n",
              "\n",
              "      <script>\n",
              "        const buttonEl =\n",
              "          document.querySelector('#df-0c1e6c29-d04d-41ce-983c-96795e9fe7f2 button.colab-df-convert');\n",
              "        buttonEl.style.display =\n",
              "          google.colab.kernel.accessAllowed ? 'block' : 'none';\n",
              "\n",
              "        async function convertToInteractive(key) {\n",
              "          const element = document.querySelector('#df-0c1e6c29-d04d-41ce-983c-96795e9fe7f2');\n",
              "          const dataTable =\n",
              "            await google.colab.kernel.invokeFunction('convertToInteractive',\n",
              "                                                     [key], {});\n",
              "          if (!dataTable) return;\n",
              "\n",
              "          const docLinkHtml = 'Like what you see? Visit the ' +\n",
              "            '<a target=\"_blank\" href=https://colab.research.google.com/notebooks/data_table.ipynb>data table notebook</a>'\n",
              "            + ' to learn more about interactive tables.';\n",
              "          element.innerHTML = '';\n",
              "          dataTable['output_type'] = 'display_data';\n",
              "          await google.colab.output.renderOutput(dataTable, element);\n",
              "          const docLink = document.createElement('div');\n",
              "          docLink.innerHTML = docLinkHtml;\n",
              "          element.appendChild(docLink);\n",
              "        }\n",
              "      </script>\n",
              "    </div>\n",
              "  </div>\n"
            ]
          },
          "metadata": {},
          "execution_count": 6
        }
      ]
    },
    {
      "cell_type": "markdown",
      "source": [
        "## Explore"
      ],
      "metadata": {
        "id": "u0iuvcZbWCnY"
      }
    },
    {
      "cell_type": "markdown",
      "source": [
        "The first thing we need to consider when trying to use all the features df is **missing values**. A general rule is that, if more than half of the data in a column is missing, it’s better to drop it then try imputing."
      ],
      "metadata": {
        "id": "uB596NhrWFde"
      }
    },
    {
      "cell_type": "code",
      "source": [
        "# Check null values\n",
        "df.isnull().sum() / len(df)"
      ],
      "metadata": {
        "colab": {
          "base_uri": "https://localhost:8080/"
        },
        "id": "Oj9F4X1ztJpR",
        "outputId": "d226d6f1-1ff8-4ac0-a42a-45f51a101049"
      },
      "execution_count": null,
      "outputs": [
        {
          "output_type": "execute_result",
          "data": {
            "text/plain": [
              "operation                     0.000000\n",
              "property_type                 0.000000\n",
              "price                         0.000000\n",
              "currency                      0.000000\n",
              "price_aprox_local_currency    0.000000\n",
              "price_aprox_usd               0.000000\n",
              "surface_total_in_m2           0.590887\n",
              "surface_covered_in_m2         0.000000\n",
              "price_usd_per_m2              0.590887\n",
              "price_per_m2                  0.000000\n",
              "floor                         0.344644\n",
              "rooms                         0.187591\n",
              "expenses                      0.999758\n",
              "properati_url                 0.000000\n",
              "lat                           0.000000\n",
              "lon                           0.000000\n",
              "neighborhood                  0.000000\n",
              "dtype: float64"
            ]
          },
          "metadata": {},
          "execution_count": 7
        }
      ]
    },
    {
      "cell_type": "markdown",
      "source": [
        "We need to modify our wrangle function to drop any columns that are more than half NaN\n",
        "values."
      ],
      "metadata": {
        "id": "gFY7zuENWZPM"
      }
    },
    {
      "cell_type": "code",
      "source": [
        "# Drop features with high null counts\n",
        "df.drop(columns = [\"floor\",\"expenses\"], inplace= True)"
      ],
      "metadata": {
        "id": "HrLGbLFQWleZ"
      },
      "execution_count": null,
      "outputs": []
    },
    {
      "cell_type": "markdown",
      "source": [
        "The next thing we need to look out for are categorical columns with low or high **cardinality**. If\n",
        "there’s only one category in a column, it won’t provide any unique information to our model. At\n",
        "the other extreme, columns where nearly every row has its own category won’t help our model in\n",
        "identifying useful trends in the data.\n",
        "Let’s take a look at the cardinality of our features."
      ],
      "metadata": {
        "id": "1E7wHtKuWtJb"
      }
    },
    {
      "cell_type": "code",
      "source": [
        "df.select_dtypes(\"object\").nunique()"
      ],
      "metadata": {
        "colab": {
          "base_uri": "https://localhost:8080/"
        },
        "id": "E_ALw8ohtiRh",
        "outputId": "6ad6ec3e-e15e-483b-9e62-dcb291b7f92a"
      },
      "execution_count": null,
      "outputs": [
        {
          "output_type": "execute_result",
          "data": {
            "text/plain": [
              "operation           2\n",
              "property_type       1\n",
              "currency            1\n",
              "properati_url    4126\n",
              "neighborhood       20\n",
              "dtype: int64"
            ]
          },
          "metadata": {},
          "execution_count": 9
        }
      ]
    },
    {
      "cell_type": "markdown",
      "source": [
        "Here, we can see that columns like `\"operation\"` have tow value in them, while every row\n",
        "in `\"properati_url\"` has a unique value. These are clear examples of high- and low-cardinality\n",
        "features that we shouldn’t include in our model."
      ],
      "metadata": {
        "id": "sKQXMnbGW5pi"
      }
    },
    {
      "cell_type": "markdown",
      "source": [
        "We must modifying our wrangle function to drop these high- and low-cardinality categorical features."
      ],
      "metadata": {
        "id": "17gH9kVzXP_6"
      }
    },
    {
      "cell_type": "code",
      "source": [
        "#Drop low and high cardinality categorical variables\n",
        "df.drop(columns= [\"operation\", \"property_type\", \"currency\",\"properati_url\"], inplace=True)"
      ],
      "metadata": {
        "id": "hs35MVssXJ_F"
      },
      "execution_count": null,
      "outputs": []
    },
    {
      "cell_type": "markdown",
      "source": [
        "It’s also important for us to drop any columns that would constitute **leakage**, that is, features that\n",
        "were created using our target or that would give our model information that it won’t have access\n",
        "to when it’s deployed"
      ],
      "metadata": {
        "id": "YQblr0lqXcgb"
      }
    },
    {
      "cell_type": "code",
      "source": [
        "#Drop Leakey columns\n",
        "df.drop(columns= [\n",
        "                  \"price\",\n",
        "                  \"price_aprox_local_currency\",\n",
        "                  \"price_per_m2\",\n",
        "                  \"price_usd_per_m2\"\n",
        "                 ],\n",
        "  inplace= True)"
      ],
      "metadata": {
        "id": "TKNNeI3aXiOD"
      },
      "execution_count": null,
      "outputs": []
    },
    {
      "cell_type": "markdown",
      "source": [
        "Finally, the last issue we need to keep an eye out for is **multicollinearity**, that is, features in our\n",
        "feature matrix that are highly correlated with each other. A good way to detect this is to use a\n",
        "heatmap."
      ],
      "metadata": {
        "id": "NAi-AeiMXthg"
      }
    },
    {
      "cell_type": "markdown",
      "source": [
        "Let's plot a correlation heatmap of the remaining numerical features in df. Since\n",
        "`\"price_aprox_usd\"` will be our target, we don’t need to include it in our **heatmap**."
      ],
      "metadata": {
        "id": "YJltLscqX1ZO"
      }
    },
    {
      "cell_type": "code",
      "source": [
        "corr = df.select_dtypes(\"number\").drop(columns= \"price_aprox_usd\").corr()\n",
        "sns.heatmap(corr);"
      ],
      "metadata": {
        "colab": {
          "base_uri": "https://localhost:8080/",
          "height": 277
        },
        "id": "tdsXhfKmvR67",
        "outputId": "206f05bf-33c7-4bec-cb0f-98c8885ef44a"
      },
      "execution_count": null,
      "outputs": [
        {
          "output_type": "display_data",
          "data": {
            "text/plain": [
              "<Figure size 640x480 with 2 Axes>"
            ],
            "image/png": "[encoded data removed]"
          },
          "metadata": {}
        }
      ]
    },
    {
      "cell_type": "markdown",
      "source": [
        "We will modify our wrangle function to remove columns so that there are no strongly correlated features in our feature matrix."
      ],
      "metadata": {
        "id": "kyniMH2uYCfa"
      }
    },
    {
      "cell_type": "code",
      "source": [
        "#Drop columns with multicollinearity\n",
        "df.drop(columns=[\"surface_total_in_m2\", \"rooms\"], inplace=True)"
      ],
      "metadata": {
        "id": "vlp-XQOxYOlW"
      },
      "execution_count": null,
      "outputs": []
    },
    {
      "cell_type": "markdown",
      "source": [
        "The final version of our wrangle function and DataFrame:"
      ],
      "metadata": {
        "id": "j4yMOEo_YQli"
      }
    },
    {
      "cell_type": "code",
      "source": [
        "def wrangle(filepath):\n",
        "    #import_csv\n",
        "    df = pd.read_csv(filepath,index_col=[0])\n",
        "\n",
        "    #subset to propertes in '\"Capital Federal\"'\n",
        "    mask_ba= df[\"place_with_parent_names\"].str.contains(\"Bogotá D.C\")\n",
        "\n",
        "    #subset for  '\"apartment\"'\n",
        "    mask_apt=df[\"property_type\"] == \"house\"\n",
        "\n",
        "    #subset where '\"price_aprox_usd\"' < 400,000\n",
        "    mask_price= df[\"price_aprox_usd\"] < 400_000\n",
        "\n",
        "    df= df[mask_ba & mask_apt & mask_price]\n",
        "\n",
        "    #Remove the outliers by '\"surface_covered_in_m2\"'\n",
        "    low, high= df[\"surface_covered_in_m2\"].quantile([0.1,0.9])\n",
        "    mask_area =df[\"surface_covered_in_m2\"].between(low, high)\n",
        "    df=df[mask_area]\n",
        "\n",
        "    #split the '\"lat-lon\"'\n",
        "    df[[\"lat\" ,\"lon\"]]= df[\"lat-lon\"].str.split(\",\", expand= True).astype(float)\n",
        "    df.drop(columns=\"lat-lon\", inplace = True)\n",
        "\n",
        "    #Extract neighborhood\n",
        "    df[\"neighborhood\"]= df[\"place_with_parent_names\"].str.split(\"|\",expand=True)[3]\n",
        "    df.drop(columns=\"place_with_parent_names\", inplace= True)\n",
        "\n",
        "    # Drop features with high null counts\n",
        "    df.drop(columns = [\"floor\",\"expenses\"], inplace= True)\n",
        "    #Drop low and high cardinality categorical variables\n",
        "    df.drop(columns= [\"operation\", \"property_type\", \"currency\",\"properati_url\"], inplace=True)\n",
        "    #Drop Leakey columns\n",
        "    df.drop(columns= [\n",
        "                      \"price\",\n",
        "                      \"price_aprox_local_currency\",\n",
        "                      \"price_per_m2\",\n",
        "                      \"price_usd_per_m2\"\n",
        "                    ],\n",
        "    inplace= True)\n",
        "    #Drop columns with multicollinearity\n",
        "    df.drop(columns=[\"surface_total_in_m2\", \"rooms\"], inplace=True)\n",
        "\n",
        "    return df"
      ],
      "metadata": {
        "id": "AsVylF0rYZgg"
      },
      "execution_count": null,
      "outputs": []
    },
    {
      "cell_type": "code",
      "source": [
        "files = glob(\"/content/colombia-real-estate-*.csv\")\n",
        "frames = [wrangle(file) for file in files]\n",
        "df = pd.concat(frames, ignore_index= True)\n",
        "print(df.info())\n",
        "df.head()"
      ],
      "metadata": {
        "colab": {
          "base_uri": "https://localhost:8080/",
          "height": 496
        },
        "id": "9qA2QC4oYk_G",
        "outputId": "3f8b1b49-17ea-4950-8b63-8c8f1ce5cb07"
      },
      "execution_count": null,
      "outputs": [
        {
          "output_type": "stream",
          "name": "stdout",
          "text": [
            "<class 'pandas.core.frame.DataFrame'>\n",
            "RangeIndex: 4126 entries, 0 to 4125\n",
            "Data columns (total 5 columns):\n",
            " #   Column                 Non-Null Count  Dtype  \n",
            "---  ------                 --------------  -----  \n",
            " 0   price_aprox_usd        4126 non-null   float64\n",
            " 1   surface_covered_in_m2  4126 non-null   float64\n",
            " 2   lat                    4126 non-null   float64\n",
            " 3   lon                    4126 non-null   float64\n",
            " 4   neighborhood           4126 non-null   object \n",
            "dtypes: float64(4), object(1)\n",
            "memory usage: 161.3+ KB\n",
            "None\n"
          ]
        },
        {
          "output_type": "execute_result",
          "data": {
            "text/plain": [
              "   price_aprox_usd  surface_covered_in_m2    lat     lon neighborhood\n",
              "0          1688.26                  150.0  4.635 -74.062    Chapinero\n",
              "1         15194.38                  350.0  4.696 -74.094     Engativa\n",
              "2          2532.39                  143.0  4.667 -74.050      Usaquén\n",
              "3          2701.22                  258.0  4.677 -74.045    Chapinero\n",
              "4          1688.26                   87.0  4.677 -74.045    Chapinero"
            ],
            "text/html": [
              "\n",
              "\n",
              "  <div id=\"df-3cc9fd18-17c2-4c4f-a1d4-3fd54ccd3ef5\">\n",
              "    <div class=\"colab-df-container\">\n",
              "      <div>\n",
              "<style scoped>\n",
              "    .dataframe tbody tr th:only-of-type {\n",
              "        vertical-align: middle;\n",
              "    }\n",
              "\n",
              "    .dataframe tbody tr th {\n",
              "        vertical-align: top;\n",
              "    }\n",
              "\n",
              "    .dataframe thead th {\n",
              "        text-align: right;\n",
              "    }\n",
              "</style>\n",
              "<table border=\"1\" class=\"dataframe\">\n",
              "  <thead>\n",
              "    <tr style=\"text-align: right;\">\n",
              "      <th></th>\n",
              "      <th>price_aprox_usd</th>\n",
              "      <th>surface_covered_in_m2</th>\n",
              "      <th>lat</th>\n",
              "      <th>lon</th>\n",
              "      <th>neighborhood</th>\n",
              "    </tr>\n",
              "  </thead>\n",
              "  <tbody>\n",
              "    <tr>\n",
              "      <th>0</th>\n",
              "      <td>1688.26</td>\n",
              "      <td>150.0</td>\n",
              "      <td>4.635</td>\n",
              "      <td>-74.062</td>\n",
              "      <td>Chapinero</td>\n",
              "    </tr>\n",
              "    <tr>\n",
              "      <th>1</th>\n",
              "      <td>15194.38</td>\n",
              "      <td>350.0</td>\n",
              "      <td>4.696</td>\n",
              "      <td>-74.094</td>\n",
              "      <td>Engativa</td>\n",
              "    </tr>\n",
              "    <tr>\n",
              "      <th>2</th>\n",
              "      <td>2532.39</td>\n",
              "      <td>143.0</td>\n",
              "      <td>4.667</td>\n",
              "      <td>-74.050</td>\n",
              "      <td>Usaquén</td>\n",
              "    </tr>\n",
              "    <tr>\n",
              "      <th>3</th>\n",
              "      <td>2701.22</td>\n",
              "      <td>258.0</td>\n",
              "      <td>4.677</td>\n",
              "      <td>-74.045</td>\n",
              "      <td>Chapinero</td>\n",
              "    </tr>\n",
              "    <tr>\n",
              "      <th>4</th>\n",
              "      <td>1688.26</td>\n",
              "      <td>87.0</td>\n",
              "      <td>4.677</td>\n",
              "      <td>-74.045</td>\n",
              "      <td>Chapinero</td>\n",
              "    </tr>\n",
              "  </tbody>\n",
              "</table>\n",
              "</div>\n",
              "      <button class=\"colab-df-convert\" onclick=\"convertToInteractive('df-3cc9fd18-17c2-4c4f-a1d4-3fd54ccd3ef5')\"\n",
              "              title=\"Convert this dataframe to an interactive table.\"\n",
              "              style=\"display:none;\">\n",
              "\n",
              "  <svg xmlns=\"http://www.w3.org/2000/svg\" height=\"24px\"viewBox=\"0 0 24 24\"\n",
              "       width=\"24px\">\n",
              "    <path d=\"M0 0h24v24H0V0z\" fill=\"none\"/>\n",
              "    <path d=\"M18.56 5.44l.94 2.06.94-2.06 2.06-.94-2.06-.94-.94-2.06-.94 2.06-2.06.94zm-11 1L8.5 8.5l.94-2.06 2.06-.94-2.06-.94L8.5 2.5l-.94 2.06-2.06.94zm10 10l.94 2.06.94-2.06 2.06-.94-2.06-.94-.94-2.06-.94 2.06-2.06.94z\"/><path d=\"M17.41 7.96l-1.37-1.37c-.4-.4-.92-.59-1.43-.59-.52 0-1.04.2-1.43.59L10.3 9.45l-7.72 7.72c-.78.78-.78 2.05 0 2.83L4 21.41c.39.39.9.59 1.41.59.51 0 1.02-.2 1.41-.59l7.78-7.78 2.81-2.81c.8-.78.8-2.07 0-2.86zM5.41 20L4 18.59l7.72-7.72 1.47 1.35L5.41 20z\"/>\n",
              "  </svg>\n",
              "      </button>\n",
              "\n",
              "\n",
              "\n",
              "    <div id=\"df-7e22c46d-efc8-4943-96ed-3379ed61eefa\">\n",
              "      <button class=\"colab-df-quickchart\" onclick=\"quickchart('df-7e22c46d-efc8-4943-96ed-3379ed61eefa')\"\n",
              "              title=\"Suggest charts.\"\n",
              "              style=\"display:none;\">\n",
              "\n",
              "<svg xmlns=\"http://www.w3.org/2000/svg\" height=\"24px\"viewBox=\"0 0 24 24\"\n",
              "     width=\"24px\">\n",
              "    <g>\n",
              "        <path d=\"M19 3H5c-1.1 0-2 .9-2 2v14c0 1.1.9 2 2 2h14c1.1 0 2-.9 2-2V5c0-1.1-.9-2-2-2zM9 17H7v-7h2v7zm4 0h-2V7h2v10zm4 0h-2v-4h2v4z\"/>\n",
              "    </g>\n",
              "</svg>\n",
              "      </button>\n",
              "    </div>\n",
              "\n",
              "<style>\n",
              "  .colab-df-quickchart {\n",
              "    background-color: #E8F0FE;\n",
              "    border: none;\n",
              "    border-radius: 50%;\n",
              "    cursor: pointer;\n",
              "    display: none;\n",
              "    fill: #1967D2;\n",
              "    height: 32px;\n",
              "    padding: 0 0 0 0;\n",
              "    width: 32px;\n",
              "  }\n",
              "\n",
              "  .colab-df-quickchart:hover {\n",
              "    background-color: #E2EBFA;\n",
              "    box-shadow: 0px 1px 2px rgba(60, 64, 67, 0.3), 0px 1px 3px 1px rgba(60, 64, 67, 0.15);\n",
              "    fill: #174EA6;\n",
              "  }\n",
              "\n",
              "  [theme=dark] .colab-df-quickchart {\n",
              "    background-color: #3B4455;\n",
              "    fill: #D2E3FC;\n",
              "  }\n",
              "\n",
              "  [theme=dark] .colab-df-quickchart:hover {\n",
              "    background-color: #434B5C;\n",
              "    box-shadow: 0px 1px 3px 1px rgba(0, 0, 0, 0.15);\n",
              "    filter: drop-shadow(0px 1px 2px rgba(0, 0, 0, 0.3));\n",
              "    fill: #FFFFFF;\n",
              "  }\n",
              "</style>\n",
              "\n",
              "    <script>\n",
              "      async function quickchart(key) {\n",
              "        const containerElement = document.querySelector('#' + key);\n",
              "        const charts = await google.colab.kernel.invokeFunction(\n",
              "            'suggestCharts', [key], {});\n",
              "      }\n",
              "    </script>\n",
              "\n",
              "      <script>\n",
              "\n",
              "function displayQuickchartButton(domScope) {\n",
              "  let quickchartButtonEl =\n",
              "    domScope.querySelector('#df-7e22c46d-efc8-4943-96ed-3379ed61eefa button.colab-df-quickchart');\n",
              "  quickchartButtonEl.style.display =\n",
              "    google.colab.kernel.accessAllowed ? 'block' : 'none';\n",
              "}\n",
              "\n",
              "        displayQuickchartButton(document);\n",
              "      </script>\n",
              "      <style>\n",
              "    .colab-df-container {\n",
              "      display:flex;\n",
              "      flex-wrap:wrap;\n",
              "      gap: 12px;\n",
              "    }\n",
              "\n",
              "    .colab-df-convert {\n",
              "      background-color: #E8F0FE;\n",
              "      border: none;\n",
              "      border-radius: 50%;\n",
              "      cursor: pointer;\n",
              "      display: none;\n",
              "      fill: #1967D2;\n",
              "      height: 32px;\n",
              "      padding: 0 0 0 0;\n",
              "      width: 32px;\n",
              "    }\n",
              "\n",
              "    .colab-df-convert:hover {\n",
              "      background-color: #E2EBFA;\n",
              "      box-shadow: 0px 1px 2px rgba(60, 64, 67, 0.3), 0px 1px 3px 1px rgba(60, 64, 67, 0.15);\n",
              "      fill: #174EA6;\n",
              "    }\n",
              "\n",
              "    [theme=dark] .colab-df-convert {\n",
              "      background-color: #3B4455;\n",
              "      fill: #D2E3FC;\n",
              "    }\n",
              "\n",
              "    [theme=dark] .colab-df-convert:hover {\n",
              "      background-color: #434B5C;\n",
              "      box-shadow: 0px 1px 3px 1px rgba(0, 0, 0, 0.15);\n",
              "      filter: drop-shadow(0px 1px 2px rgba(0, 0, 0, 0.3));\n",
              "      fill: #FFFFFF;\n",
              "    }\n",
              "  </style>\n",
              "\n",
              "      <script>\n",
              "        const buttonEl =\n",
              "          document.querySelector('#df-3cc9fd18-17c2-4c4f-a1d4-3fd54ccd3ef5 button.colab-df-convert');\n",
              "        buttonEl.style.display =\n",
              "          google.colab.kernel.accessAllowed ? 'block' : 'none';\n",
              "\n",
              "        async function convertToInteractive(key) {\n",
              "          const element = document.querySelector('#df-3cc9fd18-17c2-4c4f-a1d4-3fd54ccd3ef5');\n",
              "          const dataTable =\n",
              "            await google.colab.kernel.invokeFunction('convertToInteractive',\n",
              "                                                     [key], {});\n",
              "          if (!dataTable) return;\n",
              "\n",
              "          const docLinkHtml = 'Like what you see? Visit the ' +\n",
              "            '<a target=\"_blank\" href=https://colab.research.google.com/notebooks/data_table.ipynb>data table notebook</a>'\n",
              "            + ' to learn more about interactive tables.';\n",
              "          element.innerHTML = '';\n",
              "          dataTable['output_type'] = 'display_data';\n",
              "          await google.colab.output.renderOutput(dataTable, element);\n",
              "          const docLink = document.createElement('div');\n",
              "          docLink.innerHTML = docLinkHtml;\n",
              "          element.appendChild(docLink);\n",
              "        }\n",
              "      </script>\n",
              "    </div>\n",
              "  </div>\n"
            ]
          },
          "metadata": {},
          "execution_count": 17
        }
      ]
    },
    {
      "cell_type": "code",
      "source": [
        "corr = df.select_dtypes(\"number\").drop(columns= \"price_aprox_usd\").corr()\n",
        "sns.heatmap(corr);"
      ],
      "metadata": {
        "colab": {
          "base_uri": "https://localhost:8080/",
          "height": 273
        },
        "id": "afovYPBqb0AQ",
        "outputId": "fc52c442-6f0f-4cc7-8d11-808deee9e91f"
      },
      "execution_count": null,
      "outputs": [
        {
          "output_type": "display_data",
          "data": {
            "text/plain": [
              "<Figure size 640x480 with 2 Axes>"
            ],
            "image/png": "[encoded data removed]"
          },
          "metadata": {}
        }
      ]
    },
    {
      "cell_type": "markdown",
      "source": [
        "## Split"
      ],
      "metadata": {
        "id": "_5otSEL2YnKj"
      }
    },
    {
      "cell_type": "markdown",
      "source": [
        "Let's create our feature matrix `X_train` and target vector `y_train`. our target is\n",
        "`\"price_aprox_usd\"`. our features is all the columns that remain in the DataFrame we\n",
        "cleaned above."
      ],
      "metadata": {
        "id": "t00rbO3sY357"
      }
    },
    {
      "cell_type": "code",
      "source": [
        "target = \"price_aprox_usd\"\n",
        "features = [\"surface_covered_in_m2\", \"lat\", \"lon\", \"neighborhood\"]\n",
        "X_train= df[features]\n",
        "y_train = df[target]"
      ],
      "metadata": {
        "id": "1gWqGMhgqVqh"
      },
      "execution_count": null,
      "outputs": []
    },
    {
      "cell_type": "markdown",
      "source": [
        "# Build Model"
      ],
      "metadata": {
        "id": "SVMWbicSZErV"
      }
    },
    {
      "cell_type": "markdown",
      "source": [
        "## Baseline"
      ],
      "metadata": {
        "id": "XAKbTl9dZHGz"
      }
    },
    {
      "cell_type": "code",
      "source": [
        "y_mean= y_train.mean()\n",
        "y_pred_baseline =[y_mean] * len(y_train)\n",
        "print(\"Mean apt price:\", round(y_mean, 2))\n",
        "print(\"Baseline MAE:\", mean_absolute_error(y_train, y_pred_baseline))"
      ],
      "metadata": {
        "colab": {
          "base_uri": "https://localhost:8080/"
        },
        "id": "QKjmkyvbqU9P",
        "outputId": "951ca89d-a130-4131-eabb-2118f983a21d"
      },
      "execution_count": null,
      "outputs": [
        {
          "output_type": "stream",
          "name": "stdout",
          "text": [
            "Mean apt price: 66403.66\n",
            "Baseline MAE: 86347.16145862668\n"
          ]
        }
      ]
    },
    {
      "cell_type": "markdown",
      "source": [
        "## Iterate"
      ],
      "metadata": {
        "id": "vL5REC0_ZN8y"
      }
    },
    {
      "cell_type": "markdown",
      "source": [
        "Let's create a pipeline named `model` that contains a `OneHotEncoder`, `SimpleImputer`,\n",
        "and `Ridge` predictor."
      ],
      "metadata": {
        "id": "qwqfDu5BZQjT"
      }
    },
    {
      "cell_type": "code",
      "source": [
        "model = make_pipeline(\n",
        "           OneHotEncoder(use_cat_names=True),\n",
        "           SimpleImputer(),\n",
        "           Ridge()\n",
        ")\n",
        "model.fit(X_train, y_train)"
      ],
      "metadata": {
        "colab": {
          "base_uri": "https://localhost:8080/",
          "height": 159
        },
        "id": "Wq6o9R0oqjmn",
        "outputId": "d02f6f5a-e8f6-4729-bf55-e8a556385800"
      },
      "execution_count": null,
      "outputs": [
        {
          "output_type": "execute_result",
          "data": {
            "text/plain": [
              "Pipeline(steps=[('onehotencoder',\n",
              "                 OneHotEncoder(cols=['neighborhood'], use_cat_names=True)),\n",
              "                ('simpleimputer', SimpleImputer()), ('ridge', Ridge())])"
            ],
            "text/html": [
              "<style>#sk-container-id-1 {color: black;background-color: white;}#sk-container-id-1 pre{padding: 0;}#sk-container-id-1 div.sk-toggleable {background-color: white;}#sk-container-id-1 label.sk-toggleable__label {cursor: pointer;display: block;width: 100%;margin-bottom: 0;padding: 0.3em;box-sizing: border-box;text-align: center;}#sk-container-id-1 label.sk-toggleable__label-arrow:before {content: \"▸\";float: left;margin-right: 0.25em;color: #696969;}#sk-container-id-1 label.sk-toggleable__label-arrow:hover:before {color: black;}#sk-container-id-1 div.sk-estimator:hover label.sk-toggleable__label-arrow:before {color: black;}#sk-container-id-1 div.sk-toggleable__content {max-height: 0;max-width: 0;overflow: hidden;text-align: left;background-color: #f0f8ff;}#sk-container-id-1 div.sk-toggleable__content pre {margin: 0.2em;color: black;border-radius: 0.25em;background-color: #f0f8ff;}#sk-container-id-1 input.sk-toggleable__control:checked~div.sk-toggleable__content {max-height: 200px;max-width: 100%;overflow: auto;}#sk-container-id-1 input.sk-toggleable__control:checked~label.sk-toggleable__label-arrow:before {content: \"▾\";}#sk-container-id-1 div.sk-estimator input.sk-toggleable__control:checked~label.sk-toggleable__label {background-color: #d4ebff;}#sk-container-id-1 div.sk-label input.sk-toggleable__control:checked~label.sk-toggleable__label {background-color: #d4ebff;}#sk-container-id-1 input.sk-hidden--visually {border: 0;clip: rect(1px 1px 1px 1px);clip: rect(1px, 1px, 1px, 1px);height: 1px;margin: -1px;overflow: hidden;padding: 0;position: absolute;width: 1px;}#sk-container-id-1 div.sk-estimator {font-family: monospace;background-color: #f0f8ff;border: 1px dotted black;border-radius: 0.25em;box-sizing: border-box;margin-bottom: 0.5em;}#sk-container-id-1 div.sk-estimator:hover {background-color: #d4ebff;}#sk-container-id-1 div.sk-parallel-item::after {content: \"\";width: 100%;border-bottom: 1px solid gray;flex-grow: 1;}#sk-container-id-1 div.sk-label:hover label.sk-toggleable__label {background-color: #d4ebff;}#sk-container-id-1 div.sk-serial::before {content: \"\";position: absolute;border-left: 1px solid gray;box-sizing: border-box;top: 0;bottom: 0;left: 50%;z-index: 0;}#sk-container-id-1 div.sk-serial {display: flex;flex-direction: column;align-items: center;background-color: white;padding-right: 0.2em;padding-left: 0.2em;position: relative;}#sk-container-id-1 div.sk-item {position: relative;z-index: 1;}#sk-container-id-1 div.sk-parallel {display: flex;align-items: stretch;justify-content: center;background-color: white;position: relative;}#sk-container-id-1 div.sk-item::before, #sk-container-id-1 div.sk-parallel-item::before {content: \"\";position: absolute;border-left: 1px solid gray;box-sizing: border-box;top: 0;bottom: 0;left: 50%;z-index: -1;}#sk-container-id-1 div.sk-parallel-item {display: flex;flex-direction: column;z-index: 1;position: relative;background-color: white;}#sk-container-id-1 div.sk-parallel-item:first-child::after {align-self: flex-end;width: 50%;}#sk-container-id-1 div.sk-parallel-item:last-child::after {align-self: flex-start;width: 50%;}#sk-container-id-1 div.sk-parallel-item:only-child::after {width: 0;}#sk-container-id-1 div.sk-dashed-wrapped {border: 1px dashed gray;margin: 0 0.4em 0.5em 0.4em;box-sizing: border-box;padding-bottom: 0.4em;background-color: white;}#sk-container-id-1 div.sk-label label {font-family: monospace;font-weight: bold;display: inline-block;line-height: 1.2em;}#sk-container-id-1 div.sk-label-container {text-align: center;}#sk-container-id-1 div.sk-container {/* jupyter's `normalize.less` sets `[hidden] { display: none; }` but bootstrap.min.css set `[hidden] { display: none !important; }` so we also need the `!important` here to be able to override the default hidden behavior on the sphinx rendered scikit-learn.org. See: https://github.com/scikit-learn/scikit-learn/issues/21755 */display: inline-block !important;position: relative;}#sk-container-id-1 div.sk-text-repr-fallback {display: none;}</style><div id=\"sk-container-id-1\" class=\"sk-top-container\"><div class=\"sk-text-repr-fallback\"><pre>Pipeline(steps=[(&#x27;onehotencoder&#x27;,\n",
              "                 OneHotEncoder(cols=[&#x27;neighborhood&#x27;], use_cat_names=True)),\n",
              "                (&#x27;simpleimputer&#x27;, SimpleImputer()), (&#x27;ridge&#x27;, Ridge())])</pre><b>In a Jupyter environment, please rerun this cell to show the HTML representation or trust the notebook. <br />On GitHub, the HTML representation is unable to render, please try loading this page with nbviewer.org.</b></div><div class=\"sk-container\" hidden><div class=\"sk-item sk-dashed-wrapped\"><div class=\"sk-label-container\"><div class=\"sk-label sk-toggleable\"><input class=\"sk-toggleable__control sk-hidden--visually\" id=\"sk-estimator-id-1\" type=\"checkbox\" ><label for=\"sk-estimator-id-1\" class=\"sk-toggleable__label sk-toggleable__label-arrow\">Pipeline</label><div class=\"sk-toggleable__content\"><pre>Pipeline(steps=[(&#x27;onehotencoder&#x27;,\n",
              "                 OneHotEncoder(cols=[&#x27;neighborhood&#x27;], use_cat_names=True)),\n",
              "                (&#x27;simpleimputer&#x27;, SimpleImputer()), (&#x27;ridge&#x27;, Ridge())])</pre></div></div></div><div class=\"sk-serial\"><div class=\"sk-item\"><div class=\"sk-estimator sk-toggleable\"><input class=\"sk-toggleable__control sk-hidden--visually\" id=\"sk-estimator-id-2\" type=\"checkbox\" ><label for=\"sk-estimator-id-2\" class=\"sk-toggleable__label sk-toggleable__label-arrow\">OneHotEncoder</label><div class=\"sk-toggleable__content\"><pre>OneHotEncoder(cols=[&#x27;neighborhood&#x27;], use_cat_names=True)</pre></div></div></div><div class=\"sk-item\"><div class=\"sk-estimator sk-toggleable\"><input class=\"sk-toggleable__control sk-hidden--visually\" id=\"sk-estimator-id-3\" type=\"checkbox\" ><label for=\"sk-estimator-id-3\" class=\"sk-toggleable__label sk-toggleable__label-arrow\">SimpleImputer</label><div class=\"sk-toggleable__content\"><pre>SimpleImputer()</pre></div></div></div><div class=\"sk-item\"><div class=\"sk-estimator sk-toggleable\"><input class=\"sk-toggleable__control sk-hidden--visually\" id=\"sk-estimator-id-4\" type=\"checkbox\" ><label for=\"sk-estimator-id-4\" class=\"sk-toggleable__label sk-toggleable__label-arrow\">Ridge</label><div class=\"sk-toggleable__content\"><pre>Ridge()</pre></div></div></div></div></div></div></div>"
            ]
          },
          "metadata": {},
          "execution_count": 21
        }
      ]
    },
    {
      "cell_type": "markdown",
      "source": [
        "## Evaluate"
      ],
      "metadata": {
        "id": "2bpNbTBAZe2K"
      }
    },
    {
      "cell_type": "markdown",
      "source": [
        "Calculating the training mean absolute error for your predictions as compared to the\n",
        "true targets in `y_train`."
      ],
      "metadata": {
        "id": "UnVbbuurZpYp"
      }
    },
    {
      "cell_type": "code",
      "source": [
        "y_pred_training = model.predict(X_train)\n",
        "print(\"Training MAE:\", mean_absolute_error(y_train, y_pred_training))"
      ],
      "metadata": {
        "colab": {
          "base_uri": "https://localhost:8080/"
        },
        "id": "wTBrpOmTqh9g",
        "outputId": "976362d3-d4d4-4940-a0fe-2262cb2ad918"
      },
      "execution_count": null,
      "outputs": [
        {
          "output_type": "stream",
          "name": "stdout",
          "text": [
            "Training MAE: 84203.94103184494\n"
          ]
        }
      ]
    },
    {
      "cell_type": "markdown",
      "source": [
        "# Results"
      ],
      "metadata": {
        "id": "lXx2yYUmZyYa"
      }
    },
    {
      "cell_type": "markdown",
      "source": [
        "In many data science projects, however, communication means giving stakeholders tools they can\n",
        "use to deploy a model — in other words, use it in action. So let’s look at two ways you might\n",
        "deploy this model.\n",
        "\n",
        "One thing you might be asked to do it wrap your model in a **function** so that a programmer can\n",
        "provide inputs and then receive a prediction as output."
      ],
      "metadata": {
        "id": "-hKpNBaSZ8dq"
      }
    },
    {
      "cell_type": "code",
      "source": [
        "def make_prediction(area, lat, lon, neighborhood):\n",
        "  data = {\n",
        "  \"surface_covered_in_m2\" :area,\n",
        "  \"lat\": lat,\n",
        "  \"lon\": lon,\n",
        "  \"neighborhood\": neighborhood\n",
        "  }\n",
        "  df = pd.DataFrame(data, index = [0])\n",
        "  prediction = model.predict(df).round(2)[0]\n",
        "  return f\"Predicted apartment price: ${prediction}\""
      ],
      "metadata": {
        "id": "FxUANyAOqqdQ"
      },
      "execution_count": null,
      "outputs": []
    },
    {
      "cell_type": "markdown",
      "source": [
        "Let’s see if your function works."
      ],
      "metadata": {
        "id": "eS8BZpwTaHsA"
      }
    },
    {
      "cell_type": "code",
      "source": [
        "make_prediction(160, 4.715, -74.095, \"Suba\")"
      ],
      "metadata": {
        "colab": {
          "base_uri": "https://localhost:8080/",
          "height": 53
        },
        "id": "1KmzjTGiqpkX",
        "outputId": "33365dae-960d-4c86-d3ab-9d0a16934b5d"
      },
      "execution_count": null,
      "outputs": [
        {
          "output_type": "execute_result",
          "data": {
            "text/plain": [
              "'Predicted apartment price: $90081.74'"
            ],
            "application/vnd.google.colaboratory.intrinsic+json": {
              "type": "string"
            }
          },
          "metadata": {},
          "execution_count": 24
        }
      ]
    },
    {
      "cell_type": "markdown",
      "source": [
        "Another type of deployment is creating an interactive **dashboard**, where a user can supply values\n",
        "and receive a prediction. Let’s create one using **Jupyter Widgets**."
      ],
      "metadata": {
        "id": "9RaMEuV2aNz5"
      }
    },
    {
      "cell_type": "code",
      "source": [
        "interact(\n",
        "    make_prediction,\n",
        "    area=IntSlider(\n",
        "          min=X_train[\"surface_covered_in_m2\"].min(),\n",
        "          max=X_train[\"surface_covered_in_m2\"].max(),\n",
        "          value=X_train[\"surface_covered_in_m2\"].mean(),\n",
        "),\n",
        "\n",
        "    lat=FloatSlider(\n",
        "         min=X_train[\"lat\"].min(),\n",
        "         max=X_train[\"lat\"].max(),\n",
        "         step=0.01,\n",
        "         value=X_train[\"lat\"].mean(),\n",
        "),\n",
        "\n",
        "    lon=FloatSlider(\n",
        "         min=X_train[\"lon\"].min(),\n",
        "         max=X_train[\"lon\"].max(),\n",
        "         step=0.01,\n",
        "         value=X_train[\"lon\"].mean(),\n",
        "),\n",
        "\n",
        "    neighborhood=Dropdown(options=sorted(X_train[\"neighborhood\"].unique())),\n",
        ");"
      ],
      "metadata": {
        "colab": {
          "base_uri": "https://localhost:8080/",
          "height": 181,
          "referenced_widgets": [
            "74ab02ccde0c47bd8e09d5b1bbc2bf7a",
            "ad4f285b234548248d4f496a40da14cd",
            "a6ed9f9c8d394a959838d51674110f0b",
            "b1cc0d7df5e34771883f4efd6c2b73e7",
            "38d73e8b41bb4d88ae2d61e6dd83475e",
            "e9056f2e1452439e8f76290ef855c57f",
            "088880fe11c0444cb8fcae1488252dcc",
            "008787206d9e40ba81ef82f565560bc9",
            "a8563937c33542be814d63a6d9cd5618",
            "7772370174b642378e923a766fdb4b1b",
            "274a896d53e14d71896ec6d306cea650",
            "47684a0a3c5c40769e3393adfa52d9ab",
            "ad0cb34af313469d95cc8c886dfdab58",
            "a70798c648fe4c65bcf9b437c3869292",
            "aa91664de53b417e8e976fa641895784",
            "fd8dbf0acacc4b678f319ef085860e3d"
          ]
        },
        "id": "SuoI8zqprFmS",
        "outputId": "6fa54241-3186-4c73-abe5-e2526e7b4531"
      },
      "execution_count": null,
      "outputs": [
        {
          "output_type": "display_data",
          "data": {
            "text/plain": [
              "interactive(children=(IntSlider(value=135, description='area', max=495, min=45), FloatSlider(value=4.687857965…"
            ],
            "application/vnd.jupyter.widget-view+json": {
              "version_major": 2,
              "version_minor": 0,
              "model_id": "74ab02ccde0c47bd8e09d5b1bbc2bf7a"
            }
          },
          "metadata": {}
        }
      ]
    }
  ]
}