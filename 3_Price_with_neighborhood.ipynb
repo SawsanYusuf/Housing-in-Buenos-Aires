{
  "nbformat": 4,
  "nbformat_minor": 0,
  "metadata": {
    "colab": {
      "provenance": [],
      "authorship_tag": "ABX9TyOizR70pRHZZvf7ctInI0BT",
      "include_colab_link": true
    },
    "kernelspec": {
      "name": "python3",
      "display_name": "Python 3"
    },
    "language_info": {
      "name": "python"
    }
  },
  "cells": [
    {
      "cell_type": "markdown",
      "metadata": {
        "id": "view-in-github",
        "colab_type": "text"
      },
      "source": [
        "<a href=\"https://colab.research.google.com/github/SawsanYusuf/Housing-in-Colombia/blob/main/3_Price_with_neighborhood.ipynb\" target=\"_parent\"><img src=\"https://colab.research.google.com/assets/colab-badge.svg\" alt=\"Open In Colab\"/></a>"
      ]
    },
    {
      "cell_type": "markdown",
      "source": [
        "<font size=\"+3\"><strong>Predicting Price with Neighborhood</strong></font>"
      ],
      "metadata": {
        "id": "xwFb5XNO6yCT"
      }
    },
    {
      "cell_type": "code",
      "source": [
        "import warnings\n",
        "from glob import glob\n",
        "import matplotlib.pyplot as plt\n",
        "import numpy as np\n",
        "import pandas as pd\n",
        "from category_encoders import OneHotEncoder\n",
        "from sklearn.linear_model import LinearRegression, Ridge # noqa F401\n",
        "from sklearn.metrics import mean_absolute_error\n",
        "from sklearn.pipeline import make_pipeline\n",
        "from sklearn.utils.validation import check_is_fitted\n",
        "warnings.simplefilter(action=\"ignore\", category=FutureWarning)"
      ],
      "metadata": {
        "id": "E-I9lE3mjf2z"
      },
      "execution_count": null,
      "outputs": []
    },
    {
      "cell_type": "markdown",
      "source": [
        "In the last notebook, we created a model that used location — represented by latitude and longitude — to predict price. In this notebook, we’re going to use a different representation for location:\n",
        "**neighborhood**."
      ],
      "metadata": {
        "id": "xEfGvWtq7Cea"
      }
    },
    {
      "cell_type": "markdown",
      "source": [
        "# Prepare Data"
      ],
      "metadata": {
        "id": "-LB4sC4T8b73"
      }
    },
    {
      "cell_type": "markdown",
      "source": [
        "## Import"
      ],
      "metadata": {
        "id": "tTYWU71L8d71"
      }
    },
    {
      "cell_type": "code",
      "execution_count": null,
      "metadata": {
        "id": "cAte_nvdjD6L"
      },
      "outputs": [],
      "source": [
        "def wrangle(filepath):\n",
        "    #import_csv\n",
        "    df = pd.read_csv(filepath,index_col=[0])\n",
        "\n",
        "    #subset to propertes in '\"Capital Federal\"'\n",
        "    mask_ba= df[\"place_with_parent_names\"].str.contains(\"Bogotá D.C\")\n",
        "\n",
        "    #subset for  '\"apartment\"'\n",
        "    mask_apt=df[\"property_type\"] == \"house\"\n",
        "\n",
        "    #subset where '\"price_aprox_usd\"' < 400,000\n",
        "    mask_price= df[\"price_aprox_usd\"] < 400_000\n",
        "\n",
        "    df= df[mask_ba & mask_apt & mask_price]\n",
        "\n",
        "    #Remove the outliers by '\"surface_covered_in_m2\"'\n",
        "    low, high= df[\"surface_covered_in_m2\"].quantile([0.1,0.9])\n",
        "    mask_area =df[\"surface_covered_in_m2\"].between(low, high)\n",
        "    df=df[mask_area]\n",
        "\n",
        "    #split the '\"lat-lon\"'\n",
        "    df[[\"lat\" ,\"lon\"]]= df[\"lat-lon\"].str.split(\",\", expand= True).astype(float)\n",
        "    df.drop(columns=\"lat-lon\", inplace = True)\n",
        "\n",
        "    return df"
      ]
    },
    {
      "cell_type": "markdown",
      "source": [
        "In the last notebook, we used our wrangle function to import two CSV files as DataFrames. But what\n",
        "if we had hundreds of CSV files to import? Wrangling them one-by-one wouldn’t be an option. So\n",
        "let’s start with a technique for reading several CSV files into a single DataFrame.\n",
        "\n",
        "The first step is to gather the names of all the files we want to import. We can do this using pattern\n",
        "**matching**."
      ],
      "metadata": {
        "id": "0YRCGIG060tD"
      }
    },
    {
      "cell_type": "markdown",
      "source": [
        "Let's use `glob` to create a list that contains the filenames for all the Colombia real\n",
        "estate CSV files in the data directory. Assign this list to the variable name `files`."
      ],
      "metadata": {
        "id": "D4RrMMyi7hbg"
      }
    },
    {
      "cell_type": "code",
      "source": [
        "files = glob(\"/content/colombia-real-estate-*.csv\")\n",
        "files"
      ],
      "metadata": {
        "colab": {
          "base_uri": "https://localhost:8080/"
        },
        "id": "FQA7HpMsjIwA",
        "outputId": "70c27537-374b-48a9-f2f6-9b0736f01263"
      },
      "execution_count": null,
      "outputs": [
        {
          "output_type": "execute_result",
          "data": {
            "text/plain": [
              "['/content/colombia-real-estate-2.csv',\n",
              " '/content/colombia-real-estate-5.csv',\n",
              " '/content/colombia-real-estate-1.csv',\n",
              " '/content/colombia-real-estate-3.csv',\n",
              " '/content/colombia-real-estate-4.csv']"
            ]
          },
          "metadata": {},
          "execution_count": 4
        }
      ]
    },
    {
      "cell_type": "markdown",
      "source": [
        "The next step is to read each of the CSVs in files into a DataFrame, and put all of those\n",
        "DataFrames into a list. What’s a good way to iterate through files so we can do this? **A for\n",
        "loop!**"
      ],
      "metadata": {
        "id": "ZOZGtRrx7wQy"
      }
    },
    {
      "cell_type": "markdown",
      "source": [
        "We use our wrangle function in a for loop to create a list named frames. The list\n",
        "will contain the cleaned DataFrames created from the CSV filenames we collected in files."
      ],
      "metadata": {
        "id": "PXamOmdN78QM"
      }
    },
    {
      "cell_type": "code",
      "source": [
        "frames = []\n",
        "for file in files:\n",
        "   df= wrangle(file)\n",
        "   frames.append(df)\n",
        "len(frames)"
      ],
      "metadata": {
        "colab": {
          "base_uri": "https://localhost:8080/"
        },
        "id": "xZnr90PvjKQ8",
        "outputId": "d1a4eae9-6be2-4829-e071-1dad7ffb825d"
      },
      "execution_count": null,
      "outputs": [
        {
          "output_type": "execute_result",
          "data": {
            "text/plain": [
              "5"
            ]
          },
          "metadata": {},
          "execution_count": 5
        }
      ]
    },
    {
      "cell_type": "markdown",
      "source": [
        "The final step is to use pandas to combine all the DataFrames in frames using `concat()` method."
      ],
      "metadata": {
        "id": "4GEiVhWE8IEh"
      }
    },
    {
      "cell_type": "code",
      "source": [
        "df = pd.concat(frames, ignore_index= True)\n",
        "print(df.shape)\n",
        "df.head()"
      ],
      "metadata": {
        "colab": {
          "base_uri": "https://localhost:8080/",
          "height": 374
        },
        "id": "2vR5hLaWj4J7",
        "outputId": "7958856e-03e3-4978-88d8-7a65af3904fe"
      },
      "execution_count": null,
      "outputs": [
        {
          "output_type": "stream",
          "name": "stdout",
          "text": [
            "(4126, 17)\n"
          ]
        },
        {
          "output_type": "execute_result",
          "data": {
            "text/plain": [
              "  operation property_type                   place_with_parent_names  \\\n",
              "0      sell         house             |Colombia|Bogotá D.C|Kennedy|   \n",
              "1      sell         house  |Colombia|Bogotá D.C|Rafael Uribe Uribe|   \n",
              "2      sell         house                |Colombia|Bogotá D.C|Suba|   \n",
              "3      sell         house             |Colombia|Bogotá D.C|Usaquén|   \n",
              "4      sell         house                |Colombia|Bogotá D.C|Suba|   \n",
              "\n",
              "         price currency  price_aprox_local_currency  price_aprox_usd  \\\n",
              "0  440000000.0      COP                4.434438e+08        148567.33   \n",
              "1  334900000.0      COP                3.375212e+08        113080.00   \n",
              "2  350000000.0      COP                3.527394e+08        118178.56   \n",
              "3  910000000.0      COP                9.171224e+08        307264.26   \n",
              "4  980000000.0      COP                9.876703e+08        330899.98   \n",
              "\n",
              "   surface_total_in_m2  surface_covered_in_m2  price_usd_per_m2  price_per_m2  \\\n",
              "0                161.0                  161.0        922.778447  2.732919e+06   \n",
              "1                384.0                  131.0        294.479167  2.556489e+06   \n",
              "2                112.0                  112.0       1055.165714  3.125000e+06   \n",
              "3                  NaN                  164.0               NaN  5.548780e+06   \n",
              "4                190.0                  190.0       1741.578842  5.157895e+06   \n",
              "\n",
              "   floor  rooms  expenses                                      properati_url  \\\n",
              "0    NaN    4.0       NaN  http://kennedy-bogota-d-c.properati.com.co/k4o...   \n",
              "1    3.0   10.0       NaN  http://rafael-uribe-uribe-bogota-d-c.properati...   \n",
              "2    NaN    3.0       NaN  http://suba-bogota-d-c.properati.com.co/k4qt_v...   \n",
              "3    8.0    3.0       NaN  http://usaquen-bogota-d-c.properati.com.co/k4r...   \n",
              "4    NaN    2.0       NaN  http://suba-bogota-d-c.properati.com.co/k4rx_v...   \n",
              "\n",
              "     lat     lon  \n",
              "0  4.631 -74.147  \n",
              "1  4.585 -74.123  \n",
              "2  4.747 -74.062  \n",
              "3  4.705 -74.044  \n",
              "4  4.715 -74.095  "
            ],
            "text/html": [
              "\n",
              "  <div id=\"df-3ed10a0f-73ce-44a2-991c-bda874ade01e\">\n",
              "    <div class=\"colab-df-container\">\n",
              "      <div>\n",
              "<style scoped>\n",
              "    .dataframe tbody tr th:only-of-type {\n",
              "        vertical-align: middle;\n",
              "    }\n",
              "\n",
              "    .dataframe tbody tr th {\n",
              "        vertical-align: top;\n",
              "    }\n",
              "\n",
              "    .dataframe thead th {\n",
              "        text-align: right;\n",
              "    }\n",
              "</style>\n",
              "<table border=\"1\" class=\"dataframe\">\n",
              "  <thead>\n",
              "    <tr style=\"text-align: right;\">\n",
              "      <th></th>\n",
              "      <th>operation</th>\n",
              "      <th>property_type</th>\n",
              "      <th>place_with_parent_names</th>\n",
              "      <th>price</th>\n",
              "      <th>currency</th>\n",
              "      <th>price_aprox_local_currency</th>\n",
              "      <th>price_aprox_usd</th>\n",
              "      <th>surface_total_in_m2</th>\n",
              "      <th>surface_covered_in_m2</th>\n",
              "      <th>price_usd_per_m2</th>\n",
              "      <th>price_per_m2</th>\n",
              "      <th>floor</th>\n",
              "      <th>rooms</th>\n",
              "      <th>expenses</th>\n",
              "      <th>properati_url</th>\n",
              "      <th>lat</th>\n",
              "      <th>lon</th>\n",
              "    </tr>\n",
              "  </thead>\n",
              "  <tbody>\n",
              "    <tr>\n",
              "      <th>0</th>\n",
              "      <td>sell</td>\n",
              "      <td>house</td>\n",
              "      <td>|Colombia|Bogotá D.C|Kennedy|</td>\n",
              "      <td>440000000.0</td>\n",
              "      <td>COP</td>\n",
              "      <td>4.434438e+08</td>\n",
              "      <td>148567.33</td>\n",
              "      <td>161.0</td>\n",
              "      <td>161.0</td>\n",
              "      <td>922.778447</td>\n",
              "      <td>2.732919e+06</td>\n",
              "      <td>NaN</td>\n",
              "      <td>4.0</td>\n",
              "      <td>NaN</td>\n",
              "      <td>http://kennedy-bogota-d-c.properati.com.co/k4o...</td>\n",
              "      <td>4.631</td>\n",
              "      <td>-74.147</td>\n",
              "    </tr>\n",
              "    <tr>\n",
              "      <th>1</th>\n",
              "      <td>sell</td>\n",
              "      <td>house</td>\n",
              "      <td>|Colombia|Bogotá D.C|Rafael Uribe Uribe|</td>\n",
              "      <td>334900000.0</td>\n",
              "      <td>COP</td>\n",
              "      <td>3.375212e+08</td>\n",
              "      <td>113080.00</td>\n",
              "      <td>384.0</td>\n",
              "      <td>131.0</td>\n",
              "      <td>294.479167</td>\n",
              "      <td>2.556489e+06</td>\n",
              "      <td>3.0</td>\n",
              "      <td>10.0</td>\n",
              "      <td>NaN</td>\n",
              "      <td>http://rafael-uribe-uribe-bogota-d-c.properati...</td>\n",
              "      <td>4.585</td>\n",
              "      <td>-74.123</td>\n",
              "    </tr>\n",
              "    <tr>\n",
              "      <th>2</th>\n",
              "      <td>sell</td>\n",
              "      <td>house</td>\n",
              "      <td>|Colombia|Bogotá D.C|Suba|</td>\n",
              "      <td>350000000.0</td>\n",
              "      <td>COP</td>\n",
              "      <td>3.527394e+08</td>\n",
              "      <td>118178.56</td>\n",
              "      <td>112.0</td>\n",
              "      <td>112.0</td>\n",
              "      <td>1055.165714</td>\n",
              "      <td>3.125000e+06</td>\n",
              "      <td>NaN</td>\n",
              "      <td>3.0</td>\n",
              "      <td>NaN</td>\n",
              "      <td>http://suba-bogota-d-c.properati.com.co/k4qt_v...</td>\n",
              "      <td>4.747</td>\n",
              "      <td>-74.062</td>\n",
              "    </tr>\n",
              "    <tr>\n",
              "      <th>3</th>\n",
              "      <td>sell</td>\n",
              "      <td>house</td>\n",
              "      <td>|Colombia|Bogotá D.C|Usaquén|</td>\n",
              "      <td>910000000.0</td>\n",
              "      <td>COP</td>\n",
              "      <td>9.171224e+08</td>\n",
              "      <td>307264.26</td>\n",
              "      <td>NaN</td>\n",
              "      <td>164.0</td>\n",
              "      <td>NaN</td>\n",
              "      <td>5.548780e+06</td>\n",
              "      <td>8.0</td>\n",
              "      <td>3.0</td>\n",
              "      <td>NaN</td>\n",
              "      <td>http://usaquen-bogota-d-c.properati.com.co/k4r...</td>\n",
              "      <td>4.705</td>\n",
              "      <td>-74.044</td>\n",
              "    </tr>\n",
              "    <tr>\n",
              "      <th>4</th>\n",
              "      <td>sell</td>\n",
              "      <td>house</td>\n",
              "      <td>|Colombia|Bogotá D.C|Suba|</td>\n",
              "      <td>980000000.0</td>\n",
              "      <td>COP</td>\n",
              "      <td>9.876703e+08</td>\n",
              "      <td>330899.98</td>\n",
              "      <td>190.0</td>\n",
              "      <td>190.0</td>\n",
              "      <td>1741.578842</td>\n",
              "      <td>5.157895e+06</td>\n",
              "      <td>NaN</td>\n",
              "      <td>2.0</td>\n",
              "      <td>NaN</td>\n",
              "      <td>http://suba-bogota-d-c.properati.com.co/k4rx_v...</td>\n",
              "      <td>4.715</td>\n",
              "      <td>-74.095</td>\n",
              "    </tr>\n",
              "  </tbody>\n",
              "</table>\n",
              "</div>\n",
              "      <button class=\"colab-df-convert\" onclick=\"convertToInteractive('df-3ed10a0f-73ce-44a2-991c-bda874ade01e')\"\n",
              "              title=\"Convert this dataframe to an interactive table.\"\n",
              "              style=\"display:none;\">\n",
              "        \n",
              "  <svg xmlns=\"http://www.w3.org/2000/svg\" height=\"24px\"viewBox=\"0 0 24 24\"\n",
              "       width=\"24px\">\n",
              "    <path d=\"M0 0h24v24H0V0z\" fill=\"none\"/>\n",
              "    <path d=\"M18.56 5.44l.94 2.06.94-2.06 2.06-.94-2.06-.94-.94-2.06-.94 2.06-2.06.94zm-11 1L8.5 8.5l.94-2.06 2.06-.94-2.06-.94L8.5 2.5l-.94 2.06-2.06.94zm10 10l.94 2.06.94-2.06 2.06-.94-2.06-.94-.94-2.06-.94 2.06-2.06.94z\"/><path d=\"M17.41 7.96l-1.37-1.37c-.4-.4-.92-.59-1.43-.59-.52 0-1.04.2-1.43.59L10.3 9.45l-7.72 7.72c-.78.78-.78 2.05 0 2.83L4 21.41c.39.39.9.59 1.41.59.51 0 1.02-.2 1.41-.59l7.78-7.78 2.81-2.81c.8-.78.8-2.07 0-2.86zM5.41 20L4 18.59l7.72-7.72 1.47 1.35L5.41 20z\"/>\n",
              "  </svg>\n",
              "      </button>\n",
              "      \n",
              "  <style>\n",
              "    .colab-df-container {\n",
              "      display:flex;\n",
              "      flex-wrap:wrap;\n",
              "      gap: 12px;\n",
              "    }\n",
              "\n",
              "    .colab-df-convert {\n",
              "      background-color: #E8F0FE;\n",
              "      border: none;\n",
              "      border-radius: 50%;\n",
              "      cursor: pointer;\n",
              "      display: none;\n",
              "      fill: #1967D2;\n",
              "      height: 32px;\n",
              "      padding: 0 0 0 0;\n",
              "      width: 32px;\n",
              "    }\n",
              "\n",
              "    .colab-df-convert:hover {\n",
              "      background-color: #E2EBFA;\n",
              "      box-shadow: 0px 1px 2px rgba(60, 64, 67, 0.3), 0px 1px 3px 1px rgba(60, 64, 67, 0.15);\n",
              "      fill: #174EA6;\n",
              "    }\n",
              "\n",
              "    [theme=dark] .colab-df-convert {\n",
              "      background-color: #3B4455;\n",
              "      fill: #D2E3FC;\n",
              "    }\n",
              "\n",
              "    [theme=dark] .colab-df-convert:hover {\n",
              "      background-color: #434B5C;\n",
              "      box-shadow: 0px 1px 3px 1px rgba(0, 0, 0, 0.15);\n",
              "      filter: drop-shadow(0px 1px 2px rgba(0, 0, 0, 0.3));\n",
              "      fill: #FFFFFF;\n",
              "    }\n",
              "  </style>\n",
              "\n",
              "      <script>\n",
              "        const buttonEl =\n",
              "          document.querySelector('#df-3ed10a0f-73ce-44a2-991c-bda874ade01e button.colab-df-convert');\n",
              "        buttonEl.style.display =\n",
              "          google.colab.kernel.accessAllowed ? 'block' : 'none';\n",
              "\n",
              "        async function convertToInteractive(key) {\n",
              "          const element = document.querySelector('#df-3ed10a0f-73ce-44a2-991c-bda874ade01e');\n",
              "          const dataTable =\n",
              "            await google.colab.kernel.invokeFunction('convertToInteractive',\n",
              "                                                     [key], {});\n",
              "          if (!dataTable) return;\n",
              "\n",
              "          const docLinkHtml = 'Like what you see? Visit the ' +\n",
              "            '<a target=\"_blank\" href=https://colab.research.google.com/notebooks/data_table.ipynb>data table notebook</a>'\n",
              "            + ' to learn more about interactive tables.';\n",
              "          element.innerHTML = '';\n",
              "          dataTable['output_type'] = 'display_data';\n",
              "          await google.colab.output.renderOutput(dataTable, element);\n",
              "          const docLink = document.createElement('div');\n",
              "          docLink.innerHTML = docLinkHtml;\n",
              "          element.appendChild(docLink);\n",
              "        }\n",
              "      </script>\n",
              "    </div>\n",
              "  </div>\n",
              "  "
            ]
          },
          "metadata": {},
          "execution_count": 6
        }
      ]
    },
    {
      "cell_type": "markdown",
      "source": [
        "We can now clean and combine as many CSV files as our computer can handle."
      ],
      "metadata": {
        "id": "atJvpUHB8Vhy"
      }
    },
    {
      "cell_type": "markdown",
      "source": [
        "## Explore"
      ],
      "metadata": {
        "id": "jOe7X3yS8gJc"
      }
    },
    {
      "cell_type": "markdown",
      "source": [
        "Looking through the output from the `df.head()` cell above, there’s a little bit more cleaning we\n",
        "need to do before we can work with the neighborhood information in this dataset."
      ],
      "metadata": {
        "id": "0tAzwOVA8iDh"
      }
    },
    {
      "cell_type": "markdown",
      "source": [
        "We need to modify our wrangle function to create a new feature `\"neighborhood\"`. We can\n",
        "find the neighborhood for each property in the `\"place_with_parent_names\"` column. For example, a property with the place name `\"|Colombia|Bogotá D.C|Kennedy|\"` is located in the\n",
        "neighborhood is `\"Kennedy\"`. Also, our function should drop the `\"place_with_parent_names\"` column."
      ],
      "metadata": {
        "id": "p6AP8-V08xFD"
      }
    },
    {
      "cell_type": "markdown",
      "source": [
        "The final version of our wrangle function:"
      ],
      "metadata": {
        "id": "cek0CA5o9Oxz"
      }
    },
    {
      "cell_type": "code",
      "source": [
        "def wrangle(filepath):\n",
        "    #import_csv\n",
        "    df = pd.read_csv(filepath,index_col=[0])\n",
        "\n",
        "    #subset to propertes in '\"Capital Federal\"'\n",
        "    mask_ba= df[\"place_with_parent_names\"].str.contains(\"Bogotá D.C\")\n",
        "\n",
        "    #subset for  '\"apartment\"'\n",
        "    mask_apt=df[\"property_type\"] == \"house\"\n",
        "\n",
        "    #subset where '\"price_aprox_usd\"' < 400,000\n",
        "    mask_price= df[\"price_aprox_usd\"] < 400_000\n",
        "\n",
        "    df= df[mask_ba & mask_apt & mask_price]\n",
        "\n",
        "    #Remove the outliers by '\"surface_covered_in_m2\"'\n",
        "    low, high= df[\"surface_covered_in_m2\"].quantile([0.1,0.9])\n",
        "    mask_area =df[\"surface_covered_in_m2\"].between(low, high)\n",
        "    df=df[mask_area]\n",
        "\n",
        "    #split the '\"lat-lon\"'\n",
        "    df[[\"lat\" ,\"lon\"]]= df[\"lat-lon\"].str.split(\",\", expand= True).astype(float)\n",
        "    df.drop(columns=\"lat-lon\", inplace = True)\n",
        "\n",
        "    #Extract neighborhood\n",
        "    df[\"neighborhood\"]= df[\"place_with_parent_names\"].str.split(\"|\",expand=True)[3]\n",
        "    df.drop(columns=\"place_with_parent_names\", inplace= True)\n",
        "\n",
        "    return df"
      ],
      "metadata": {
        "id": "X6SK-Mpk9B0M"
      },
      "execution_count": null,
      "outputs": []
    },
    {
      "cell_type": "code",
      "source": [
        "files = glob(\"/content/colombia-real-estate-*.csv\")\n",
        "\n",
        "frames = []\n",
        "for file in files:\n",
        "   df= wrangle(file)\n",
        "   frames.append(df)\n",
        "\n",
        "df = pd.concat(frames, ignore_index= True)\n",
        "print(df.shape)\n",
        "df.head()"
      ],
      "metadata": {
        "id": "qJFTa8eG9IUP",
        "colab": {
          "base_uri": "https://localhost:8080/",
          "height": 374
        },
        "outputId": "3559a76e-ef2a-46ed-d620-04163bfa259f"
      },
      "execution_count": null,
      "outputs": [
        {
          "output_type": "stream",
          "name": "stdout",
          "text": [
            "(4126, 17)\n"
          ]
        },
        {
          "output_type": "execute_result",
          "data": {
            "text/plain": [
              "  operation property_type        price currency  price_aprox_local_currency  \\\n",
              "0      sell         house  440000000.0      COP                4.434438e+08   \n",
              "1      sell         house  334900000.0      COP                3.375212e+08   \n",
              "2      sell         house  350000000.0      COP                3.527394e+08   \n",
              "3      sell         house  910000000.0      COP                9.171224e+08   \n",
              "4      sell         house  980000000.0      COP                9.876703e+08   \n",
              "\n",
              "   price_aprox_usd  surface_total_in_m2  surface_covered_in_m2  \\\n",
              "0        148567.33                161.0                  161.0   \n",
              "1        113080.00                384.0                  131.0   \n",
              "2        118178.56                112.0                  112.0   \n",
              "3        307264.26                  NaN                  164.0   \n",
              "4        330899.98                190.0                  190.0   \n",
              "\n",
              "   price_usd_per_m2  price_per_m2  floor  rooms  expenses  \\\n",
              "0        922.778447  2.732919e+06    NaN    4.0       NaN   \n",
              "1        294.479167  2.556489e+06    3.0   10.0       NaN   \n",
              "2       1055.165714  3.125000e+06    NaN    3.0       NaN   \n",
              "3               NaN  5.548780e+06    8.0    3.0       NaN   \n",
              "4       1741.578842  5.157895e+06    NaN    2.0       NaN   \n",
              "\n",
              "                                       properati_url    lat     lon  \\\n",
              "0  http://kennedy-bogota-d-c.properati.com.co/k4o...  4.631 -74.147   \n",
              "1  http://rafael-uribe-uribe-bogota-d-c.properati...  4.585 -74.123   \n",
              "2  http://suba-bogota-d-c.properati.com.co/k4qt_v...  4.747 -74.062   \n",
              "3  http://usaquen-bogota-d-c.properati.com.co/k4r...  4.705 -74.044   \n",
              "4  http://suba-bogota-d-c.properati.com.co/k4rx_v...  4.715 -74.095   \n",
              "\n",
              "         neighborhood  \n",
              "0             Kennedy  \n",
              "1  Rafael Uribe Uribe  \n",
              "2                Suba  \n",
              "3             Usaquén  \n",
              "4                Suba  "
            ],
            "text/html": [
              "\n",
              "  <div id=\"df-695676c0-0151-4357-b65d-b40f0d79d577\">\n",
              "    <div class=\"colab-df-container\">\n",
              "      <div>\n",
              "<style scoped>\n",
              "    .dataframe tbody tr th:only-of-type {\n",
              "        vertical-align: middle;\n",
              "    }\n",
              "\n",
              "    .dataframe tbody tr th {\n",
              "        vertical-align: top;\n",
              "    }\n",
              "\n",
              "    .dataframe thead th {\n",
              "        text-align: right;\n",
              "    }\n",
              "</style>\n",
              "<table border=\"1\" class=\"dataframe\">\n",
              "  <thead>\n",
              "    <tr style=\"text-align: right;\">\n",
              "      <th></th>\n",
              "      <th>operation</th>\n",
              "      <th>property_type</th>\n",
              "      <th>price</th>\n",
              "      <th>currency</th>\n",
              "      <th>price_aprox_local_currency</th>\n",
              "      <th>price_aprox_usd</th>\n",
              "      <th>surface_total_in_m2</th>\n",
              "      <th>surface_covered_in_m2</th>\n",
              "      <th>price_usd_per_m2</th>\n",
              "      <th>price_per_m2</th>\n",
              "      <th>floor</th>\n",
              "      <th>rooms</th>\n",
              "      <th>expenses</th>\n",
              "      <th>properati_url</th>\n",
              "      <th>lat</th>\n",
              "      <th>lon</th>\n",
              "      <th>neighborhood</th>\n",
              "    </tr>\n",
              "  </thead>\n",
              "  <tbody>\n",
              "    <tr>\n",
              "      <th>0</th>\n",
              "      <td>sell</td>\n",
              "      <td>house</td>\n",
              "      <td>440000000.0</td>\n",
              "      <td>COP</td>\n",
              "      <td>4.434438e+08</td>\n",
              "      <td>148567.33</td>\n",
              "      <td>161.0</td>\n",
              "      <td>161.0</td>\n",
              "      <td>922.778447</td>\n",
              "      <td>2.732919e+06</td>\n",
              "      <td>NaN</td>\n",
              "      <td>4.0</td>\n",
              "      <td>NaN</td>\n",
              "      <td>http://kennedy-bogota-d-c.properati.com.co/k4o...</td>\n",
              "      <td>4.631</td>\n",
              "      <td>-74.147</td>\n",
              "      <td>Kennedy</td>\n",
              "    </tr>\n",
              "    <tr>\n",
              "      <th>1</th>\n",
              "      <td>sell</td>\n",
              "      <td>house</td>\n",
              "      <td>334900000.0</td>\n",
              "      <td>COP</td>\n",
              "      <td>3.375212e+08</td>\n",
              "      <td>113080.00</td>\n",
              "      <td>384.0</td>\n",
              "      <td>131.0</td>\n",
              "      <td>294.479167</td>\n",
              "      <td>2.556489e+06</td>\n",
              "      <td>3.0</td>\n",
              "      <td>10.0</td>\n",
              "      <td>NaN</td>\n",
              "      <td>http://rafael-uribe-uribe-bogota-d-c.properati...</td>\n",
              "      <td>4.585</td>\n",
              "      <td>-74.123</td>\n",
              "      <td>Rafael Uribe Uribe</td>\n",
              "    </tr>\n",
              "    <tr>\n",
              "      <th>2</th>\n",
              "      <td>sell</td>\n",
              "      <td>house</td>\n",
              "      <td>350000000.0</td>\n",
              "      <td>COP</td>\n",
              "      <td>3.527394e+08</td>\n",
              "      <td>118178.56</td>\n",
              "      <td>112.0</td>\n",
              "      <td>112.0</td>\n",
              "      <td>1055.165714</td>\n",
              "      <td>3.125000e+06</td>\n",
              "      <td>NaN</td>\n",
              "      <td>3.0</td>\n",
              "      <td>NaN</td>\n",
              "      <td>http://suba-bogota-d-c.properati.com.co/k4qt_v...</td>\n",
              "      <td>4.747</td>\n",
              "      <td>-74.062</td>\n",
              "      <td>Suba</td>\n",
              "    </tr>\n",
              "    <tr>\n",
              "      <th>3</th>\n",
              "      <td>sell</td>\n",
              "      <td>house</td>\n",
              "      <td>910000000.0</td>\n",
              "      <td>COP</td>\n",
              "      <td>9.171224e+08</td>\n",
              "      <td>307264.26</td>\n",
              "      <td>NaN</td>\n",
              "      <td>164.0</td>\n",
              "      <td>NaN</td>\n",
              "      <td>5.548780e+06</td>\n",
              "      <td>8.0</td>\n",
              "      <td>3.0</td>\n",
              "      <td>NaN</td>\n",
              "      <td>http://usaquen-bogota-d-c.properati.com.co/k4r...</td>\n",
              "      <td>4.705</td>\n",
              "      <td>-74.044</td>\n",
              "      <td>Usaquén</td>\n",
              "    </tr>\n",
              "    <tr>\n",
              "      <th>4</th>\n",
              "      <td>sell</td>\n",
              "      <td>house</td>\n",
              "      <td>980000000.0</td>\n",
              "      <td>COP</td>\n",
              "      <td>9.876703e+08</td>\n",
              "      <td>330899.98</td>\n",
              "      <td>190.0</td>\n",
              "      <td>190.0</td>\n",
              "      <td>1741.578842</td>\n",
              "      <td>5.157895e+06</td>\n",
              "      <td>NaN</td>\n",
              "      <td>2.0</td>\n",
              "      <td>NaN</td>\n",
              "      <td>http://suba-bogota-d-c.properati.com.co/k4rx_v...</td>\n",
              "      <td>4.715</td>\n",
              "      <td>-74.095</td>\n",
              "      <td>Suba</td>\n",
              "    </tr>\n",
              "  </tbody>\n",
              "</table>\n",
              "</div>\n",
              "      <button class=\"colab-df-convert\" onclick=\"convertToInteractive('df-695676c0-0151-4357-b65d-b40f0d79d577')\"\n",
              "              title=\"Convert this dataframe to an interactive table.\"\n",
              "              style=\"display:none;\">\n",
              "        \n",
              "  <svg xmlns=\"http://www.w3.org/2000/svg\" height=\"24px\"viewBox=\"0 0 24 24\"\n",
              "       width=\"24px\">\n",
              "    <path d=\"M0 0h24v24H0V0z\" fill=\"none\"/>\n",
              "    <path d=\"M18.56 5.44l.94 2.06.94-2.06 2.06-.94-2.06-.94-.94-2.06-.94 2.06-2.06.94zm-11 1L8.5 8.5l.94-2.06 2.06-.94-2.06-.94L8.5 2.5l-.94 2.06-2.06.94zm10 10l.94 2.06.94-2.06 2.06-.94-2.06-.94-.94-2.06-.94 2.06-2.06.94z\"/><path d=\"M17.41 7.96l-1.37-1.37c-.4-.4-.92-.59-1.43-.59-.52 0-1.04.2-1.43.59L10.3 9.45l-7.72 7.72c-.78.78-.78 2.05 0 2.83L4 21.41c.39.39.9.59 1.41.59.51 0 1.02-.2 1.41-.59l7.78-7.78 2.81-2.81c.8-.78.8-2.07 0-2.86zM5.41 20L4 18.59l7.72-7.72 1.47 1.35L5.41 20z\"/>\n",
              "  </svg>\n",
              "      </button>\n",
              "      \n",
              "  <style>\n",
              "    .colab-df-container {\n",
              "      display:flex;\n",
              "      flex-wrap:wrap;\n",
              "      gap: 12px;\n",
              "    }\n",
              "\n",
              "    .colab-df-convert {\n",
              "      background-color: #E8F0FE;\n",
              "      border: none;\n",
              "      border-radius: 50%;\n",
              "      cursor: pointer;\n",
              "      display: none;\n",
              "      fill: #1967D2;\n",
              "      height: 32px;\n",
              "      padding: 0 0 0 0;\n",
              "      width: 32px;\n",
              "    }\n",
              "\n",
              "    .colab-df-convert:hover {\n",
              "      background-color: #E2EBFA;\n",
              "      box-shadow: 0px 1px 2px rgba(60, 64, 67, 0.3), 0px 1px 3px 1px rgba(60, 64, 67, 0.15);\n",
              "      fill: #174EA6;\n",
              "    }\n",
              "\n",
              "    [theme=dark] .colab-df-convert {\n",
              "      background-color: #3B4455;\n",
              "      fill: #D2E3FC;\n",
              "    }\n",
              "\n",
              "    [theme=dark] .colab-df-convert:hover {\n",
              "      background-color: #434B5C;\n",
              "      box-shadow: 0px 1px 3px 1px rgba(0, 0, 0, 0.15);\n",
              "      filter: drop-shadow(0px 1px 2px rgba(0, 0, 0, 0.3));\n",
              "      fill: #FFFFFF;\n",
              "    }\n",
              "  </style>\n",
              "\n",
              "      <script>\n",
              "        const buttonEl =\n",
              "          document.querySelector('#df-695676c0-0151-4357-b65d-b40f0d79d577 button.colab-df-convert');\n",
              "        buttonEl.style.display =\n",
              "          google.colab.kernel.accessAllowed ? 'block' : 'none';\n",
              "\n",
              "        async function convertToInteractive(key) {\n",
              "          const element = document.querySelector('#df-695676c0-0151-4357-b65d-b40f0d79d577');\n",
              "          const dataTable =\n",
              "            await google.colab.kernel.invokeFunction('convertToInteractive',\n",
              "                                                     [key], {});\n",
              "          if (!dataTable) return;\n",
              "\n",
              "          const docLinkHtml = 'Like what you see? Visit the ' +\n",
              "            '<a target=\"_blank\" href=https://colab.research.google.com/notebooks/data_table.ipynb>data table notebook</a>'\n",
              "            + ' to learn more about interactive tables.';\n",
              "          element.innerHTML = '';\n",
              "          dataTable['output_type'] = 'display_data';\n",
              "          await google.colab.output.renderOutput(dataTable, element);\n",
              "          const docLink = document.createElement('div');\n",
              "          docLink.innerHTML = docLinkHtml;\n",
              "          element.appendChild(docLink);\n",
              "        }\n",
              "      </script>\n",
              "    </div>\n",
              "  </div>\n",
              "  "
            ]
          },
          "metadata": {},
          "execution_count": 8
        }
      ]
    },
    {
      "cell_type": "markdown",
      "source": [
        "## Split"
      ],
      "metadata": {
        "id": "AzmNUWst93AB"
      }
    },
    {
      "cell_type": "markdown",
      "source": [
        "Let's create our feature matrix `X_train` and target vector `y_train`. X_train should\n",
        "contain one feature: `\"neighborhood\"`. our target is `\"price_aprox_usd\"`."
      ],
      "metadata": {
        "id": "TBnvJ3jH94P9"
      }
    },
    {
      "cell_type": "code",
      "source": [
        "target = \"price_aprox_usd\"\n",
        "features = [\"neighborhood\"]\n",
        "y_train = df[target]\n",
        "X_train = df[features]"
      ],
      "metadata": {
        "id": "8jAoG3KAlP7J"
      },
      "execution_count": null,
      "outputs": []
    },
    {
      "cell_type": "markdown",
      "source": [
        "# Build Model"
      ],
      "metadata": {
        "id": "Qw_3WAlZ-Epu"
      }
    },
    {
      "cell_type": "markdown",
      "source": [
        "## Baseline"
      ],
      "metadata": {
        "id": "hCFbEHmU-Gn-"
      }
    },
    {
      "cell_type": "markdown",
      "source": [
        "Here, we must calculate the baseline mean absolute error for our model."
      ],
      "metadata": {
        "id": "JvnpvnkQ-ITA"
      }
    },
    {
      "cell_type": "code",
      "source": [
        "y_mean = y_train.mean()\n",
        "y_pred_baseline = [y_mean] * len(y_train)\n",
        "print(\"Mean apt price:\", y_mean)\n",
        "print(\"Baseline MAE:\", mean_absolute_error(y_train, y_pred_baseline))"
      ],
      "metadata": {
        "colab": {
          "base_uri": "https://localhost:8080/"
        },
        "id": "_83IPJQilSgA",
        "outputId": "02d4803d-4f40-4f40-bf86-45474686a0c7"
      },
      "execution_count": null,
      "outputs": [
        {
          "output_type": "stream",
          "name": "stdout",
          "text": [
            "Mean apt price: 66403.66484730973\n",
            "Baseline MAE: 86347.16145862668\n"
          ]
        }
      ]
    },
    {
      "cell_type": "markdown",
      "source": [
        "## Iterate"
      ],
      "metadata": {
        "id": "6tZAEdLH-ZYU"
      }
    },
    {
      "cell_type": "markdown",
      "source": [
        "If you try to fit a `LinearRegression` predictor to your training data at this point, you’ll get an\n",
        "error that looks like this:\n",
        "\n",
        "**ValueError: could not convert string to float**\n",
        "\n",
        "What does this mean? When you fit a linear regression model, you’re asking scikit-learn to perform\n",
        "a mathematical operation. The problem is that our training set contains neighborhood information\n",
        "in non-numerical form. In order to create our model we need to encode that information so that\n",
        "it’s represented numerically. The good news is that there are lots of transformers that can do this.\n",
        "Here, we’ll use the one from the Category Encoders library, called a **OneHotEncoder**."
      ],
      "metadata": {
        "id": "7qePYmg--ciW"
      }
    },
    {
      "cell_type": "markdown",
      "source": [
        "We need to bring the `OneHotEncoder` into our pipeline.\n",
        "So, let's Create a pipeline named model that contains a `OneHotEncoder` transformer and a\n",
        "`LinearRegression` predictor. Then fit your model to the training data."
      ],
      "metadata": {
        "id": "RYPoYsDL-wMH"
      }
    },
    {
      "cell_type": "code",
      "source": [
        "model = make_pipeline(\n",
        "        OneHotEncoder(use_cat_names= True),\n",
        "        LinearRegression()\n",
        ")\n",
        "model.fit(X_train, y_train)"
      ],
      "metadata": {
        "colab": {
          "base_uri": "https://localhost:8080/",
          "height": 125
        },
        "id": "Wh448K_5lcNQ",
        "outputId": "e79873e5-b0a2-4977-f6e1-71f66996d76e"
      },
      "execution_count": null,
      "outputs": [
        {
          "output_type": "execute_result",
          "data": {
            "text/plain": [
              "Pipeline(steps=[('onehotencoder',\n",
              "                 OneHotEncoder(cols=['neighborhood'], use_cat_names=True)),\n",
              "                ('linearregression', LinearRegression())])"
            ],
            "text/html": [
              "<style>#sk-container-id-1 {color: black;background-color: white;}#sk-container-id-1 pre{padding: 0;}#sk-container-id-1 div.sk-toggleable {background-color: white;}#sk-container-id-1 label.sk-toggleable__label {cursor: pointer;display: block;width: 100%;margin-bottom: 0;padding: 0.3em;box-sizing: border-box;text-align: center;}#sk-container-id-1 label.sk-toggleable__label-arrow:before {content: \"▸\";float: left;margin-right: 0.25em;color: #696969;}#sk-container-id-1 label.sk-toggleable__label-arrow:hover:before {color: black;}#sk-container-id-1 div.sk-estimator:hover label.sk-toggleable__label-arrow:before {color: black;}#sk-container-id-1 div.sk-toggleable__content {max-height: 0;max-width: 0;overflow: hidden;text-align: left;background-color: #f0f8ff;}#sk-container-id-1 div.sk-toggleable__content pre {margin: 0.2em;color: black;border-radius: 0.25em;background-color: #f0f8ff;}#sk-container-id-1 input.sk-toggleable__control:checked~div.sk-toggleable__content {max-height: 200px;max-width: 100%;overflow: auto;}#sk-container-id-1 input.sk-toggleable__control:checked~label.sk-toggleable__label-arrow:before {content: \"▾\";}#sk-container-id-1 div.sk-estimator input.sk-toggleable__control:checked~label.sk-toggleable__label {background-color: #d4ebff;}#sk-container-id-1 div.sk-label input.sk-toggleable__control:checked~label.sk-toggleable__label {background-color: #d4ebff;}#sk-container-id-1 input.sk-hidden--visually {border: 0;clip: rect(1px 1px 1px 1px);clip: rect(1px, 1px, 1px, 1px);height: 1px;margin: -1px;overflow: hidden;padding: 0;position: absolute;width: 1px;}#sk-container-id-1 div.sk-estimator {font-family: monospace;background-color: #f0f8ff;border: 1px dotted black;border-radius: 0.25em;box-sizing: border-box;margin-bottom: 0.5em;}#sk-container-id-1 div.sk-estimator:hover {background-color: #d4ebff;}#sk-container-id-1 div.sk-parallel-item::after {content: \"\";width: 100%;border-bottom: 1px solid gray;flex-grow: 1;}#sk-container-id-1 div.sk-label:hover label.sk-toggleable__label {background-color: #d4ebff;}#sk-container-id-1 div.sk-serial::before {content: \"\";position: absolute;border-left: 1px solid gray;box-sizing: border-box;top: 0;bottom: 0;left: 50%;z-index: 0;}#sk-container-id-1 div.sk-serial {display: flex;flex-direction: column;align-items: center;background-color: white;padding-right: 0.2em;padding-left: 0.2em;position: relative;}#sk-container-id-1 div.sk-item {position: relative;z-index: 1;}#sk-container-id-1 div.sk-parallel {display: flex;align-items: stretch;justify-content: center;background-color: white;position: relative;}#sk-container-id-1 div.sk-item::before, #sk-container-id-1 div.sk-parallel-item::before {content: \"\";position: absolute;border-left: 1px solid gray;box-sizing: border-box;top: 0;bottom: 0;left: 50%;z-index: -1;}#sk-container-id-1 div.sk-parallel-item {display: flex;flex-direction: column;z-index: 1;position: relative;background-color: white;}#sk-container-id-1 div.sk-parallel-item:first-child::after {align-self: flex-end;width: 50%;}#sk-container-id-1 div.sk-parallel-item:last-child::after {align-self: flex-start;width: 50%;}#sk-container-id-1 div.sk-parallel-item:only-child::after {width: 0;}#sk-container-id-1 div.sk-dashed-wrapped {border: 1px dashed gray;margin: 0 0.4em 0.5em 0.4em;box-sizing: border-box;padding-bottom: 0.4em;background-color: white;}#sk-container-id-1 div.sk-label label {font-family: monospace;font-weight: bold;display: inline-block;line-height: 1.2em;}#sk-container-id-1 div.sk-label-container {text-align: center;}#sk-container-id-1 div.sk-container {/* jupyter's `normalize.less` sets `[hidden] { display: none; }` but bootstrap.min.css set `[hidden] { display: none !important; }` so we also need the `!important` here to be able to override the default hidden behavior on the sphinx rendered scikit-learn.org. See: https://github.com/scikit-learn/scikit-learn/issues/21755 */display: inline-block !important;position: relative;}#sk-container-id-1 div.sk-text-repr-fallback {display: none;}</style><div id=\"sk-container-id-1\" class=\"sk-top-container\"><div class=\"sk-text-repr-fallback\"><pre>Pipeline(steps=[(&#x27;onehotencoder&#x27;,\n",
              "                 OneHotEncoder(cols=[&#x27;neighborhood&#x27;], use_cat_names=True)),\n",
              "                (&#x27;linearregression&#x27;, LinearRegression())])</pre><b>In a Jupyter environment, please rerun this cell to show the HTML representation or trust the notebook. <br />On GitHub, the HTML representation is unable to render, please try loading this page with nbviewer.org.</b></div><div class=\"sk-container\" hidden><div class=\"sk-item sk-dashed-wrapped\"><div class=\"sk-label-container\"><div class=\"sk-label sk-toggleable\"><input class=\"sk-toggleable__control sk-hidden--visually\" id=\"sk-estimator-id-1\" type=\"checkbox\" ><label for=\"sk-estimator-id-1\" class=\"sk-toggleable__label sk-toggleable__label-arrow\">Pipeline</label><div class=\"sk-toggleable__content\"><pre>Pipeline(steps=[(&#x27;onehotencoder&#x27;,\n",
              "                 OneHotEncoder(cols=[&#x27;neighborhood&#x27;], use_cat_names=True)),\n",
              "                (&#x27;linearregression&#x27;, LinearRegression())])</pre></div></div></div><div class=\"sk-serial\"><div class=\"sk-item\"><div class=\"sk-estimator sk-toggleable\"><input class=\"sk-toggleable__control sk-hidden--visually\" id=\"sk-estimator-id-2\" type=\"checkbox\" ><label for=\"sk-estimator-id-2\" class=\"sk-toggleable__label sk-toggleable__label-arrow\">OneHotEncoder</label><div class=\"sk-toggleable__content\"><pre>OneHotEncoder(cols=[&#x27;neighborhood&#x27;], use_cat_names=True)</pre></div></div></div><div class=\"sk-item\"><div class=\"sk-estimator sk-toggleable\"><input class=\"sk-toggleable__control sk-hidden--visually\" id=\"sk-estimator-id-3\" type=\"checkbox\" ><label for=\"sk-estimator-id-3\" class=\"sk-toggleable__label sk-toggleable__label-arrow\">LinearRegression</label><div class=\"sk-toggleable__content\"><pre>LinearRegression()</pre></div></div></div></div></div></div></div>"
            ]
          },
          "metadata": {},
          "execution_count": 11
        }
      ]
    },
    {
      "cell_type": "markdown",
      "source": [
        "## Evaluate"
      ],
      "metadata": {
        "id": "msbfnja8_Jti"
      }
    },
    {
      "cell_type": "code",
      "source": [
        "y_pred_training = model.predict(X_train)\n",
        "mae_training = mean_absolute_error(y_train, y_pred_training)\n",
        "print(\"Training MAE:\", round(mae_training, 2))"
      ],
      "metadata": {
        "colab": {
          "base_uri": "https://localhost:8080/"
        },
        "id": "PIN2_bS3lbhE",
        "outputId": "869fe7ca-f4e7-40b4-88d6-7609f9b02fca"
      },
      "execution_count": null,
      "outputs": [
        {
          "output_type": "stream",
          "name": "stdout",
          "text": [
            "Training MAE: 84955.22\n"
          ]
        }
      ]
    },
    {
      "cell_type": "markdown",
      "source": [
        "# Results"
      ],
      "metadata": {
        "id": "5Q_Wptqb_bfV"
      }
    },
    {
      "cell_type": "markdown",
      "source": [
        "If we write out the equation for our model, it’ll be too big to fit on the screen. That’s because,\n",
        "when we used the OneHotEncoder to encode the neighborhood data, we created a much wider\n",
        "DataFrame, and each column/feature has it’s own coefficient in our model’s equation.\n",
        "This is important to keep in mind for two reasons.\n",
        "\n",
        "First, it means that this is a high-dimensional\n",
        "model. Instead of a 2D or 3D plot, we’d need a 20-dimensional plot to represent it, which is\n",
        "impossible! Second, it means that we’ll need to extract and represent the information for our\n",
        "equation a little differently than before. Let’s start by getting our intercept and coefficient."
      ],
      "metadata": {
        "id": "x0iSGDLX_dVZ"
      }
    },
    {
      "cell_type": "code",
      "source": [
        "intercept = model.named_steps[\"linearregression\"].intercept_\n",
        "coefficients = model.named_steps[\"linearregression\"].coef_\n",
        "print(\"coefficients len:\", len(coefficients))\n",
        "print(coefficients[:5])"
      ],
      "metadata": {
        "colab": {
          "base_uri": "https://localhost:8080/"
        },
        "id": "DSxcTkn0l0s8",
        "outputId": "b2d2915f-5394-4354-8145-6056d4d5489d"
      },
      "execution_count": null,
      "outputs": [
        {
          "output_type": "stream",
          "name": "stdout",
          "text": [
            "coefficients len: 20\n",
            "[2.88737932e+18 2.88737932e+18 2.88737932e+18 2.88737932e+18\n",
            " 2.88737932e+18]\n"
          ]
        }
      ]
    },
    {
      "cell_type": "markdown",
      "source": [
        "Let's also extract the feature names of our encoded data from the `OneHotEncoder` in our\n",
        "model."
      ],
      "metadata": {
        "id": "IZm2D6RL_nsF"
      }
    },
    {
      "cell_type": "code",
      "source": [
        "feature_names = model.named_steps[\"onehotencoder\"].get_feature_names()\n",
        "print(\"features len:\", len(feature_names))\n",
        "print(feature_names[:5])"
      ],
      "metadata": {
        "colab": {
          "base_uri": "https://localhost:8080/"
        },
        "id": "fijApxg5l0DT",
        "outputId": "35b38856-2150-46c1-d42d-e773f6b1cc04"
      },
      "execution_count": null,
      "outputs": [
        {
          "output_type": "stream",
          "name": "stdout",
          "text": [
            "features len: 20\n",
            "['neighborhood_Kennedy' 'neighborhood_Rafael Uribe Uribe'\n",
            " 'neighborhood_Suba' 'neighborhood_Usaquén' 'neighborhood_Chapinero']\n"
          ]
        }
      ]
    },
    {
      "cell_type": "markdown",
      "source": [
        "We have coefficients and feature names, and now we need to put them together. For that, we’ll use\n",
        "a Series."
      ],
      "metadata": {
        "id": "WhmlyieD_zQs"
      }
    },
    {
      "cell_type": "code",
      "source": [
        "feat_imp = pd.Series(coefficients, feature_names)\n",
        "feat_imp.head()"
      ],
      "metadata": {
        "colab": {
          "base_uri": "https://localhost:8080/"
        },
        "id": "Mn5nOk_ll7sq",
        "outputId": "bda92a92-6dc0-4a80-a971-a7350f306e4f"
      },
      "execution_count": null,
      "outputs": [
        {
          "output_type": "execute_result",
          "data": {
            "text/plain": [
              "neighborhood_Kennedy               2.887379e+18\n",
              "neighborhood_Rafael Uribe Uribe    2.887379e+18\n",
              "neighborhood_Suba                  2.887379e+18\n",
              "neighborhood_Usaquén               2.887379e+18\n",
              "neighborhood_Chapinero             2.887379e+18\n",
              "dtype: float64"
            ]
          },
          "metadata": {},
          "execution_count": 15
        }
      ]
    },
    {
      "cell_type": "markdown",
      "source": [
        "To be clear, it’s definitely not a good idea to show this long equation to an audience, but let’s print\n",
        "it out just to check our work. Since there are so many terms to print, we’ll use a for loop."
      ],
      "metadata": {
        "id": "xAhuG3fc_9eH"
      }
    },
    {
      "cell_type": "code",
      "source": [
        "print(f\"price = {intercept.round(2)}\")\n",
        "for f, c in feat_imp.items():\n",
        "    print(f\"+ ({round(c, 2)} * {f})\")"
      ],
      "metadata": {
        "colab": {
          "base_uri": "https://localhost:8080/"
        },
        "id": "MVtu6ng8l7Cy",
        "outputId": "aebc22e8-6bb6-42a4-9215-349cbd5f666a"
      },
      "execution_count": null,
      "outputs": [
        {
          "output_type": "stream",
          "name": "stdout",
          "text": [
            "price = -2.8873793174012006e+18\n",
            "+ (2.8873793174012513e+18 * neighborhood_Kennedy)\n",
            "+ (2.8873793174012303e+18 * neighborhood_Rafael Uribe Uribe)\n",
            "+ (2.8873793174012826e+18 * neighborhood_Suba)\n",
            "+ (2.8873793174012733e+18 * neighborhood_Usaquén)\n",
            "+ (2.887379317401255e+18 * neighborhood_Chapinero)\n",
            "+ (2.887379317401254e+18 * neighborhood_Fontibón)\n",
            "+ (2.887379317401263e+18 * neighborhood_La Candelaria)\n",
            "+ (2.887379317401306e+18 * neighborhood_Usme)\n",
            "+ (2.8873793174012483e+18 * neighborhood_Teusaquillo)\n",
            "+ (2.887379317401269e+18 * neighborhood_Barrios Unidos)\n",
            "+ (2.8873793174012416e+18 * neighborhood_Santa Fe)\n",
            "+ (2.8873793174012447e+18 * neighborhood_Engativa)\n",
            "+ (2.8873793174012493e+18 * neighborhood_Puente Aranda)\n",
            "+ (2.8873793174012923e+18 * neighborhood_Los Mártires)\n",
            "+ (2.8873793174012703e+18 * neighborhood_Bosa)\n",
            "+ (2.887379317401235e+18 * neighborhood_Tunjuelito)\n",
            "+ (2.887379317401378e+18 * neighborhood_)\n",
            "+ (2.8873793174012677e+18 * neighborhood_Ciudad Bolívar)\n",
            "+ (2.8873793174012564e+18 * neighborhood_San Cristobal)\n",
            "+ (2.8873793174012943e+18 * neighborhood_Antonio Nariño)\n"
          ]
        }
      ]
    },
    {
      "cell_type": "markdown",
      "source": [
        "To avoid the **overfitting**, let's change the predictor in our model to `Ridge`, and retrain it. Then evaluate\n",
        "the model’s training performance."
      ],
      "metadata": {
        "id": "uPcuXIErGCUh"
      }
    },
    {
      "cell_type": "code",
      "source": [
        "model = make_pipeline(\n",
        "       OneHotEncoder(use_cat_names= True),\n",
        "       Ridge()\n",
        ")\n",
        "model.fit(X_train, y_train)"
      ],
      "metadata": {
        "colab": {
          "base_uri": "https://localhost:8080/",
          "height": 148
        },
        "id": "1GagRl25loeU",
        "outputId": "abe49d14-1264-45aa-f201-19b839563a8e"
      },
      "execution_count": null,
      "outputs": [
        {
          "output_type": "execute_result",
          "data": {
            "text/plain": [
              "Pipeline(steps=[('onehotencoder',\n",
              "                 OneHotEncoder(cols=['neighborhood'], use_cat_names=True)),\n",
              "                ('ridge', Ridge())])"
            ],
            "text/html": [
              "<style>#sk-container-id-2 {color: black;background-color: white;}#sk-container-id-2 pre{padding: 0;}#sk-container-id-2 div.sk-toggleable {background-color: white;}#sk-container-id-2 label.sk-toggleable__label {cursor: pointer;display: block;width: 100%;margin-bottom: 0;padding: 0.3em;box-sizing: border-box;text-align: center;}#sk-container-id-2 label.sk-toggleable__label-arrow:before {content: \"▸\";float: left;margin-right: 0.25em;color: #696969;}#sk-container-id-2 label.sk-toggleable__label-arrow:hover:before {color: black;}#sk-container-id-2 div.sk-estimator:hover label.sk-toggleable__label-arrow:before {color: black;}#sk-container-id-2 div.sk-toggleable__content {max-height: 0;max-width: 0;overflow: hidden;text-align: left;background-color: #f0f8ff;}#sk-container-id-2 div.sk-toggleable__content pre {margin: 0.2em;color: black;border-radius: 0.25em;background-color: #f0f8ff;}#sk-container-id-2 input.sk-toggleable__control:checked~div.sk-toggleable__content {max-height: 200px;max-width: 100%;overflow: auto;}#sk-container-id-2 input.sk-toggleable__control:checked~label.sk-toggleable__label-arrow:before {content: \"▾\";}#sk-container-id-2 div.sk-estimator input.sk-toggleable__control:checked~label.sk-toggleable__label {background-color: #d4ebff;}#sk-container-id-2 div.sk-label input.sk-toggleable__control:checked~label.sk-toggleable__label {background-color: #d4ebff;}#sk-container-id-2 input.sk-hidden--visually {border: 0;clip: rect(1px 1px 1px 1px);clip: rect(1px, 1px, 1px, 1px);height: 1px;margin: -1px;overflow: hidden;padding: 0;position: absolute;width: 1px;}#sk-container-id-2 div.sk-estimator {font-family: monospace;background-color: #f0f8ff;border: 1px dotted black;border-radius: 0.25em;box-sizing: border-box;margin-bottom: 0.5em;}#sk-container-id-2 div.sk-estimator:hover {background-color: #d4ebff;}#sk-container-id-2 div.sk-parallel-item::after {content: \"\";width: 100%;border-bottom: 1px solid gray;flex-grow: 1;}#sk-container-id-2 div.sk-label:hover label.sk-toggleable__label {background-color: #d4ebff;}#sk-container-id-2 div.sk-serial::before {content: \"\";position: absolute;border-left: 1px solid gray;box-sizing: border-box;top: 0;bottom: 0;left: 50%;z-index: 0;}#sk-container-id-2 div.sk-serial {display: flex;flex-direction: column;align-items: center;background-color: white;padding-right: 0.2em;padding-left: 0.2em;position: relative;}#sk-container-id-2 div.sk-item {position: relative;z-index: 1;}#sk-container-id-2 div.sk-parallel {display: flex;align-items: stretch;justify-content: center;background-color: white;position: relative;}#sk-container-id-2 div.sk-item::before, #sk-container-id-2 div.sk-parallel-item::before {content: \"\";position: absolute;border-left: 1px solid gray;box-sizing: border-box;top: 0;bottom: 0;left: 50%;z-index: -1;}#sk-container-id-2 div.sk-parallel-item {display: flex;flex-direction: column;z-index: 1;position: relative;background-color: white;}#sk-container-id-2 div.sk-parallel-item:first-child::after {align-self: flex-end;width: 50%;}#sk-container-id-2 div.sk-parallel-item:last-child::after {align-self: flex-start;width: 50%;}#sk-container-id-2 div.sk-parallel-item:only-child::after {width: 0;}#sk-container-id-2 div.sk-dashed-wrapped {border: 1px dashed gray;margin: 0 0.4em 0.5em 0.4em;box-sizing: border-box;padding-bottom: 0.4em;background-color: white;}#sk-container-id-2 div.sk-label label {font-family: monospace;font-weight: bold;display: inline-block;line-height: 1.2em;}#sk-container-id-2 div.sk-label-container {text-align: center;}#sk-container-id-2 div.sk-container {/* jupyter's `normalize.less` sets `[hidden] { display: none; }` but bootstrap.min.css set `[hidden] { display: none !important; }` so we also need the `!important` here to be able to override the default hidden behavior on the sphinx rendered scikit-learn.org. See: https://github.com/scikit-learn/scikit-learn/issues/21755 */display: inline-block !important;position: relative;}#sk-container-id-2 div.sk-text-repr-fallback {display: none;}</style><div id=\"sk-container-id-2\" class=\"sk-top-container\"><div class=\"sk-text-repr-fallback\"><pre>Pipeline(steps=[(&#x27;onehotencoder&#x27;,\n",
              "                 OneHotEncoder(cols=[&#x27;neighborhood&#x27;], use_cat_names=True)),\n",
              "                (&#x27;ridge&#x27;, Ridge())])</pre><b>In a Jupyter environment, please rerun this cell to show the HTML representation or trust the notebook. <br />On GitHub, the HTML representation is unable to render, please try loading this page with nbviewer.org.</b></div><div class=\"sk-container\" hidden><div class=\"sk-item sk-dashed-wrapped\"><div class=\"sk-label-container\"><div class=\"sk-label sk-toggleable\"><input class=\"sk-toggleable__control sk-hidden--visually\" id=\"sk-estimator-id-4\" type=\"checkbox\" ><label for=\"sk-estimator-id-4\" class=\"sk-toggleable__label sk-toggleable__label-arrow\">Pipeline</label><div class=\"sk-toggleable__content\"><pre>Pipeline(steps=[(&#x27;onehotencoder&#x27;,\n",
              "                 OneHotEncoder(cols=[&#x27;neighborhood&#x27;], use_cat_names=True)),\n",
              "                (&#x27;ridge&#x27;, Ridge())])</pre></div></div></div><div class=\"sk-serial\"><div class=\"sk-item\"><div class=\"sk-estimator sk-toggleable\"><input class=\"sk-toggleable__control sk-hidden--visually\" id=\"sk-estimator-id-5\" type=\"checkbox\" ><label for=\"sk-estimator-id-5\" class=\"sk-toggleable__label sk-toggleable__label-arrow\">OneHotEncoder</label><div class=\"sk-toggleable__content\"><pre>OneHotEncoder(cols=[&#x27;neighborhood&#x27;], use_cat_names=True)</pre></div></div></div><div class=\"sk-item\"><div class=\"sk-estimator sk-toggleable\"><input class=\"sk-toggleable__control sk-hidden--visually\" id=\"sk-estimator-id-6\" type=\"checkbox\" ><label for=\"sk-estimator-id-6\" class=\"sk-toggleable__label sk-toggleable__label-arrow\">Ridge</label><div class=\"sk-toggleable__content\"><pre>Ridge()</pre></div></div></div></div></div></div></div>"
            ]
          },
          "metadata": {},
          "execution_count": 17
        }
      ]
    },
    {
      "cell_type": "code",
      "source": [
        "y_pred_training = model.predict(X_train)\n",
        "mae_training = mean_absolute_error(y_train, y_pred_training)\n",
        "print(\"Training MAE:\", round(mae_training, 2))"
      ],
      "metadata": {
        "id": "VkRTO3aLGPzE",
        "colab": {
          "base_uri": "https://localhost:8080/"
        },
        "outputId": "fd837c11-3807-46d4-c6f0-977d4733801a"
      },
      "execution_count": null,
      "outputs": [
        {
          "output_type": "stream",
          "name": "stdout",
          "text": [
            "Training MAE: 84117.51\n"
          ]
        }
      ]
    },
    {
      "cell_type": "code",
      "source": [
        "intercept = model.named_steps[\"ridge\"].intercept_\n",
        "coefficients = model.named_steps[\"ridge\"].coef_\n",
        "feature_names = model.named_steps[\"onehotencoder\"].get_feature_names()\n",
        "\n",
        "feat_imp = pd.Series(coefficients, feature_names)\n",
        "\n",
        "print(f\"price = {intercept.round(2)}\")\n",
        "for f, c in feat_imp.items():\n",
        "    print(f\"+ ({round(c, 2)} * {f})\")"
      ],
      "metadata": {
        "colab": {
          "base_uri": "https://localhost:8080/"
        },
        "id": "7rI-o0IlOg5N",
        "outputId": "7c0f7f32-3b52-43b4-d96b-15f8cdf3892e"
      },
      "execution_count": null,
      "outputs": [
        {
          "output_type": "stream",
          "name": "stdout",
          "text": [
            "price = 64163.29\n",
            "+ (-9708.33 * neighborhood_Kennedy)\n",
            "+ (-21069.93 * neighborhood_Rafael Uribe Uribe)\n",
            "+ (20720.22 * neighborhood_Suba)\n",
            "+ (9538.93 * neighborhood_Usaquén)\n",
            "+ (-15251.42 * neighborhood_Chapinero)\n",
            "+ (-16635.07 * neighborhood_Fontibón)\n",
            "+ (-9936.81 * neighborhood_La Candelaria)\n",
            "+ (33466.01 * neighborhood_Usme)\n",
            "+ (-20229.9 * neighborhood_Teusaquillo)\n",
            "+ (-2051.76 * neighborhood_Barrios Unidos)\n",
            "+ (-27657.57 * neighborhood_Santa Fe)\n",
            "+ (-24089.59 * neighborhood_Engativa)\n",
            "+ (-19556.84 * neighborhood_Puente Aranda)\n",
            "+ (21243.41 * neighborhood_Los Mártires)\n",
            "+ (1526.46 * neighborhood_Bosa)\n",
            "+ (-26428.73 * neighborhood_Tunjuelito)\n",
            "+ (97394.36 * neighborhood_)\n",
            "+ (-1435.5 * neighborhood_Ciudad Bolívar)\n",
            "+ (-11760.85 * neighborhood_San Cristobal)\n",
            "+ (21922.88 * neighborhood_Antonio Nariño)\n"
          ]
        }
      ]
    },
    {
      "cell_type": "markdown",
      "source": [
        "We’re back on track with our model, so let’s create a visualization that will help a non-technical\n",
        "audience understand what the most important features for our model in predicting apartment price."
      ],
      "metadata": {
        "id": "Om2QUwugGvy1"
      }
    },
    {
      "cell_type": "markdown",
      "source": [
        "Let's reate a horizontal bar chart that shows the top 15 coefficients for your model, based\n",
        "on their absolute value."
      ],
      "metadata": {
        "id": "fnRyqzHMGmhs"
      }
    },
    {
      "cell_type": "code",
      "source": [
        "feat_imp.sort_values(key=abs).tail(15).plot(kind=\"barh\")\n",
        "plt.xlabel(\"Importance [USD]\")\n",
        "plt.ylabel(\"Features\")\n",
        "plt.title(\"Features Importance for Apartment Price\");"
      ],
      "metadata": {
        "colab": {
          "base_uri": "https://localhost:8080/",
          "height": 193
        },
        "id": "NOJAPsKtmCaQ",
        "outputId": "a6dbc962-db63-44f8-de22-8008aed77cc9"
      },
      "execution_count": null,
      "outputs": [
        {
          "output_type": "display_data",
          "data": {
            "text/plain": [
              "<Figure size 640x480 with 1 Axes>"
            ],
            "image/png": "[encoded data removed]"
          },
          "metadata": {}
        }
      ]
    }
  ]
}